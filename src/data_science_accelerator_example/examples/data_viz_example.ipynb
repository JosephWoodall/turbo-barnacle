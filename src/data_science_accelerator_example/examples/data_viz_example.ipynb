{
 "cells": [
  {
   "cell_type": "code",
   "execution_count": null,
   "metadata": {},
   "outputs": [],
   "source": [
    "# Import the necessary classes from the data_viz module\n",
    "from data_viz.plot_utils import PlotUtils\n",
    "from data_viz.dashboard import Dashboard\n",
    "from data_prep.retrieval import Retrieval\n",
    "\n",
    "# Load a dataset\n",
    "data_retriever = Retrieval()\n",
    "df = data_retriever.get_data('my_dataset.csv')\n",
    "\n",
    "# Create plots\n",
    "plot_utils = PlotUtils(df)\n",
    "plot_utils.create_histogram('age')\n",
    "plot_utils.create_scatter_plot('height', 'weight')\n",
    "plot_utils.create_box_plot('income', 'education')\n",
    "\n",
    "# Create a dashboard\n",
    "dashboard = Dashboard(df)\n",
    "dashboard.add_plot('Age Distribution', plot_utils.histogram)\n",
    "dashboard.add_plot('Height vs. Weight', plot_utils.scatter_plot)\n",
    "dashboard.add_plot('Income by Education', plot_utils.box_plot)\n",
    "dashboard.show_dashboard()\n"
   ]
  }
 ],
 "metadata": {
  "language_info": {
   "name": "python"
  },
  "orig_nbformat": 4
 },
 "nbformat": 4,
 "nbformat_minor": 2
}
