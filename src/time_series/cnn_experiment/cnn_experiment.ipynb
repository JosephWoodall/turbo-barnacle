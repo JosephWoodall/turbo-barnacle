{
 "cells": [
  {
   "cell_type": "markdown",
   "metadata": {},
   "source": [
    "# CNN Experiments in time series"
   ]
  },
  {
   "cell_type": "code",
   "execution_count": 2,
   "metadata": {},
   "outputs": [],
   "source": [
    "import numpy\n",
    "import pandas\n",
    "import matplotlib.pyplot as plt"
   ]
  },
  {
   "cell_type": "code",
   "execution_count": 3,
   "metadata": {},
   "outputs": [],
   "source": [
    "class GARCHTimeSeriesDataGenerator:\n",
    "    \"\"\"\n",
    "    A class for generating time series data using the GARCH process.\n",
    "\n",
    "    Parameters:\n",
    "    - start_date (str): The start date of the time series.\n",
    "    - years (int): The number of years to simulate. Default is 1.\n",
    "    - mu (float): The mean of the GARCH process. Default is 0.\n",
    "    - omega (float): The constant term in the GARCH process. Default is 0.1.\n",
    "    - alpha (list): The list of alpha coefficients in the GARCH process. Default is [0.5].\n",
    "    - beta (list): The list of beta coefficients in the GARCH process. Default is [0.5].\n",
    "    \"\"\"\n",
    "\n",
    "    def __init__(self, start_date, years=1, mu=0, omega=0.1, alpha=[0.5], beta=[0.5]):\n",
    "        self.start_date = pandas.to_datetime(start_date)\n",
    "        self.years = years\n",
    "        self.mu = mu\n",
    "        self.omega = omega\n",
    "        self.alpha = alpha\n",
    "        self.beta = beta\n",
    "\n",
    "    def simulate(self, n) -> pandas.Series:\n",
    "        \"\"\"\n",
    "        Simulates a GARCH process and returns a pandas Series of simulated returns.\n",
    "\n",
    "            Parameters:\n",
    "            - n (int): The number of periods to simulate.\n",
    "\n",
    "            Returns:\n",
    "            - simulated_series (pandas.Series): A pandas Series of simulated returns.\n",
    "        \"\"\"\n",
    "        # Calculate the total number of periods\n",
    "        total_periods = n * self.years\n",
    "\n",
    "        # Initialize arrays\n",
    "        errors = numpy.random.normal(size=total_periods)\n",
    "        sigmas = numpy.zeros_like(errors)\n",
    "        returns = numpy.zeros_like(errors)\n",
    "\n",
    "        # Simulate GARCH process\n",
    "        for t in range(1, total_periods):\n",
    "            sigmas[t] = numpy.sqrt(\n",
    "                self.omega + self.alpha[0] * errors[t-1]**2 + self.beta[0] * sigmas[t-1]**2)\n",
    "            returns[t] = self.mu + sigmas[t] * errors[t]\n",
    "\n",
    "        # Create date range\n",
    "        dates = pandas.date_range(self.start_date, periods=total_periods)\n",
    "\n",
    "        # Create pandas Series\n",
    "        simulated_series = pandas.Series(returns, index=dates)\n",
    "\n",
    "        return simulated_series\n"
   ]
  },
  {
   "cell_type": "markdown",
   "metadata": {},
   "source": [
    "### First Experiment\n",
    "\n",
    "This first experiment uses a CNN for unsupervised anomaly detection, by mapping a value to a canvas of pixels.\n",
    "\n"
   ]
  },
  {
   "cell_type": "code",
   "execution_count": 4,
   "metadata": {},
   "outputs": [],
   "source": [
    "# Create a GARCH time series data generator\n",
    "generator = GARCHTimeSeriesDataGenerator(start_date=\"2023-01-01\")\n",
    "\n",
    "# Simulate 365 days of data (assuming daily data)\n",
    "data = generator.simulate(730)\n",
    "\n",
    "# Normalize data to a range of 0 to 16777215\n",
    "normalized_data = (data - data.min()) / (data.max() - data.min()) * 16777215"
   ]
  },
  {
   "cell_type": "code",
   "execution_count": 5,
   "metadata": {},
   "outputs": [],
   "source": [
    "# Create a canvas with 365 pixels\n",
    "canvas = numpy.zeros((normalized_data.size, 3), dtype=numpy.uint8)\n",
    "dates = []\n",
    "\n",
    "# Iterate through each pixel and set the color based on normalized data\n",
    "for i in range(normalized_data.size):\n",
    "  # Extract the normalized value for the current day\n",
    "  value = normalized_data.iloc[i]\n",
    "  date = normalized_data.index[i]\n",
    "  # Convert the value to RGB components\n",
    "  red = (int(value) & 0x00FF0000) >> 16\n",
    "  green = (int(value) & 0x0000FF00) >> 8\n",
    "  blue = int(value) & 0x000000FF\n",
    "\n",
    "  # Set the pixel's RGB values\n",
    "  canvas[i] = [red, green, blue]\n",
    "  dates.append(date)\n",
    "\n",
    "canvas_dictionary = {dates[i]: canvas[i] for i in range(len(dates))}"
   ]
  },
  {
   "cell_type": "code",
   "execution_count": 6,
   "metadata": {},
   "outputs": [
    {
     "data": {
      "text/plain": [
       "(-0.5, 2.5, 729.5, -0.5)"
      ]
     },
     "execution_count": 6,
     "metadata": {},
     "output_type": "execute_result"
    },
    {
     "data": {
      "image/png": "[encoded data removed]",
      "text/plain": [
       "<Figure size 640x480 with 1 Axes>"
      ]
     },
     "metadata": {},
     "output_type": "display_data"
    }
   ],
   "source": [
    "plt.imshow(canvas_dictionary.values())\n",
    "plt.axis('off')"
   ]
  },
  {
   "cell_type": "code",
   "execution_count": 7,
   "metadata": {},
   "outputs": [
    {
     "name": "stdout",
     "output_type": "stream",
     "text": [
      "\n",
      "-----------------\n",
      "canvas_dictionary_january_2023: {Timestamp('2023-01-01 00:00:00'): array([142, 215, 181], dtype=uint8), Timestamp('2023-01-02 00:00:00'): array([122, 241, 153], dtype=uint8), Timestamp('2023-01-03 00:00:00'): array([152, 201,  60], dtype=uint8), Timestamp('2023-01-04 00:00:00'): array([171, 117, 220], dtype=uint8), Timestamp('2023-01-05 00:00:00'): array([137,  57,  39], dtype=uint8), Timestamp('2023-01-06 00:00:00'): array([117, 225,  26], dtype=uint8), Timestamp('2023-01-07 00:00:00'): array([200, 136, 185], dtype=uint8), Timestamp('2023-01-08 00:00:00'): array([ 81, 196, 173], dtype=uint8), Timestamp('2023-01-09 00:00:00'): array([116, 185, 149], dtype=uint8), Timestamp('2023-01-10 00:00:00'): array([156,  12,  54], dtype=uint8), Timestamp('2023-01-11 00:00:00'): array([127,  29,  74], dtype=uint8), Timestamp('2023-01-12 00:00:00'): array([145, 115, 165], dtype=uint8), Timestamp('2023-01-13 00:00:00'): array([144,  40,  32], dtype=uint8), Timestamp('2023-01-14 00:00:00'): array([108, 206,  35], dtype=uint8), Timestamp('2023-01-15 00:00:00'): array([ 57, 219,  38], dtype=uint8), Timestamp('2023-01-16 00:00:00'): array([157,   7, 125], dtype=uint8), Timestamp('2023-01-17 00:00:00'): array([121, 218,   9], dtype=uint8), Timestamp('2023-01-18 00:00:00'): array([101,  49, 170], dtype=uint8), Timestamp('2023-01-19 00:00:00'): array([117,  95, 117], dtype=uint8), Timestamp('2023-01-20 00:00:00'): array([115, 152,  39], dtype=uint8), Timestamp('2023-01-21 00:00:00'): array([220,  22, 158], dtype=uint8), Timestamp('2023-01-22 00:00:00'): array([250, 169, 107], dtype=uint8), Timestamp('2023-01-23 00:00:00'): array([ 92, 173,  18], dtype=uint8), Timestamp('2023-01-24 00:00:00'): array([113,  81, 205], dtype=uint8), Timestamp('2023-01-25 00:00:00'): array([127,  55,  58], dtype=uint8), Timestamp('2023-01-26 00:00:00'): array([148,  93,  76], dtype=uint8), Timestamp('2023-01-27 00:00:00'): array([153, 115, 170], dtype=uint8), Timestamp('2023-01-28 00:00:00'): array([152,  21, 224], dtype=uint8), Timestamp('2023-01-29 00:00:00'): array([148,  39,  85], dtype=uint8), Timestamp('2023-01-30 00:00:00'): array([ 83, 120, 203], dtype=uint8), Timestamp('2023-01-31 00:00:00'): array([202, 200, 255], dtype=uint8)}\n",
      "-----------------\n",
      "\n",
      "\n",
      "-----------------\n",
      "canvas_dictionary_february_2023: {Timestamp('2023-02-01 00:00:00'): array([246, 173, 216], dtype=uint8), Timestamp('2023-02-02 00:00:00'): array([188, 123,   5], dtype=uint8), Timestamp('2023-02-03 00:00:00'): array([140, 171, 241], dtype=uint8), Timestamp('2023-02-04 00:00:00'): array([170, 223, 116], dtype=uint8), Timestamp('2023-02-05 00:00:00'): array([121, 153,  86], dtype=uint8), Timestamp('2023-02-06 00:00:00'): array([123,  32, 255], dtype=uint8), Timestamp('2023-02-07 00:00:00'): array([153,  11, 172], dtype=uint8), Timestamp('2023-02-08 00:00:00'): array([144, 137,  24], dtype=uint8), Timestamp('2023-02-09 00:00:00'): array([164, 188, 141], dtype=uint8), Timestamp('2023-02-10 00:00:00'): array([113, 108, 159], dtype=uint8), Timestamp('2023-02-11 00:00:00'): array([122, 251, 161], dtype=uint8), Timestamp('2023-02-12 00:00:00'): array([130, 172, 125], dtype=uint8), Timestamp('2023-02-13 00:00:00'): array([164, 225,   6], dtype=uint8), Timestamp('2023-02-14 00:00:00'): array([165, 194, 193], dtype=uint8), Timestamp('2023-02-15 00:00:00'): array([154,  61, 187], dtype=uint8), Timestamp('2023-02-16 00:00:00'): array([135, 188, 101], dtype=uint8), Timestamp('2023-02-17 00:00:00'): array([165,  23, 231], dtype=uint8), Timestamp('2023-02-18 00:00:00'): array([134, 185,  69], dtype=uint8), Timestamp('2023-02-19 00:00:00'): array([133,  45, 163], dtype=uint8), Timestamp('2023-02-20 00:00:00'): array([173, 219, 192], dtype=uint8), Timestamp('2023-02-21 00:00:00'): array([141, 198, 247], dtype=uint8), Timestamp('2023-02-22 00:00:00'): array([159,  29,  32], dtype=uint8), Timestamp('2023-02-23 00:00:00'): array([ 81, 148,  29], dtype=uint8), Timestamp('2023-02-24 00:00:00'): array([ 99, 171,   1], dtype=uint8), Timestamp('2023-02-25 00:00:00'): array([190, 235, 136], dtype=uint8), Timestamp('2023-02-26 00:00:00'): array([154, 199, 141], dtype=uint8), Timestamp('2023-02-27 00:00:00'): array([156, 176,  28], dtype=uint8), Timestamp('2023-02-28 00:00:00'): array([122, 176,  27], dtype=uint8)}\n",
      "-----------------\n",
      "\n",
      "\n",
      "-----------------\n",
      "canvas_dictionary_march_2023: {Timestamp('2023-03-01 00:00:00'): array([126,  44, 137], dtype=uint8), Timestamp('2023-03-02 00:00:00'): array([112, 102,  20], dtype=uint8), Timestamp('2023-03-03 00:00:00'): array([ 50,   9, 206], dtype=uint8), Timestamp('2023-03-04 00:00:00'): array([76,  2, 15], dtype=uint8), Timestamp('2023-03-05 00:00:00'): array([ 87,  39, 244], dtype=uint8), Timestamp('2023-03-06 00:00:00'): array([210, 246, 138], dtype=uint8), Timestamp('2023-03-07 00:00:00'): array([114,  15,  91], dtype=uint8), Timestamp('2023-03-08 00:00:00'): array([146, 237, 230], dtype=uint8), Timestamp('2023-03-09 00:00:00'): array([115, 220, 171], dtype=uint8), Timestamp('2023-03-10 00:00:00'): array([181,  19, 235], dtype=uint8), Timestamp('2023-03-11 00:00:00'): array([173,  79, 145], dtype=uint8), Timestamp('2023-03-12 00:00:00'): array([112,   4,  57], dtype=uint8), Timestamp('2023-03-13 00:00:00'): array([181, 148, 138], dtype=uint8), Timestamp('2023-03-14 00:00:00'): array([121, 248, 104], dtype=uint8), Timestamp('2023-03-15 00:00:00'): array([128, 188, 125], dtype=uint8), Timestamp('2023-03-16 00:00:00'): array([102,  52, 112], dtype=uint8), Timestamp('2023-03-17 00:00:00'): array([137, 135, 215], dtype=uint8), Timestamp('2023-03-18 00:00:00'): array([125,  67,  12], dtype=uint8), Timestamp('2023-03-19 00:00:00'): array([ 99, 222, 230], dtype=uint8), Timestamp('2023-03-20 00:00:00'): array([222, 206, 134], dtype=uint8), Timestamp('2023-03-21 00:00:00'): array([ 93, 157,  14], dtype=uint8), Timestamp('2023-03-22 00:00:00'): array([145, 102,  94], dtype=uint8), Timestamp('2023-03-23 00:00:00'): array([101, 204,  89], dtype=uint8), Timestamp('2023-03-24 00:00:00'): array([132,  82,  39], dtype=uint8), Timestamp('2023-03-25 00:00:00'): array([120, 119, 149], dtype=uint8), Timestamp('2023-03-26 00:00:00'): array([180,  41,  73], dtype=uint8), Timestamp('2023-03-27 00:00:00'): array([151,  48,  94], dtype=uint8), Timestamp('2023-03-28 00:00:00'): array([181, 157,  12], dtype=uint8), Timestamp('2023-03-29 00:00:00'): array([111,  11,  97], dtype=uint8), Timestamp('2023-03-30 00:00:00'): array([141, 104,  84], dtype=uint8), Timestamp('2023-03-31 00:00:00'): array([138, 181,  43], dtype=uint8)}\n",
      "-----------------\n",
      "\n",
      "\n",
      "-----------------\n",
      "canvas_dictionary_april_2023: {Timestamp('2023-04-01 00:00:00'): array([147, 149, 153], dtype=uint8), Timestamp('2023-04-02 00:00:00'): array([164,  40, 146], dtype=uint8), Timestamp('2023-04-03 00:00:00'): array([128, 242,  19], dtype=uint8), Timestamp('2023-04-04 00:00:00'): array([142, 214, 138], dtype=uint8), Timestamp('2023-04-05 00:00:00'): array([116, 118,  95], dtype=uint8), Timestamp('2023-04-06 00:00:00'): array([190,  60,  60], dtype=uint8), Timestamp('2023-04-07 00:00:00'): array([117,  76, 192], dtype=uint8), Timestamp('2023-04-08 00:00:00'): array([116,  90, 243], dtype=uint8), Timestamp('2023-04-09 00:00:00'): array([144, 106, 223], dtype=uint8), Timestamp('2023-04-10 00:00:00'): array([148,  44,  31], dtype=uint8), Timestamp('2023-04-11 00:00:00'): array([138, 145,   3], dtype=uint8), Timestamp('2023-04-12 00:00:00'): array([133, 196, 155], dtype=uint8), Timestamp('2023-04-13 00:00:00'): array([155,  23, 188], dtype=uint8), Timestamp('2023-04-14 00:00:00'): array([142, 229, 153], dtype=uint8), Timestamp('2023-04-15 00:00:00'): array([141, 113, 100], dtype=uint8), Timestamp('2023-04-16 00:00:00'): array([155,  27, 159], dtype=uint8), Timestamp('2023-04-17 00:00:00'): array([186, 130,  26], dtype=uint8), Timestamp('2023-04-18 00:00:00'): array([111, 154, 111], dtype=uint8), Timestamp('2023-04-19 00:00:00'): array([133,  72, 168], dtype=uint8), Timestamp('2023-04-20 00:00:00'): array([143, 190, 245], dtype=uint8), Timestamp('2023-04-21 00:00:00'): array([128, 172, 212], dtype=uint8), Timestamp('2023-04-22 00:00:00'): array([140,  84,  41], dtype=uint8), Timestamp('2023-04-23 00:00:00'): array([162,  47, 216], dtype=uint8), Timestamp('2023-04-24 00:00:00'): array([150,  79,  38], dtype=uint8), Timestamp('2023-04-25 00:00:00'): array([161,  30,  21], dtype=uint8), Timestamp('2023-04-26 00:00:00'): array([182,  89, 213], dtype=uint8), Timestamp('2023-04-27 00:00:00'): array([158, 174, 175], dtype=uint8), Timestamp('2023-04-28 00:00:00'): array([134, 241, 185], dtype=uint8), Timestamp('2023-04-29 00:00:00'): array([122, 139, 202], dtype=uint8), Timestamp('2023-04-30 00:00:00'): array([168,  81, 155], dtype=uint8)}\n",
      "-----------------\n",
      "\n",
      "\n",
      "-----------------\n",
      "canvas_dictionary_may_2023: {Timestamp('2023-05-01 00:00:00'): array([192,  97, 119], dtype=uint8), Timestamp('2023-05-02 00:00:00'): array([137,  57, 157], dtype=uint8), Timestamp('2023-05-03 00:00:00'): array([143,  29, 213], dtype=uint8), Timestamp('2023-05-04 00:00:00'): array([104,   9, 112], dtype=uint8), Timestamp('2023-05-05 00:00:00'): array([169,  27, 243], dtype=uint8), Timestamp('2023-05-06 00:00:00'): array([109, 192, 189], dtype=uint8), Timestamp('2023-05-07 00:00:00'): array([173, 140, 147], dtype=uint8), Timestamp('2023-05-08 00:00:00'): array([83, 38, 65], dtype=uint8), Timestamp('2023-05-09 00:00:00'): array([216,  61, 125], dtype=uint8), Timestamp('2023-05-10 00:00:00'): array([112,  78, 113], dtype=uint8), Timestamp('2023-05-11 00:00:00'): array([159, 209, 174], dtype=uint8), Timestamp('2023-05-12 00:00:00'): array([122, 174, 204], dtype=uint8), Timestamp('2023-05-13 00:00:00'): array([109, 111, 132], dtype=uint8), Timestamp('2023-05-14 00:00:00'): array([ 65, 167,  19], dtype=uint8), Timestamp('2023-05-15 00:00:00'): array([126,  16,  52], dtype=uint8), Timestamp('2023-05-16 00:00:00'): array([ 43, 119, 254], dtype=uint8), Timestamp('2023-05-17 00:00:00'): array([130,  98, 111], dtype=uint8), Timestamp('2023-05-18 00:00:00'): array([128,   0,  54], dtype=uint8), Timestamp('2023-05-19 00:00:00'): array([189, 240, 168], dtype=uint8), Timestamp('2023-05-20 00:00:00'): array([ 75, 148, 115], dtype=uint8), Timestamp('2023-05-21 00:00:00'): array([ 86, 219, 122], dtype=uint8), Timestamp('2023-05-22 00:00:00'): array([129, 103, 162], dtype=uint8), Timestamp('2023-05-23 00:00:00'): array([178, 181, 103], dtype=uint8), Timestamp('2023-05-24 00:00:00'): array([107,  64, 168], dtype=uint8), Timestamp('2023-05-25 00:00:00'): array([107,   8, 251], dtype=uint8), Timestamp('2023-05-26 00:00:00'): array([169,  32,  35], dtype=uint8), Timestamp('2023-05-27 00:00:00'): array([163, 210, 195], dtype=uint8), Timestamp('2023-05-28 00:00:00'): array([ 67, 152, 160], dtype=uint8), Timestamp('2023-05-29 00:00:00'): array([214,   0, 177], dtype=uint8), Timestamp('2023-05-30 00:00:00'): array([133,  33, 142], dtype=uint8), Timestamp('2023-05-31 00:00:00'): array([ 65, 102, 240], dtype=uint8)}\n",
      "-----------------\n",
      "\n",
      "\n",
      "-----------------\n",
      "canvas_dictionary_june_2023: {Timestamp('2023-06-01 00:00:00'): array([107,  55,  77], dtype=uint8), Timestamp('2023-06-02 00:00:00'): array([160, 215,  33], dtype=uint8), Timestamp('2023-06-03 00:00:00'): array([147, 162, 227], dtype=uint8), Timestamp('2023-06-04 00:00:00'): array([124, 146,  22], dtype=uint8), Timestamp('2023-06-05 00:00:00'): array([195, 198,  66], dtype=uint8), Timestamp('2023-06-06 00:00:00'): array([251, 100, 115], dtype=uint8), Timestamp('2023-06-07 00:00:00'): array([107,  91, 194], dtype=uint8), Timestamp('2023-06-08 00:00:00'): array([195, 115,   8], dtype=uint8), Timestamp('2023-06-09 00:00:00'): array([175,  84,  31], dtype=uint8), Timestamp('2023-06-10 00:00:00'): array([158,  15,  35], dtype=uint8), Timestamp('2023-06-11 00:00:00'): array([ 97, 129,  74], dtype=uint8), Timestamp('2023-06-12 00:00:00'): array([219,  58,  61], dtype=uint8), Timestamp('2023-06-13 00:00:00'): array([237,  72, 234], dtype=uint8), Timestamp('2023-06-14 00:00:00'): array([122,  56, 116], dtype=uint8), Timestamp('2023-06-15 00:00:00'): array([ 15, 231,  83], dtype=uint8), Timestamp('2023-06-16 00:00:00'): array([132, 140,  72], dtype=uint8), Timestamp('2023-06-17 00:00:00'): array([181,  14, 154], dtype=uint8), Timestamp('2023-06-18 00:00:00'): array([159,   5, 199], dtype=uint8), Timestamp('2023-06-19 00:00:00'): array([111,  19, 204], dtype=uint8), Timestamp('2023-06-20 00:00:00'): array([184, 141,  16], dtype=uint8), Timestamp('2023-06-21 00:00:00'): array([ 76,  19, 145], dtype=uint8), Timestamp('2023-06-22 00:00:00'): array([255, 255, 255], dtype=uint8), Timestamp('2023-06-23 00:00:00'): array([104, 253, 203], dtype=uint8), Timestamp('2023-06-24 00:00:00'): array([117, 109, 205], dtype=uint8), Timestamp('2023-06-25 00:00:00'): array([191,  20, 193], dtype=uint8), Timestamp('2023-06-26 00:00:00'): array([210, 218, 187], dtype=uint8), Timestamp('2023-06-27 00:00:00'): array([ 70, 213, 142], dtype=uint8), Timestamp('2023-06-28 00:00:00'): array([ 25, 248, 164], dtype=uint8), Timestamp('2023-06-29 00:00:00'): array([ 54, 135,  79], dtype=uint8), Timestamp('2023-06-30 00:00:00'): array([156, 226, 170], dtype=uint8)}\n",
      "-----------------\n",
      "\n",
      "\n",
      "-----------------\n",
      "canvas_dictionary_july_2023: {Timestamp('2023-07-01 00:00:00'): array([177, 242,  51], dtype=uint8), Timestamp('2023-07-02 00:00:00'): array([143, 218,  73], dtype=uint8), Timestamp('2023-07-03 00:00:00'): array([138, 174, 184], dtype=uint8), Timestamp('2023-07-04 00:00:00'): array([130, 233, 226], dtype=uint8), Timestamp('2023-07-05 00:00:00'): array([121, 118,  13], dtype=uint8), Timestamp('2023-07-06 00:00:00'): array([178, 206,  31], dtype=uint8), Timestamp('2023-07-07 00:00:00'): array([ 87, 242, 234], dtype=uint8), Timestamp('2023-07-08 00:00:00'): array([121,  83,  95], dtype=uint8), Timestamp('2023-07-09 00:00:00'): array([164,  76,  10], dtype=uint8), Timestamp('2023-07-10 00:00:00'): array([159, 178,  40], dtype=uint8), Timestamp('2023-07-11 00:00:00'): array([112, 137, 110], dtype=uint8), Timestamp('2023-07-12 00:00:00'): array([178, 104,  66], dtype=uint8), Timestamp('2023-07-13 00:00:00'): array([146, 214,  20], dtype=uint8), Timestamp('2023-07-14 00:00:00'): array([149, 224, 139], dtype=uint8), Timestamp('2023-07-15 00:00:00'): array([146, 237, 139], dtype=uint8), Timestamp('2023-07-16 00:00:00'): array([118,  85, 103], dtype=uint8), Timestamp('2023-07-17 00:00:00'): array([149, 250, 188], dtype=uint8), Timestamp('2023-07-18 00:00:00'): array([143, 151, 123], dtype=uint8), Timestamp('2023-07-19 00:00:00'): array([124,  32, 248], dtype=uint8), Timestamp('2023-07-20 00:00:00'): array([104,  82, 206], dtype=uint8), Timestamp('2023-07-21 00:00:00'): array([168, 207,  58], dtype=uint8), Timestamp('2023-07-22 00:00:00'): array([123, 134,  14], dtype=uint8), Timestamp('2023-07-23 00:00:00'): array([124, 152,  77], dtype=uint8), Timestamp('2023-07-24 00:00:00'): array([132,  45,  85], dtype=uint8), Timestamp('2023-07-25 00:00:00'): array([148, 177, 171], dtype=uint8), Timestamp('2023-07-26 00:00:00'): array([162,  53, 203], dtype=uint8), Timestamp('2023-07-27 00:00:00'): array([122, 206, 118], dtype=uint8), Timestamp('2023-07-28 00:00:00'): array([142, 138,  65], dtype=uint8), Timestamp('2023-07-29 00:00:00'): array([115, 203,  31], dtype=uint8), Timestamp('2023-07-30 00:00:00'): array([169, 195, 235], dtype=uint8), Timestamp('2023-07-31 00:00:00'): array([123, 235, 250], dtype=uint8)}\n",
      "-----------------\n",
      "\n",
      "\n",
      "-----------------\n",
      "canvas_dictionary_august_2023: {Timestamp('2023-08-01 00:00:00'): array([175, 183, 175], dtype=uint8), Timestamp('2023-08-02 00:00:00'): array([121, 196,  26], dtype=uint8), Timestamp('2023-08-03 00:00:00'): array([110, 150, 233], dtype=uint8), Timestamp('2023-08-04 00:00:00'): array([144,  74,  92], dtype=uint8), Timestamp('2023-08-05 00:00:00'): array([136, 254, 132], dtype=uint8), Timestamp('2023-08-06 00:00:00'): array([153,  80, 100], dtype=uint8), Timestamp('2023-08-07 00:00:00'): array([138, 211, 105], dtype=uint8), Timestamp('2023-08-08 00:00:00'): array([163, 123,  93], dtype=uint8), Timestamp('2023-08-09 00:00:00'): array([112,  37,  46], dtype=uint8), Timestamp('2023-08-10 00:00:00'): array([ 92, 185, 215], dtype=uint8), Timestamp('2023-08-11 00:00:00'): array([238,  87, 195], dtype=uint8), Timestamp('2023-08-12 00:00:00'): array([160, 122,  25], dtype=uint8), Timestamp('2023-08-13 00:00:00'): array([149, 174, 227], dtype=uint8), Timestamp('2023-08-14 00:00:00'): array([218, 184, 252], dtype=uint8), Timestamp('2023-08-15 00:00:00'): array([176,  30,  32], dtype=uint8), Timestamp('2023-08-16 00:00:00'): array([ 78, 195,  42], dtype=uint8), Timestamp('2023-08-17 00:00:00'): array([181, 165, 226], dtype=uint8), Timestamp('2023-08-18 00:00:00'): array([181,  91, 151], dtype=uint8), Timestamp('2023-08-19 00:00:00'): array([180, 184,  80], dtype=uint8), Timestamp('2023-08-20 00:00:00'): array([197, 118, 174], dtype=uint8), Timestamp('2023-08-21 00:00:00'): array([ 71, 199,  75], dtype=uint8), Timestamp('2023-08-22 00:00:00'): array([140,  50, 101], dtype=uint8), Timestamp('2023-08-23 00:00:00'): array([151, 218,  95], dtype=uint8), Timestamp('2023-08-24 00:00:00'): array([119,  86,  98], dtype=uint8), Timestamp('2023-08-25 00:00:00'): array([119, 153,  86], dtype=uint8), Timestamp('2023-08-26 00:00:00'): array([102, 249, 205], dtype=uint8), Timestamp('2023-08-27 00:00:00'): array([151,  11, 240], dtype=uint8), Timestamp('2023-08-28 00:00:00'): array([113, 129, 148], dtype=uint8), Timestamp('2023-08-29 00:00:00'): array([153,  36, 198], dtype=uint8), Timestamp('2023-08-30 00:00:00'): array([148, 232, 158], dtype=uint8), Timestamp('2023-08-31 00:00:00'): array([124, 255,   1], dtype=uint8)}\n",
      "-----------------\n",
      "\n",
      "\n",
      "-----------------\n",
      "canvas_dictionary_september_2023: {Timestamp('2023-09-01 00:00:00'): array([97, 29, 62], dtype=uint8), Timestamp('2023-09-02 00:00:00'): array([131, 155,  39], dtype=uint8), Timestamp('2023-09-03 00:00:00'): array([147,  34,  18], dtype=uint8), Timestamp('2023-09-04 00:00:00'): array([128, 145, 166], dtype=uint8), Timestamp('2023-09-05 00:00:00'): array([101,  18, 179], dtype=uint8), Timestamp('2023-09-06 00:00:00'): array([104, 172,  20], dtype=uint8), Timestamp('2023-09-07 00:00:00'): array([185, 244, 237], dtype=uint8), Timestamp('2023-09-08 00:00:00'): array([133,  86, 246], dtype=uint8), Timestamp('2023-09-09 00:00:00'): array([161, 187, 155], dtype=uint8), Timestamp('2023-09-10 00:00:00'): array([158, 168, 144], dtype=uint8), Timestamp('2023-09-11 00:00:00'): array([134, 207, 107], dtype=uint8), Timestamp('2023-09-12 00:00:00'): array([132, 253, 127], dtype=uint8), Timestamp('2023-09-13 00:00:00'): array([137, 151, 201], dtype=uint8), Timestamp('2023-09-14 00:00:00'): array([121, 170, 119], dtype=uint8), Timestamp('2023-09-15 00:00:00'): array([192,  29, 164], dtype=uint8), Timestamp('2023-09-16 00:00:00'): array([190, 137,  64], dtype=uint8), Timestamp('2023-09-17 00:00:00'): array([100, 246, 157], dtype=uint8), Timestamp('2023-09-18 00:00:00'): array([165, 150,  56], dtype=uint8), Timestamp('2023-09-19 00:00:00'): array([165, 252,  55], dtype=uint8), Timestamp('2023-09-20 00:00:00'): array([123, 205, 122], dtype=uint8), Timestamp('2023-09-21 00:00:00'): array([168, 167,  70], dtype=uint8), Timestamp('2023-09-22 00:00:00'): array([106, 172,  98], dtype=uint8), Timestamp('2023-09-23 00:00:00'): array([149, 183, 163], dtype=uint8), Timestamp('2023-09-24 00:00:00'): array([142, 216,  11], dtype=uint8), Timestamp('2023-09-25 00:00:00'): array([128,  23,  33], dtype=uint8), Timestamp('2023-09-26 00:00:00'): array([180, 251, 120], dtype=uint8), Timestamp('2023-09-27 00:00:00'): array([ 50,   3, 106], dtype=uint8), Timestamp('2023-09-28 00:00:00'): array([176,  50,  70], dtype=uint8), Timestamp('2023-09-29 00:00:00'): array([231, 125,   6], dtype=uint8), Timestamp('2023-09-30 00:00:00'): array([114,  75, 134], dtype=uint8)}\n",
      "-----------------\n",
      "\n",
      "\n",
      "-----------------\n",
      "canvas_dictionary_october_2023: {Timestamp('2023-10-01 00:00:00'): array([153, 149, 249], dtype=uint8), Timestamp('2023-10-02 00:00:00'): array([167, 183, 125], dtype=uint8), Timestamp('2023-10-03 00:00:00'): array([159,  47,  69], dtype=uint8), Timestamp('2023-10-04 00:00:00'): array([197,  35, 149], dtype=uint8), Timestamp('2023-10-05 00:00:00'): array([26, 55, 78], dtype=uint8), Timestamp('2023-10-06 00:00:00'): array([141,  37, 108], dtype=uint8), Timestamp('2023-10-07 00:00:00'): array([176, 212,  35], dtype=uint8), Timestamp('2023-10-08 00:00:00'): array([151,  39,  90], dtype=uint8), Timestamp('2023-10-09 00:00:00'): array([134, 201,  73], dtype=uint8), Timestamp('2023-10-10 00:00:00'): array([149,   7, 224], dtype=uint8), Timestamp('2023-10-11 00:00:00'): array([132,  15,  77], dtype=uint8), Timestamp('2023-10-12 00:00:00'): array([151, 240,   3], dtype=uint8), Timestamp('2023-10-13 00:00:00'): array([106, 142,  60], dtype=uint8), Timestamp('2023-10-14 00:00:00'): array([209, 118, 194], dtype=uint8), Timestamp('2023-10-15 00:00:00'): array([196,  17, 161], dtype=uint8), Timestamp('2023-10-16 00:00:00'): array([149,  74, 141], dtype=uint8), Timestamp('2023-10-17 00:00:00'): array([183,  30, 135], dtype=uint8), Timestamp('2023-10-18 00:00:00'): array([161, 221, 196], dtype=uint8), Timestamp('2023-10-19 00:00:00'): array([162,  74, 156], dtype=uint8), Timestamp('2023-10-20 00:00:00'): array([127,   6, 186], dtype=uint8), Timestamp('2023-10-21 00:00:00'): array([156, 167, 168], dtype=uint8), Timestamp('2023-10-22 00:00:00'): array([ 95, 183, 104], dtype=uint8), Timestamp('2023-10-23 00:00:00'): array([133, 229, 238], dtype=uint8), Timestamp('2023-10-24 00:00:00'): array([169, 140, 254], dtype=uint8), Timestamp('2023-10-25 00:00:00'): array([ 88, 188, 226], dtype=uint8), Timestamp('2023-10-26 00:00:00'): array([183, 224, 157], dtype=uint8), Timestamp('2023-10-27 00:00:00'): array([217, 130,  33], dtype=uint8), Timestamp('2023-10-28 00:00:00'): array([ 84, 146,  95], dtype=uint8), Timestamp('2023-10-29 00:00:00'): array([189, 206,  35], dtype=uint8), Timestamp('2023-10-30 00:00:00'): array([138, 124,  77], dtype=uint8), Timestamp('2023-10-31 00:00:00'): array([158,  19, 106], dtype=uint8)}\n",
      "-----------------\n",
      "\n",
      "\n",
      "-----------------\n",
      "canvas_dictionary_november_2023: {Timestamp('2023-11-01 00:00:00'): array([138, 115,  13], dtype=uint8), Timestamp('2023-11-02 00:00:00'): array([130,   9,  43], dtype=uint8), Timestamp('2023-11-03 00:00:00'): array([189, 168, 128], dtype=uint8), Timestamp('2023-11-04 00:00:00'): array([158,  81, 203], dtype=uint8), Timestamp('2023-11-05 00:00:00'): array([101,  92, 180], dtype=uint8), Timestamp('2023-11-06 00:00:00'): array([126, 235,  37], dtype=uint8), Timestamp('2023-11-07 00:00:00'): array([135, 135,  93], dtype=uint8), Timestamp('2023-11-08 00:00:00'): array([165, 142, 254], dtype=uint8), Timestamp('2023-11-09 00:00:00'): array([112, 186, 196], dtype=uint8), Timestamp('2023-11-10 00:00:00'): array([129,  23, 141], dtype=uint8), Timestamp('2023-11-11 00:00:00'): array([188,  36, 252], dtype=uint8), Timestamp('2023-11-12 00:00:00'): array([47, 63, 71], dtype=uint8), Timestamp('2023-11-13 00:00:00'): array([148,  74, 112], dtype=uint8), Timestamp('2023-11-14 00:00:00'): array([169,  88, 104], dtype=uint8), Timestamp('2023-11-15 00:00:00'): array([130, 140,  28], dtype=uint8), Timestamp('2023-11-16 00:00:00'): array([190, 250, 206], dtype=uint8), Timestamp('2023-11-17 00:00:00'): array([106, 166, 109], dtype=uint8), Timestamp('2023-11-18 00:00:00'): array([107, 183, 220], dtype=uint8), Timestamp('2023-11-19 00:00:00'): array([175,  14, 210], dtype=uint8), Timestamp('2023-11-20 00:00:00'): array([198, 113, 215], dtype=uint8), Timestamp('2023-11-21 00:00:00'): array([94, 28, 20], dtype=uint8), Timestamp('2023-11-22 00:00:00'): array([121,  60, 254], dtype=uint8), Timestamp('2023-11-23 00:00:00'): array([229,  89,  31], dtype=uint8), Timestamp('2023-11-24 00:00:00'): array([57,  1, 29], dtype=uint8), Timestamp('2023-11-25 00:00:00'): array([155, 192, 123], dtype=uint8), Timestamp('2023-11-26 00:00:00'): array([230,  41, 194], dtype=uint8), Timestamp('2023-11-27 00:00:00'): array([100, 160, 139], dtype=uint8), Timestamp('2023-11-28 00:00:00'): array([ 87, 205,  99], dtype=uint8), Timestamp('2023-11-29 00:00:00'): array([218, 204, 143], dtype=uint8), Timestamp('2023-11-30 00:00:00'): array([0, 0, 0], dtype=uint8)}\n",
      "-----------------\n",
      "\n",
      "\n",
      "-----------------\n",
      "canvas_dictionary_december_2023: {Timestamp('2023-12-01 00:00:00'): array([233, 181, 115], dtype=uint8), Timestamp('2023-12-02 00:00:00'): array([117, 186, 224], dtype=uint8), Timestamp('2023-12-03 00:00:00'): array([ 80, 154, 188], dtype=uint8), Timestamp('2023-12-04 00:00:00'): array([203, 152, 189], dtype=uint8), Timestamp('2023-12-05 00:00:00'): array([115, 178,  75], dtype=uint8), Timestamp('2023-12-06 00:00:00'): array([210, 237,  84], dtype=uint8), Timestamp('2023-12-07 00:00:00'): array([162, 189,  54], dtype=uint8), Timestamp('2023-12-08 00:00:00'): array([163, 171,  10], dtype=uint8), Timestamp('2023-12-09 00:00:00'): array([172, 129,  19], dtype=uint8), Timestamp('2023-12-10 00:00:00'): array([72, 23, 77], dtype=uint8), Timestamp('2023-12-11 00:00:00'): array([137, 100, 189], dtype=uint8), Timestamp('2023-12-12 00:00:00'): array([132, 148, 182], dtype=uint8), Timestamp('2023-12-13 00:00:00'): array([ 96, 198, 189], dtype=uint8), Timestamp('2023-12-14 00:00:00'): array([149, 141, 149], dtype=uint8), Timestamp('2023-12-15 00:00:00'): array([105, 222, 163], dtype=uint8), Timestamp('2023-12-16 00:00:00'): array([ 61, 138,  78], dtype=uint8), Timestamp('2023-12-17 00:00:00'): array([132, 147,  31], dtype=uint8), Timestamp('2023-12-18 00:00:00'): array([179, 191, 252], dtype=uint8), Timestamp('2023-12-19 00:00:00'): array([155,  56, 178], dtype=uint8), Timestamp('2023-12-20 00:00:00'): array([126,  26, 189], dtype=uint8), Timestamp('2023-12-21 00:00:00'): array([143, 229, 123], dtype=uint8), Timestamp('2023-12-22 00:00:00'): array([138, 127, 155], dtype=uint8), Timestamp('2023-12-23 00:00:00'): array([126, 202, 215], dtype=uint8), Timestamp('2023-12-24 00:00:00'): array([ 92, 156, 231], dtype=uint8), Timestamp('2023-12-25 00:00:00'): array([ 45,  14, 230], dtype=uint8), Timestamp('2023-12-26 00:00:00'): array([ 84, 183,   8], dtype=uint8), Timestamp('2023-12-27 00:00:00'): array([165, 216,  94], dtype=uint8), Timestamp('2023-12-28 00:00:00'): array([114,  92, 197], dtype=uint8), Timestamp('2023-12-29 00:00:00'): array([206, 132,  73], dtype=uint8), Timestamp('2023-12-30 00:00:00'): array([190,   1,  33], dtype=uint8), Timestamp('2023-12-31 00:00:00'): array([160,  78,  37], dtype=uint8)}\n",
      "-----------------\n",
      "\n",
      "\n",
      "-----------------\n",
      "canvas_dictionary_january_2024: {Timestamp('2024-01-01 00:00:00'): array([150, 170,  71], dtype=uint8), Timestamp('2024-01-02 00:00:00'): array([184, 179,  44], dtype=uint8), Timestamp('2024-01-03 00:00:00'): array([ 96,  16, 246], dtype=uint8), Timestamp('2024-01-04 00:00:00'): array([214, 212,  59], dtype=uint8), Timestamp('2024-01-05 00:00:00'): array([ 95, 103,  78], dtype=uint8), Timestamp('2024-01-06 00:00:00'): array([159, 100, 100], dtype=uint8), Timestamp('2024-01-07 00:00:00'): array([172, 190,  19], dtype=uint8), Timestamp('2024-01-08 00:00:00'): array([166,  37,  17], dtype=uint8), Timestamp('2024-01-09 00:00:00'): array([184, 127,  51], dtype=uint8), Timestamp('2024-01-10 00:00:00'): array([ 88, 222, 227], dtype=uint8), Timestamp('2024-01-11 00:00:00'): array([125, 203, 117], dtype=uint8), Timestamp('2024-01-12 00:00:00'): array([137,  46,  64], dtype=uint8), Timestamp('2024-01-13 00:00:00'): array([166, 182,  59], dtype=uint8), Timestamp('2024-01-14 00:00:00'): array([161, 116, 186], dtype=uint8), Timestamp('2024-01-15 00:00:00'): array([209,  83,  22], dtype=uint8), Timestamp('2024-01-16 00:00:00'): array([ 93, 212, 150], dtype=uint8), Timestamp('2024-01-17 00:00:00'): array([193,   5, 179], dtype=uint8), Timestamp('2024-01-18 00:00:00'): array([164, 192, 142], dtype=uint8), Timestamp('2024-01-19 00:00:00'): array([109, 243, 237], dtype=uint8), Timestamp('2024-01-20 00:00:00'): array([124, 163,  52], dtype=uint8), Timestamp('2024-01-21 00:00:00'): array([117, 187,  56], dtype=uint8), Timestamp('2024-01-22 00:00:00'): array([165,  94,  47], dtype=uint8), Timestamp('2024-01-23 00:00:00'): array([186, 136, 144], dtype=uint8), Timestamp('2024-01-24 00:00:00'): array([149,  56,  95], dtype=uint8), Timestamp('2024-01-25 00:00:00'): array([113, 219, 147], dtype=uint8), Timestamp('2024-01-26 00:00:00'): array([168,  64, 117], dtype=uint8), Timestamp('2024-01-27 00:00:00'): array([165,  49, 111], dtype=uint8), Timestamp('2024-01-28 00:00:00'): array([158,  91,   5], dtype=uint8), Timestamp('2024-01-29 00:00:00'): array([174,  32, 199], dtype=uint8), Timestamp('2024-01-30 00:00:00'): array([187, 122, 206], dtype=uint8), Timestamp('2024-01-31 00:00:00'): array([163, 244, 210], dtype=uint8)}\n",
      "-----------------\n",
      "\n",
      "\n",
      "-----------------\n",
      "canvas_dictionary_february_2024: {Timestamp('2024-02-01 00:00:00'): array([80, 73, 83], dtype=uint8), Timestamp('2024-02-02 00:00:00'): array([183, 129,  29], dtype=uint8), Timestamp('2024-02-03 00:00:00'): array([101, 135, 168], dtype=uint8), Timestamp('2024-02-04 00:00:00'): array([139,  21,  58], dtype=uint8), Timestamp('2024-02-05 00:00:00'): array([146,  36,  18], dtype=uint8), Timestamp('2024-02-06 00:00:00'): array([ 75,  93, 166], dtype=uint8), Timestamp('2024-02-07 00:00:00'): array([100, 104, 240], dtype=uint8), Timestamp('2024-02-08 00:00:00'): array([154, 172, 135], dtype=uint8), Timestamp('2024-02-09 00:00:00'): array([119, 199, 149], dtype=uint8), Timestamp('2024-02-10 00:00:00'): array([140, 120, 135], dtype=uint8), Timestamp('2024-02-11 00:00:00'): array([138, 238, 138], dtype=uint8), Timestamp('2024-02-12 00:00:00'): array([150,  17, 171], dtype=uint8), Timestamp('2024-02-13 00:00:00'): array([184, 106,  36], dtype=uint8), Timestamp('2024-02-14 00:00:00'): array([120,  92, 226], dtype=uint8), Timestamp('2024-02-15 00:00:00'): array([166,  74,  55], dtype=uint8), Timestamp('2024-02-16 00:00:00'): array([163, 219,  26], dtype=uint8), Timestamp('2024-02-17 00:00:00'): array([194,   8, 127], dtype=uint8), Timestamp('2024-02-18 00:00:00'): array([ 74, 245, 243], dtype=uint8), Timestamp('2024-02-19 00:00:00'): array([217, 163, 118], dtype=uint8), Timestamp('2024-02-20 00:00:00'): array([108, 180, 220], dtype=uint8), Timestamp('2024-02-21 00:00:00'): array([175,  13, 247], dtype=uint8), Timestamp('2024-02-22 00:00:00'): array([105,  87, 199], dtype=uint8), Timestamp('2024-02-23 00:00:00'): array([145,  73,  84], dtype=uint8), Timestamp('2024-02-24 00:00:00'): array([161, 154, 185], dtype=uint8), Timestamp('2024-02-25 00:00:00'): array([102,  24,  77], dtype=uint8), Timestamp('2024-02-26 00:00:00'): array([157, 120, 250], dtype=uint8), Timestamp('2024-02-27 00:00:00'): array([155,  55,  72], dtype=uint8), Timestamp('2024-02-28 00:00:00'): array([142, 221,  45], dtype=uint8), Timestamp('2024-02-29 00:00:00'): array([133, 248,  82], dtype=uint8)}\n",
      "-----------------\n",
      "\n",
      "\n",
      "-----------------\n",
      "canvas_dictionary_march_2024: {Timestamp('2024-03-01 00:00:00'): array([139, 131, 216], dtype=uint8), Timestamp('2024-03-02 00:00:00'): array([135, 236,  65], dtype=uint8), Timestamp('2024-03-03 00:00:00'): array([150, 109,  51], dtype=uint8), Timestamp('2024-03-04 00:00:00'): array([166, 224, 191], dtype=uint8), Timestamp('2024-03-05 00:00:00'): array([ 98,  69, 107], dtype=uint8), Timestamp('2024-03-06 00:00:00'): array([197, 100,  43], dtype=uint8), Timestamp('2024-03-07 00:00:00'): array([154,  61,  92], dtype=uint8), Timestamp('2024-03-08 00:00:00'): array([123, 177,  83], dtype=uint8), Timestamp('2024-03-09 00:00:00'): array([104,  69,  22], dtype=uint8), Timestamp('2024-03-10 00:00:00'): array([113,  75,  89], dtype=uint8), Timestamp('2024-03-11 00:00:00'): array([151, 135, 188], dtype=uint8), Timestamp('2024-03-12 00:00:00'): array([155, 134, 162], dtype=uint8), Timestamp('2024-03-13 00:00:00'): array([124,   0,  98], dtype=uint8), Timestamp('2024-03-14 00:00:00'): array([120, 149,  60], dtype=uint8), Timestamp('2024-03-15 00:00:00'): array([123, 213,  97], dtype=uint8), Timestamp('2024-03-16 00:00:00'): array([110,  30, 169], dtype=uint8), Timestamp('2024-03-17 00:00:00'): array([151, 188, 201], dtype=uint8), Timestamp('2024-03-18 00:00:00'): array([145, 228, 209], dtype=uint8), Timestamp('2024-03-19 00:00:00'): array([139,  73, 230], dtype=uint8), Timestamp('2024-03-20 00:00:00'): array([164,  35, 121], dtype=uint8), Timestamp('2024-03-21 00:00:00'): array([137,  87,  54], dtype=uint8), Timestamp('2024-03-22 00:00:00'): array([139, 116, 191], dtype=uint8), Timestamp('2024-03-23 00:00:00'): array([130, 205, 182], dtype=uint8), Timestamp('2024-03-24 00:00:00'): array([118, 196,  19], dtype=uint8), Timestamp('2024-03-25 00:00:00'): array([118, 222, 137], dtype=uint8), Timestamp('2024-03-26 00:00:00'): array([125,  67, 171], dtype=uint8), Timestamp('2024-03-27 00:00:00'): array([151, 243, 204], dtype=uint8), Timestamp('2024-03-28 00:00:00'): array([131,  83,  89], dtype=uint8), Timestamp('2024-03-29 00:00:00'): array([147, 235, 182], dtype=uint8), Timestamp('2024-03-30 00:00:00'): array([134, 238,  39], dtype=uint8), Timestamp('2024-03-31 00:00:00'): array([130, 213,  82], dtype=uint8)}\n",
      "-----------------\n",
      "\n",
      "\n",
      "-----------------\n",
      "canvas_dictionary_april_2024: {Timestamp('2024-04-01 00:00:00'): array([126,  24, 206], dtype=uint8), Timestamp('2024-04-02 00:00:00'): array([180, 213, 159], dtype=uint8), Timestamp('2024-04-03 00:00:00'): array([ 96, 139, 216], dtype=uint8), Timestamp('2024-04-04 00:00:00'): array([220, 172, 151], dtype=uint8), Timestamp('2024-04-05 00:00:00'): array([138, 203,   1], dtype=uint8), Timestamp('2024-04-06 00:00:00'): array([147, 217, 118], dtype=uint8), Timestamp('2024-04-07 00:00:00'): array([104, 208, 213], dtype=uint8), Timestamp('2024-04-08 00:00:00'): array([101,  58, 160], dtype=uint8), Timestamp('2024-04-09 00:00:00'): array([191, 130, 187], dtype=uint8), Timestamp('2024-04-10 00:00:00'): array([140, 141, 164], dtype=uint8), Timestamp('2024-04-11 00:00:00'): array([107, 151, 255], dtype=uint8), Timestamp('2024-04-12 00:00:00'): array([151,  10,  74], dtype=uint8), Timestamp('2024-04-13 00:00:00'): array([160,  73, 163], dtype=uint8), Timestamp('2024-04-14 00:00:00'): array([116, 198, 207], dtype=uint8), Timestamp('2024-04-15 00:00:00'): array([182, 184, 212], dtype=uint8), Timestamp('2024-04-16 00:00:00'): array([157, 132, 149], dtype=uint8), Timestamp('2024-04-17 00:00:00'): array([146, 235, 220], dtype=uint8), Timestamp('2024-04-18 00:00:00'): array([149, 112, 129], dtype=uint8), Timestamp('2024-04-19 00:00:00'): array([114, 224,  57], dtype=uint8), Timestamp('2024-04-20 00:00:00'): array([186, 253, 251], dtype=uint8), Timestamp('2024-04-21 00:00:00'): array([173,   1,  56], dtype=uint8), Timestamp('2024-04-22 00:00:00'): array([ 98,  38, 135], dtype=uint8), Timestamp('2024-04-23 00:00:00'): array([165, 179, 127], dtype=uint8), Timestamp('2024-04-24 00:00:00'): array([179,  42, 180], dtype=uint8), Timestamp('2024-04-25 00:00:00'): array([193, 228,  64], dtype=uint8), Timestamp('2024-04-26 00:00:00'): array([ 73, 168, 130], dtype=uint8), Timestamp('2024-04-27 00:00:00'): array([134, 158, 161], dtype=uint8), Timestamp('2024-04-28 00:00:00'): array([113, 175, 206], dtype=uint8), Timestamp('2024-04-29 00:00:00'): array([104,   2,   8], dtype=uint8), Timestamp('2024-04-30 00:00:00'): array([209, 123, 145], dtype=uint8)}\n",
      "-----------------\n",
      "\n",
      "\n",
      "-----------------\n",
      "canvas_dictionary_may_2024: {Timestamp('2024-05-01 00:00:00'): array([78, 62,  6], dtype=uint8), Timestamp('2024-05-02 00:00:00'): array([154,  22, 112], dtype=uint8), Timestamp('2024-05-03 00:00:00'): array([134, 240, 212], dtype=uint8), Timestamp('2024-05-04 00:00:00'): array([175, 226, 209], dtype=uint8), Timestamp('2024-05-05 00:00:00'): array([165,  56,  70], dtype=uint8), Timestamp('2024-05-06 00:00:00'): array([ 74, 168, 169], dtype=uint8), Timestamp('2024-05-07 00:00:00'): array([156, 157, 217], dtype=uint8), Timestamp('2024-05-08 00:00:00'): array([66, 65, 82], dtype=uint8), Timestamp('2024-05-09 00:00:00'): array([138, 245, 201], dtype=uint8), Timestamp('2024-05-10 00:00:00'): array([159,  75, 148], dtype=uint8), Timestamp('2024-05-11 00:00:00'): array([132, 138,  38], dtype=uint8), Timestamp('2024-05-12 00:00:00'): array([136, 107, 216], dtype=uint8), Timestamp('2024-05-13 00:00:00'): array([120, 223, 122], dtype=uint8), Timestamp('2024-05-14 00:00:00'): array([130,  96,  34], dtype=uint8), Timestamp('2024-05-15 00:00:00'): array([143,  94, 170], dtype=uint8), Timestamp('2024-05-16 00:00:00'): array([169, 132,   2], dtype=uint8), Timestamp('2024-05-17 00:00:00'): array([104, 153, 224], dtype=uint8), Timestamp('2024-05-18 00:00:00'): array([175, 158,  78], dtype=uint8), Timestamp('2024-05-19 00:00:00'): array([144,  62, 172], dtype=uint8), Timestamp('2024-05-20 00:00:00'): array([123, 198, 175], dtype=uint8), Timestamp('2024-05-21 00:00:00'): array([150, 195,   9], dtype=uint8), Timestamp('2024-05-22 00:00:00'): array([124, 121, 215], dtype=uint8), Timestamp('2024-05-23 00:00:00'): array([174, 110,  57], dtype=uint8), Timestamp('2024-05-24 00:00:00'): array([117, 103,  76], dtype=uint8), Timestamp('2024-05-25 00:00:00'): array([139,  45,  35], dtype=uint8), Timestamp('2024-05-26 00:00:00'): array([141, 195, 180], dtype=uint8), Timestamp('2024-05-27 00:00:00'): array([124,  74,  95], dtype=uint8), Timestamp('2024-05-28 00:00:00'): array([134, 244, 144], dtype=uint8), Timestamp('2024-05-29 00:00:00'): array([132, 119,   0], dtype=uint8), Timestamp('2024-05-30 00:00:00'): array([130,  35, 223], dtype=uint8), Timestamp('2024-05-31 00:00:00'): array([148,  25,  36], dtype=uint8)}\n",
      "-----------------\n",
      "\n",
      "\n",
      "-----------------\n",
      "canvas_dictionary_june_2024: {Timestamp('2024-06-01 00:00:00'): array([153,  43, 198], dtype=uint8), Timestamp('2024-06-02 00:00:00'): array([140, 228,  13], dtype=uint8), Timestamp('2024-06-03 00:00:00'): array([132, 192, 145], dtype=uint8), Timestamp('2024-06-04 00:00:00'): array([142, 180,  90], dtype=uint8), Timestamp('2024-06-05 00:00:00'): array([176, 106, 109], dtype=uint8), Timestamp('2024-06-06 00:00:00'): array([177,  87, 189], dtype=uint8), Timestamp('2024-06-07 00:00:00'): array([103, 124,  84], dtype=uint8), Timestamp('2024-06-08 00:00:00'): array([159, 157,  92], dtype=uint8), Timestamp('2024-06-09 00:00:00'): array([127,  69, 209], dtype=uint8), Timestamp('2024-06-10 00:00:00'): array([149,   2,  34], dtype=uint8), Timestamp('2024-06-11 00:00:00'): array([147, 164, 115], dtype=uint8), Timestamp('2024-06-12 00:00:00'): array([148,  77,  85], dtype=uint8), Timestamp('2024-06-13 00:00:00'): array([148, 159,  71], dtype=uint8), Timestamp('2024-06-14 00:00:00'): array([154, 148, 175], dtype=uint8), Timestamp('2024-06-15 00:00:00'): array([140,  63,  10], dtype=uint8), Timestamp('2024-06-16 00:00:00'): array([108, 190, 112], dtype=uint8), Timestamp('2024-06-17 00:00:00'): array([111, 195, 196], dtype=uint8), Timestamp('2024-06-18 00:00:00'): array([165,  27, 142], dtype=uint8), Timestamp('2024-06-19 00:00:00'): array([142, 172,  60], dtype=uint8), Timestamp('2024-06-20 00:00:00'): array([ 86, 200,  50], dtype=uint8), Timestamp('2024-06-21 00:00:00'): array([221, 209,  79], dtype=uint8), Timestamp('2024-06-22 00:00:00'): array([120, 202,  25], dtype=uint8), Timestamp('2024-06-23 00:00:00'): array([ 99, 155,  56], dtype=uint8), Timestamp('2024-06-24 00:00:00'): array([117,  66,  45], dtype=uint8), Timestamp('2024-06-25 00:00:00'): array([160,  42,  15], dtype=uint8), Timestamp('2024-06-26 00:00:00'): array([121, 184,  99], dtype=uint8), Timestamp('2024-06-27 00:00:00'): array([101, 131, 213], dtype=uint8), Timestamp('2024-06-28 00:00:00'): array([147, 211,  17], dtype=uint8), Timestamp('2024-06-29 00:00:00'): array([106, 171, 171], dtype=uint8), Timestamp('2024-06-30 00:00:00'): array([155,  50, 207], dtype=uint8)}\n",
      "-----------------\n",
      "\n",
      "\n",
      "-----------------\n",
      "canvas_dictionary_july_2024: {Timestamp('2024-07-01 00:00:00'): array([173, 207, 228], dtype=uint8), Timestamp('2024-07-02 00:00:00'): array([126,  14,  77], dtype=uint8), Timestamp('2024-07-03 00:00:00'): array([166, 221,  87], dtype=uint8), Timestamp('2024-07-04 00:00:00'): array([130, 150,  31], dtype=uint8), Timestamp('2024-07-05 00:00:00'): array([126,  64, 136], dtype=uint8), Timestamp('2024-07-06 00:00:00'): array([152, 138, 178], dtype=uint8), Timestamp('2024-07-07 00:00:00'): array([139, 211,  20], dtype=uint8), Timestamp('2024-07-08 00:00:00'): array([143,  92,   7], dtype=uint8), Timestamp('2024-07-09 00:00:00'): array([123,  59, 118], dtype=uint8), Timestamp('2024-07-10 00:00:00'): array([112, 130, 164], dtype=uint8), Timestamp('2024-07-11 00:00:00'): array([173, 171, 154], dtype=uint8), Timestamp('2024-07-12 00:00:00'): array([117, 155,  66], dtype=uint8), Timestamp('2024-07-13 00:00:00'): array([122, 140,   0], dtype=uint8), Timestamp('2024-07-14 00:00:00'): array([147, 164, 163], dtype=uint8), Timestamp('2024-07-15 00:00:00'): array([131,  93, 119], dtype=uint8), Timestamp('2024-07-16 00:00:00'): array([171, 120, 213], dtype=uint8), Timestamp('2024-07-17 00:00:00'): array([109,  78, 194], dtype=uint8), Timestamp('2024-07-18 00:00:00'): array([201, 224,  99], dtype=uint8), Timestamp('2024-07-19 00:00:00'): array([173, 174,  98], dtype=uint8), Timestamp('2024-07-20 00:00:00'): array([191,  21, 125], dtype=uint8), Timestamp('2024-07-21 00:00:00'): array([167,  30, 238], dtype=uint8), Timestamp('2024-07-22 00:00:00'): array([164, 228, 202], dtype=uint8), Timestamp('2024-07-23 00:00:00'): array([160,  98,  32], dtype=uint8), Timestamp('2024-07-24 00:00:00'): array([203, 116, 119], dtype=uint8), Timestamp('2024-07-25 00:00:00'): array([ 83,  19, 135], dtype=uint8), Timestamp('2024-07-26 00:00:00'): array([ 61,  40, 253], dtype=uint8), Timestamp('2024-07-27 00:00:00'): array([207, 110,  52], dtype=uint8), Timestamp('2024-07-28 00:00:00'): array([156, 115,  47], dtype=uint8), Timestamp('2024-07-29 00:00:00'): array([ 53, 244,  75], dtype=uint8), Timestamp('2024-07-30 00:00:00'): array([184, 111,  37], dtype=uint8), Timestamp('2024-07-31 00:00:00'): array([131,  95,  25], dtype=uint8)}\n",
      "-----------------\n",
      "\n",
      "\n",
      "-----------------\n",
      "canvas_dictionary_august_2024: {Timestamp('2024-08-01 00:00:00'): array([133, 163, 224], dtype=uint8), Timestamp('2024-08-02 00:00:00'): array([158, 247,  98], dtype=uint8), Timestamp('2024-08-03 00:00:00'): array([129, 103, 236], dtype=uint8), Timestamp('2024-08-04 00:00:00'): array([109,  32,   3], dtype=uint8), Timestamp('2024-08-05 00:00:00'): array([189, 127,  16], dtype=uint8), Timestamp('2024-08-06 00:00:00'): array([130, 138, 157], dtype=uint8), Timestamp('2024-08-07 00:00:00'): array([113, 118,  24], dtype=uint8), Timestamp('2024-08-08 00:00:00'): array([158, 124,  69], dtype=uint8), Timestamp('2024-08-09 00:00:00'): array([138,  46,  23], dtype=uint8), Timestamp('2024-08-10 00:00:00'): array([159, 106, 174], dtype=uint8), Timestamp('2024-08-11 00:00:00'): array([135, 127,  69], dtype=uint8), Timestamp('2024-08-12 00:00:00'): array([113, 171,  82], dtype=uint8), Timestamp('2024-08-13 00:00:00'): array([108, 251, 143], dtype=uint8), Timestamp('2024-08-14 00:00:00'): array([112, 131,  33], dtype=uint8), Timestamp('2024-08-15 00:00:00'): array([144, 133, 228], dtype=uint8), Timestamp('2024-08-16 00:00:00'): array([160, 204,  27], dtype=uint8), Timestamp('2024-08-17 00:00:00'): array([124, 255, 128], dtype=uint8), Timestamp('2024-08-18 00:00:00'): array([143,  85,  99], dtype=uint8), Timestamp('2024-08-19 00:00:00'): array([103, 242,   1], dtype=uint8), Timestamp('2024-08-20 00:00:00'): array([96, 49, 28], dtype=uint8), Timestamp('2024-08-21 00:00:00'): array([  5, 199, 152], dtype=uint8), Timestamp('2024-08-22 00:00:00'): array([ 85, 169,  48], dtype=uint8), Timestamp('2024-08-23 00:00:00'): array([153,  61,   7], dtype=uint8), Timestamp('2024-08-24 00:00:00'): array([130,   1, 116], dtype=uint8), Timestamp('2024-08-25 00:00:00'): array([102, 133,  49], dtype=uint8), Timestamp('2024-08-26 00:00:00'): array([163,  29, 116], dtype=uint8), Timestamp('2024-08-27 00:00:00'): array([130, 185, 193], dtype=uint8), Timestamp('2024-08-28 00:00:00'): array([181,  14, 235], dtype=uint8), Timestamp('2024-08-29 00:00:00'): array([ 47, 244, 218], dtype=uint8), Timestamp('2024-08-30 00:00:00'): array([149, 202, 245], dtype=uint8), Timestamp('2024-08-31 00:00:00'): array([ 58, 150,  77], dtype=uint8)}\n",
      "-----------------\n",
      "\n",
      "\n",
      "-----------------\n",
      "canvas_dictionary_september_2024: {Timestamp('2024-09-01 00:00:00'): array([184, 146, 116], dtype=uint8), Timestamp('2024-09-02 00:00:00'): array([134,   7,  30], dtype=uint8), Timestamp('2024-09-03 00:00:00'): array([149, 169, 194], dtype=uint8), Timestamp('2024-09-04 00:00:00'): array([157,  28,   6], dtype=uint8), Timestamp('2024-09-05 00:00:00'): array([141, 148,  83], dtype=uint8), Timestamp('2024-09-06 00:00:00'): array([141, 157, 148], dtype=uint8), Timestamp('2024-09-07 00:00:00'): array([135,  43,  83], dtype=uint8), Timestamp('2024-09-08 00:00:00'): array([162,  17,  48], dtype=uint8), Timestamp('2024-09-09 00:00:00'): array([108, 209, 247], dtype=uint8), Timestamp('2024-09-10 00:00:00'): array([109, 223, 100], dtype=uint8), Timestamp('2024-09-11 00:00:00'): array([138,  33, 240], dtype=uint8), Timestamp('2024-09-12 00:00:00'): array([142, 231, 166], dtype=uint8), Timestamp('2024-09-13 00:00:00'): array([103, 111, 193], dtype=uint8), Timestamp('2024-09-14 00:00:00'): array([ 89, 124, 116], dtype=uint8), Timestamp('2024-09-15 00:00:00'): array([118, 229,  47], dtype=uint8), Timestamp('2024-09-16 00:00:00'): array([128,  74, 235], dtype=uint8), Timestamp('2024-09-17 00:00:00'): array([103, 169, 185], dtype=uint8), Timestamp('2024-09-18 00:00:00'): array([105, 155,   6], dtype=uint8), Timestamp('2024-09-19 00:00:00'): array([153, 128, 122], dtype=uint8), Timestamp('2024-09-20 00:00:00'): array([173, 221, 113], dtype=uint8), Timestamp('2024-09-21 00:00:00'): array([102,  29, 236], dtype=uint8), Timestamp('2024-09-22 00:00:00'): array([129, 141,  73], dtype=uint8), Timestamp('2024-09-23 00:00:00'): array([ 94, 124,  75], dtype=uint8), Timestamp('2024-09-24 00:00:00'): array([ 96, 188,  60], dtype=uint8), Timestamp('2024-09-25 00:00:00'): array([136,   6, 108], dtype=uint8), Timestamp('2024-09-26 00:00:00'): array([151, 185,  52], dtype=uint8), Timestamp('2024-09-27 00:00:00'): array([112,  33, 114], dtype=uint8), Timestamp('2024-09-28 00:00:00'): array([114,  43,  84], dtype=uint8), Timestamp('2024-09-29 00:00:00'): array([98, 52, 52], dtype=uint8), Timestamp('2024-09-30 00:00:00'): array([117,  39, 195], dtype=uint8)}\n",
      "-----------------\n",
      "\n",
      "\n",
      "-----------------\n",
      "canvas_dictionary_october_2024: {Timestamp('2024-10-01 00:00:00'): array([157, 210, 121], dtype=uint8), Timestamp('2024-10-02 00:00:00'): array([176, 160,  38], dtype=uint8), Timestamp('2024-10-03 00:00:00'): array([176,  15, 172], dtype=uint8), Timestamp('2024-10-04 00:00:00'): array([115, 161,  38], dtype=uint8), Timestamp('2024-10-05 00:00:00'): array([ 99, 111, 183], dtype=uint8), Timestamp('2024-10-06 00:00:00'): array([139, 117,  99], dtype=uint8), Timestamp('2024-10-07 00:00:00'): array([195, 241,  72], dtype=uint8), Timestamp('2024-10-08 00:00:00'): array([184,  91, 173], dtype=uint8), Timestamp('2024-10-09 00:00:00'): array([159,  17,  88], dtype=uint8), Timestamp('2024-10-10 00:00:00'): array([219, 177,  70], dtype=uint8), Timestamp('2024-10-11 00:00:00'): array([208, 121, 189], dtype=uint8), Timestamp('2024-10-12 00:00:00'): array([172, 215,  10], dtype=uint8), Timestamp('2024-10-13 00:00:00'): array([162, 156, 146], dtype=uint8), Timestamp('2024-10-14 00:00:00'): array([138,  84, 151], dtype=uint8), Timestamp('2024-10-15 00:00:00'): array([118, 126,  79], dtype=uint8), Timestamp('2024-10-16 00:00:00'): array([173, 152,  53], dtype=uint8), Timestamp('2024-10-17 00:00:00'): array([ 78,  49, 135], dtype=uint8), Timestamp('2024-10-18 00:00:00'): array([ 64, 140, 136], dtype=uint8), Timestamp('2024-10-19 00:00:00'): array([154,  16, 193], dtype=uint8), Timestamp('2024-10-20 00:00:00'): array([134, 184, 115], dtype=uint8), Timestamp('2024-10-21 00:00:00'): array([168, 103,  27], dtype=uint8), Timestamp('2024-10-22 00:00:00'): array([176,  96, 244], dtype=uint8), Timestamp('2024-10-23 00:00:00'): array([111,  43, 104], dtype=uint8), Timestamp('2024-10-24 00:00:00'): array([148, 242, 204], dtype=uint8), Timestamp('2024-10-25 00:00:00'): array([153, 182, 211], dtype=uint8), Timestamp('2024-10-26 00:00:00'): array([133, 130, 112], dtype=uint8), Timestamp('2024-10-27 00:00:00'): array([138, 135, 246], dtype=uint8), Timestamp('2024-10-28 00:00:00'): array([135,  66, 254], dtype=uint8), Timestamp('2024-10-29 00:00:00'): array([138, 247, 112], dtype=uint8), Timestamp('2024-10-30 00:00:00'): array([177, 238, 231], dtype=uint8), Timestamp('2024-10-31 00:00:00'): array([151,  27, 114], dtype=uint8)}\n",
      "-----------------\n",
      "\n",
      "\n",
      "-----------------\n",
      "canvas_dictionary_november_2024: {Timestamp('2024-11-01 00:00:00'): array([155,   5, 155], dtype=uint8), Timestamp('2024-11-02 00:00:00'): array([150,  21,  84], dtype=uint8), Timestamp('2024-11-03 00:00:00'): array([147, 214,  24], dtype=uint8), Timestamp('2024-11-04 00:00:00'): array([151,  45, 136], dtype=uint8), Timestamp('2024-11-05 00:00:00'): array([169,  48, 192], dtype=uint8), Timestamp('2024-11-06 00:00:00'): array([144,  65, 245], dtype=uint8), Timestamp('2024-11-07 00:00:00'): array([158,  73, 240], dtype=uint8), Timestamp('2024-11-08 00:00:00'): array([126, 127, 243], dtype=uint8), Timestamp('2024-11-09 00:00:00'): array([138,  95,  49], dtype=uint8), Timestamp('2024-11-10 00:00:00'): array([162, 136, 143], dtype=uint8), Timestamp('2024-11-11 00:00:00'): array([137,  64,  74], dtype=uint8), Timestamp('2024-11-12 00:00:00'): array([110, 216, 179], dtype=uint8), Timestamp('2024-11-13 00:00:00'): array([151,  11,  88], dtype=uint8), Timestamp('2024-11-14 00:00:00'): array([148, 193, 232], dtype=uint8), Timestamp('2024-11-15 00:00:00'): array([170, 212,   3], dtype=uint8), Timestamp('2024-11-16 00:00:00'): array([225, 219,  54], dtype=uint8), Timestamp('2024-11-17 00:00:00'): array([218,  36,  41], dtype=uint8), Timestamp('2024-11-18 00:00:00'): array([183,  50, 233], dtype=uint8), Timestamp('2024-11-19 00:00:00'): array([66, 68, 26], dtype=uint8), Timestamp('2024-11-20 00:00:00'): array([176,  22,  98], dtype=uint8), Timestamp('2024-11-21 00:00:00'): array([146,  85, 235], dtype=uint8), Timestamp('2024-11-22 00:00:00'): array([158,  28,  22], dtype=uint8), Timestamp('2024-11-23 00:00:00'): array([119, 139, 234], dtype=uint8), Timestamp('2024-11-24 00:00:00'): array([135, 203, 206], dtype=uint8), Timestamp('2024-11-25 00:00:00'): array([149, 160, 190], dtype=uint8), Timestamp('2024-11-26 00:00:00'): array([143,  88, 184], dtype=uint8), Timestamp('2024-11-27 00:00:00'): array([174, 144, 234], dtype=uint8), Timestamp('2024-11-28 00:00:00'): array([168,   1, 153], dtype=uint8), Timestamp('2024-11-29 00:00:00'): array([121,  11, 249], dtype=uint8), Timestamp('2024-11-30 00:00:00'): array([243, 224, 202], dtype=uint8)}\n",
      "-----------------\n",
      "\n",
      "\n",
      "-----------------\n",
      "canvas_dictionary_december_2024: {Timestamp('2024-12-01 00:00:00'): array([184, 129,  47], dtype=uint8), Timestamp('2024-12-02 00:00:00'): array([195,   5,  16], dtype=uint8), Timestamp('2024-12-03 00:00:00'): array([ 92, 155, 232], dtype=uint8), Timestamp('2024-12-04 00:00:00'): array([132, 190,  11], dtype=uint8), Timestamp('2024-12-05 00:00:00'): array([105, 233, 141], dtype=uint8), Timestamp('2024-12-06 00:00:00'): array([109, 210, 101], dtype=uint8), Timestamp('2024-12-07 00:00:00'): array([100,  88, 157], dtype=uint8), Timestamp('2024-12-08 00:00:00'): array([132, 167,  57], dtype=uint8), Timestamp('2024-12-09 00:00:00'): array([123, 175, 218], dtype=uint8), Timestamp('2024-12-10 00:00:00'): array([129, 221,  21], dtype=uint8), Timestamp('2024-12-11 00:00:00'): array([137, 186, 243], dtype=uint8), Timestamp('2024-12-12 00:00:00'): array([139, 206,  11], dtype=uint8), Timestamp('2024-12-13 00:00:00'): array([160, 160, 128], dtype=uint8), Timestamp('2024-12-14 00:00:00'): array([172, 139,  15], dtype=uint8), Timestamp('2024-12-15 00:00:00'): array([152, 186,  95], dtype=uint8), Timestamp('2024-12-16 00:00:00'): array([148, 179, 148], dtype=uint8), Timestamp('2024-12-17 00:00:00'): array([100,  20,   5], dtype=uint8), Timestamp('2024-12-18 00:00:00'): array([181,  58, 200], dtype=uint8), Timestamp('2024-12-19 00:00:00'): array([222,  37,  79], dtype=uint8), Timestamp('2024-12-20 00:00:00'): array([145, 176,  43], dtype=uint8), Timestamp('2024-12-21 00:00:00'): array([116, 130,  31], dtype=uint8), Timestamp('2024-12-22 00:00:00'): array([106, 204, 158], dtype=uint8), Timestamp('2024-12-23 00:00:00'): array([120,  69,  50], dtype=uint8), Timestamp('2024-12-24 00:00:00'): array([121, 116, 188], dtype=uint8), Timestamp('2024-12-25 00:00:00'): array([163, 169, 252], dtype=uint8), Timestamp('2024-12-26 00:00:00'): array([164, 139, 222], dtype=uint8), Timestamp('2024-12-27 00:00:00'): array([107, 150, 237], dtype=uint8), Timestamp('2024-12-28 00:00:00'): array([126,  26, 151], dtype=uint8), Timestamp('2024-12-29 00:00:00'): array([ 69, 178,  45], dtype=uint8), Timestamp('2024-12-30 00:00:00'): array([174,  14,  68], dtype=uint8)}\n",
      "-----------------\n",
      "\n"
     ]
    }
   ],
   "source": [
    "import datetime\n",
    "\n",
    "# Create dictionaries for each month\n",
    "canvas_dictionaries_by_month = {}\n",
    "start_year = list(canvas_dictionary.keys())[0].year\n",
    "end_year = list(canvas_dictionary.keys())[-1].year\n",
    "for year in range(start_year, end_year + 1):\n",
    "    for month in range(1, 13):\n",
    "        # Filter canvas_dictionary by month and year\n",
    "        filtered_dictionary = {key: value for key, value in canvas_dictionary.items() if key.month == month and key.year == year}\n",
    "        # Add filtered dictionary to canvas_dictionaries_by_month\n",
    "        month_name = datetime.date(1900, month, 1).strftime('%B')\n",
    "        canvas_dictionaries_by_month[f'canvas_dictionary_{month_name.lower()}_{year}'] = filtered_dictionary\n",
    "\n",
    "# Print the canvas dictionaries for each month and year\n",
    "for month, dictionary in canvas_dictionaries_by_month.items():\n",
    "    print(\"\\n-----------------\")\n",
    "    print(f'{month}: {dictionary}')\n",
    "    print(\"-----------------\\n\")\n"
   ]
  },
  {
   "cell_type": "code",
   "execution_count": 203,
   "metadata": {},
   "outputs": [
    {
     "name": "stdout",
     "output_type": "stream",
     "text": [
      "-----canvas_dictionary_january_2023-----\n"
     ]
    },
    {
     "data": {
      "image/png": "[encoded data removed]",
      "text/plain": [
       "<Figure size 640x480 with 1 Axes>"
      ]
     },
     "metadata": {},
     "output_type": "display_data"
    },
    {
     "name": "stdout",
     "output_type": "stream",
     "text": [
      "-----canvas_dictionary_february_2023-----\n"
     ]
    },
    {
     "data": {
      "image/png": "[encoded data removed]",
      "text/plain": [
       "<Figure size 640x480 with 1 Axes>"
      ]
     },
     "metadata": {},
     "output_type": "display_data"
    },
    {
     "name": "stdout",
     "output_type": "stream",
     "text": [
      "-----canvas_dictionary_march_2023-----\n"
     ]
    },
    {
     "data": {
      "image/png": "[encoded data removed]",
      "text/plain": [
       "<Figure size 640x480 with 1 Axes>"
      ]
     },
     "metadata": {},
     "output_type": "display_data"
    },
    {
     "name": "stdout",
     "output_type": "stream",
     "text": [
      "-----canvas_dictionary_april_2023-----\n"
     ]
    },
    {
     "data": {
      "image/png": "[encoded data removed]",
      "text/plain": [
       "<Figure size 640x480 with 1 Axes>"
      ]
     },
     "metadata": {},
     "output_type": "display_data"
    },
    {
     "name": "stdout",
     "output_type": "stream",
     "text": [
      "-----canvas_dictionary_may_2023-----\n"
     ]
    },
    {
     "data": {
      "image/png": "[encoded data removed]",
      "text/plain": [
       "<Figure size 640x480 with 1 Axes>"
      ]
     },
     "metadata": {},
     "output_type": "display_data"
    },
    {
     "name": "stdout",
     "output_type": "stream",
     "text": [
      "-----canvas_dictionary_june_2023-----\n"
     ]
    },
    {
     "data": {
      "image/png": "[encoded data removed]",
      "text/plain": [
       "<Figure size 640x480 with 1 Axes>"
      ]
     },
     "metadata": {},
     "output_type": "display_data"
    },
    {
     "name": "stdout",
     "output_type": "stream",
     "text": [
      "-----canvas_dictionary_july_2023-----\n"
     ]
    },
    {
     "data": {
      "image/png": "[encoded data removed]",
      "text/plain": [
       "<Figure size 640x480 with 1 Axes>"
      ]
     },
     "metadata": {},
     "output_type": "display_data"
    },
    {
     "name": "stdout",
     "output_type": "stream",
     "text": [
      "-----canvas_dictionary_august_2023-----\n"
     ]
    },
    {
     "data": {
      "image/png": "[encoded data removed]",
      "text/plain": [
       "<Figure size 640x480 with 1 Axes>"
      ]
     },
     "metadata": {},
     "output_type": "display_data"
    },
    {
     "name": "stdout",
     "output_type": "stream",
     "text": [
      "-----canvas_dictionary_september_2023-----\n"
     ]
    },
    {
     "data": {
      "image/png": "[encoded data removed]",
      "text/plain": [
       "<Figure size 640x480 with 1 Axes>"
      ]
     },
     "metadata": {},
     "output_type": "display_data"
    },
    {
     "name": "stdout",
     "output_type": "stream",
     "text": [
      "-----canvas_dictionary_october_2023-----\n"
     ]
    },
    {
     "data": {
      "image/png": "[encoded data removed]",
      "text/plain": [
       "<Figure size 640x480 with 1 Axes>"
      ]
     },
     "metadata": {},
     "output_type": "display_data"
    },
    {
     "name": "stdout",
     "output_type": "stream",
     "text": [
      "-----canvas_dictionary_november_2023-----\n"
     ]
    },
    {
     "data": {
      "image/png": "[encoded data removed]",
      "text/plain": [
       "<Figure size 640x480 with 1 Axes>"
      ]
     },
     "metadata": {},
     "output_type": "display_data"
    },
    {
     "name": "stdout",
     "output_type": "stream",
     "text": [
      "-----canvas_dictionary_december_2023-----\n"
     ]
    },
    {
     "data": {
      "image/png": "[encoded data removed]",
      "text/plain": [
       "<Figure size 640x480 with 1 Axes>"
      ]
     },
     "metadata": {},
     "output_type": "display_data"
    },
    {
     "name": "stdout",
     "output_type": "stream",
     "text": [
      "-----canvas_dictionary_january_2024-----\n"
     ]
    },
    {
     "data": {
      "image/png": "[encoded data removed]",
      "text/plain": [
       "<Figure size 640x480 with 1 Axes>"
      ]
     },
     "metadata": {},
     "output_type": "display_data"
    },
    {
     "name": "stdout",
     "output_type": "stream",
     "text": [
      "-----canvas_dictionary_february_2024-----\n"
     ]
    },
    {
     "data": {
      "image/png": "[encoded data removed]",
      "text/plain": [
       "<Figure size 640x480 with 1 Axes>"
      ]
     },
     "metadata": {},
     "output_type": "display_data"
    },
    {
     "name": "stdout",
     "output_type": "stream",
     "text": [
      "-----canvas_dictionary_march_2024-----\n"
     ]
    },
    {
     "data": {
      "image/png": "[encoded data removed]",
      "text/plain": [
       "<Figure size 640x480 with 1 Axes>"
      ]
     },
     "metadata": {},
     "output_type": "display_data"
    },
    {
     "name": "stdout",
     "output_type": "stream",
     "text": [
      "-----canvas_dictionary_april_2024-----\n"
     ]
    },
    {
     "data": {
      "image/png": "[encoded data removed]",
      "text/plain": [
       "<Figure size 640x480 with 1 Axes>"
      ]
     },
     "metadata": {},
     "output_type": "display_data"
    },
    {
     "name": "stdout",
     "output_type": "stream",
     "text": [
      "-----canvas_dictionary_may_2024-----\n"
     ]
    },
    {
     "data": {
      "image/png": "[encoded data removed]",
      "text/plain": [
       "<Figure size 640x480 with 1 Axes>"
      ]
     },
     "metadata": {},
     "output_type": "display_data"
    },
    {
     "name": "stdout",
     "output_type": "stream",
     "text": [
      "-----canvas_dictionary_june_2024-----\n"
     ]
    },
    {
     "data": {
      "image/png": "[encoded data removed]",
      "text/plain": [
       "<Figure size 640x480 with 1 Axes>"
      ]
     },
     "metadata": {},
     "output_type": "display_data"
    },
    {
     "name": "stdout",
     "output_type": "stream",
     "text": [
      "-----canvas_dictionary_july_2024-----\n"
     ]
    },
    {
     "data": {
      "image/png": "[encoded data removed]",
      "text/plain": [
       "<Figure size 640x480 with 1 Axes>"
      ]
     },
     "metadata": {},
     "output_type": "display_data"
    },
    {
     "name": "stdout",
     "output_type": "stream",
     "text": [
      "-----canvas_dictionary_august_2024-----\n"
     ]
    },
    {
     "data": {
      "image/png": "[encoded data removed]",
      "text/plain": [
       "<Figure size 640x480 with 1 Axes>"
      ]
     },
     "metadata": {},
     "output_type": "display_data"
    },
    {
     "name": "stdout",
     "output_type": "stream",
     "text": [
      "-----canvas_dictionary_september_2024-----\n"
     ]
    },
    {
     "data": {
      "image/png": "[encoded data removed]",
      "text/plain": [
       "<Figure size 640x480 with 1 Axes>"
      ]
     },
     "metadata": {},
     "output_type": "display_data"
    },
    {
     "name": "stdout",
     "output_type": "stream",
     "text": [
      "-----canvas_dictionary_october_2024-----\n"
     ]
    },
    {
     "data": {
      "image/png": "[encoded data removed]",
      "text/plain": [
       "<Figure size 640x480 with 1 Axes>"
      ]
     },
     "metadata": {},
     "output_type": "display_data"
    },
    {
     "name": "stdout",
     "output_type": "stream",
     "text": [
      "-----canvas_dictionary_november_2024-----\n"
     ]
    },
    {
     "data": {
      "image/png": "[encoded data removed]",
      "text/plain": [
       "<Figure size 640x480 with 1 Axes>"
      ]
     },
     "metadata": {},
     "output_type": "display_data"
    },
    {
     "name": "stdout",
     "output_type": "stream",
     "text": [
      "-----canvas_dictionary_december_2024-----\n"
     ]
    },
    {
     "data": {
      "image/png": "[encoded data removed]",
      "text/plain": [
       "<Figure size 640x480 with 1 Axes>"
      ]
     },
     "metadata": {},
     "output_type": "display_data"
    }
   ],
   "source": [
    "import os\n",
    "# Specify the directory to store the images\n",
    "directory = 'cnn_monthly_images/'\n",
    "\n",
    "# Create the directory if it doesn't exist\n",
    "if not os.path.exists(directory):\n",
    "    os.makedirs(directory)\n",
    "elif os.path.exists(directory):\n",
    "    # Get a list of all files in the directory\n",
    "    file_list = os.listdir(directory)\n",
    "    if len(file_list) > 0:\n",
    "        # Delete each file in the directory\n",
    "        for file_name in file_list:\n",
    "            file_path = os.path.join(directory, file_name)\n",
    "            if file_path.endswith('.png'):\n",
    "                os.remove(file_path)\n",
    "\n",
    "\n",
    "\n",
    "for month, dictionary in canvas_dictionaries_by_month.items():\n",
    "    canvas_dictionary_month = {key: value for key, value in dictionary.items()}\n",
    "    print(f\"-----{month}-----\")\n",
    "    plt.imshow(canvas_dictionary_month.values())\n",
    "    plt.axis('off')\n",
    "    plt.savefig(f'{directory}{month}.png')\n",
    "    plt.show()"
   ]
  },
  {
   "cell_type": "code",
   "execution_count": 207,
   "metadata": {},
   "outputs": [],
   "source": [
    "import os\n",
    "import numpy as np\n",
    "import torch\n",
    "from torch.utils.data import Dataset, DataLoader\n",
    "from torchvision import transforms\n",
    "from PIL import Image\n",
    "import torch.nn as nn\n",
    "import torch.optim as optim"
   ]
  },
  {
   "cell_type": "code",
   "execution_count": 1,
   "metadata": {},
   "outputs": [
    {
     "ename": "NameError",
     "evalue": "name 'Dataset' is not defined",
     "output_type": "error",
     "traceback": [
      "\u001b[1;31m---------------------------------------------------------------------------\u001b[0m",
      "\u001b[1;31mNameError\u001b[0m                                 Traceback (most recent call last)",
      "Cell \u001b[1;32mIn[1], line 5\u001b[0m\n\u001b[0;32m      2\u001b[0m image_directory \u001b[38;5;241m=\u001b[39m \u001b[38;5;124m'\u001b[39m\u001b[38;5;124mcnn_monthly_images/\u001b[39m\u001b[38;5;124m'\u001b[39m\n\u001b[0;32m      4\u001b[0m \u001b[38;5;66;03m# Define a custom dataset class\u001b[39;00m\n\u001b[1;32m----> 5\u001b[0m \u001b[38;5;28;01mclass\u001b[39;00m \u001b[38;5;21;01mImageDataset\u001b[39;00m(\u001b[43mDataset\u001b[49m):\n\u001b[0;32m      6\u001b[0m     \u001b[38;5;28;01mdef\u001b[39;00m \u001b[38;5;21m__init__\u001b[39m(\u001b[38;5;28mself\u001b[39m, image_files, transform\u001b[38;5;241m=\u001b[39m\u001b[38;5;28;01mNone\u001b[39;00m):\n\u001b[0;32m      7\u001b[0m         \u001b[38;5;28mself\u001b[39m\u001b[38;5;241m.\u001b[39mimage_files \u001b[38;5;241m=\u001b[39m image_files\n",
      "\u001b[1;31mNameError\u001b[0m: name 'Dataset' is not defined"
     ]
    }
   ],
   "source": [
    "\n",
    "# Set the directory path of your images\n",
    "image_directory = 'cnn_monthly_images/'\n",
    "\n",
    "# Define a custom dataset class\n",
    "class ImageDataset(Dataset):\n",
    "    def __init__(self, image_files, transform=None):\n",
    "        self.image_files = image_files\n",
    "        self.transform = transform\n",
    "\n",
    "    def __len__(self):\n",
    "        return len(self.image_files)\n",
    "\n",
    "    def __getitem__(self, idx):\n",
    "        image = Image.open(self.image_files[idx])\n",
    "        if self.transform:\n",
    "            image = self.transform(image)\n",
    "        return image\n",
    "\n",
    "# Define the transformation to apply to the images\n",
    "transform = transforms.Compose([\n",
    "    transforms.Resize((256, 256)),\n",
    "    transforms.ToTensor(),\n",
    "    transforms.Normalize(mean=[0.485, 0.456, 0.406], std=[0.229, 0.224, 0.225])\n",
    "])\n",
    "\n",
    "# Get a list of all image file names in the directory\n",
    "image_files = [os.path.join(image_directory, file) for file in os.listdir(image_directory) if file.endswith('.png')]\n",
    "\n",
    "# Create the image dataset\n",
    "dataset = ImageDataset(image_files, transform=transform)\n",
    "\n",
    "# Create the data loader\n",
    "dataloader = DataLoader(dataset, batch_size=32, shuffle=True)\n",
    "\n",
    "# Define the autoencoder model\n",
    "class Autoencoder(nn.Module):\n",
    "    def __init__(self):\n",
    "        super(Autoencoder, self).__init__()\n",
    "        self.encoder = nn.Sequential(\n",
    "            nn.Conv2d(3, 16, kernel_size=3, stride=1, padding=1),\n",
    "            nn.ReLU(),\n",
    "            nn.MaxPool2d(kernel_size=2, stride=2)\n",
    "        )\n",
    "        self.decoder = nn.Sequential(\n",
    "            nn.Conv2d(16, 3, kernel_size=3, stride=1, padding=1),\n",
    "            nn.Sigmoid(),\n",
    "            nn.Upsample(scale_factor=2, mode='nearest')\n",
    "        )\n",
    "\n",
    "    def forward(self, x):\n",
    "        x = self.encoder(x)\n",
    "        x = self.decoder(x)\n",
    "        return x\n",
    "\n",
    "# Create the autoencoder model\n",
    "autoencoder = Autoencoder()\n",
    "\n",
    "# Define the loss function and optimizer\n",
    "criterion = nn.MSELoss()\n",
    "optimizer = optim.Adam(autoencoder.parameters(), lr=0.001)\n",
    "\n",
    "# Train the autoencoder\n",
    "num_epochs = 10\n",
    "for epoch in range(num_epochs):\n",
    "    for images in dataloader:\n",
    "        optimizer.zero_grad()\n",
    "        reconstructions = autoencoder(images)\n",
    "        loss = criterion(reconstructions, images)\n",
    "        loss.backward()\n",
    "        optimizer.step()\n",
    "\n",
    "# Use the trained autoencoder to reconstruct the images\n",
    "reconstructed_images = []\n",
    "for images in dataloader:\n",
    "    reconstructions = autoencoder(images)\n",
    "    reconstructed_images.append(reconstructions.detach().numpy())\n",
    "reconstructed_images = np.concatenate(reconstructed_images)\n",
    "\n",
    "# Calculate the reconstruction error for each image\n",
    "reconstruction_errors = np.mean(np.square(dataset[:len(reconstructed_images)].numpy() - reconstructed_images), axis=(1, 2, 3))\n",
    "\n",
    "# Perform anomaly detection based on the reconstruction errors\n",
    "threshold = np.percentile(reconstruction_errors, 95)  # Adjust the threshold as needed\n",
    "anomalies = [image_files[i] for i, error in enumerate(reconstruction_errors) if error > threshold]\n",
    "\n",
    "# Print the detected anomalies\n",
    "print(\"Detected anomalies:\")\n",
    "for anomaly in anomalies:\n",
    "    print(anomaly)"
   ]
  },
  {
   "cell_type": "code",
   "execution_count": null,
   "metadata": {},
   "outputs": [],
   "source": []
  }
 ],
 "metadata": {
  "kernelspec": {
   "display_name": "Python 3",
   "language": "python",
   "name": "python3"
  },
  "language_info": {
   "codemirror_mode": {
    "name": "ipython",
    "version": 3
   },
   "file_extension": ".py",
   "mimetype": "text/x-python",
   "name": "python",
   "nbconvert_exporter": "python",
   "pygments_lexer": "ipython3",
   "version": "3.11.8"
  }
 },
 "nbformat": 4,
 "nbformat_minor": 2
}
