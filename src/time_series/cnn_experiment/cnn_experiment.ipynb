{
 "cells": [
  {
   "cell_type": "markdown",
   "metadata": {},
   "source": [
    "# CNN Experiments in time series"
   ]
  },
  {
   "cell_type": "code",
   "execution_count": 1,
   "metadata": {},
   "outputs": [],
   "source": [
    "import numpy\n",
    "import pandas\n",
    "import matplotlib.pyplot as plt"
   ]
  },
  {
   "cell_type": "code",
   "execution_count": 2,
   "metadata": {},
   "outputs": [],
   "source": [
    "class GARCHTimeSeriesDataGenerator:\n",
    "    \"\"\"\n",
    "    A class for generating time series data using the GARCH process.\n",
    "\n",
    "    Parameters:\n",
    "    - start_date (str): The start date of the time series.\n",
    "    - years (int): The number of years to simulate. Default is 1.\n",
    "    - mu (float): The mean of the GARCH process. Default is 0.\n",
    "    - omega (float): The constant term in the GARCH process. Default is 0.1.\n",
    "    - alpha (list): The list of alpha coefficients in the GARCH process. Default is [0.5].\n",
    "    - beta (list): The list of beta coefficients in the GARCH process. Default is [0.5].\n",
    "    \"\"\"\n",
    "\n",
    "    def __init__(self, start_date, years=1, mu=0, omega=0.1, alpha=[0.5], beta=[0.5]):\n",
    "        self.start_date = pandas.to_datetime(start_date)\n",
    "        self.years = years\n",
    "        self.mu = mu\n",
    "        self.omega = omega\n",
    "        self.alpha = alpha\n",
    "        self.beta = beta\n",
    "\n",
    "    def simulate(self, n) -> pandas.Series:\n",
    "        \"\"\"\n",
    "        Simulates a GARCH process and returns a pandas Series of simulated returns.\n",
    "\n",
    "            Parameters:\n",
    "            - n (int): The number of periods to simulate.\n",
    "\n",
    "            Returns:\n",
    "            - simulated_series (pandas.Series): A pandas Series of simulated returns.\n",
    "        \"\"\"\n",
    "        # Calculate the total number of periods\n",
    "        total_periods = n * self.years\n",
    "\n",
    "        # Initialize arrays\n",
    "        errors = numpy.random.normal(size=total_periods)\n",
    "        sigmas = numpy.zeros_like(errors)\n",
    "        returns = numpy.zeros_like(errors)\n",
    "\n",
    "        # Simulate GARCH process\n",
    "        for t in range(1, total_periods):\n",
    "            sigmas[t] = numpy.sqrt(\n",
    "                self.omega + self.alpha[0] * errors[t-1]**2 + self.beta[0] * sigmas[t-1]**2)\n",
    "            returns[t] = self.mu + sigmas[t] * errors[t]\n",
    "\n",
    "        # Create date range\n",
    "        dates = pandas.date_range(self.start_date, periods=total_periods)\n",
    "\n",
    "        # Create pandas Series\n",
    "        simulated_series = pandas.Series(returns, index=dates)\n",
    "\n",
    "        return simulated_series\n"
   ]
  },
  {
   "cell_type": "markdown",
   "metadata": {},
   "source": [
    "### First Experiment\n",
    "\n",
    "This first experiment uses a CNN for unsupervised anomaly detection, by mapping a value to a canvas of pixels.\n",
    "\n"
   ]
  },
  {
   "cell_type": "code",
   "execution_count": 3,
   "metadata": {},
   "outputs": [],
   "source": [
    "# Create a GARCH time series data generator\n",
    "generator = GARCHTimeSeriesDataGenerator(start_date=\"2023-01-01\")\n",
    "\n",
    "# Simulate days of data (assuming daily data)\n",
    "data = generator.simulate(1825)\n",
    "\n",
    "# Normalize data to a range of 0 to 16777215\n",
    "normalized_data = (data - data.min()) / (data.max() - data.min()) * 16777215"
   ]
  },
  {
   "cell_type": "code",
   "execution_count": 7,
   "metadata": {},
   "outputs": [],
   "source": [
    "import json\n",
    "# Create a canvas with 365 pixels\n",
    "canvas = numpy.zeros((normalized_data.size, 3), dtype=numpy.uint8)\n",
    "dates = []\n",
    "\n",
    "# Iterate through each pixel and set the color based on normalized data\n",
    "for i in range(normalized_data.size):\n",
    "  # Extract the normalized value for the current day\n",
    "  value = normalized_data.iloc[i]\n",
    "  date = normalized_data.index[i]\n",
    "  # Convert the value to RGB components\n",
    "  red = (int(value) & 0x00FF0000) >> 16\n",
    "  green = (int(value) & 0x0000FF00) >> 8\n",
    "  blue = int(value) & 0x000000FF\n",
    "\n",
    "  # Set the pixel's RGB values\n",
    "  canvas[i] = [red, green, blue]\n",
    "  dates.append(date)\n",
    "\n",
    "canvas_dictionary = {dates[i]: canvas[i] for i in range(len(dates))}\n",
    "\n",
    "def save_source_data():\n",
    "    # Specify the file path to save the JSON file\n",
    "    file_path = 'sourceData\\canvas_dictionary.json'\n",
    "    # Convert the canvas array to a list\n",
    "    canvas_list = canvas.tolist()\n",
    "    canvas_dictionary = {\n",
    "        str(date): canvas_list[i] for i, date in enumerate(dates)}\n",
    "    # Open the file in write mode\n",
    "    with open(file_path, 'w') as file:\n",
    "        # Write the dictionary to the JSON file\n",
    "        json.dump(canvas_dictionary, file)\n",
    "\n",
    "# Call the function to save the canvas_dictionary to a JSON file\n",
    "save_source_data()\n",
    "    "
   ]
  },
  {
   "cell_type": "code",
   "execution_count": 11,
   "metadata": {},
   "outputs": [
    {
     "data": {
      "text/plain": [
       "(-0.5, 2.5, 1824.5, -0.5)"
      ]
     },
     "execution_count": 11,
     "metadata": {},
     "output_type": "execute_result"
    },
    {
     "data": {
      "image/png": "[encoded data removed]",
      "text/plain": [
       "<Figure size 640x480 with 1 Axes>"
      ]
     },
     "metadata": {},
     "output_type": "display_data"
    }
   ],
   "source": [
    "plt.imshow(canvas_dictionary.values())\n",
    "plt.axis('off')"
   ]
  },
  {
   "cell_type": "code",
   "execution_count": 12,
   "metadata": {},
   "outputs": [
    {
     "name": "stdout",
     "output_type": "stream",
     "text": [
      "\n",
      "-----------------\n",
      "canvas_dictionary_january_2023: {Timestamp('2023-01-01 00:00:00'): array([109, 170,   5], dtype=uint8), Timestamp('2023-01-02 00:00:00'): array([106, 147, 170], dtype=uint8), Timestamp('2023-01-03 00:00:00'): array([ 99, 188, 203], dtype=uint8), Timestamp('2023-01-04 00:00:00'): array([120, 224, 179], dtype=uint8), Timestamp('2023-01-05 00:00:00'): array([136,  41, 222], dtype=uint8), Timestamp('2023-01-06 00:00:00'): array([ 84,  51, 117], dtype=uint8), Timestamp('2023-01-07 00:00:00'): array([144, 169,  83], dtype=uint8), Timestamp('2023-01-08 00:00:00'): array([127, 117, 221], dtype=uint8), Timestamp('2023-01-09 00:00:00'): array([134, 218,  32], dtype=uint8), Timestamp('2023-01-10 00:00:00'): array([ 83, 195, 195], dtype=uint8), Timestamp('2023-01-11 00:00:00'): array([121, 208,  92], dtype=uint8), Timestamp('2023-01-12 00:00:00'): array([84, 45, 33], dtype=uint8), Timestamp('2023-01-13 00:00:00'): array([76, 33, 52], dtype=uint8), Timestamp('2023-01-14 00:00:00'): array([ 89,  77, 254], dtype=uint8), Timestamp('2023-01-15 00:00:00'): array([ 96, 229, 173], dtype=uint8), Timestamp('2023-01-16 00:00:00'): array([134,  11,  16], dtype=uint8), Timestamp('2023-01-17 00:00:00'): array([ 95,  42, 205], dtype=uint8), Timestamp('2023-01-18 00:00:00'): array([110, 212,  55], dtype=uint8), Timestamp('2023-01-19 00:00:00'): array([108,  29, 186], dtype=uint8), Timestamp('2023-01-20 00:00:00'): array([104, 198, 240], dtype=uint8), Timestamp('2023-01-21 00:00:00'): array([114,  60, 186], dtype=uint8), Timestamp('2023-01-22 00:00:00'): array([106, 162, 211], dtype=uint8), Timestamp('2023-01-23 00:00:00'): array([ 96, 209,  53], dtype=uint8), Timestamp('2023-01-24 00:00:00'): array([123, 114, 180], dtype=uint8), Timestamp('2023-01-25 00:00:00'): array([132, 244,  36], dtype=uint8), Timestamp('2023-01-26 00:00:00'): array([116, 220, 195], dtype=uint8), Timestamp('2023-01-27 00:00:00'): array([111, 157, 235], dtype=uint8), Timestamp('2023-01-28 00:00:00'): array([112,  66, 121], dtype=uint8), Timestamp('2023-01-29 00:00:00'): array([ 88, 198, 129], dtype=uint8), Timestamp('2023-01-30 00:00:00'): array([ 84, 192, 118], dtype=uint8), Timestamp('2023-01-31 00:00:00'): array([ 98,  34, 108], dtype=uint8)}\n",
      "-----------------\n",
      "\n",
      "\n",
      "-----------------\n",
      "canvas_dictionary_february_2023: {Timestamp('2023-02-01 00:00:00'): array([ 95, 222,  91], dtype=uint8), Timestamp('2023-02-02 00:00:00'): array([107, 189, 217], dtype=uint8), Timestamp('2023-02-03 00:00:00'): array([148, 186,  85], dtype=uint8), Timestamp('2023-02-04 00:00:00'): array([ 41, 187, 199], dtype=uint8), Timestamp('2023-02-05 00:00:00'): array([ 92, 104,  24], dtype=uint8), Timestamp('2023-02-06 00:00:00'): array([129, 113,  73], dtype=uint8), Timestamp('2023-02-07 00:00:00'): array([118,  25, 146], dtype=uint8), Timestamp('2023-02-08 00:00:00'): array([ 93, 237, 229], dtype=uint8), Timestamp('2023-02-09 00:00:00'): array([123, 110, 184], dtype=uint8), Timestamp('2023-02-10 00:00:00'): array([114,  73, 165], dtype=uint8), Timestamp('2023-02-11 00:00:00'): array([160, 223,  86], dtype=uint8), Timestamp('2023-02-12 00:00:00'): array([157,  42, 204], dtype=uint8), Timestamp('2023-02-13 00:00:00'): array([0, 0, 0], dtype=uint8), Timestamp('2023-02-14 00:00:00'): array([ 25,  46, 119], dtype=uint8), Timestamp('2023-02-15 00:00:00'): array([ 40, 180, 223], dtype=uint8), Timestamp('2023-02-16 00:00:00'): array([ 64, 226,  27], dtype=uint8), Timestamp('2023-02-17 00:00:00'): array([ 87, 208,  34], dtype=uint8), Timestamp('2023-02-18 00:00:00'): array([103, 158, 143], dtype=uint8), Timestamp('2023-02-19 00:00:00'): array([ 93, 151, 227], dtype=uint8), Timestamp('2023-02-20 00:00:00'): array([110, 171, 236], dtype=uint8), Timestamp('2023-02-21 00:00:00'): array([128, 158,  60], dtype=uint8), Timestamp('2023-02-22 00:00:00'): array([ 77, 151, 220], dtype=uint8), Timestamp('2023-02-23 00:00:00'): array([150, 194, 240], dtype=uint8), Timestamp('2023-02-24 00:00:00'): array([122,  71,  17], dtype=uint8), Timestamp('2023-02-25 00:00:00'): array([114, 233, 204], dtype=uint8), Timestamp('2023-02-26 00:00:00'): array([107, 178, 219], dtype=uint8), Timestamp('2023-02-27 00:00:00'): array([106,  10, 245], dtype=uint8), Timestamp('2023-02-28 00:00:00'): array([112, 128, 207], dtype=uint8)}\n",
      "-----------------\n",
      "\n",
      "\n",
      "-----------------\n",
      "canvas_dictionary_march_2023: {Timestamp('2023-03-01 00:00:00'): array([106,  86,  73], dtype=uint8), Timestamp('2023-03-02 00:00:00'): array([105, 177, 123], dtype=uint8), Timestamp('2023-03-03 00:00:00'): array([108, 169,  35], dtype=uint8), Timestamp('2023-03-04 00:00:00'): array([119,  23,  55], dtype=uint8), Timestamp('2023-03-05 00:00:00'): array([ 84, 243,  65], dtype=uint8), Timestamp('2023-03-06 00:00:00'): array([102, 139, 171], dtype=uint8), Timestamp('2023-03-07 00:00:00'): array([110, 215, 192], dtype=uint8), Timestamp('2023-03-08 00:00:00'): array([113, 251, 182], dtype=uint8), Timestamp('2023-03-09 00:00:00'): array([132, 222,  52], dtype=uint8), Timestamp('2023-03-10 00:00:00'): array([102, 153,  40], dtype=uint8), Timestamp('2023-03-11 00:00:00'): array([116, 185, 149], dtype=uint8), Timestamp('2023-03-12 00:00:00'): array([103, 236,  28], dtype=uint8), Timestamp('2023-03-13 00:00:00'): array([104, 214, 137], dtype=uint8), Timestamp('2023-03-14 00:00:00'): array([101, 156,  44], dtype=uint8), Timestamp('2023-03-15 00:00:00'): array([131,  67,  46], dtype=uint8), Timestamp('2023-03-16 00:00:00'): array([ 96, 114, 250], dtype=uint8), Timestamp('2023-03-17 00:00:00'): array([149,  35,  83], dtype=uint8), Timestamp('2023-03-18 00:00:00'): array([151, 197,  93], dtype=uint8), Timestamp('2023-03-19 00:00:00'): array([ 76, 255, 232], dtype=uint8), Timestamp('2023-03-20 00:00:00'): array([ 88, 135,  12], dtype=uint8), Timestamp('2023-03-21 00:00:00'): array([ 97, 152,  80], dtype=uint8), Timestamp('2023-03-22 00:00:00'): array([ 95,  75, 219], dtype=uint8), Timestamp('2023-03-23 00:00:00'): array([115, 254,  21], dtype=uint8), Timestamp('2023-03-24 00:00:00'): array([120, 200, 180], dtype=uint8), Timestamp('2023-03-25 00:00:00'): array([ 85,  90, 201], dtype=uint8), Timestamp('2023-03-26 00:00:00'): array([169, 123,  31], dtype=uint8), Timestamp('2023-03-27 00:00:00'): array([98, 81, 35], dtype=uint8), Timestamp('2023-03-28 00:00:00'): array([ 46,  40, 206], dtype=uint8), Timestamp('2023-03-29 00:00:00'): array([156, 203,  28], dtype=uint8), Timestamp('2023-03-30 00:00:00'): array([128,  41,  18], dtype=uint8), Timestamp('2023-03-31 00:00:00'): array([168,  38, 229], dtype=uint8)}\n",
      "-----------------\n",
      "\n",
      "\n",
      "-----------------\n",
      "canvas_dictionary_april_2023: {Timestamp('2023-04-01 00:00:00'): array([ 50, 214,  54], dtype=uint8), Timestamp('2023-04-02 00:00:00'): array([154, 152,   8], dtype=uint8), Timestamp('2023-04-03 00:00:00'): array([92, 28, 99], dtype=uint8), Timestamp('2023-04-04 00:00:00'): array([ 74,  50, 115], dtype=uint8), Timestamp('2023-04-05 00:00:00'): array([126, 120, 217], dtype=uint8), Timestamp('2023-04-06 00:00:00'): array([102, 176,  75], dtype=uint8), Timestamp('2023-04-07 00:00:00'): array([138, 220,  40], dtype=uint8), Timestamp('2023-04-08 00:00:00'): array([133,   0,  29], dtype=uint8), Timestamp('2023-04-09 00:00:00'): array([122, 133, 208], dtype=uint8), Timestamp('2023-04-10 00:00:00'): array([ 91, 210, 127], dtype=uint8), Timestamp('2023-04-11 00:00:00'): array([115, 214, 174], dtype=uint8), Timestamp('2023-04-12 00:00:00'): array([131, 235, 215], dtype=uint8), Timestamp('2023-04-13 00:00:00'): array([ 77, 150,  37], dtype=uint8), Timestamp('2023-04-14 00:00:00'): array([161, 210, 190], dtype=uint8), Timestamp('2023-04-15 00:00:00'): array([ 95, 152, 121], dtype=uint8), Timestamp('2023-04-16 00:00:00'): array([ 97,  95, 253], dtype=uint8), Timestamp('2023-04-17 00:00:00'): array([ 91, 231, 249], dtype=uint8), Timestamp('2023-04-18 00:00:00'): array([131, 104, 121], dtype=uint8), Timestamp('2023-04-19 00:00:00'): array([ 82, 102, 208], dtype=uint8), Timestamp('2023-04-20 00:00:00'): array([120,  36,  51], dtype=uint8), Timestamp('2023-04-21 00:00:00'): array([130, 210,  20], dtype=uint8), Timestamp('2023-04-22 00:00:00'): array([106, 146,  46], dtype=uint8), Timestamp('2023-04-23 00:00:00'): array([103,  38,  57], dtype=uint8), Timestamp('2023-04-24 00:00:00'): array([106, 209,  46], dtype=uint8), Timestamp('2023-04-25 00:00:00'): array([ 86,  63, 118], dtype=uint8), Timestamp('2023-04-26 00:00:00'): array([ 89,  79, 248], dtype=uint8), Timestamp('2023-04-27 00:00:00'): array([ 94,  88, 177], dtype=uint8), Timestamp('2023-04-28 00:00:00'): array([106,  27, 134], dtype=uint8), Timestamp('2023-04-29 00:00:00'): array([129, 110, 250], dtype=uint8), Timestamp('2023-04-30 00:00:00'): array([101, 118, 206], dtype=uint8)}\n",
      "-----------------\n",
      "\n",
      "\n",
      "-----------------\n",
      "canvas_dictionary_may_2023: {Timestamp('2023-05-01 00:00:00'): array([125,  81, 235], dtype=uint8), Timestamp('2023-05-02 00:00:00'): array([112,  22, 190], dtype=uint8), Timestamp('2023-05-03 00:00:00'): array([ 98, 172, 154], dtype=uint8), Timestamp('2023-05-04 00:00:00'): array([143,  87, 161], dtype=uint8), Timestamp('2023-05-05 00:00:00'): array([102, 206, 135], dtype=uint8), Timestamp('2023-05-06 00:00:00'): array([127, 190, 128], dtype=uint8), Timestamp('2023-05-07 00:00:00'): array([ 98, 135, 241], dtype=uint8), Timestamp('2023-05-08 00:00:00'): array([134,  99, 126], dtype=uint8), Timestamp('2023-05-09 00:00:00'): array([ 90, 129, 137], dtype=uint8), Timestamp('2023-05-10 00:00:00'): array([ 90,  53, 125], dtype=uint8), Timestamp('2023-05-11 00:00:00'): array([125, 132, 213], dtype=uint8), Timestamp('2023-05-12 00:00:00'): array([106,  51,  46], dtype=uint8), Timestamp('2023-05-13 00:00:00'): array([137, 180, 207], dtype=uint8), Timestamp('2023-05-14 00:00:00'): array([114,  43, 253], dtype=uint8), Timestamp('2023-05-15 00:00:00'): array([100, 114,   6], dtype=uint8), Timestamp('2023-05-16 00:00:00'): array([84,  4, 75], dtype=uint8), Timestamp('2023-05-17 00:00:00'): array([124,  66, 244], dtype=uint8), Timestamp('2023-05-18 00:00:00'): array([118,  71,  15], dtype=uint8), Timestamp('2023-05-19 00:00:00'): array([103, 198,   5], dtype=uint8), Timestamp('2023-05-20 00:00:00'): array([ 99, 192, 129], dtype=uint8), Timestamp('2023-05-21 00:00:00'): array([117, 165,  57], dtype=uint8), Timestamp('2023-05-22 00:00:00'): array([138,  65, 184], dtype=uint8), Timestamp('2023-05-23 00:00:00'): array([122, 219, 166], dtype=uint8), Timestamp('2023-05-24 00:00:00'): array([111,  78, 218], dtype=uint8), Timestamp('2023-05-25 00:00:00'): array([111, 186,  44], dtype=uint8), Timestamp('2023-05-26 00:00:00'): array([ 89, 246,   8], dtype=uint8), Timestamp('2023-05-27 00:00:00'): array([141, 145,  55], dtype=uint8), Timestamp('2023-05-28 00:00:00'): array([112, 145, 226], dtype=uint8), Timestamp('2023-05-29 00:00:00'): array([143,  98, 178], dtype=uint8), Timestamp('2023-05-30 00:00:00'): array([165,  80, 112], dtype=uint8), Timestamp('2023-05-31 00:00:00'): array([146, 112, 158], dtype=uint8)}\n",
      "-----------------\n",
      "\n",
      "\n",
      "-----------------\n",
      "canvas_dictionary_june_2023: {Timestamp('2023-06-01 00:00:00'): array([155, 254, 135], dtype=uint8), Timestamp('2023-06-02 00:00:00'): array([135, 131, 246], dtype=uint8), Timestamp('2023-06-03 00:00:00'): array([121, 137, 237], dtype=uint8), Timestamp('2023-06-04 00:00:00'): array([ 98, 203, 197], dtype=uint8), Timestamp('2023-06-05 00:00:00'): array([101, 212,  25], dtype=uint8), Timestamp('2023-06-06 00:00:00'): array([115, 147, 153], dtype=uint8), Timestamp('2023-06-07 00:00:00'): array([105,  30, 165], dtype=uint8), Timestamp('2023-06-08 00:00:00'): array([ 89,   6, 242], dtype=uint8), Timestamp('2023-06-09 00:00:00'): array([153, 126,  18], dtype=uint8), Timestamp('2023-06-10 00:00:00'): array([132,   4,  86], dtype=uint8), Timestamp('2023-06-11 00:00:00'): array([ 97,  63, 126], dtype=uint8), Timestamp('2023-06-12 00:00:00'): array([ 75, 110, 177], dtype=uint8), Timestamp('2023-06-13 00:00:00'): array([129,  68,  21], dtype=uint8), Timestamp('2023-06-14 00:00:00'): array([105, 203,  34], dtype=uint8), Timestamp('2023-06-15 00:00:00'): array([106,   0,   4], dtype=uint8), Timestamp('2023-06-16 00:00:00'): array([ 92, 139, 135], dtype=uint8), Timestamp('2023-06-17 00:00:00'): array([ 90,  83, 174], dtype=uint8), Timestamp('2023-06-18 00:00:00'): array([140,  43, 251], dtype=uint8), Timestamp('2023-06-19 00:00:00'): array([109, 228, 160], dtype=uint8), Timestamp('2023-06-20 00:00:00'): array([124,  91,  27], dtype=uint8), Timestamp('2023-06-21 00:00:00'): array([145, 104, 190], dtype=uint8), Timestamp('2023-06-22 00:00:00'): array([121,  60,  71], dtype=uint8), Timestamp('2023-06-23 00:00:00'): array([108,  86,  90], dtype=uint8), Timestamp('2023-06-24 00:00:00'): array([ 93,  50, 231], dtype=uint8), Timestamp('2023-06-25 00:00:00'): array([126, 182, 166], dtype=uint8), Timestamp('2023-06-26 00:00:00'): array([102,  97, 106], dtype=uint8), Timestamp('2023-06-27 00:00:00'): array([106, 155,  36], dtype=uint8), Timestamp('2023-06-28 00:00:00'): array([112, 120, 177], dtype=uint8), Timestamp('2023-06-29 00:00:00'): array([105, 219,  26], dtype=uint8), Timestamp('2023-06-30 00:00:00'): array([ 99,  76, 199], dtype=uint8)}\n",
      "-----------------\n",
      "\n",
      "\n",
      "-----------------\n",
      "canvas_dictionary_july_2023: {Timestamp('2023-07-01 00:00:00'): array([112, 247, 224], dtype=uint8), Timestamp('2023-07-02 00:00:00'): array([ 90,  13, 101], dtype=uint8), Timestamp('2023-07-03 00:00:00'): array([ 83,  60, 176], dtype=uint8), Timestamp('2023-07-04 00:00:00'): array([124,  60, 176], dtype=uint8), Timestamp('2023-07-05 00:00:00'): array([169, 255, 107], dtype=uint8), Timestamp('2023-07-06 00:00:00'): array([63,  1, 83], dtype=uint8), Timestamp('2023-07-07 00:00:00'): array([168, 210,  25], dtype=uint8), Timestamp('2023-07-08 00:00:00'): array([116, 131, 144], dtype=uint8), Timestamp('2023-07-09 00:00:00'): array([ 77,  14, 223], dtype=uint8), Timestamp('2023-07-10 00:00:00'): array([153,  96,  57], dtype=uint8), Timestamp('2023-07-11 00:00:00'): array([ 68, 255, 116], dtype=uint8), Timestamp('2023-07-12 00:00:00'): array([140, 204,  59], dtype=uint8), Timestamp('2023-07-13 00:00:00'): array([ 72, 252, 178], dtype=uint8), Timestamp('2023-07-14 00:00:00'): array([98, 66, 99], dtype=uint8), Timestamp('2023-07-15 00:00:00'): array([119,  85,  17], dtype=uint8), Timestamp('2023-07-16 00:00:00'): array([102, 135,  76], dtype=uint8), Timestamp('2023-07-17 00:00:00'): array([110,  30,  61], dtype=uint8), Timestamp('2023-07-18 00:00:00'): array([114, 210,  56], dtype=uint8), Timestamp('2023-07-19 00:00:00'): array([ 89, 126, 210], dtype=uint8), Timestamp('2023-07-20 00:00:00'): array([122, 143, 104], dtype=uint8), Timestamp('2023-07-21 00:00:00'): array([103, 241, 152], dtype=uint8), Timestamp('2023-07-22 00:00:00'): array([102,   0,  79], dtype=uint8), Timestamp('2023-07-23 00:00:00'): array([101, 211, 223], dtype=uint8), Timestamp('2023-07-24 00:00:00'): array([116, 189, 195], dtype=uint8), Timestamp('2023-07-25 00:00:00'): array([ 89, 204, 229], dtype=uint8), Timestamp('2023-07-26 00:00:00'): array([113,  33,  18], dtype=uint8), Timestamp('2023-07-27 00:00:00'): array([141, 130, 191], dtype=uint8), Timestamp('2023-07-28 00:00:00'): array([ 82, 109, 195], dtype=uint8), Timestamp('2023-07-29 00:00:00'): array([ 93, 119,  18], dtype=uint8), Timestamp('2023-07-30 00:00:00'): array([ 86, 141,   6], dtype=uint8), Timestamp('2023-07-31 00:00:00'): array([ 92, 111, 199], dtype=uint8)}\n",
      "-----------------\n",
      "\n",
      "\n",
      "-----------------\n",
      "canvas_dictionary_august_2023: {Timestamp('2023-08-01 00:00:00'): array([ 91, 254, 103], dtype=uint8), Timestamp('2023-08-02 00:00:00'): array([ 82, 193,  27], dtype=uint8), Timestamp('2023-08-03 00:00:00'): array([129, 152,  76], dtype=uint8), Timestamp('2023-08-04 00:00:00'): array([124, 117, 166], dtype=uint8), Timestamp('2023-08-05 00:00:00'): array([113, 104, 186], dtype=uint8), Timestamp('2023-08-06 00:00:00'): array([ 90,  51, 151], dtype=uint8), Timestamp('2023-08-07 00:00:00'): array([106, 147, 174], dtype=uint8), Timestamp('2023-08-08 00:00:00'): array([ 94, 235, 232], dtype=uint8), Timestamp('2023-08-09 00:00:00'): array([163,  57,  49], dtype=uint8), Timestamp('2023-08-10 00:00:00'): array([178, 142,  76], dtype=uint8), Timestamp('2023-08-11 00:00:00'): array([ 99,  50, 181], dtype=uint8), Timestamp('2023-08-12 00:00:00'): array([102,  11,  40], dtype=uint8), Timestamp('2023-08-13 00:00:00'): array([ 95,  85, 190], dtype=uint8), Timestamp('2023-08-14 00:00:00'): array([107, 252,  21], dtype=uint8), Timestamp('2023-08-15 00:00:00'): array([103,  26, 236], dtype=uint8), Timestamp('2023-08-16 00:00:00'): array([103,  73,   9], dtype=uint8), Timestamp('2023-08-17 00:00:00'): array([ 68,  93, 142], dtype=uint8), Timestamp('2023-08-18 00:00:00'): array([139, 228, 237], dtype=uint8), Timestamp('2023-08-19 00:00:00'): array([ 85, 186, 150], dtype=uint8), Timestamp('2023-08-20 00:00:00'): array([ 90, 123,  22], dtype=uint8), Timestamp('2023-08-21 00:00:00'): array([88, 69,  6], dtype=uint8), Timestamp('2023-08-22 00:00:00'): array([127,  94,  39], dtype=uint8), Timestamp('2023-08-23 00:00:00'): array([111, 176, 135], dtype=uint8), Timestamp('2023-08-24 00:00:00'): array([ 90,  90, 246], dtype=uint8), Timestamp('2023-08-25 00:00:00'): array([111,  23,  93], dtype=uint8), Timestamp('2023-08-26 00:00:00'): array([100, 160, 177], dtype=uint8), Timestamp('2023-08-27 00:00:00'): array([130, 196,  55], dtype=uint8), Timestamp('2023-08-28 00:00:00'): array([91,  5, 57], dtype=uint8), Timestamp('2023-08-29 00:00:00'): array([132, 132, 132], dtype=uint8), Timestamp('2023-08-30 00:00:00'): array([102, 119,  69], dtype=uint8), Timestamp('2023-08-31 00:00:00'): array([131,  98, 135], dtype=uint8)}\n",
      "-----------------\n",
      "\n",
      "\n",
      "-----------------\n",
      "canvas_dictionary_september_2023: {Timestamp('2023-09-01 00:00:00'): array([141,  80, 181], dtype=uint8), Timestamp('2023-09-02 00:00:00'): array([116, 137,  91], dtype=uint8), Timestamp('2023-09-03 00:00:00'): array([107,  38, 231], dtype=uint8), Timestamp('2023-09-04 00:00:00'): array([146,  79, 173], dtype=uint8), Timestamp('2023-09-05 00:00:00'): array([ 79, 218,  51], dtype=uint8), Timestamp('2023-09-06 00:00:00'): array([ 87, 176,  98], dtype=uint8), Timestamp('2023-09-07 00:00:00'): array([ 80, 218, 131], dtype=uint8), Timestamp('2023-09-08 00:00:00'): array([130,  87, 207], dtype=uint8), Timestamp('2023-09-09 00:00:00'): array([121, 142, 172], dtype=uint8), Timestamp('2023-09-10 00:00:00'): array([126, 227,  55], dtype=uint8), Timestamp('2023-09-11 00:00:00'): array([115,  41,   5], dtype=uint8), Timestamp('2023-09-12 00:00:00'): array([120,   5, 202], dtype=uint8), Timestamp('2023-09-13 00:00:00'): array([109,  98, 220], dtype=uint8), Timestamp('2023-09-14 00:00:00'): array([131, 136,  65], dtype=uint8), Timestamp('2023-09-15 00:00:00'): array([ 71,  77, 116], dtype=uint8), Timestamp('2023-09-16 00:00:00'): array([100, 160,  26], dtype=uint8), Timestamp('2023-09-17 00:00:00'): array([90, 33, 77], dtype=uint8), Timestamp('2023-09-18 00:00:00'): array([128, 251, 240], dtype=uint8), Timestamp('2023-09-19 00:00:00'): array([132,  21,  95], dtype=uint8), Timestamp('2023-09-20 00:00:00'): array([127,  10,  32], dtype=uint8), Timestamp('2023-09-21 00:00:00'): array([105,  77, 187], dtype=uint8), Timestamp('2023-09-22 00:00:00'): array([ 82,  75, 233], dtype=uint8), Timestamp('2023-09-23 00:00:00'): array([142,  47, 237], dtype=uint8), Timestamp('2023-09-24 00:00:00'): array([ 77, 201, 227], dtype=uint8), Timestamp('2023-09-25 00:00:00'): array([ 84,  20, 112], dtype=uint8), Timestamp('2023-09-26 00:00:00'): array([116,  34,  92], dtype=uint8), Timestamp('2023-09-27 00:00:00'): array([101,  96, 100], dtype=uint8), Timestamp('2023-09-28 00:00:00'): array([101,  72,  68], dtype=uint8), Timestamp('2023-09-29 00:00:00'): array([142,   6, 130], dtype=uint8), Timestamp('2023-09-30 00:00:00'): array([129,  51,  44], dtype=uint8)}\n",
      "-----------------\n",
      "\n",
      "\n",
      "-----------------\n",
      "canvas_dictionary_october_2023: {Timestamp('2023-10-01 00:00:00'): array([113, 237,  70], dtype=uint8), Timestamp('2023-10-02 00:00:00'): array([121, 168, 239], dtype=uint8), Timestamp('2023-10-03 00:00:00'): array([128, 161,  98], dtype=uint8), Timestamp('2023-10-04 00:00:00'): array([ 43,  42, 252], dtype=uint8), Timestamp('2023-10-05 00:00:00'): array([138,  12, 115], dtype=uint8), Timestamp('2023-10-06 00:00:00'): array([ 74, 175, 182], dtype=uint8), Timestamp('2023-10-07 00:00:00'): array([136, 127,  44], dtype=uint8), Timestamp('2023-10-08 00:00:00'): array([112, 154,  37], dtype=uint8), Timestamp('2023-10-09 00:00:00'): array([120,  97, 146], dtype=uint8), Timestamp('2023-10-10 00:00:00'): array([121,   8, 146], dtype=uint8), Timestamp('2023-10-11 00:00:00'): array([100,  12,  81], dtype=uint8), Timestamp('2023-10-12 00:00:00'): array([102, 156, 137], dtype=uint8), Timestamp('2023-10-13 00:00:00'): array([119, 154,  76], dtype=uint8), Timestamp('2023-10-14 00:00:00'): array([128, 117, 247], dtype=uint8), Timestamp('2023-10-15 00:00:00'): array([ 99, 139,  38], dtype=uint8), Timestamp('2023-10-16 00:00:00'): array([122, 230, 114], dtype=uint8), Timestamp('2023-10-17 00:00:00'): array([ 70, 232, 232], dtype=uint8), Timestamp('2023-10-18 00:00:00'): array([96,  1, 19], dtype=uint8), Timestamp('2023-10-19 00:00:00'): array([111, 242,  87], dtype=uint8), Timestamp('2023-10-20 00:00:00'): array([ 87, 247,  31], dtype=uint8), Timestamp('2023-10-21 00:00:00'): array([ 97,  67, 197], dtype=uint8), Timestamp('2023-10-22 00:00:00'): array([115, 180, 187], dtype=uint8), Timestamp('2023-10-23 00:00:00'): array([ 99, 200, 246], dtype=uint8), Timestamp('2023-10-24 00:00:00'): array([138, 107, 181], dtype=uint8), Timestamp('2023-10-25 00:00:00'): array([133,  16, 118], dtype=uint8), Timestamp('2023-10-26 00:00:00'): array([ 94,  47, 177], dtype=uint8), Timestamp('2023-10-27 00:00:00'): array([108, 231, 152], dtype=uint8), Timestamp('2023-10-28 00:00:00'): array([103, 107, 171], dtype=uint8), Timestamp('2023-10-29 00:00:00'): array([109, 164, 147], dtype=uint8), Timestamp('2023-10-30 00:00:00'): array([118,  29, 235], dtype=uint8), Timestamp('2023-10-31 00:00:00'): array([122,  85, 254], dtype=uint8)}\n",
      "-----------------\n",
      "\n",
      "\n",
      "-----------------\n",
      "canvas_dictionary_november_2023: {Timestamp('2023-11-01 00:00:00'): array([ 85, 171,  61], dtype=uint8), Timestamp('2023-11-02 00:00:00'): array([132,   9,  71], dtype=uint8), Timestamp('2023-11-03 00:00:00'): array([ 69, 184,  70], dtype=uint8), Timestamp('2023-11-04 00:00:00'): array([130, 133,  85], dtype=uint8), Timestamp('2023-11-05 00:00:00'): array([ 92, 192,  13], dtype=uint8), Timestamp('2023-11-06 00:00:00'): array([ 93,  95, 208], dtype=uint8), Timestamp('2023-11-07 00:00:00'): array([ 95, 147,  53], dtype=uint8), Timestamp('2023-11-08 00:00:00'): array([ 96, 179,  91], dtype=uint8), Timestamp('2023-11-09 00:00:00'): array([122, 192, 128], dtype=uint8), Timestamp('2023-11-10 00:00:00'): array([135,   1, 232], dtype=uint8), Timestamp('2023-11-11 00:00:00'): array([103,   4, 218], dtype=uint8), Timestamp('2023-11-12 00:00:00'): array([125, 255,  31], dtype=uint8), Timestamp('2023-11-13 00:00:00'): array([125, 162,  13], dtype=uint8), Timestamp('2023-11-14 00:00:00'): array([107,  28, 188], dtype=uint8), Timestamp('2023-11-15 00:00:00'): array([ 95, 133, 170], dtype=uint8), Timestamp('2023-11-16 00:00:00'): array([108, 185, 242], dtype=uint8), Timestamp('2023-11-17 00:00:00'): array([114,  45, 242], dtype=uint8), Timestamp('2023-11-18 00:00:00'): array([ 86,  58, 212], dtype=uint8), Timestamp('2023-11-19 00:00:00'): array([ 90, 105,  95], dtype=uint8), Timestamp('2023-11-20 00:00:00'): array([116,  66,  48], dtype=uint8), Timestamp('2023-11-21 00:00:00'): array([103, 127, 235], dtype=uint8), Timestamp('2023-11-22 00:00:00'): array([103, 240,  11], dtype=uint8), Timestamp('2023-11-23 00:00:00'): array([ 98, 160,  51], dtype=uint8), Timestamp('2023-11-24 00:00:00'): array([119, 186,   2], dtype=uint8), Timestamp('2023-11-25 00:00:00'): array([94, 68, 44], dtype=uint8), Timestamp('2023-11-26 00:00:00'): array([109, 246,  93], dtype=uint8), Timestamp('2023-11-27 00:00:00'): array([118, 144, 254], dtype=uint8), Timestamp('2023-11-28 00:00:00'): array([134, 235,  89], dtype=uint8), Timestamp('2023-11-29 00:00:00'): array([102,  53, 181], dtype=uint8), Timestamp('2023-11-30 00:00:00'): array([109,   2, 116], dtype=uint8)}\n",
      "-----------------\n",
      "\n",
      "\n",
      "-----------------\n",
      "canvas_dictionary_december_2023: {Timestamp('2023-12-01 00:00:00'): array([102, 134,  69], dtype=uint8), Timestamp('2023-12-02 00:00:00'): array([ 91, 190,  40], dtype=uint8), Timestamp('2023-12-03 00:00:00'): array([113, 239, 119], dtype=uint8), Timestamp('2023-12-04 00:00:00'): array([124, 175, 105], dtype=uint8), Timestamp('2023-12-05 00:00:00'): array([100, 214, 226], dtype=uint8), Timestamp('2023-12-06 00:00:00'): array([102, 241, 253], dtype=uint8), Timestamp('2023-12-07 00:00:00'): array([111, 135,  94], dtype=uint8), Timestamp('2023-12-08 00:00:00'): array([129, 243,  76], dtype=uint8), Timestamp('2023-12-09 00:00:00'): array([118,  64, 248], dtype=uint8), Timestamp('2023-12-10 00:00:00'): array([ 75, 159, 232], dtype=uint8), Timestamp('2023-12-11 00:00:00'): array([130, 152, 138], dtype=uint8), Timestamp('2023-12-12 00:00:00'): array([116, 252,  67], dtype=uint8), Timestamp('2023-12-13 00:00:00'): array([103,  67, 174], dtype=uint8), Timestamp('2023-12-14 00:00:00'): array([ 88, 203, 118], dtype=uint8), Timestamp('2023-12-15 00:00:00'): array([99,  6, 84], dtype=uint8), Timestamp('2023-12-16 00:00:00'): array([112,  13,  75], dtype=uint8), Timestamp('2023-12-17 00:00:00'): array([103,  44, 188], dtype=uint8), Timestamp('2023-12-18 00:00:00'): array([124, 106,  75], dtype=uint8), Timestamp('2023-12-19 00:00:00'): array([104, 125, 208], dtype=uint8), Timestamp('2023-12-20 00:00:00'): array([120,  85, 151], dtype=uint8), Timestamp('2023-12-21 00:00:00'): array([ 96,  37, 103], dtype=uint8), Timestamp('2023-12-22 00:00:00'): array([ 94, 199,   1], dtype=uint8), Timestamp('2023-12-23 00:00:00'): array([103, 101, 191], dtype=uint8), Timestamp('2023-12-24 00:00:00'): array([86, 31, 41], dtype=uint8), Timestamp('2023-12-25 00:00:00'): array([149, 175,  90], dtype=uint8), Timestamp('2023-12-26 00:00:00'): array([119,  75, 221], dtype=uint8), Timestamp('2023-12-27 00:00:00'): array([163, 122, 163], dtype=uint8), Timestamp('2023-12-28 00:00:00'): array([170, 183,  22], dtype=uint8), Timestamp('2023-12-29 00:00:00'): array([111,  24, 145], dtype=uint8), Timestamp('2023-12-30 00:00:00'): array([36, 92, 59], dtype=uint8), Timestamp('2023-12-31 00:00:00'): array([122, 112,  29], dtype=uint8)}\n",
      "-----------------\n",
      "\n",
      "\n",
      "-----------------\n",
      "canvas_dictionary_january_2024: {Timestamp('2024-01-01 00:00:00'): array([149, 216, 239], dtype=uint8), Timestamp('2024-01-02 00:00:00'): array([119, 221, 202], dtype=uint8), Timestamp('2024-01-03 00:00:00'): array([150,  88, 164], dtype=uint8), Timestamp('2024-01-04 00:00:00'): array([131,  60,  63], dtype=uint8), Timestamp('2024-01-05 00:00:00'): array([ 58,   4, 247], dtype=uint8), Timestamp('2024-01-06 00:00:00'): array([109, 238, 101], dtype=uint8), Timestamp('2024-01-07 00:00:00'): array([151,  96, 114], dtype=uint8), Timestamp('2024-01-08 00:00:00'): array([96, 84, 77], dtype=uint8), Timestamp('2024-01-09 00:00:00'): array([104, 224, 116], dtype=uint8), Timestamp('2024-01-10 00:00:00'): array([ 80, 203, 199], dtype=uint8), Timestamp('2024-01-11 00:00:00'): array([ 98, 174, 240], dtype=uint8), Timestamp('2024-01-12 00:00:00'): array([116, 229, 100], dtype=uint8), Timestamp('2024-01-13 00:00:00'): array([110,  85, 214], dtype=uint8), Timestamp('2024-01-14 00:00:00'): array([141,  67, 122], dtype=uint8), Timestamp('2024-01-15 00:00:00'): array([101,  16, 249], dtype=uint8), Timestamp('2024-01-16 00:00:00'): array([110,  67, 211], dtype=uint8), Timestamp('2024-01-17 00:00:00'): array([145, 158,  88], dtype=uint8), Timestamp('2024-01-18 00:00:00'): array([118,  77, 123], dtype=uint8), Timestamp('2024-01-19 00:00:00'): array([130,  43,  71], dtype=uint8), Timestamp('2024-01-20 00:00:00'): array([ 86,  45, 218], dtype=uint8), Timestamp('2024-01-21 00:00:00'): array([ 75, 160, 114], dtype=uint8), Timestamp('2024-01-22 00:00:00'): array([ 83, 244, 146], dtype=uint8), Timestamp('2024-01-23 00:00:00'): array([145,  77, 127], dtype=uint8), Timestamp('2024-01-24 00:00:00'): array([102, 113,  46], dtype=uint8), Timestamp('2024-01-25 00:00:00'): array([ 62, 194, 115], dtype=uint8), Timestamp('2024-01-26 00:00:00'): array([199,  65, 184], dtype=uint8), Timestamp('2024-01-27 00:00:00'): array([155,  13, 109], dtype=uint8), Timestamp('2024-01-28 00:00:00'): array([ 85,  33, 154], dtype=uint8), Timestamp('2024-01-29 00:00:00'): array([141, 247, 204], dtype=uint8), Timestamp('2024-01-30 00:00:00'): array([ 86, 212,  62], dtype=uint8), Timestamp('2024-01-31 00:00:00'): array([125,  89, 145], dtype=uint8)}\n",
      "-----------------\n",
      "\n",
      "\n",
      "-----------------\n",
      "canvas_dictionary_february_2024: {Timestamp('2024-02-01 00:00:00'): array([108, 171, 230], dtype=uint8), Timestamp('2024-02-02 00:00:00'): array([109, 103, 110], dtype=uint8), Timestamp('2024-02-03 00:00:00'): array([122,  95, 189], dtype=uint8), Timestamp('2024-02-04 00:00:00'): array([142,  15, 252], dtype=uint8), Timestamp('2024-02-05 00:00:00'): array([92, 71, 56], dtype=uint8), Timestamp('2024-02-06 00:00:00'): array([123, 216,  26], dtype=uint8), Timestamp('2024-02-07 00:00:00'): array([125, 247, 160], dtype=uint8), Timestamp('2024-02-08 00:00:00'): array([113,  16, 115], dtype=uint8), Timestamp('2024-02-09 00:00:00'): array([105,  43, 106], dtype=uint8), Timestamp('2024-02-10 00:00:00'): array([116, 155, 194], dtype=uint8), Timestamp('2024-02-11 00:00:00'): array([109, 183, 238], dtype=uint8), Timestamp('2024-02-12 00:00:00'): array([ 91,  42, 165], dtype=uint8), Timestamp('2024-02-13 00:00:00'): array([81, 33,  9], dtype=uint8), Timestamp('2024-02-14 00:00:00'): array([112,  43,  54], dtype=uint8), Timestamp('2024-02-15 00:00:00'): array([115, 126,  65], dtype=uint8), Timestamp('2024-02-16 00:00:00'): array([101, 133, 152], dtype=uint8), Timestamp('2024-02-17 00:00:00'): array([128, 240,  98], dtype=uint8), Timestamp('2024-02-18 00:00:00'): array([ 87,  26, 134], dtype=uint8), Timestamp('2024-02-19 00:00:00'): array([160,  69, 210], dtype=uint8), Timestamp('2024-02-20 00:00:00'): array([116, 170, 176], dtype=uint8), Timestamp('2024-02-21 00:00:00'): array([126,  88, 202], dtype=uint8), Timestamp('2024-02-22 00:00:00'): array([ 59,  16, 235], dtype=uint8), Timestamp('2024-02-23 00:00:00'): array([116, 179,  65], dtype=uint8), Timestamp('2024-02-24 00:00:00'): array([120,  94,  18], dtype=uint8), Timestamp('2024-02-25 00:00:00'): array([179,  20,  43], dtype=uint8), Timestamp('2024-02-26 00:00:00'): array([ 40, 161, 158], dtype=uint8), Timestamp('2024-02-27 00:00:00'): array([141, 211, 172], dtype=uint8), Timestamp('2024-02-28 00:00:00'): array([ 92, 232, 150], dtype=uint8), Timestamp('2024-02-29 00:00:00'): array([101, 148,  11], dtype=uint8)}\n",
      "-----------------\n",
      "\n",
      "\n",
      "-----------------\n",
      "canvas_dictionary_march_2024: {Timestamp('2024-03-01 00:00:00'): array([126,  62, 158], dtype=uint8), Timestamp('2024-03-02 00:00:00'): array([ 65, 130, 152], dtype=uint8), Timestamp('2024-03-03 00:00:00'): array([132, 105, 210], dtype=uint8), Timestamp('2024-03-04 00:00:00'): array([130, 196,  36], dtype=uint8), Timestamp('2024-03-05 00:00:00'): array([124,  45, 139], dtype=uint8), Timestamp('2024-03-06 00:00:00'): array([101,  47, 128], dtype=uint8), Timestamp('2024-03-07 00:00:00'): array([157, 163, 250], dtype=uint8), Timestamp('2024-03-08 00:00:00'): array([113,  85, 233], dtype=uint8), Timestamp('2024-03-09 00:00:00'): array([113, 234, 199], dtype=uint8), Timestamp('2024-03-10 00:00:00'): array([104,  17, 197], dtype=uint8), Timestamp('2024-03-11 00:00:00'): array([ 99, 248,   8], dtype=uint8), Timestamp('2024-03-12 00:00:00'): array([126,  60,  95], dtype=uint8), Timestamp('2024-03-13 00:00:00'): array([103,  67,  75], dtype=uint8), Timestamp('2024-03-14 00:00:00'): array([101,  60,  52], dtype=uint8), Timestamp('2024-03-15 00:00:00'): array([79, 82, 32], dtype=uint8), Timestamp('2024-03-16 00:00:00'): array([114,  35, 112], dtype=uint8), Timestamp('2024-03-17 00:00:00'): array([118, 175, 121], dtype=uint8), Timestamp('2024-03-18 00:00:00'): array([130, 187,  28], dtype=uint8), Timestamp('2024-03-19 00:00:00'): array([ 77, 179, 233], dtype=uint8), Timestamp('2024-03-20 00:00:00'): array([134,  46, 220], dtype=uint8), Timestamp('2024-03-21 00:00:00'): array([155, 236,  99], dtype=uint8), Timestamp('2024-03-22 00:00:00'): array([127,  92, 170], dtype=uint8), Timestamp('2024-03-23 00:00:00'): array([118,  41, 251], dtype=uint8), Timestamp('2024-03-24 00:00:00'): array([117, 247,  34], dtype=uint8), Timestamp('2024-03-25 00:00:00'): array([ 93,  71, 150], dtype=uint8), Timestamp('2024-03-26 00:00:00'): array([125,  32, 103], dtype=uint8), Timestamp('2024-03-27 00:00:00'): array([144,  99, 165], dtype=uint8), Timestamp('2024-03-28 00:00:00'): array([142, 119, 191], dtype=uint8), Timestamp('2024-03-29 00:00:00'): array([ 47, 123, 255], dtype=uint8), Timestamp('2024-03-30 00:00:00'): array([148, 253, 136], dtype=uint8), Timestamp('2024-03-31 00:00:00'): array([ 80,  41, 206], dtype=uint8)}\n",
      "-----------------\n",
      "\n",
      "\n",
      "-----------------\n",
      "canvas_dictionary_april_2024: {Timestamp('2024-04-01 00:00:00'): array([126,  69,  46], dtype=uint8), Timestamp('2024-04-02 00:00:00'): array([122, 124, 147], dtype=uint8), Timestamp('2024-04-03 00:00:00'): array([ 70,  91, 192], dtype=uint8), Timestamp('2024-04-04 00:00:00'): array([118,  53, 198], dtype=uint8), Timestamp('2024-04-05 00:00:00'): array([122, 170, 158], dtype=uint8), Timestamp('2024-04-06 00:00:00'): array([136, 234, 155], dtype=uint8), Timestamp('2024-04-07 00:00:00'): array([124,  79,   9], dtype=uint8), Timestamp('2024-04-08 00:00:00'): array([ 65, 120, 217], dtype=uint8), Timestamp('2024-04-09 00:00:00'): array([113,  25, 102], dtype=uint8), Timestamp('2024-04-10 00:00:00'): array([129, 222, 205], dtype=uint8), Timestamp('2024-04-11 00:00:00'): array([ 87,   5, 232], dtype=uint8), Timestamp('2024-04-12 00:00:00'): array([113, 209, 231], dtype=uint8), Timestamp('2024-04-13 00:00:00'): array([129,  30,   2], dtype=uint8), Timestamp('2024-04-14 00:00:00'): array([112, 147, 141], dtype=uint8), Timestamp('2024-04-15 00:00:00'): array([107,  35, 143], dtype=uint8), Timestamp('2024-04-16 00:00:00'): array([128,  90, 108], dtype=uint8), Timestamp('2024-04-17 00:00:00'): array([124, 100, 140], dtype=uint8), Timestamp('2024-04-18 00:00:00'): array([ 82, 233, 255], dtype=uint8), Timestamp('2024-04-19 00:00:00'): array([130,  83,  56], dtype=uint8), Timestamp('2024-04-20 00:00:00'): array([ 82,  42, 152], dtype=uint8), Timestamp('2024-04-21 00:00:00'): array([107, 157,   4], dtype=uint8), Timestamp('2024-04-22 00:00:00'): array([114, 199,  56], dtype=uint8), Timestamp('2024-04-23 00:00:00'): array([103,  86, 206], dtype=uint8), Timestamp('2024-04-24 00:00:00'): array([101, 164, 184], dtype=uint8), Timestamp('2024-04-25 00:00:00'): array([ 92, 166,   6], dtype=uint8), Timestamp('2024-04-26 00:00:00'): array([92, 54, 44], dtype=uint8), Timestamp('2024-04-27 00:00:00'): array([ 50, 243,  22], dtype=uint8), Timestamp('2024-04-28 00:00:00'): array([150, 128, 220], dtype=uint8), Timestamp('2024-04-29 00:00:00'): array([126,  86,  21], dtype=uint8), Timestamp('2024-04-30 00:00:00'): array([172, 188, 184], dtype=uint8)}\n",
      "-----------------\n",
      "\n",
      "\n",
      "-----------------\n",
      "canvas_dictionary_may_2024: {Timestamp('2024-05-01 00:00:00'): array([106,  62,  37], dtype=uint8), Timestamp('2024-05-02 00:00:00'): array([113, 241,  49], dtype=uint8), Timestamp('2024-05-03 00:00:00'): array([134,   1, 239], dtype=uint8), Timestamp('2024-05-04 00:00:00'): array([110, 105, 142], dtype=uint8), Timestamp('2024-05-05 00:00:00'): array([133, 214,  75], dtype=uint8), Timestamp('2024-05-06 00:00:00'): array([140, 133,  33], dtype=uint8), Timestamp('2024-05-07 00:00:00'): array([ 95, 189, 107], dtype=uint8), Timestamp('2024-05-08 00:00:00'): array([144, 133,  99], dtype=uint8), Timestamp('2024-05-09 00:00:00'): array([ 96,  98, 208], dtype=uint8), Timestamp('2024-05-10 00:00:00'): array([121,  95,  68], dtype=uint8), Timestamp('2024-05-11 00:00:00'): array([ 94, 201, 195], dtype=uint8), Timestamp('2024-05-12 00:00:00'): array([92, 31, 52], dtype=uint8), Timestamp('2024-05-13 00:00:00'): array([ 81, 206,  72], dtype=uint8), Timestamp('2024-05-14 00:00:00'): array([ 63,  90, 186], dtype=uint8), Timestamp('2024-05-15 00:00:00'): array([ 69,  67, 139], dtype=uint8), Timestamp('2024-05-16 00:00:00'): array([174, 185, 210], dtype=uint8), Timestamp('2024-05-17 00:00:00'): array([ 98, 142, 129], dtype=uint8), Timestamp('2024-05-18 00:00:00'): array([101,  53,   0], dtype=uint8), Timestamp('2024-05-19 00:00:00'): array([112, 195,  25], dtype=uint8), Timestamp('2024-05-20 00:00:00'): array([101, 137,  42], dtype=uint8), Timestamp('2024-05-21 00:00:00'): array([97, 58, 19], dtype=uint8), Timestamp('2024-05-22 00:00:00'): array([103, 237,  55], dtype=uint8), Timestamp('2024-05-23 00:00:00'): array([ 88, 198, 110], dtype=uint8), Timestamp('2024-05-24 00:00:00'): array([117,  50, 198], dtype=uint8), Timestamp('2024-05-25 00:00:00'): array([ 97, 160, 233], dtype=uint8), Timestamp('2024-05-26 00:00:00'): array([109, 180, 204], dtype=uint8), Timestamp('2024-05-27 00:00:00'): array([107, 138,   5], dtype=uint8), Timestamp('2024-05-28 00:00:00'): array([115, 255,  86], dtype=uint8), Timestamp('2024-05-29 00:00:00'): array([100, 103, 239], dtype=uint8), Timestamp('2024-05-30 00:00:00'): array([ 92, 103,  11], dtype=uint8), Timestamp('2024-05-31 00:00:00'): array([112, 139, 108], dtype=uint8)}\n",
      "-----------------\n",
      "\n",
      "\n",
      "-----------------\n",
      "canvas_dictionary_june_2024: {Timestamp('2024-06-01 00:00:00'): array([125,  91, 174], dtype=uint8), Timestamp('2024-06-02 00:00:00'): array([114, 189,  25], dtype=uint8), Timestamp('2024-06-03 00:00:00'): array([113,  79, 205], dtype=uint8), Timestamp('2024-06-04 00:00:00'): array([100, 198,  17], dtype=uint8), Timestamp('2024-06-05 00:00:00'): array([117, 156,  83], dtype=uint8), Timestamp('2024-06-06 00:00:00'): array([105,  88, 219], dtype=uint8), Timestamp('2024-06-07 00:00:00'): array([121, 247,  41], dtype=uint8), Timestamp('2024-06-08 00:00:00'): array([ 79,  33, 138], dtype=uint8), Timestamp('2024-06-09 00:00:00'): array([ 44, 138,  59], dtype=uint8), Timestamp('2024-06-10 00:00:00'): array([146,  27,  52], dtype=uint8), Timestamp('2024-06-11 00:00:00'): array([ 73, 213, 224], dtype=uint8), Timestamp('2024-06-12 00:00:00'): array([ 91, 111,   8], dtype=uint8), Timestamp('2024-06-13 00:00:00'): array([103,  72, 218], dtype=uint8), Timestamp('2024-06-14 00:00:00'): array([108, 165,  25], dtype=uint8), Timestamp('2024-06-15 00:00:00'): array([107, 218,  14], dtype=uint8), Timestamp('2024-06-16 00:00:00'): array([121,  68, 221], dtype=uint8), Timestamp('2024-06-17 00:00:00'): array([106,  27,  35], dtype=uint8), Timestamp('2024-06-18 00:00:00'): array([ 95, 180, 221], dtype=uint8), Timestamp('2024-06-19 00:00:00'): array([ 73, 181, 133], dtype=uint8), Timestamp('2024-06-20 00:00:00'): array([ 83,  95, 193], dtype=uint8), Timestamp('2024-06-21 00:00:00'): array([162, 202, 121], dtype=uint8), Timestamp('2024-06-22 00:00:00'): array([177,  47,  82], dtype=uint8), Timestamp('2024-06-23 00:00:00'): array([172, 235,  61], dtype=uint8), Timestamp('2024-06-24 00:00:00'): array([70, 16, 31], dtype=uint8), Timestamp('2024-06-25 00:00:00'): array([79,  0, 18], dtype=uint8), Timestamp('2024-06-26 00:00:00'): array([142, 243, 115], dtype=uint8), Timestamp('2024-06-27 00:00:00'): array([ 89, 110, 227], dtype=uint8), Timestamp('2024-06-28 00:00:00'): array([147, 214, 165], dtype=uint8), Timestamp('2024-06-29 00:00:00'): array([126, 218,  11], dtype=uint8), Timestamp('2024-06-30 00:00:00'): array([115,  52, 132], dtype=uint8)}\n",
      "-----------------\n",
      "\n",
      "\n",
      "-----------------\n",
      "canvas_dictionary_july_2024: {Timestamp('2024-07-01 00:00:00'): array([102, 120, 115], dtype=uint8), Timestamp('2024-07-02 00:00:00'): array([ 86, 223, 237], dtype=uint8), Timestamp('2024-07-03 00:00:00'): array([117,  63, 192], dtype=uint8), Timestamp('2024-07-04 00:00:00'): array([143,  42, 186], dtype=uint8), Timestamp('2024-07-05 00:00:00'): array([117,  36,  66], dtype=uint8), Timestamp('2024-07-06 00:00:00'): array([ 89,  97, 193], dtype=uint8), Timestamp('2024-07-07 00:00:00'): array([106, 224, 173], dtype=uint8), Timestamp('2024-07-08 00:00:00'): array([108, 179, 246], dtype=uint8), Timestamp('2024-07-09 00:00:00'): array([113, 165, 138], dtype=uint8), Timestamp('2024-07-10 00:00:00'): array([102, 154, 204], dtype=uint8), Timestamp('2024-07-11 00:00:00'): array([146,  11, 102], dtype=uint8), Timestamp('2024-07-12 00:00:00'): array([ 30, 137, 150], dtype=uint8), Timestamp('2024-07-13 00:00:00'): array([ 80,  31, 109], dtype=uint8), Timestamp('2024-07-14 00:00:00'): array([ 76, 156,  66], dtype=uint8), Timestamp('2024-07-15 00:00:00'): array([109, 136,  35], dtype=uint8), Timestamp('2024-07-16 00:00:00'): array([90, 16, 95], dtype=uint8), Timestamp('2024-07-17 00:00:00'): array([122,  91, 141], dtype=uint8), Timestamp('2024-07-18 00:00:00'): array([132, 100,  66], dtype=uint8), Timestamp('2024-07-19 00:00:00'): array([109, 203, 156], dtype=uint8), Timestamp('2024-07-20 00:00:00'): array([133,  46, 124], dtype=uint8), Timestamp('2024-07-21 00:00:00'): array([ 76, 105, 172], dtype=uint8), Timestamp('2024-07-22 00:00:00'): array([143, 185,  61], dtype=uint8), Timestamp('2024-07-23 00:00:00'): array([115, 183, 100], dtype=uint8), Timestamp('2024-07-24 00:00:00'): array([107, 144, 237], dtype=uint8), Timestamp('2024-07-25 00:00:00'): array([103, 170,  25], dtype=uint8), Timestamp('2024-07-26 00:00:00'): array([129, 213,  15], dtype=uint8), Timestamp('2024-07-27 00:00:00'): array([170,  92,  42], dtype=uint8), Timestamp('2024-07-28 00:00:00'): array([106, 212, 155], dtype=uint8), Timestamp('2024-07-29 00:00:00'): array([131,  36, 226], dtype=uint8), Timestamp('2024-07-30 00:00:00'): array([ 74, 171, 182], dtype=uint8), Timestamp('2024-07-31 00:00:00'): array([138, 130, 189], dtype=uint8)}\n",
      "-----------------\n",
      "\n",
      "\n",
      "-----------------\n",
      "canvas_dictionary_august_2024: {Timestamp('2024-08-01 00:00:00'): array([106, 249, 254], dtype=uint8), Timestamp('2024-08-02 00:00:00'): array([ 89,   3, 238], dtype=uint8), Timestamp('2024-08-03 00:00:00'): array([74, 84, 47], dtype=uint8), Timestamp('2024-08-04 00:00:00'): array([175, 167, 225], dtype=uint8), Timestamp('2024-08-05 00:00:00'): array([50, 97, 97], dtype=uint8), Timestamp('2024-08-06 00:00:00'): array([ 73, 111, 218], dtype=uint8), Timestamp('2024-08-07 00:00:00'): array([ 58, 252, 102], dtype=uint8), Timestamp('2024-08-08 00:00:00'): array([ 79, 236,  27], dtype=uint8), Timestamp('2024-08-09 00:00:00'): array([ 99, 220, 195], dtype=uint8), Timestamp('2024-08-10 00:00:00'): array([127,  71, 204], dtype=uint8), Timestamp('2024-08-11 00:00:00'): array([105,  83, 177], dtype=uint8), Timestamp('2024-08-12 00:00:00'): array([106, 243, 175], dtype=uint8), Timestamp('2024-08-13 00:00:00'): array([128, 128, 253], dtype=uint8), Timestamp('2024-08-14 00:00:00'): array([145, 188,  67], dtype=uint8), Timestamp('2024-08-15 00:00:00'): array([73,  6,  5], dtype=uint8), Timestamp('2024-08-16 00:00:00'): array([124,  53,  76], dtype=uint8), Timestamp('2024-08-17 00:00:00'): array([123,  46, 194], dtype=uint8), Timestamp('2024-08-18 00:00:00'): array([117,   8, 197], dtype=uint8), Timestamp('2024-08-19 00:00:00'): array([114, 193,  40], dtype=uint8), Timestamp('2024-08-20 00:00:00'): array([105,  30,   3], dtype=uint8), Timestamp('2024-08-21 00:00:00'): array([116, 215,  53], dtype=uint8), Timestamp('2024-08-22 00:00:00'): array([ 92, 147,  43], dtype=uint8), Timestamp('2024-08-23 00:00:00'): array([107,  90, 168], dtype=uint8), Timestamp('2024-08-24 00:00:00'): array([113, 161,  51], dtype=uint8), Timestamp('2024-08-25 00:00:00'): array([102,  54,  12], dtype=uint8), Timestamp('2024-08-26 00:00:00'): array([ 79, 142, 228], dtype=uint8), Timestamp('2024-08-27 00:00:00'): array([173,  40, 157], dtype=uint8), Timestamp('2024-08-28 00:00:00'): array([109,  65,  83], dtype=uint8), Timestamp('2024-08-29 00:00:00'): array([ 99, 172, 230], dtype=uint8), Timestamp('2024-08-30 00:00:00'): array([114, 158, 229], dtype=uint8), Timestamp('2024-08-31 00:00:00'): array([ 98, 155,  61], dtype=uint8)}\n",
      "-----------------\n",
      "\n",
      "\n",
      "-----------------\n",
      "canvas_dictionary_september_2024: {Timestamp('2024-09-01 00:00:00'): array([132, 230,  71], dtype=uint8), Timestamp('2024-09-02 00:00:00'): array([ 91, 126,  14], dtype=uint8), Timestamp('2024-09-03 00:00:00'): array([110, 135, 169], dtype=uint8), Timestamp('2024-09-04 00:00:00'): array([124,  44,  27], dtype=uint8), Timestamp('2024-09-05 00:00:00'): array([113, 240, 206], dtype=uint8), Timestamp('2024-09-06 00:00:00'): array([ 90, 221, 189], dtype=uint8), Timestamp('2024-09-07 00:00:00'): array([139,  69,  35], dtype=uint8), Timestamp('2024-09-08 00:00:00'): array([ 81,  29, 222], dtype=uint8), Timestamp('2024-09-09 00:00:00'): array([140, 105,  59], dtype=uint8), Timestamp('2024-09-10 00:00:00'): array([ 61, 167, 129], dtype=uint8), Timestamp('2024-09-11 00:00:00'): array([123,  11, 129], dtype=uint8), Timestamp('2024-09-12 00:00:00'): array([87, 99, 16], dtype=uint8), Timestamp('2024-09-13 00:00:00'): array([130,  90, 187], dtype=uint8), Timestamp('2024-09-14 00:00:00'): array([103,  42, 136], dtype=uint8), Timestamp('2024-09-15 00:00:00'): array([106, 150,  90], dtype=uint8), Timestamp('2024-09-16 00:00:00'): array([123, 102, 191], dtype=uint8), Timestamp('2024-09-17 00:00:00'): array([ 85, 223,  45], dtype=uint8), Timestamp('2024-09-18 00:00:00'): array([ 89, 130, 122], dtype=uint8), Timestamp('2024-09-19 00:00:00'): array([124, 255,  87], dtype=uint8), Timestamp('2024-09-20 00:00:00'): array([116,   5, 214], dtype=uint8), Timestamp('2024-09-21 00:00:00'): array([125, 215, 106], dtype=uint8), Timestamp('2024-09-22 00:00:00'): array([130, 224, 227], dtype=uint8), Timestamp('2024-09-23 00:00:00'): array([104, 172, 208], dtype=uint8), Timestamp('2024-09-24 00:00:00'): array([105, 250,  18], dtype=uint8), Timestamp('2024-09-25 00:00:00'): array([ 89, 129, 175], dtype=uint8), Timestamp('2024-09-26 00:00:00'): array([147, 196, 143], dtype=uint8), Timestamp('2024-09-27 00:00:00'): array([125,  68, 109], dtype=uint8), Timestamp('2024-09-28 00:00:00'): array([ 86, 204, 134], dtype=uint8), Timestamp('2024-09-29 00:00:00'): array([121,  48, 190], dtype=uint8), Timestamp('2024-09-30 00:00:00'): array([112,  30, 185], dtype=uint8)}\n",
      "-----------------\n",
      "\n",
      "\n",
      "-----------------\n",
      "canvas_dictionary_october_2024: {Timestamp('2024-10-01 00:00:00'): array([123,  69, 182], dtype=uint8), Timestamp('2024-10-02 00:00:00'): array([108, 193, 129], dtype=uint8), Timestamp('2024-10-03 00:00:00'): array([110, 133,  78], dtype=uint8), Timestamp('2024-10-04 00:00:00'): array([109, 207, 221], dtype=uint8), Timestamp('2024-10-05 00:00:00'): array([113, 133,  10], dtype=uint8), Timestamp('2024-10-06 00:00:00'): array([ 85, 163, 110], dtype=uint8), Timestamp('2024-10-07 00:00:00'): array([143,   0, 117], dtype=uint8), Timestamp('2024-10-08 00:00:00'): array([169,  14, 133], dtype=uint8), Timestamp('2024-10-09 00:00:00'): array([165, 126, 235], dtype=uint8), Timestamp('2024-10-10 00:00:00'): array([ 84,  72, 194], dtype=uint8), Timestamp('2024-10-11 00:00:00'): array([151, 227, 142], dtype=uint8), Timestamp('2024-10-12 00:00:00'): array([87, 49, 21], dtype=uint8), Timestamp('2024-10-13 00:00:00'): array([ 68,  34, 148], dtype=uint8), Timestamp('2024-10-14 00:00:00'): array([112, 109, 216], dtype=uint8), Timestamp('2024-10-15 00:00:00'): array([ 98, 100, 100], dtype=uint8), Timestamp('2024-10-16 00:00:00'): array([122, 233, 216], dtype=uint8), Timestamp('2024-10-17 00:00:00'): array([ 94, 113, 166], dtype=uint8), Timestamp('2024-10-18 00:00:00'): array([ 70,  40, 249], dtype=uint8), Timestamp('2024-10-19 00:00:00'): array([130, 224, 177], dtype=uint8), Timestamp('2024-10-20 00:00:00'): array([120, 198, 140], dtype=uint8), Timestamp('2024-10-21 00:00:00'): array([136, 206, 199], dtype=uint8), Timestamp('2024-10-22 00:00:00'): array([ 98, 149,  91], dtype=uint8), Timestamp('2024-10-23 00:00:00'): array([89, 45, 57], dtype=uint8), Timestamp('2024-10-24 00:00:00'): array([ 80, 103, 188], dtype=uint8), Timestamp('2024-10-25 00:00:00'): array([131,  44,  93], dtype=uint8), Timestamp('2024-10-26 00:00:00'): array([ 95,  86, 125], dtype=uint8), Timestamp('2024-10-27 00:00:00'): array([95, 76,  5], dtype=uint8), Timestamp('2024-10-28 00:00:00'): array([97, 96, 39], dtype=uint8), Timestamp('2024-10-29 00:00:00'): array([ 93, 189,  64], dtype=uint8), Timestamp('2024-10-30 00:00:00'): array([134,  22, 176], dtype=uint8), Timestamp('2024-10-31 00:00:00'): array([141, 185, 124], dtype=uint8)}\n",
      "-----------------\n",
      "\n",
      "\n",
      "-----------------\n",
      "canvas_dictionary_november_2024: {Timestamp('2024-11-01 00:00:00'): array([ 69, 136,  46], dtype=uint8), Timestamp('2024-11-02 00:00:00'): array([ 55, 191, 246], dtype=uint8), Timestamp('2024-11-03 00:00:00'): array([ 88,  52, 163], dtype=uint8), Timestamp('2024-11-04 00:00:00'): array([143, 195,   3], dtype=uint8), Timestamp('2024-11-05 00:00:00'): array([157, 235,  49], dtype=uint8), Timestamp('2024-11-06 00:00:00'): array([ 79, 214, 103], dtype=uint8), Timestamp('2024-11-07 00:00:00'): array([135, 144, 143], dtype=uint8), Timestamp('2024-11-08 00:00:00'): array([ 97, 201, 152], dtype=uint8), Timestamp('2024-11-09 00:00:00'): array([134,  75, 185], dtype=uint8), Timestamp('2024-11-10 00:00:00'): array([146, 220, 200], dtype=uint8), Timestamp('2024-11-11 00:00:00'): array([140, 110,   5], dtype=uint8), Timestamp('2024-11-12 00:00:00'): array([112, 220,  80], dtype=uint8), Timestamp('2024-11-13 00:00:00'): array([ 85, 196,   2], dtype=uint8), Timestamp('2024-11-14 00:00:00'): array([131, 199,  14], dtype=uint8), Timestamp('2024-11-15 00:00:00'): array([115, 189,  87], dtype=uint8), Timestamp('2024-11-16 00:00:00'): array([140, 253, 170], dtype=uint8), Timestamp('2024-11-17 00:00:00'): array([ 89,  92, 194], dtype=uint8), Timestamp('2024-11-18 00:00:00'): array([142,   8,  49], dtype=uint8), Timestamp('2024-11-19 00:00:00'): array([112,  18,  51], dtype=uint8), Timestamp('2024-11-20 00:00:00'): array([113, 169,  54], dtype=uint8), Timestamp('2024-11-21 00:00:00'): array([ 96,  86, 203], dtype=uint8), Timestamp('2024-11-22 00:00:00'): array([128,  85, 231], dtype=uint8), Timestamp('2024-11-23 00:00:00'): array([144, 213,  34], dtype=uint8), Timestamp('2024-11-24 00:00:00'): array([124,  90, 159], dtype=uint8), Timestamp('2024-11-25 00:00:00'): array([91, 71, 51], dtype=uint8), Timestamp('2024-11-26 00:00:00'): array([ 70, 175,   9], dtype=uint8), Timestamp('2024-11-27 00:00:00'): array([118, 115,   5], dtype=uint8), Timestamp('2024-11-28 00:00:00'): array([134, 141, 116], dtype=uint8), Timestamp('2024-11-29 00:00:00'): array([168,  49, 153], dtype=uint8), Timestamp('2024-11-30 00:00:00'): array([ 95,  33, 167], dtype=uint8)}\n",
      "-----------------\n",
      "\n",
      "\n",
      "-----------------\n",
      "canvas_dictionary_december_2024: {Timestamp('2024-12-01 00:00:00'): array([ 90, 113, 124], dtype=uint8), Timestamp('2024-12-02 00:00:00'): array([120, 105, 169], dtype=uint8), Timestamp('2024-12-03 00:00:00'): array([104,  41,  64], dtype=uint8), Timestamp('2024-12-04 00:00:00'): array([119, 149, 229], dtype=uint8), Timestamp('2024-12-05 00:00:00'): array([119, 130, 192], dtype=uint8), Timestamp('2024-12-06 00:00:00'): array([123, 141, 179], dtype=uint8), Timestamp('2024-12-07 00:00:00'): array([91, 53, 62], dtype=uint8), Timestamp('2024-12-08 00:00:00'): array([112, 230,  82], dtype=uint8), Timestamp('2024-12-09 00:00:00'): array([114, 198,  36], dtype=uint8), Timestamp('2024-12-10 00:00:00'): array([111, 160, 192], dtype=uint8), Timestamp('2024-12-11 00:00:00'): array([ 99, 194, 228], dtype=uint8), Timestamp('2024-12-12 00:00:00'): array([120, 143,  89], dtype=uint8), Timestamp('2024-12-13 00:00:00'): array([153, 240, 178], dtype=uint8), Timestamp('2024-12-14 00:00:00'): array([168,  66,  26], dtype=uint8), Timestamp('2024-12-15 00:00:00'): array([ 27, 250,  96], dtype=uint8), Timestamp('2024-12-16 00:00:00'): array([178, 191, 249], dtype=uint8), Timestamp('2024-12-17 00:00:00'): array([161, 205, 107], dtype=uint8), Timestamp('2024-12-18 00:00:00'): array([83, 12, 50], dtype=uint8), Timestamp('2024-12-19 00:00:00'): array([54, 55, 27], dtype=uint8), Timestamp('2024-12-20 00:00:00'): array([125, 119, 201], dtype=uint8), Timestamp('2024-12-21 00:00:00'): array([119,  54, 119], dtype=uint8), Timestamp('2024-12-22 00:00:00'): array([107, 168,  31], dtype=uint8), Timestamp('2024-12-23 00:00:00'): array([117,  66, 109], dtype=uint8), Timestamp('2024-12-24 00:00:00'): array([127, 218,  26], dtype=uint8), Timestamp('2024-12-25 00:00:00'): array([121,  90,  66], dtype=uint8), Timestamp('2024-12-26 00:00:00'): array([ 81,  53, 200], dtype=uint8), Timestamp('2024-12-27 00:00:00'): array([182, 127,  75], dtype=uint8), Timestamp('2024-12-28 00:00:00'): array([ 30, 119, 237], dtype=uint8), Timestamp('2024-12-29 00:00:00'): array([206, 208, 183], dtype=uint8), Timestamp('2024-12-30 00:00:00'): array([193,  10, 252], dtype=uint8), Timestamp('2024-12-31 00:00:00'): array([34, 38, 65], dtype=uint8)}\n",
      "-----------------\n",
      "\n",
      "\n",
      "-----------------\n",
      "canvas_dictionary_january_2025: {Timestamp('2025-01-01 00:00:00'): array([138,  71, 111], dtype=uint8), Timestamp('2025-01-02 00:00:00'): array([108, 140, 210], dtype=uint8), Timestamp('2025-01-03 00:00:00'): array([143,  93,  13], dtype=uint8), Timestamp('2025-01-04 00:00:00'): array([106, 223,  79], dtype=uint8), Timestamp('2025-01-05 00:00:00'): array([ 70,  13, 254], dtype=uint8), Timestamp('2025-01-06 00:00:00'): array([122, 214, 120], dtype=uint8), Timestamp('2025-01-07 00:00:00'): array([106,  97, 225], dtype=uint8), Timestamp('2025-01-08 00:00:00'): array([103, 254, 119], dtype=uint8), Timestamp('2025-01-09 00:00:00'): array([120, 223, 182], dtype=uint8), Timestamp('2025-01-10 00:00:00'): array([ 74, 149, 132], dtype=uint8), Timestamp('2025-01-11 00:00:00'): array([ 84, 117,  35], dtype=uint8), Timestamp('2025-01-12 00:00:00'): array([109, 103,   8], dtype=uint8), Timestamp('2025-01-13 00:00:00'): array([137, 212, 147], dtype=uint8), Timestamp('2025-01-14 00:00:00'): array([106, 165, 193], dtype=uint8), Timestamp('2025-01-15 00:00:00'): array([108, 212, 238], dtype=uint8), Timestamp('2025-01-16 00:00:00'): array([115, 187, 243], dtype=uint8), Timestamp('2025-01-17 00:00:00'): array([ 92,  56, 200], dtype=uint8), Timestamp('2025-01-18 00:00:00'): array([ 93, 227, 131], dtype=uint8), Timestamp('2025-01-19 00:00:00'): array([111, 235, 219], dtype=uint8), Timestamp('2025-01-20 00:00:00'): array([ 98,  42, 121], dtype=uint8), Timestamp('2025-01-21 00:00:00'): array([ 99,  97, 189], dtype=uint8), Timestamp('2025-01-22 00:00:00'): array([113, 205,  48], dtype=uint8), Timestamp('2025-01-23 00:00:00'): array([119, 205, 159], dtype=uint8), Timestamp('2025-01-24 00:00:00'): array([ 85, 164, 115], dtype=uint8), Timestamp('2025-01-25 00:00:00'): array([ 89, 112,   8], dtype=uint8), Timestamp('2025-01-26 00:00:00'): array([ 59,   7, 146], dtype=uint8), Timestamp('2025-01-27 00:00:00'): array([114, 234, 101], dtype=uint8), Timestamp('2025-01-28 00:00:00'): array([131, 155,  46], dtype=uint8), Timestamp('2025-01-29 00:00:00'): array([96, 84, 18], dtype=uint8), Timestamp('2025-01-30 00:00:00'): array([ 95,  21, 103], dtype=uint8), Timestamp('2025-01-31 00:00:00'): array([110, 135, 160], dtype=uint8)}\n",
      "-----------------\n",
      "\n",
      "\n",
      "-----------------\n",
      "canvas_dictionary_february_2025: {Timestamp('2025-02-01 00:00:00'): array([103, 110, 150], dtype=uint8), Timestamp('2025-02-02 00:00:00'): array([125,  54,  44], dtype=uint8), Timestamp('2025-02-03 00:00:00'): array([109, 189, 243], dtype=uint8), Timestamp('2025-02-04 00:00:00'): array([ 99, 121,  42], dtype=uint8), Timestamp('2025-02-05 00:00:00'): array([106, 193, 134], dtype=uint8), Timestamp('2025-02-06 00:00:00'): array([114,  57,  43], dtype=uint8), Timestamp('2025-02-07 00:00:00'): array([104,  47, 170], dtype=uint8), Timestamp('2025-02-08 00:00:00'): array([ 62, 114, 106], dtype=uint8), Timestamp('2025-02-09 00:00:00'): array([120,  50, 255], dtype=uint8), Timestamp('2025-02-10 00:00:00'): array([134, 235,   5], dtype=uint8), Timestamp('2025-02-11 00:00:00'): array([141, 194,  76], dtype=uint8), Timestamp('2025-02-12 00:00:00'): array([ 98, 126,  61], dtype=uint8), Timestamp('2025-02-13 00:00:00'): array([ 93, 192, 235], dtype=uint8), Timestamp('2025-02-14 00:00:00'): array([106, 138, 217], dtype=uint8), Timestamp('2025-02-15 00:00:00'): array([137,  68,   2], dtype=uint8), Timestamp('2025-02-16 00:00:00'): array([55, 94, 14], dtype=uint8), Timestamp('2025-02-17 00:00:00'): array([100, 252, 208], dtype=uint8), Timestamp('2025-02-18 00:00:00'): array([115, 105,  71], dtype=uint8), Timestamp('2025-02-19 00:00:00'): array([ 70, 175, 132], dtype=uint8), Timestamp('2025-02-20 00:00:00'): array([ 72, 255,  94], dtype=uint8), Timestamp('2025-02-21 00:00:00'): array([154, 189, 251], dtype=uint8), Timestamp('2025-02-22 00:00:00'): array([145, 157, 121], dtype=uint8), Timestamp('2025-02-23 00:00:00'): array([ 92,  33, 193], dtype=uint8), Timestamp('2025-02-24 00:00:00'): array([85, 21, 81], dtype=uint8), Timestamp('2025-02-25 00:00:00'): array([108,  43, 220], dtype=uint8), Timestamp('2025-02-26 00:00:00'): array([127, 198, 191], dtype=uint8), Timestamp('2025-02-27 00:00:00'): array([ 85,  43, 195], dtype=uint8), Timestamp('2025-02-28 00:00:00'): array([ 86, 236, 207], dtype=uint8)}\n",
      "-----------------\n",
      "\n",
      "\n",
      "-----------------\n",
      "canvas_dictionary_march_2025: {Timestamp('2025-03-01 00:00:00'): array([137, 123, 239], dtype=uint8), Timestamp('2025-03-02 00:00:00'): array([137,  78, 189], dtype=uint8), Timestamp('2025-03-03 00:00:00'): array([ 73, 170, 128], dtype=uint8), Timestamp('2025-03-04 00:00:00'): array([126,  50,  64], dtype=uint8), Timestamp('2025-03-05 00:00:00'): array([ 72, 206,  18], dtype=uint8), Timestamp('2025-03-06 00:00:00'): array([55, 47, 10], dtype=uint8), Timestamp('2025-03-07 00:00:00'): array([181,  10,  65], dtype=uint8), Timestamp('2025-03-08 00:00:00'): array([51, 67, 72], dtype=uint8), Timestamp('2025-03-09 00:00:00'): array([106, 205,  90], dtype=uint8), Timestamp('2025-03-10 00:00:00'): array([ 99, 112, 225], dtype=uint8), Timestamp('2025-03-11 00:00:00'): array([142,  71, 220], dtype=uint8), Timestamp('2025-03-12 00:00:00'): array([144, 185,  87], dtype=uint8), Timestamp('2025-03-13 00:00:00'): array([ 94,  39, 145], dtype=uint8), Timestamp('2025-03-14 00:00:00'): array([120,  50,  62], dtype=uint8), Timestamp('2025-03-15 00:00:00'): array([131, 139, 175], dtype=uint8), Timestamp('2025-03-16 00:00:00'): array([ 76,  61, 132], dtype=uint8), Timestamp('2025-03-17 00:00:00'): array([141, 159, 148], dtype=uint8), Timestamp('2025-03-18 00:00:00'): array([ 93, 161,  84], dtype=uint8), Timestamp('2025-03-19 00:00:00'): array([166,  33, 234], dtype=uint8), Timestamp('2025-03-20 00:00:00'): array([ 88,  48, 249], dtype=uint8), Timestamp('2025-03-21 00:00:00'): array([116, 142,  24], dtype=uint8), Timestamp('2025-03-22 00:00:00'): array([126, 107,  43], dtype=uint8), Timestamp('2025-03-23 00:00:00'): array([119,  60,  56], dtype=uint8), Timestamp('2025-03-24 00:00:00'): array([ 97, 190,   2], dtype=uint8), Timestamp('2025-03-25 00:00:00'): array([112, 189, 103], dtype=uint8), Timestamp('2025-03-26 00:00:00'): array([97,  6, 83], dtype=uint8), Timestamp('2025-03-27 00:00:00'): array([ 77, 187,  94], dtype=uint8), Timestamp('2025-03-28 00:00:00'): array([113,  47, 106], dtype=uint8), Timestamp('2025-03-29 00:00:00'): array([122, 152,  18], dtype=uint8), Timestamp('2025-03-30 00:00:00'): array([122, 199,  74], dtype=uint8), Timestamp('2025-03-31 00:00:00'): array([ 80, 114, 177], dtype=uint8)}\n",
      "-----------------\n",
      "\n",
      "\n",
      "-----------------\n",
      "canvas_dictionary_april_2025: {Timestamp('2025-04-01 00:00:00'): array([ 98,  29, 226], dtype=uint8), Timestamp('2025-04-02 00:00:00'): array([68, 27, 32], dtype=uint8), Timestamp('2025-04-03 00:00:00'): array([99, 21, 63], dtype=uint8), Timestamp('2025-04-04 00:00:00'): array([125,  45, 104], dtype=uint8), Timestamp('2025-04-05 00:00:00'): array([ 92, 169, 123], dtype=uint8), Timestamp('2025-04-06 00:00:00'): array([129,  67,   3], dtype=uint8), Timestamp('2025-04-07 00:00:00'): array([107, 199, 193], dtype=uint8), Timestamp('2025-04-08 00:00:00'): array([116, 125,  96], dtype=uint8), Timestamp('2025-04-09 00:00:00'): array([111, 140,  81], dtype=uint8), Timestamp('2025-04-10 00:00:00'): array([105, 254, 135], dtype=uint8), Timestamp('2025-04-11 00:00:00'): array([126, 224,  74], dtype=uint8), Timestamp('2025-04-12 00:00:00'): array([127, 116, 150], dtype=uint8), Timestamp('2025-04-13 00:00:00'): array([126,  20, 199], dtype=uint8), Timestamp('2025-04-14 00:00:00'): array([63, 94, 34], dtype=uint8), Timestamp('2025-04-15 00:00:00'): array([162, 197,  94], dtype=uint8), Timestamp('2025-04-16 00:00:00'): array([ 36, 157,  84], dtype=uint8), Timestamp('2025-04-17 00:00:00'): array([145, 103, 101], dtype=uint8), Timestamp('2025-04-18 00:00:00'): array([ 73, 232, 182], dtype=uint8), Timestamp('2025-04-19 00:00:00'): array([ 83,   2, 122], dtype=uint8), Timestamp('2025-04-20 00:00:00'): array([ 63, 166, 226], dtype=uint8), Timestamp('2025-04-21 00:00:00'): array([ 76,  37, 156], dtype=uint8), Timestamp('2025-04-22 00:00:00'): array([ 40,  34, 156], dtype=uint8), Timestamp('2025-04-23 00:00:00'): array([175, 209,   2], dtype=uint8), Timestamp('2025-04-24 00:00:00'): array([108, 203, 172], dtype=uint8), Timestamp('2025-04-25 00:00:00'): array([ 96, 224, 186], dtype=uint8), Timestamp('2025-04-26 00:00:00'): array([104,  76,  72], dtype=uint8), Timestamp('2025-04-27 00:00:00'): array([115,  77, 110], dtype=uint8), Timestamp('2025-04-28 00:00:00'): array([ 79, 235,  75], dtype=uint8), Timestamp('2025-04-29 00:00:00'): array([ 85, 201, 127], dtype=uint8), Timestamp('2025-04-30 00:00:00'): array([ 61, 254,  78], dtype=uint8)}\n",
      "-----------------\n",
      "\n",
      "\n",
      "-----------------\n",
      "canvas_dictionary_may_2025: {Timestamp('2025-05-01 00:00:00'): array([ 99, 143,  30], dtype=uint8), Timestamp('2025-05-02 00:00:00'): array([ 90, 233,  23], dtype=uint8), Timestamp('2025-05-03 00:00:00'): array([160,  19,  46], dtype=uint8), Timestamp('2025-05-04 00:00:00'): array([187, 119, 133], dtype=uint8), Timestamp('2025-05-05 00:00:00'): array([120,  83, 204], dtype=uint8), Timestamp('2025-05-06 00:00:00'): array([ 79, 212, 151], dtype=uint8), Timestamp('2025-05-07 00:00:00'): array([ 88, 140, 104], dtype=uint8), Timestamp('2025-05-08 00:00:00'): array([132, 151,  33], dtype=uint8), Timestamp('2025-05-09 00:00:00'): array([172, 159,  66], dtype=uint8), Timestamp('2025-05-10 00:00:00'): array([118,   7,   6], dtype=uint8), Timestamp('2025-05-11 00:00:00'): array([113, 231, 175], dtype=uint8), Timestamp('2025-05-12 00:00:00'): array([163,  17, 206], dtype=uint8), Timestamp('2025-05-13 00:00:00'): array([131, 241,  50], dtype=uint8), Timestamp('2025-05-14 00:00:00'): array([ 85,  87, 198], dtype=uint8), Timestamp('2025-05-15 00:00:00'): array([100,  75, 148], dtype=uint8), Timestamp('2025-05-16 00:00:00'): array([ 91, 232,  10], dtype=uint8), Timestamp('2025-05-17 00:00:00'): array([119, 173, 186], dtype=uint8), Timestamp('2025-05-18 00:00:00'): array([108, 229, 242], dtype=uint8), Timestamp('2025-05-19 00:00:00'): array([120, 226,  21], dtype=uint8), Timestamp('2025-05-20 00:00:00'): array([123,  66,   3], dtype=uint8), Timestamp('2025-05-21 00:00:00'): array([ 97, 237, 176], dtype=uint8), Timestamp('2025-05-22 00:00:00'): array([114,   1,  98], dtype=uint8), Timestamp('2025-05-23 00:00:00'): array([136, 169, 234], dtype=uint8), Timestamp('2025-05-24 00:00:00'): array([105,  44,  64], dtype=uint8), Timestamp('2025-05-25 00:00:00'): array([118,  35,  52], dtype=uint8), Timestamp('2025-05-26 00:00:00'): array([ 72,  29, 117], dtype=uint8), Timestamp('2025-05-27 00:00:00'): array([93, 92,  1], dtype=uint8), Timestamp('2025-05-28 00:00:00'): array([107,  95, 119], dtype=uint8), Timestamp('2025-05-29 00:00:00'): array([ 93,  36, 240], dtype=uint8), Timestamp('2025-05-30 00:00:00'): array([103,  71,  91], dtype=uint8), Timestamp('2025-05-31 00:00:00'): array([ 91, 186,  70], dtype=uint8)}\n",
      "-----------------\n",
      "\n",
      "\n",
      "-----------------\n",
      "canvas_dictionary_june_2025: {Timestamp('2025-06-01 00:00:00'): array([120,  67, 174], dtype=uint8), Timestamp('2025-06-02 00:00:00'): array([ 75, 167, 175], dtype=uint8), Timestamp('2025-06-03 00:00:00'): array([ 71,  28, 105], dtype=uint8), Timestamp('2025-06-04 00:00:00'): array([122,  48, 145], dtype=uint8), Timestamp('2025-06-05 00:00:00'): array([115, 202,  21], dtype=uint8), Timestamp('2025-06-06 00:00:00'): array([113,  82, 208], dtype=uint8), Timestamp('2025-06-07 00:00:00'): array([ 91, 161, 218], dtype=uint8), Timestamp('2025-06-08 00:00:00'): array([ 78, 199, 247], dtype=uint8), Timestamp('2025-06-09 00:00:00'): array([ 98,  31, 196], dtype=uint8), Timestamp('2025-06-10 00:00:00'): array([100,  29, 142], dtype=uint8), Timestamp('2025-06-11 00:00:00'): array([ 77, 104, 126], dtype=uint8), Timestamp('2025-06-12 00:00:00'): array([90,  5, 87], dtype=uint8), Timestamp('2025-06-13 00:00:00'): array([144,  49, 199], dtype=uint8), Timestamp('2025-06-14 00:00:00'): array([116, 122, 181], dtype=uint8), Timestamp('2025-06-15 00:00:00'): array([ 81, 246,  37], dtype=uint8), Timestamp('2025-06-16 00:00:00'): array([134, 239, 146], dtype=uint8), Timestamp('2025-06-17 00:00:00'): array([ 90, 149,  99], dtype=uint8), Timestamp('2025-06-18 00:00:00'): array([149, 178, 184], dtype=uint8), Timestamp('2025-06-19 00:00:00'): array([127,  54, 158], dtype=uint8), Timestamp('2025-06-20 00:00:00'): array([127, 179, 207], dtype=uint8), Timestamp('2025-06-21 00:00:00'): array([136,  45, 142], dtype=uint8), Timestamp('2025-06-22 00:00:00'): array([ 65,  99, 125], dtype=uint8), Timestamp('2025-06-23 00:00:00'): array([ 77, 197,   0], dtype=uint8), Timestamp('2025-06-24 00:00:00'): array([146, 213, 214], dtype=uint8), Timestamp('2025-06-25 00:00:00'): array([143, 199,  50], dtype=uint8), Timestamp('2025-06-26 00:00:00'): array([ 48, 148, 232], dtype=uint8), Timestamp('2025-06-27 00:00:00'): array([ 92, 129, 120], dtype=uint8), Timestamp('2025-06-28 00:00:00'): array([121,  32,  13], dtype=uint8), Timestamp('2025-06-29 00:00:00'): array([ 64,  87, 137], dtype=uint8), Timestamp('2025-06-30 00:00:00'): array([ 88, 110, 110], dtype=uint8)}\n",
      "-----------------\n",
      "\n",
      "\n",
      "-----------------\n",
      "canvas_dictionary_july_2025: {Timestamp('2025-07-01 00:00:00'): array([137, 109, 177], dtype=uint8), Timestamp('2025-07-02 00:00:00'): array([111, 157, 241], dtype=uint8), Timestamp('2025-07-03 00:00:00'): array([106,  72, 105], dtype=uint8), Timestamp('2025-07-04 00:00:00'): array([119,  36, 118], dtype=uint8), Timestamp('2025-07-05 00:00:00'): array([139, 117, 150], dtype=uint8), Timestamp('2025-07-06 00:00:00'): array([ 78, 234, 129], dtype=uint8), Timestamp('2025-07-07 00:00:00'): array([ 69, 193, 109], dtype=uint8), Timestamp('2025-07-08 00:00:00'): array([125,  59,  64], dtype=uint8), Timestamp('2025-07-09 00:00:00'): array([60, 57,  7], dtype=uint8), Timestamp('2025-07-10 00:00:00'): array([159, 143,  60], dtype=uint8), Timestamp('2025-07-11 00:00:00'): array([43, 96, 89], dtype=uint8), Timestamp('2025-07-12 00:00:00'): array([129,  26,  32], dtype=uint8), Timestamp('2025-07-13 00:00:00'): array([83, 36,  2], dtype=uint8), Timestamp('2025-07-14 00:00:00'): array([127,  31,   6], dtype=uint8), Timestamp('2025-07-15 00:00:00'): array([153, 181, 208], dtype=uint8), Timestamp('2025-07-16 00:00:00'): array([ 70,  54, 194], dtype=uint8), Timestamp('2025-07-17 00:00:00'): array([109, 128, 114], dtype=uint8), Timestamp('2025-07-18 00:00:00'): array([101, 139,  53], dtype=uint8), Timestamp('2025-07-19 00:00:00'): array([ 90, 196, 124], dtype=uint8), Timestamp('2025-07-20 00:00:00'): array([119,  16,  11], dtype=uint8), Timestamp('2025-07-21 00:00:00'): array([118,  52, 156], dtype=uint8), Timestamp('2025-07-22 00:00:00'): array([106, 247,  15], dtype=uint8), Timestamp('2025-07-23 00:00:00'): array([122,  80, 253], dtype=uint8), Timestamp('2025-07-24 00:00:00'): array([107, 119, 190], dtype=uint8), Timestamp('2025-07-25 00:00:00'): array([116, 136, 124], dtype=uint8), Timestamp('2025-07-26 00:00:00'): array([108,  56, 148], dtype=uint8), Timestamp('2025-07-27 00:00:00'): array([103, 116,  31], dtype=uint8), Timestamp('2025-07-28 00:00:00'): array([105,  30, 226], dtype=uint8), Timestamp('2025-07-29 00:00:00'): array([115,  47, 219], dtype=uint8), Timestamp('2025-07-30 00:00:00'): array([82, 35,  8], dtype=uint8), Timestamp('2025-07-31 00:00:00'): array([ 79, 156, 176], dtype=uint8)}\n",
      "-----------------\n",
      "\n",
      "\n",
      "-----------------\n",
      "canvas_dictionary_august_2025: {Timestamp('2025-08-01 00:00:00'): array([ 81, 164, 221], dtype=uint8), Timestamp('2025-08-02 00:00:00'): array([ 98,  65, 131], dtype=uint8), Timestamp('2025-08-03 00:00:00'): array([123,  81,  90], dtype=uint8), Timestamp('2025-08-04 00:00:00'): array([107, 183, 104], dtype=uint8), Timestamp('2025-08-05 00:00:00'): array([ 87, 182,   3], dtype=uint8), Timestamp('2025-08-06 00:00:00'): array([ 75, 168,  45], dtype=uint8), Timestamp('2025-08-07 00:00:00'): array([144, 235, 187], dtype=uint8), Timestamp('2025-08-08 00:00:00'): array([105,  99,  48], dtype=uint8), Timestamp('2025-08-09 00:00:00'): array([108,  72, 193], dtype=uint8), Timestamp('2025-08-10 00:00:00'): array([ 82, 138,  37], dtype=uint8), Timestamp('2025-08-11 00:00:00'): array([111, 223, 164], dtype=uint8), Timestamp('2025-08-12 00:00:00'): array([106, 103,  97], dtype=uint8), Timestamp('2025-08-13 00:00:00'): array([112, 174,  55], dtype=uint8), Timestamp('2025-08-14 00:00:00'): array([ 94,  27, 204], dtype=uint8), Timestamp('2025-08-15 00:00:00'): array([114, 178, 226], dtype=uint8), Timestamp('2025-08-16 00:00:00'): array([138, 105, 113], dtype=uint8), Timestamp('2025-08-17 00:00:00'): array([ 73,  76, 179], dtype=uint8), Timestamp('2025-08-18 00:00:00'): array([102, 122, 252], dtype=uint8), Timestamp('2025-08-19 00:00:00'): array([128,  51, 134], dtype=uint8), Timestamp('2025-08-20 00:00:00'): array([122,  25,  62], dtype=uint8), Timestamp('2025-08-21 00:00:00'): array([121,  90, 169], dtype=uint8), Timestamp('2025-08-22 00:00:00'): array([106, 250, 250], dtype=uint8), Timestamp('2025-08-23 00:00:00'): array([134, 139,  88], dtype=uint8), Timestamp('2025-08-24 00:00:00'): array([ 60, 108,  59], dtype=uint8), Timestamp('2025-08-25 00:00:00'): array([102, 216, 229], dtype=uint8), Timestamp('2025-08-26 00:00:00'): array([ 91, 122,  13], dtype=uint8), Timestamp('2025-08-27 00:00:00'): array([124,   2, 138], dtype=uint8), Timestamp('2025-08-28 00:00:00'): array([ 89,  90, 207], dtype=uint8), Timestamp('2025-08-29 00:00:00'): array([114,  98, 207], dtype=uint8), Timestamp('2025-08-30 00:00:00'): array([107, 124,  76], dtype=uint8), Timestamp('2025-08-31 00:00:00'): array([111, 225, 123], dtype=uint8)}\n",
      "-----------------\n",
      "\n",
      "\n",
      "-----------------\n",
      "canvas_dictionary_september_2025: {Timestamp('2025-09-01 00:00:00'): array([112, 137,  70], dtype=uint8), Timestamp('2025-09-02 00:00:00'): array([112,  94,  82], dtype=uint8), Timestamp('2025-09-03 00:00:00'): array([104, 182,  21], dtype=uint8), Timestamp('2025-09-04 00:00:00'): array([114,  73,  27], dtype=uint8), Timestamp('2025-09-05 00:00:00'): array([109, 227,  50], dtype=uint8), Timestamp('2025-09-06 00:00:00'): array([117,  76, 244], dtype=uint8), Timestamp('2025-09-07 00:00:00'): array([132, 113, 211], dtype=uint8), Timestamp('2025-09-08 00:00:00'): array([116, 225, 221], dtype=uint8), Timestamp('2025-09-09 00:00:00'): array([114, 165,  52], dtype=uint8), Timestamp('2025-09-10 00:00:00'): array([110,  57, 199], dtype=uint8), Timestamp('2025-09-11 00:00:00'): array([ 88, 246, 152], dtype=uint8), Timestamp('2025-09-12 00:00:00'): array([113, 178, 143], dtype=uint8), Timestamp('2025-09-13 00:00:00'): array([116,  41, 162], dtype=uint8), Timestamp('2025-09-14 00:00:00'): array([125, 177, 161], dtype=uint8), Timestamp('2025-09-15 00:00:00'): array([88, 11,  3], dtype=uint8), Timestamp('2025-09-16 00:00:00'): array([105, 113, 148], dtype=uint8), Timestamp('2025-09-17 00:00:00'): array([ 91, 247, 205], dtype=uint8), Timestamp('2025-09-18 00:00:00'): array([124,   8,  26], dtype=uint8), Timestamp('2025-09-19 00:00:00'): array([ 98, 137, 124], dtype=uint8), Timestamp('2025-09-20 00:00:00'): array([139,  33,  12], dtype=uint8), Timestamp('2025-09-21 00:00:00'): array([82, 66, 78], dtype=uint8), Timestamp('2025-09-22 00:00:00'): array([ 86, 200,  73], dtype=uint8), Timestamp('2025-09-23 00:00:00'): array([107,  13,  81], dtype=uint8), Timestamp('2025-09-24 00:00:00'): array([106,   0, 123], dtype=uint8), Timestamp('2025-09-25 00:00:00'): array([ 71,  58, 225], dtype=uint8), Timestamp('2025-09-26 00:00:00'): array([ 87,  53, 218], dtype=uint8), Timestamp('2025-09-27 00:00:00'): array([176, 105,  24], dtype=uint8), Timestamp('2025-09-28 00:00:00'): array([122,  69, 170], dtype=uint8), Timestamp('2025-09-29 00:00:00'): array([ 97, 241,  38], dtype=uint8), Timestamp('2025-09-30 00:00:00'): array([ 83, 220,  18], dtype=uint8)}\n",
      "-----------------\n",
      "\n",
      "\n",
      "-----------------\n",
      "canvas_dictionary_october_2025: {Timestamp('2025-10-01 00:00:00'): array([142,  70,  95], dtype=uint8), Timestamp('2025-10-02 00:00:00'): array([ 95, 153,  60], dtype=uint8), Timestamp('2025-10-03 00:00:00'): array([105,  34,   1], dtype=uint8), Timestamp('2025-10-04 00:00:00'): array([124, 179,  81], dtype=uint8), Timestamp('2025-10-05 00:00:00'): array([115, 104, 179], dtype=uint8), Timestamp('2025-10-06 00:00:00'): array([105,  36, 197], dtype=uint8), Timestamp('2025-10-07 00:00:00'): array([121,  81,  13], dtype=uint8), Timestamp('2025-10-08 00:00:00'): array([ 93, 215, 156], dtype=uint8), Timestamp('2025-10-09 00:00:00'): array([ 99, 214, 198], dtype=uint8), Timestamp('2025-10-10 00:00:00'): array([107,  69,  62], dtype=uint8), Timestamp('2025-10-11 00:00:00'): array([ 89, 153,  71], dtype=uint8), Timestamp('2025-10-12 00:00:00'): array([ 87,  67, 177], dtype=uint8), Timestamp('2025-10-13 00:00:00'): array([96, 95, 67], dtype=uint8), Timestamp('2025-10-14 00:00:00'): array([103, 111,  85], dtype=uint8), Timestamp('2025-10-15 00:00:00'): array([ 72, 200,  50], dtype=uint8), Timestamp('2025-10-16 00:00:00'): array([137,  57,   9], dtype=uint8), Timestamp('2025-10-17 00:00:00'): array([108, 167,  69], dtype=uint8), Timestamp('2025-10-18 00:00:00'): array([ 93,  32, 223], dtype=uint8), Timestamp('2025-10-19 00:00:00'): array([127,   0, 221], dtype=uint8), Timestamp('2025-10-20 00:00:00'): array([108, 191, 239], dtype=uint8), Timestamp('2025-10-21 00:00:00'): array([102, 145, 115], dtype=uint8), Timestamp('2025-10-22 00:00:00'): array([100, 227,  12], dtype=uint8), Timestamp('2025-10-23 00:00:00'): array([ 95, 167, 172], dtype=uint8), Timestamp('2025-10-24 00:00:00'): array([ 67, 107, 136], dtype=uint8), Timestamp('2025-10-25 00:00:00'): array([121,   7, 165], dtype=uint8), Timestamp('2025-10-26 00:00:00'): array([ 94,   5, 205], dtype=uint8), Timestamp('2025-10-27 00:00:00'): array([114, 128, 223], dtype=uint8), Timestamp('2025-10-28 00:00:00'): array([114,  64,  38], dtype=uint8), Timestamp('2025-10-29 00:00:00'): array([ 97,  63, 250], dtype=uint8), Timestamp('2025-10-30 00:00:00'): array([ 89, 101, 227], dtype=uint8), Timestamp('2025-10-31 00:00:00'): array([ 84, 122,   0], dtype=uint8)}\n",
      "-----------------\n",
      "\n",
      "\n",
      "-----------------\n",
      "canvas_dictionary_november_2025: {Timestamp('2025-11-01 00:00:00'): array([80,  7, 14], dtype=uint8), Timestamp('2025-11-02 00:00:00'): array([135, 189,  94], dtype=uint8), Timestamp('2025-11-03 00:00:00'): array([129, 229, 100], dtype=uint8), Timestamp('2025-11-04 00:00:00'): array([100, 171, 195], dtype=uint8), Timestamp('2025-11-05 00:00:00'): array([102, 174,  17], dtype=uint8), Timestamp('2025-11-06 00:00:00'): array([107, 147,  17], dtype=uint8), Timestamp('2025-11-07 00:00:00'): array([ 93, 171, 147], dtype=uint8), Timestamp('2025-11-08 00:00:00'): array([133, 247,  69], dtype=uint8), Timestamp('2025-11-09 00:00:00'): array([76, 78, 28], dtype=uint8), Timestamp('2025-11-10 00:00:00'): array([ 72,  47, 180], dtype=uint8), Timestamp('2025-11-11 00:00:00'): array([ 93, 250, 221], dtype=uint8), Timestamp('2025-11-12 00:00:00'): array([122, 100, 101], dtype=uint8), Timestamp('2025-11-13 00:00:00'): array([117,  27, 130], dtype=uint8), Timestamp('2025-11-14 00:00:00'): array([101, 230,  75], dtype=uint8), Timestamp('2025-11-15 00:00:00'): array([84, 99, 43], dtype=uint8), Timestamp('2025-11-16 00:00:00'): array([ 82, 139, 115], dtype=uint8), Timestamp('2025-11-17 00:00:00'): array([ 68, 230, 209], dtype=uint8), Timestamp('2025-11-18 00:00:00'): array([ 42, 105,  92], dtype=uint8), Timestamp('2025-11-19 00:00:00'): array([ 94, 232, 174], dtype=uint8), Timestamp('2025-11-20 00:00:00'): array([53, 15, 90], dtype=uint8), Timestamp('2025-11-21 00:00:00'): array([124, 186,   2], dtype=uint8), Timestamp('2025-11-22 00:00:00'): array([165,  64, 140], dtype=uint8), Timestamp('2025-11-23 00:00:00'): array([120, 170, 161], dtype=uint8), Timestamp('2025-11-24 00:00:00'): array([ 83, 103,  44], dtype=uint8), Timestamp('2025-11-25 00:00:00'): array([102, 150, 129], dtype=uint8), Timestamp('2025-11-26 00:00:00'): array([150, 185, 116], dtype=uint8), Timestamp('2025-11-27 00:00:00'): array([ 84,  54, 222], dtype=uint8), Timestamp('2025-11-28 00:00:00'): array([123, 249, 179], dtype=uint8), Timestamp('2025-11-29 00:00:00'): array([105,  13, 206], dtype=uint8), Timestamp('2025-11-30 00:00:00'): array([ 93,  22, 243], dtype=uint8)}\n",
      "-----------------\n",
      "\n",
      "\n",
      "-----------------\n",
      "canvas_dictionary_december_2025: {Timestamp('2025-12-01 00:00:00'): array([131, 217,  10], dtype=uint8), Timestamp('2025-12-02 00:00:00'): array([ 70, 118, 139], dtype=uint8), Timestamp('2025-12-03 00:00:00'): array([147, 221, 188], dtype=uint8), Timestamp('2025-12-04 00:00:00'): array([105,  35, 209], dtype=uint8), Timestamp('2025-12-05 00:00:00'): array([129,  83, 216], dtype=uint8), Timestamp('2025-12-06 00:00:00'): array([116, 173, 123], dtype=uint8), Timestamp('2025-12-07 00:00:00'): array([116, 170, 163], dtype=uint8), Timestamp('2025-12-08 00:00:00'): array([ 85, 247,  56], dtype=uint8), Timestamp('2025-12-09 00:00:00'): array([ 78,  38, 234], dtype=uint8), Timestamp('2025-12-10 00:00:00'): array([172, 132,  93], dtype=uint8), Timestamp('2025-12-11 00:00:00'): array([138, 129,  11], dtype=uint8), Timestamp('2025-12-12 00:00:00'): array([ 35, 244, 208], dtype=uint8), Timestamp('2025-12-13 00:00:00'): array([98, 43, 83], dtype=uint8), Timestamp('2025-12-14 00:00:00'): array([103, 136, 253], dtype=uint8), Timestamp('2025-12-15 00:00:00'): array([ 69, 126,  28], dtype=uint8), Timestamp('2025-12-16 00:00:00'): array([154,  18, 112], dtype=uint8), Timestamp('2025-12-17 00:00:00'): array([ 84, 113,  11], dtype=uint8), Timestamp('2025-12-18 00:00:00'): array([117, 210, 129], dtype=uint8), Timestamp('2025-12-19 00:00:00'): array([152, 102, 221], dtype=uint8), Timestamp('2025-12-20 00:00:00'): array([ 56, 135, 164], dtype=uint8), Timestamp('2025-12-21 00:00:00'): array([123, 215,  84], dtype=uint8), Timestamp('2025-12-22 00:00:00'): array([142,  24,  82], dtype=uint8), Timestamp('2025-12-23 00:00:00'): array([110,  13, 126], dtype=uint8), Timestamp('2025-12-24 00:00:00'): array([ 88, 212, 255], dtype=uint8), Timestamp('2025-12-25 00:00:00'): array([ 65, 151,  69], dtype=uint8), Timestamp('2025-12-26 00:00:00'): array([225,   2,  56], dtype=uint8), Timestamp('2025-12-27 00:00:00'): array([109, 141, 155], dtype=uint8), Timestamp('2025-12-28 00:00:00'): array([137, 156, 163], dtype=uint8), Timestamp('2025-12-29 00:00:00'): array([113, 228, 144], dtype=uint8), Timestamp('2025-12-30 00:00:00'): array([113,  86, 148], dtype=uint8), Timestamp('2025-12-31 00:00:00'): array([121, 150,  45], dtype=uint8)}\n",
      "-----------------\n",
      "\n",
      "\n",
      "-----------------\n",
      "canvas_dictionary_january_2026: {Timestamp('2026-01-01 00:00:00'): array([ 78, 161, 168], dtype=uint8), Timestamp('2026-01-02 00:00:00'): array([113,  97,  43], dtype=uint8), Timestamp('2026-01-03 00:00:00'): array([122, 107, 199], dtype=uint8), Timestamp('2026-01-04 00:00:00'): array([100, 251, 230], dtype=uint8), Timestamp('2026-01-05 00:00:00'): array([120, 218,  64], dtype=uint8), Timestamp('2026-01-06 00:00:00'): array([125, 249,  18], dtype=uint8), Timestamp('2026-01-07 00:00:00'): array([123, 179,  55], dtype=uint8), Timestamp('2026-01-08 00:00:00'): array([153,  38,  88], dtype=uint8), Timestamp('2026-01-09 00:00:00'): array([ 79, 199,  14], dtype=uint8), Timestamp('2026-01-10 00:00:00'): array([ 96, 184, 208], dtype=uint8), Timestamp('2026-01-11 00:00:00'): array([ 94,  28, 222], dtype=uint8), Timestamp('2026-01-12 00:00:00'): array([ 89, 200, 106], dtype=uint8), Timestamp('2026-01-13 00:00:00'): array([ 88,  93, 195], dtype=uint8), Timestamp('2026-01-14 00:00:00'): array([106,  38, 253], dtype=uint8), Timestamp('2026-01-15 00:00:00'): array([113, 138, 118], dtype=uint8), Timestamp('2026-01-16 00:00:00'): array([94, 74,  3], dtype=uint8), Timestamp('2026-01-17 00:00:00'): array([ 92, 184, 112], dtype=uint8), Timestamp('2026-01-18 00:00:00'): array([127, 223, 209], dtype=uint8), Timestamp('2026-01-19 00:00:00'): array([ 76,  43, 184], dtype=uint8), Timestamp('2026-01-20 00:00:00'): array([129, 184, 210], dtype=uint8), Timestamp('2026-01-21 00:00:00'): array([ 92, 184, 247], dtype=uint8), Timestamp('2026-01-22 00:00:00'): array([107, 252, 121], dtype=uint8), Timestamp('2026-01-23 00:00:00'): array([141,  34,  51], dtype=uint8), Timestamp('2026-01-24 00:00:00'): array([ 75, 182,   7], dtype=uint8), Timestamp('2026-01-25 00:00:00'): array([102,  56, 129], dtype=uint8), Timestamp('2026-01-26 00:00:00'): array([ 75, 113, 143], dtype=uint8), Timestamp('2026-01-27 00:00:00'): array([105, 124, 159], dtype=uint8), Timestamp('2026-01-28 00:00:00'): array([ 99,  15, 213], dtype=uint8), Timestamp('2026-01-29 00:00:00'): array([137,  89,  72], dtype=uint8), Timestamp('2026-01-30 00:00:00'): array([ 65, 197, 237], dtype=uint8), Timestamp('2026-01-31 00:00:00'): array([116, 139,  25], dtype=uint8)}\n",
      "-----------------\n",
      "\n",
      "\n",
      "-----------------\n",
      "canvas_dictionary_february_2026: {Timestamp('2026-02-01 00:00:00'): array([119,  74, 105], dtype=uint8), Timestamp('2026-02-02 00:00:00'): array([ 94, 248, 120], dtype=uint8), Timestamp('2026-02-03 00:00:00'): array([135, 105, 155], dtype=uint8), Timestamp('2026-02-04 00:00:00'): array([100, 125, 250], dtype=uint8), Timestamp('2026-02-05 00:00:00'): array([120, 100,  18], dtype=uint8), Timestamp('2026-02-06 00:00:00'): array([112, 119,  20], dtype=uint8), Timestamp('2026-02-07 00:00:00'): array([ 86, 216,  40], dtype=uint8), Timestamp('2026-02-08 00:00:00'): array([137,  28,  25], dtype=uint8), Timestamp('2026-02-09 00:00:00'): array([128, 188,  43], dtype=uint8), Timestamp('2026-02-10 00:00:00'): array([ 80,  83, 140], dtype=uint8), Timestamp('2026-02-11 00:00:00'): array([141, 188,  98], dtype=uint8), Timestamp('2026-02-12 00:00:00'): array([ 93, 253, 114], dtype=uint8), Timestamp('2026-02-13 00:00:00'): array([ 92, 134, 165], dtype=uint8), Timestamp('2026-02-14 00:00:00'): array([103,  71, 109], dtype=uint8), Timestamp('2026-02-15 00:00:00'): array([113, 176, 169], dtype=uint8), Timestamp('2026-02-16 00:00:00'): array([99, 71, 48], dtype=uint8), Timestamp('2026-02-17 00:00:00'): array([115,  51, 175], dtype=uint8), Timestamp('2026-02-18 00:00:00'): array([118,  95, 106], dtype=uint8), Timestamp('2026-02-19 00:00:00'): array([99, 67, 40], dtype=uint8), Timestamp('2026-02-20 00:00:00'): array([ 93, 206,  26], dtype=uint8), Timestamp('2026-02-21 00:00:00'): array([121, 218, 155], dtype=uint8), Timestamp('2026-02-22 00:00:00'): array([ 87,  14, 115], dtype=uint8), Timestamp('2026-02-23 00:00:00'): array([113,  89,  97], dtype=uint8), Timestamp('2026-02-24 00:00:00'): array([117, 107, 214], dtype=uint8), Timestamp('2026-02-25 00:00:00'): array([120,  22,  85], dtype=uint8), Timestamp('2026-02-26 00:00:00'): array([116, 106, 120], dtype=uint8), Timestamp('2026-02-27 00:00:00'): array([117, 198, 219], dtype=uint8), Timestamp('2026-02-28 00:00:00'): array([100, 103, 190], dtype=uint8)}\n",
      "-----------------\n",
      "\n",
      "\n",
      "-----------------\n",
      "canvas_dictionary_march_2026: {Timestamp('2026-03-01 00:00:00'): array([109, 132, 216], dtype=uint8), Timestamp('2026-03-02 00:00:00'): array([ 94, 185, 222], dtype=uint8), Timestamp('2026-03-03 00:00:00'): array([105,  28,  41], dtype=uint8), Timestamp('2026-03-04 00:00:00'): array([ 92, 235,  94], dtype=uint8), Timestamp('2026-03-05 00:00:00'): array([113, 194,  81], dtype=uint8), Timestamp('2026-03-06 00:00:00'): array([137, 228,  22], dtype=uint8), Timestamp('2026-03-07 00:00:00'): array([136, 174,  46], dtype=uint8), Timestamp('2026-03-08 00:00:00'): array([112, 134, 129], dtype=uint8), Timestamp('2026-03-09 00:00:00'): array([152, 202,  58], dtype=uint8), Timestamp('2026-03-10 00:00:00'): array([ 68, 253, 145], dtype=uint8), Timestamp('2026-03-11 00:00:00'): array([ 83, 128, 193], dtype=uint8), Timestamp('2026-03-12 00:00:00'): array([ 93,  59, 141], dtype=uint8), Timestamp('2026-03-13 00:00:00'): array([115, 188,  81], dtype=uint8), Timestamp('2026-03-14 00:00:00'): array([117,  58, 121], dtype=uint8), Timestamp('2026-03-15 00:00:00'): array([ 96, 174,  63], dtype=uint8), Timestamp('2026-03-16 00:00:00'): array([117,  36,  36], dtype=uint8), Timestamp('2026-03-17 00:00:00'): array([ 89, 107,  55], dtype=uint8), Timestamp('2026-03-18 00:00:00'): array([144,  76, 125], dtype=uint8), Timestamp('2026-03-19 00:00:00'): array([113,  51, 158], dtype=uint8), Timestamp('2026-03-20 00:00:00'): array([113,  98, 123], dtype=uint8), Timestamp('2026-03-21 00:00:00'): array([157, 149, 219], dtype=uint8), Timestamp('2026-03-22 00:00:00'): array([ 28, 238, 190], dtype=uint8), Timestamp('2026-03-23 00:00:00'): array([ 65,   1, 210], dtype=uint8), Timestamp('2026-03-24 00:00:00'): array([ 80, 132, 152], dtype=uint8), Timestamp('2026-03-25 00:00:00'): array([ 85, 154,  62], dtype=uint8), Timestamp('2026-03-26 00:00:00'): array([127, 169, 192], dtype=uint8), Timestamp('2026-03-27 00:00:00'): array([164, 183,   0], dtype=uint8), Timestamp('2026-03-28 00:00:00'): array([224, 147,  87], dtype=uint8), Timestamp('2026-03-29 00:00:00'): array([154,  20, 157], dtype=uint8), Timestamp('2026-03-30 00:00:00'): array([112,  77,  21], dtype=uint8), Timestamp('2026-03-31 00:00:00'): array([117,   7, 131], dtype=uint8)}\n",
      "-----------------\n",
      "\n",
      "\n",
      "-----------------\n",
      "canvas_dictionary_april_2026: {Timestamp('2026-04-01 00:00:00'): array([ 82, 243, 129], dtype=uint8), Timestamp('2026-04-02 00:00:00'): array([114, 123, 204], dtype=uint8), Timestamp('2026-04-03 00:00:00'): array([107,   3,  41], dtype=uint8), Timestamp('2026-04-04 00:00:00'): array([ 96, 113, 197], dtype=uint8), Timestamp('2026-04-05 00:00:00'): array([ 91, 137,  53], dtype=uint8), Timestamp('2026-04-06 00:00:00'): array([119,  73, 246], dtype=uint8), Timestamp('2026-04-07 00:00:00'): array([127,  87, 105], dtype=uint8), Timestamp('2026-04-08 00:00:00'): array([111,  69, 253], dtype=uint8), Timestamp('2026-04-09 00:00:00'): array([ 87, 248, 219], dtype=uint8), Timestamp('2026-04-10 00:00:00'): array([ 99,  61, 203], dtype=uint8), Timestamp('2026-04-11 00:00:00'): array([122,  17, 190], dtype=uint8), Timestamp('2026-04-12 00:00:00'): array([101, 217,  31], dtype=uint8), Timestamp('2026-04-13 00:00:00'): array([113,  36, 106], dtype=uint8), Timestamp('2026-04-14 00:00:00'): array([104, 245,  62], dtype=uint8), Timestamp('2026-04-15 00:00:00'): array([112, 109,  68], dtype=uint8), Timestamp('2026-04-16 00:00:00'): array([104, 117,  35], dtype=uint8), Timestamp('2026-04-17 00:00:00'): array([115, 222,  37], dtype=uint8), Timestamp('2026-04-18 00:00:00'): array([ 99, 188, 114], dtype=uint8), Timestamp('2026-04-19 00:00:00'): array([116, 170, 201], dtype=uint8), Timestamp('2026-04-20 00:00:00'): array([122,  58, 248], dtype=uint8), Timestamp('2026-04-21 00:00:00'): array([130, 219,  94], dtype=uint8), Timestamp('2026-04-22 00:00:00'): array([126, 206,  18], dtype=uint8), Timestamp('2026-04-23 00:00:00'): array([ 84,  21, 186], dtype=uint8), Timestamp('2026-04-24 00:00:00'): array([113,  47, 205], dtype=uint8), Timestamp('2026-04-25 00:00:00'): array([135,  17, 190], dtype=uint8), Timestamp('2026-04-26 00:00:00'): array([138, 139,  34], dtype=uint8), Timestamp('2026-04-27 00:00:00'): array([108, 226, 123], dtype=uint8), Timestamp('2026-04-28 00:00:00'): array([107,  63,  80], dtype=uint8), Timestamp('2026-04-29 00:00:00'): array([ 78, 243,  47], dtype=uint8), Timestamp('2026-04-30 00:00:00'): array([ 29, 117,  41], dtype=uint8)}\n",
      "-----------------\n",
      "\n",
      "\n",
      "-----------------\n",
      "canvas_dictionary_may_2026: {Timestamp('2026-05-01 00:00:00'): array([77, 22, 76], dtype=uint8), Timestamp('2026-05-02 00:00:00'): array([ 61,  92, 170], dtype=uint8), Timestamp('2026-05-03 00:00:00'): array([ 81,  27, 157], dtype=uint8), Timestamp('2026-05-04 00:00:00'): array([111,  38,  54], dtype=uint8), Timestamp('2026-05-05 00:00:00'): array([100,  60, 108], dtype=uint8), Timestamp('2026-05-06 00:00:00'): array([130, 190, 210], dtype=uint8), Timestamp('2026-05-07 00:00:00'): array([103, 167, 107], dtype=uint8), Timestamp('2026-05-08 00:00:00'): array([121, 180, 117], dtype=uint8), Timestamp('2026-05-09 00:00:00'): array([113, 142,  58], dtype=uint8), Timestamp('2026-05-10 00:00:00'): array([94, 54, 33], dtype=uint8), Timestamp('2026-05-11 00:00:00'): array([ 81, 169,  81], dtype=uint8), Timestamp('2026-05-12 00:00:00'): array([ 85,  67, 165], dtype=uint8), Timestamp('2026-05-13 00:00:00'): array([119, 229, 178], dtype=uint8), Timestamp('2026-05-14 00:00:00'): array([125, 239,  37], dtype=uint8), Timestamp('2026-05-15 00:00:00'): array([100, 219, 250], dtype=uint8), Timestamp('2026-05-16 00:00:00'): array([130, 149,  39], dtype=uint8), Timestamp('2026-05-17 00:00:00'): array([157,  26, 217], dtype=uint8), Timestamp('2026-05-18 00:00:00'): array([ 88, 228, 117], dtype=uint8), Timestamp('2026-05-19 00:00:00'): array([ 53, 172,  25], dtype=uint8), Timestamp('2026-05-20 00:00:00'): array([194, 207, 136], dtype=uint8), Timestamp('2026-05-21 00:00:00'): array([114, 185, 109], dtype=uint8), Timestamp('2026-05-22 00:00:00'): array([142,  88, 250], dtype=uint8), Timestamp('2026-05-23 00:00:00'): array([135, 162, 219], dtype=uint8), Timestamp('2026-05-24 00:00:00'): array([95, 55, 11], dtype=uint8), Timestamp('2026-05-25 00:00:00'): array([ 96, 111, 166], dtype=uint8), Timestamp('2026-05-26 00:00:00'): array([ 77,  36, 255], dtype=uint8), Timestamp('2026-05-27 00:00:00'): array([192, 204,  21], dtype=uint8), Timestamp('2026-05-28 00:00:00'): array([213, 222, 159], dtype=uint8), Timestamp('2026-05-29 00:00:00'): array([ 56, 164, 248], dtype=uint8), Timestamp('2026-05-30 00:00:00'): array([ 76,  72, 203], dtype=uint8), Timestamp('2026-05-31 00:00:00'): array([106,  75, 159], dtype=uint8)}\n",
      "-----------------\n",
      "\n",
      "\n",
      "-----------------\n",
      "canvas_dictionary_june_2026: {Timestamp('2026-06-01 00:00:00'): array([142, 104, 226], dtype=uint8), Timestamp('2026-06-02 00:00:00'): array([145, 176, 171], dtype=uint8), Timestamp('2026-06-03 00:00:00'): array([ 96, 238,  64], dtype=uint8), Timestamp('2026-06-04 00:00:00'): array([ 97, 136, 131], dtype=uint8), Timestamp('2026-06-05 00:00:00'): array([119, 215, 131], dtype=uint8), Timestamp('2026-06-06 00:00:00'): array([ 96,  52, 199], dtype=uint8), Timestamp('2026-06-07 00:00:00'): array([106,  18, 181], dtype=uint8), Timestamp('2026-06-08 00:00:00'): array([103,  16, 217], dtype=uint8), Timestamp('2026-06-09 00:00:00'): array([120,  89, 126], dtype=uint8), Timestamp('2026-06-10 00:00:00'): array([ 95, 144,  72], dtype=uint8), Timestamp('2026-06-11 00:00:00'): array([128, 208, 218], dtype=uint8), Timestamp('2026-06-12 00:00:00'): array([ 52, 204, 229], dtype=uint8), Timestamp('2026-06-13 00:00:00'): array([98, 39, 40], dtype=uint8), Timestamp('2026-06-14 00:00:00'): array([ 56, 133, 160], dtype=uint8), Timestamp('2026-06-15 00:00:00'): array([162,   5, 159], dtype=uint8), Timestamp('2026-06-16 00:00:00'): array([129, 162,  74], dtype=uint8), Timestamp('2026-06-17 00:00:00'): array([115,  72, 244], dtype=uint8), Timestamp('2026-06-18 00:00:00'): array([161, 184,  45], dtype=uint8), Timestamp('2026-06-19 00:00:00'): array([187, 108, 134], dtype=uint8), Timestamp('2026-06-20 00:00:00'): array([ 50,  96, 222], dtype=uint8), Timestamp('2026-06-21 00:00:00'): array([ 30, 125,  32], dtype=uint8), Timestamp('2026-06-22 00:00:00'): array([ 54, 156, 251], dtype=uint8), Timestamp('2026-06-23 00:00:00'): array([132,   3,   4], dtype=uint8), Timestamp('2026-06-24 00:00:00'): array([109,  57, 209], dtype=uint8), Timestamp('2026-06-25 00:00:00'): array([140, 166, 199], dtype=uint8), Timestamp('2026-06-26 00:00:00'): array([106,   7, 147], dtype=uint8), Timestamp('2026-06-27 00:00:00'): array([ 87,  49, 191], dtype=uint8), Timestamp('2026-06-28 00:00:00'): array([ 77, 117,  58], dtype=uint8), Timestamp('2026-06-29 00:00:00'): array([ 96, 129, 218], dtype=uint8), Timestamp('2026-06-30 00:00:00'): array([138, 186, 115], dtype=uint8)}\n",
      "-----------------\n",
      "\n",
      "\n",
      "-----------------\n",
      "canvas_dictionary_july_2026: {Timestamp('2026-07-01 00:00:00'): array([78, 42,  3], dtype=uint8), Timestamp('2026-07-02 00:00:00'): array([128, 160,  50], dtype=uint8), Timestamp('2026-07-03 00:00:00'): array([ 93, 134,  34], dtype=uint8), Timestamp('2026-07-04 00:00:00'): array([113,  87,  74], dtype=uint8), Timestamp('2026-07-05 00:00:00'): array([ 90, 203, 222], dtype=uint8), Timestamp('2026-07-06 00:00:00'): array([113,  23, 123], dtype=uint8), Timestamp('2026-07-07 00:00:00'): array([105, 115, 100], dtype=uint8), Timestamp('2026-07-08 00:00:00'): array([129,  90, 252], dtype=uint8), Timestamp('2026-07-09 00:00:00'): array([129,  10, 118], dtype=uint8), Timestamp('2026-07-10 00:00:00'): array([111, 225, 158], dtype=uint8), Timestamp('2026-07-11 00:00:00'): array([ 94, 148,  39], dtype=uint8), Timestamp('2026-07-12 00:00:00'): array([114,  74, 191], dtype=uint8), Timestamp('2026-07-13 00:00:00'): array([115, 123,  72], dtype=uint8), Timestamp('2026-07-14 00:00:00'): array([126, 232, 217], dtype=uint8), Timestamp('2026-07-15 00:00:00'): array([128, 159, 235], dtype=uint8), Timestamp('2026-07-16 00:00:00'): array([101, 205, 166], dtype=uint8), Timestamp('2026-07-17 00:00:00'): array([134,  63, 119], dtype=uint8), Timestamp('2026-07-18 00:00:00'): array([151,  49, 171], dtype=uint8), Timestamp('2026-07-19 00:00:00'): array([156,  56, 127], dtype=uint8), Timestamp('2026-07-20 00:00:00'): array([137,  32, 197], dtype=uint8), Timestamp('2026-07-21 00:00:00'): array([101, 132, 116], dtype=uint8), Timestamp('2026-07-22 00:00:00'): array([132, 147, 193], dtype=uint8), Timestamp('2026-07-23 00:00:00'): array([120, 220, 227], dtype=uint8), Timestamp('2026-07-24 00:00:00'): array([110, 158,  56], dtype=uint8), Timestamp('2026-07-25 00:00:00'): array([122, 101,   6], dtype=uint8), Timestamp('2026-07-26 00:00:00'): array([135,  33,  87], dtype=uint8), Timestamp('2026-07-27 00:00:00'): array([ 95, 143, 247], dtype=uint8), Timestamp('2026-07-28 00:00:00'): array([112,  18,  45], dtype=uint8), Timestamp('2026-07-29 00:00:00'): array([101,   4, 115], dtype=uint8), Timestamp('2026-07-30 00:00:00'): array([ 92, 206, 143], dtype=uint8), Timestamp('2026-07-31 00:00:00'): array([107, 192, 141], dtype=uint8)}\n",
      "-----------------\n",
      "\n",
      "\n",
      "-----------------\n",
      "canvas_dictionary_august_2026: {Timestamp('2026-08-01 00:00:00'): array([108,  96, 132], dtype=uint8), Timestamp('2026-08-02 00:00:00'): array([126, 175,  74], dtype=uint8), Timestamp('2026-08-03 00:00:00'): array([109,  29, 168], dtype=uint8), Timestamp('2026-08-04 00:00:00'): array([115,  91, 117], dtype=uint8), Timestamp('2026-08-05 00:00:00'): array([121,  50, 144], dtype=uint8), Timestamp('2026-08-06 00:00:00'): array([105,  85, 177], dtype=uint8), Timestamp('2026-08-07 00:00:00'): array([ 99, 122, 210], dtype=uint8), Timestamp('2026-08-08 00:00:00'): array([130, 214,  67], dtype=uint8), Timestamp('2026-08-09 00:00:00'): array([160, 186, 145], dtype=uint8), Timestamp('2026-08-10 00:00:00'): array([117,  11,  20], dtype=uint8), Timestamp('2026-08-11 00:00:00'): array([117, 115, 122], dtype=uint8), Timestamp('2026-08-12 00:00:00'): array([148, 234, 171], dtype=uint8), Timestamp('2026-08-13 00:00:00'): array([88, 15, 36], dtype=uint8), Timestamp('2026-08-14 00:00:00'): array([101, 229, 172], dtype=uint8), Timestamp('2026-08-15 00:00:00'): array([120,  10, 127], dtype=uint8), Timestamp('2026-08-16 00:00:00'): array([110, 175,  24], dtype=uint8), Timestamp('2026-08-17 00:00:00'): array([120, 125,  65], dtype=uint8), Timestamp('2026-08-18 00:00:00'): array([108, 113, 170], dtype=uint8), Timestamp('2026-08-19 00:00:00'): array([ 75, 208, 151], dtype=uint8), Timestamp('2026-08-20 00:00:00'): array([110,  87, 158], dtype=uint8), Timestamp('2026-08-21 00:00:00'): array([117, 213, 117], dtype=uint8), Timestamp('2026-08-22 00:00:00'): array([ 97, 199, 116], dtype=uint8), Timestamp('2026-08-23 00:00:00'): array([129,  53, 240], dtype=uint8), Timestamp('2026-08-24 00:00:00'): array([100, 142, 201], dtype=uint8), Timestamp('2026-08-25 00:00:00'): array([ 80, 193, 200], dtype=uint8), Timestamp('2026-08-26 00:00:00'): array([ 84,  10, 208], dtype=uint8), Timestamp('2026-08-27 00:00:00'): array([105,  39,  47], dtype=uint8), Timestamp('2026-08-28 00:00:00'): array([134,  99, 175], dtype=uint8), Timestamp('2026-08-29 00:00:00'): array([118,  83, 102], dtype=uint8), Timestamp('2026-08-30 00:00:00'): array([130,  17,   9], dtype=uint8), Timestamp('2026-08-31 00:00:00'): array([116,   8, 117], dtype=uint8)}\n",
      "-----------------\n",
      "\n",
      "\n",
      "-----------------\n",
      "canvas_dictionary_september_2026: {Timestamp('2026-09-01 00:00:00'): array([111,  48, 107], dtype=uint8), Timestamp('2026-09-02 00:00:00'): array([144,  44, 245], dtype=uint8), Timestamp('2026-09-03 00:00:00'): array([ 95, 243, 226], dtype=uint8), Timestamp('2026-09-04 00:00:00'): array([158, 238,  38], dtype=uint8), Timestamp('2026-09-05 00:00:00'): array([122,  49, 245], dtype=uint8), Timestamp('2026-09-06 00:00:00'): array([109, 206, 129], dtype=uint8), Timestamp('2026-09-07 00:00:00'): array([112, 114, 114], dtype=uint8), Timestamp('2026-09-08 00:00:00'): array([ 98, 238, 131], dtype=uint8), Timestamp('2026-09-09 00:00:00'): array([104,  51, 222], dtype=uint8), Timestamp('2026-09-10 00:00:00'): array([139,  10, 106], dtype=uint8), Timestamp('2026-09-11 00:00:00'): array([150, 236, 192], dtype=uint8), Timestamp('2026-09-12 00:00:00'): array([ 63, 111,  46], dtype=uint8), Timestamp('2026-09-13 00:00:00'): array([118, 130,  93], dtype=uint8), Timestamp('2026-09-14 00:00:00'): array([127,   2,  32], dtype=uint8), Timestamp('2026-09-15 00:00:00'): array([ 89, 140, 163], dtype=uint8), Timestamp('2026-09-16 00:00:00'): array([ 97,  51, 244], dtype=uint8), Timestamp('2026-09-17 00:00:00'): array([119, 146, 157], dtype=uint8), Timestamp('2026-09-18 00:00:00'): array([ 79, 240,  91], dtype=uint8), Timestamp('2026-09-19 00:00:00'): array([88, 65, 46], dtype=uint8), Timestamp('2026-09-20 00:00:00'): array([ 93, 172, 117], dtype=uint8), Timestamp('2026-09-21 00:00:00'): array([ 68, 221,  54], dtype=uint8), Timestamp('2026-09-22 00:00:00'): array([ 80,  70, 230], dtype=uint8), Timestamp('2026-09-23 00:00:00'): array([122,  86, 249], dtype=uint8), Timestamp('2026-09-24 00:00:00'): array([106, 210, 214], dtype=uint8), Timestamp('2026-09-25 00:00:00'): array([ 82, 249, 101], dtype=uint8), Timestamp('2026-09-26 00:00:00'): array([164, 112,  63], dtype=uint8), Timestamp('2026-09-27 00:00:00'): array([ 80,  72, 159], dtype=uint8), Timestamp('2026-09-28 00:00:00'): array([117, 174, 164], dtype=uint8), Timestamp('2026-09-29 00:00:00'): array([ 97, 182, 178], dtype=uint8), Timestamp('2026-09-30 00:00:00'): array([105,  25,  74], dtype=uint8)}\n",
      "-----------------\n",
      "\n",
      "\n",
      "-----------------\n",
      "canvas_dictionary_october_2026: {Timestamp('2026-10-01 00:00:00'): array([ 95, 132,  66], dtype=uint8), Timestamp('2026-10-02 00:00:00'): array([66, 36, 13], dtype=uint8), Timestamp('2026-10-03 00:00:00'): array([132, 125,  86], dtype=uint8), Timestamp('2026-10-04 00:00:00'): array([137, 161, 224], dtype=uint8), Timestamp('2026-10-05 00:00:00'): array([107, 160,  44], dtype=uint8), Timestamp('2026-10-06 00:00:00'): array([127, 137,  78], dtype=uint8), Timestamp('2026-10-07 00:00:00'): array([101, 185, 210], dtype=uint8), Timestamp('2026-10-08 00:00:00'): array([112, 250, 205], dtype=uint8), Timestamp('2026-10-09 00:00:00'): array([119, 180,  38], dtype=uint8), Timestamp('2026-10-10 00:00:00'): array([130,  39,  34], dtype=uint8), Timestamp('2026-10-11 00:00:00'): array([135, 140,  83], dtype=uint8), Timestamp('2026-10-12 00:00:00'): array([ 46, 170, 196], dtype=uint8), Timestamp('2026-10-13 00:00:00'): array([ 93,  12, 165], dtype=uint8), Timestamp('2026-10-14 00:00:00'): array([ 41,  57, 218], dtype=uint8), Timestamp('2026-10-15 00:00:00'): array([198, 161, 244], dtype=uint8), Timestamp('2026-10-16 00:00:00'): array([ 99, 163, 157], dtype=uint8), Timestamp('2026-10-17 00:00:00'): array([ 99, 142, 245], dtype=uint8), Timestamp('2026-10-18 00:00:00'): array([105, 236, 169], dtype=uint8), Timestamp('2026-10-19 00:00:00'): array([ 92, 200, 148], dtype=uint8), Timestamp('2026-10-20 00:00:00'): array([128, 150, 232], dtype=uint8), Timestamp('2026-10-21 00:00:00'): array([123,  84, 233], dtype=uint8), Timestamp('2026-10-22 00:00:00'): array([82, 65, 33], dtype=uint8), Timestamp('2026-10-23 00:00:00'): array([ 83, 108,   2], dtype=uint8), Timestamp('2026-10-24 00:00:00'): array([130,  59, 132], dtype=uint8), Timestamp('2026-10-25 00:00:00'): array([ 86, 167, 176], dtype=uint8), Timestamp('2026-10-26 00:00:00'): array([118, 138, 128], dtype=uint8), Timestamp('2026-10-27 00:00:00'): array([102, 215, 100], dtype=uint8), Timestamp('2026-10-28 00:00:00'): array([112, 215,  15], dtype=uint8), Timestamp('2026-10-29 00:00:00'): array([105, 225, 158], dtype=uint8), Timestamp('2026-10-30 00:00:00'): array([117,   6, 246], dtype=uint8), Timestamp('2026-10-31 00:00:00'): array([107,  83,  67], dtype=uint8)}\n",
      "-----------------\n",
      "\n",
      "\n",
      "-----------------\n",
      "canvas_dictionary_november_2026: {Timestamp('2026-11-01 00:00:00'): array([104, 168, 190], dtype=uint8), Timestamp('2026-11-02 00:00:00'): array([124, 138,  40], dtype=uint8), Timestamp('2026-11-03 00:00:00'): array([109, 255, 179], dtype=uint8), Timestamp('2026-11-04 00:00:00'): array([127,  79, 124], dtype=uint8), Timestamp('2026-11-05 00:00:00'): array([105, 107, 215], dtype=uint8), Timestamp('2026-11-06 00:00:00'): array([93, 14, 55], dtype=uint8), Timestamp('2026-11-07 00:00:00'): array([ 93, 201, 134], dtype=uint8), Timestamp('2026-11-08 00:00:00'): array([127, 102,  53], dtype=uint8), Timestamp('2026-11-09 00:00:00'): array([101, 108, 163], dtype=uint8), Timestamp('2026-11-10 00:00:00'): array([108,  16,  67], dtype=uint8), Timestamp('2026-11-11 00:00:00'): array([ 96,  50, 137], dtype=uint8), Timestamp('2026-11-12 00:00:00'): array([129, 248, 171], dtype=uint8), Timestamp('2026-11-13 00:00:00'): array([115, 123, 206], dtype=uint8), Timestamp('2026-11-14 00:00:00'): array([135, 191,  51], dtype=uint8), Timestamp('2026-11-15 00:00:00'): array([132,  95, 158], dtype=uint8), Timestamp('2026-11-16 00:00:00'): array([114,  52, 242], dtype=uint8), Timestamp('2026-11-17 00:00:00'): array([108, 239, 214], dtype=uint8), Timestamp('2026-11-18 00:00:00'): array([114, 248, 162], dtype=uint8), Timestamp('2026-11-19 00:00:00'): array([ 78,  69, 181], dtype=uint8), Timestamp('2026-11-20 00:00:00'): array([ 83, 160,   4], dtype=uint8), Timestamp('2026-11-21 00:00:00'): array([90, 89, 46], dtype=uint8), Timestamp('2026-11-22 00:00:00'): array([ 87, 243,  53], dtype=uint8), Timestamp('2026-11-23 00:00:00'): array([ 89, 149,  24], dtype=uint8), Timestamp('2026-11-24 00:00:00'): array([100, 119, 132], dtype=uint8), Timestamp('2026-11-25 00:00:00'): array([ 90, 196, 154], dtype=uint8), Timestamp('2026-11-26 00:00:00'): array([106,  86, 156], dtype=uint8), Timestamp('2026-11-27 00:00:00'): array([100,  31, 235], dtype=uint8), Timestamp('2026-11-28 00:00:00'): array([110, 177, 172], dtype=uint8), Timestamp('2026-11-29 00:00:00'): array([113, 165, 180], dtype=uint8), Timestamp('2026-11-30 00:00:00'): array([121, 219, 146], dtype=uint8)}\n",
      "-----------------\n",
      "\n",
      "\n",
      "-----------------\n",
      "canvas_dictionary_december_2026: {Timestamp('2026-12-01 00:00:00'): array([ 58, 187,   8], dtype=uint8), Timestamp('2026-12-02 00:00:00'): array([ 57,  76, 146], dtype=uint8), Timestamp('2026-12-03 00:00:00'): array([ 69, 210,  33], dtype=uint8), Timestamp('2026-12-04 00:00:00'): array([125, 178,  10], dtype=uint8), Timestamp('2026-12-05 00:00:00'): array([ 73, 171, 236], dtype=uint8), Timestamp('2026-12-06 00:00:00'): array([159,   0,  66], dtype=uint8), Timestamp('2026-12-07 00:00:00'): array([99, 67, 11], dtype=uint8), Timestamp('2026-12-08 00:00:00'): array([ 99, 244, 173], dtype=uint8), Timestamp('2026-12-09 00:00:00'): array([118,  23,  50], dtype=uint8), Timestamp('2026-12-10 00:00:00'): array([ 71, 230, 190], dtype=uint8), Timestamp('2026-12-11 00:00:00'): array([ 42, 210, 231], dtype=uint8), Timestamp('2026-12-12 00:00:00'): array([99, 10, 90], dtype=uint8), Timestamp('2026-12-13 00:00:00'): array([ 86, 106, 200], dtype=uint8), Timestamp('2026-12-14 00:00:00'): array([ 62, 230,  30], dtype=uint8), Timestamp('2026-12-15 00:00:00'): array([152, 116, 187], dtype=uint8), Timestamp('2026-12-16 00:00:00'): array([62, 93,  7], dtype=uint8), Timestamp('2026-12-17 00:00:00'): array([108, 128,   3], dtype=uint8), Timestamp('2026-12-18 00:00:00'): array([ 81, 171,  62], dtype=uint8), Timestamp('2026-12-19 00:00:00'): array([ 75, 192, 235], dtype=uint8), Timestamp('2026-12-20 00:00:00'): array([ 98, 117,  95], dtype=uint8), Timestamp('2026-12-21 00:00:00'): array([115, 199,  29], dtype=uint8), Timestamp('2026-12-22 00:00:00'): array([123,  82, 139], dtype=uint8), Timestamp('2026-12-23 00:00:00'): array([109, 126,  74], dtype=uint8), Timestamp('2026-12-24 00:00:00'): array([112, 172, 210], dtype=uint8), Timestamp('2026-12-25 00:00:00'): array([ 98, 214,  83], dtype=uint8), Timestamp('2026-12-26 00:00:00'): array([107, 205,  29], dtype=uint8), Timestamp('2026-12-27 00:00:00'): array([116, 137, 215], dtype=uint8), Timestamp('2026-12-28 00:00:00'): array([124,  12, 171], dtype=uint8), Timestamp('2026-12-29 00:00:00'): array([ 63,   7, 100], dtype=uint8), Timestamp('2026-12-30 00:00:00'): array([ 30, 164, 159], dtype=uint8), Timestamp('2026-12-31 00:00:00'): array([ 69, 231,   3], dtype=uint8)}\n",
      "-----------------\n",
      "\n",
      "\n",
      "-----------------\n",
      "canvas_dictionary_january_2027: {Timestamp('2027-01-01 00:00:00'): array([109,  61, 146], dtype=uint8), Timestamp('2027-01-02 00:00:00'): array([69, 36, 99], dtype=uint8), Timestamp('2027-01-03 00:00:00'): array([ 94, 170,  73], dtype=uint8), Timestamp('2027-01-04 00:00:00'): array([ 89, 153, 186], dtype=uint8), Timestamp('2027-01-05 00:00:00'): array([ 83,  15, 125], dtype=uint8), Timestamp('2027-01-06 00:00:00'): array([ 55, 194, 245], dtype=uint8), Timestamp('2027-01-07 00:00:00'): array([121, 173,  33], dtype=uint8), Timestamp('2027-01-08 00:00:00'): array([ 82, 117,  28], dtype=uint8), Timestamp('2027-01-09 00:00:00'): array([83, 91, 77], dtype=uint8), Timestamp('2027-01-10 00:00:00'): array([ 93, 250,  13], dtype=uint8), Timestamp('2027-01-11 00:00:00'): array([125, 253, 146], dtype=uint8), Timestamp('2027-01-12 00:00:00'): array([132,  64,  69], dtype=uint8), Timestamp('2027-01-13 00:00:00'): array([ 89, 108, 188], dtype=uint8), Timestamp('2027-01-14 00:00:00'): array([144,  11, 165], dtype=uint8), Timestamp('2027-01-15 00:00:00'): array([116,  49, 174], dtype=uint8), Timestamp('2027-01-16 00:00:00'): array([ 99, 186, 236], dtype=uint8), Timestamp('2027-01-17 00:00:00'): array([115,  49,  56], dtype=uint8), Timestamp('2027-01-18 00:00:00'): array([116,  76,  27], dtype=uint8), Timestamp('2027-01-19 00:00:00'): array([ 93, 241, 210], dtype=uint8), Timestamp('2027-01-20 00:00:00'): array([ 77, 149,  69], dtype=uint8), Timestamp('2027-01-21 00:00:00'): array([ 67, 102, 103], dtype=uint8), Timestamp('2027-01-22 00:00:00'): array([125,  16, 180], dtype=uint8), Timestamp('2027-01-23 00:00:00'): array([107, 115, 166], dtype=uint8), Timestamp('2027-01-24 00:00:00'): array([106, 217,  73], dtype=uint8), Timestamp('2027-01-25 00:00:00'): array([110, 159,  56], dtype=uint8), Timestamp('2027-01-26 00:00:00'): array([122, 165, 152], dtype=uint8), Timestamp('2027-01-27 00:00:00'): array([129,  13, 116], dtype=uint8), Timestamp('2027-01-28 00:00:00'): array([ 80, 221, 172], dtype=uint8), Timestamp('2027-01-29 00:00:00'): array([133,  58,  57], dtype=uint8), Timestamp('2027-01-30 00:00:00'): array([120, 135, 221], dtype=uint8), Timestamp('2027-01-31 00:00:00'): array([113, 207,  36], dtype=uint8)}\n",
      "-----------------\n",
      "\n",
      "\n",
      "-----------------\n",
      "canvas_dictionary_february_2027: {Timestamp('2027-02-01 00:00:00'): array([129, 121, 120], dtype=uint8), Timestamp('2027-02-02 00:00:00'): array([ 97, 185,   6], dtype=uint8), Timestamp('2027-02-03 00:00:00'): array([122,  64,  78], dtype=uint8), Timestamp('2027-02-04 00:00:00'): array([ 99, 112,  53], dtype=uint8), Timestamp('2027-02-05 00:00:00'): array([99, 39, 80], dtype=uint8), Timestamp('2027-02-06 00:00:00'): array([ 89, 230,  55], dtype=uint8), Timestamp('2027-02-07 00:00:00'): array([106, 230, 215], dtype=uint8), Timestamp('2027-02-08 00:00:00'): array([ 91,  47, 190], dtype=uint8), Timestamp('2027-02-09 00:00:00'): array([128,  37, 105], dtype=uint8), Timestamp('2027-02-10 00:00:00'): array([ 98, 240, 135], dtype=uint8), Timestamp('2027-02-11 00:00:00'): array([108, 242, 138], dtype=uint8), Timestamp('2027-02-12 00:00:00'): array([138, 203, 164], dtype=uint8), Timestamp('2027-02-13 00:00:00'): array([140, 131, 214], dtype=uint8), Timestamp('2027-02-14 00:00:00'): array([ 80, 157, 239], dtype=uint8), Timestamp('2027-02-15 00:00:00'): array([111, 192,  99], dtype=uint8), Timestamp('2027-02-16 00:00:00'): array([116, 140, 247], dtype=uint8), Timestamp('2027-02-17 00:00:00'): array([128,  14,  12], dtype=uint8), Timestamp('2027-02-18 00:00:00'): array([109,  92, 135], dtype=uint8), Timestamp('2027-02-19 00:00:00'): array([123, 248, 182], dtype=uint8), Timestamp('2027-02-20 00:00:00'): array([105, 220, 116], dtype=uint8), Timestamp('2027-02-21 00:00:00'): array([109,  38, 109], dtype=uint8), Timestamp('2027-02-22 00:00:00'): array([115,   7, 195], dtype=uint8), Timestamp('2027-02-23 00:00:00'): array([115,  31, 250], dtype=uint8), Timestamp('2027-02-24 00:00:00'): array([ 82, 104,  16], dtype=uint8), Timestamp('2027-02-25 00:00:00'): array([111, 237,  47], dtype=uint8), Timestamp('2027-02-26 00:00:00'): array([112, 133, 185], dtype=uint8), Timestamp('2027-02-27 00:00:00'): array([ 86,  10, 182], dtype=uint8), Timestamp('2027-02-28 00:00:00'): array([ 97, 252, 192], dtype=uint8)}\n",
      "-----------------\n",
      "\n",
      "\n",
      "-----------------\n",
      "canvas_dictionary_march_2027: {Timestamp('2027-03-01 00:00:00'): array([134, 153,  94], dtype=uint8), Timestamp('2027-03-02 00:00:00'): array([160, 154, 198], dtype=uint8), Timestamp('2027-03-03 00:00:00'): array([ 95, 147, 159], dtype=uint8), Timestamp('2027-03-04 00:00:00'): array([103,  78,  23], dtype=uint8), Timestamp('2027-03-05 00:00:00'): array([ 93, 232,  47], dtype=uint8), Timestamp('2027-03-06 00:00:00'): array([117, 212, 229], dtype=uint8), Timestamp('2027-03-07 00:00:00'): array([100, 224, 162], dtype=uint8), Timestamp('2027-03-08 00:00:00'): array([ 87, 238,  50], dtype=uint8), Timestamp('2027-03-09 00:00:00'): array([135,  86, 253], dtype=uint8), Timestamp('2027-03-10 00:00:00'): array([107, 171, 224], dtype=uint8), Timestamp('2027-03-11 00:00:00'): array([112, 180, 242], dtype=uint8), Timestamp('2027-03-12 00:00:00'): array([ 92, 218, 146], dtype=uint8), Timestamp('2027-03-13 00:00:00'): array([118, 149,  30], dtype=uint8), Timestamp('2027-03-14 00:00:00'): array([ 97, 127,  41], dtype=uint8), Timestamp('2027-03-15 00:00:00'): array([116, 126, 203], dtype=uint8), Timestamp('2027-03-16 00:00:00'): array([ 92,   9, 107], dtype=uint8), Timestamp('2027-03-17 00:00:00'): array([120,  48,  96], dtype=uint8), Timestamp('2027-03-18 00:00:00'): array([122, 150,  17], dtype=uint8), Timestamp('2027-03-19 00:00:00'): array([114, 188, 136], dtype=uint8), Timestamp('2027-03-20 00:00:00'): array([107,  17,  77], dtype=uint8), Timestamp('2027-03-21 00:00:00'): array([112, 249,   4], dtype=uint8), Timestamp('2027-03-22 00:00:00'): array([108, 232,  16], dtype=uint8), Timestamp('2027-03-23 00:00:00'): array([105, 205, 108], dtype=uint8), Timestamp('2027-03-24 00:00:00'): array([ 97,  34, 214], dtype=uint8), Timestamp('2027-03-25 00:00:00'): array([ 85,   7, 143], dtype=uint8), Timestamp('2027-03-26 00:00:00'): array([149,  70, 163], dtype=uint8), Timestamp('2027-03-27 00:00:00'): array([137, 226,  31], dtype=uint8), Timestamp('2027-03-28 00:00:00'): array([122,  31,  38], dtype=uint8), Timestamp('2027-03-29 00:00:00'): array([114,  83, 147], dtype=uint8), Timestamp('2027-03-30 00:00:00'): array([107, 143,  78], dtype=uint8), Timestamp('2027-03-31 00:00:00'): array([126, 106, 102], dtype=uint8)}\n",
      "-----------------\n",
      "\n",
      "\n",
      "-----------------\n",
      "canvas_dictionary_april_2027: {Timestamp('2027-04-01 00:00:00'): array([115, 123, 140], dtype=uint8), Timestamp('2027-04-02 00:00:00'): array([140, 215, 170], dtype=uint8), Timestamp('2027-04-03 00:00:00'): array([101, 196, 165], dtype=uint8), Timestamp('2027-04-04 00:00:00'): array([ 84, 145, 220], dtype=uint8), Timestamp('2027-04-05 00:00:00'): array([125, 152, 160], dtype=uint8), Timestamp('2027-04-06 00:00:00'): array([142, 178, 180], dtype=uint8), Timestamp('2027-04-07 00:00:00'): array([85, 44, 30], dtype=uint8), Timestamp('2027-04-08 00:00:00'): array([ 65, 180,  30], dtype=uint8), Timestamp('2027-04-09 00:00:00'): array([ 70,  27, 239], dtype=uint8), Timestamp('2027-04-10 00:00:00'): array([167,  45,  17], dtype=uint8), Timestamp('2027-04-11 00:00:00'): array([126, 119,  41], dtype=uint8), Timestamp('2027-04-12 00:00:00'): array([63, 58, 84], dtype=uint8), Timestamp('2027-04-13 00:00:00'): array([ 48, 174, 109], dtype=uint8), Timestamp('2027-04-14 00:00:00'): array([ 28,  93, 189], dtype=uint8), Timestamp('2027-04-15 00:00:00'): array([165, 125,  12], dtype=uint8), Timestamp('2027-04-16 00:00:00'): array([ 70, 159, 161], dtype=uint8), Timestamp('2027-04-17 00:00:00'): array([119, 170,  52], dtype=uint8), Timestamp('2027-04-18 00:00:00'): array([ 73, 241,  22], dtype=uint8), Timestamp('2027-04-19 00:00:00'): array([115, 237,  95], dtype=uint8), Timestamp('2027-04-20 00:00:00'): array([ 79, 156, 188], dtype=uint8), Timestamp('2027-04-21 00:00:00'): array([ 43, 107,  17], dtype=uint8), Timestamp('2027-04-22 00:00:00'): array([228,   8, 205], dtype=uint8), Timestamp('2027-04-23 00:00:00'): array([150,  15, 121], dtype=uint8), Timestamp('2027-04-24 00:00:00'): array([ 91, 239,   7], dtype=uint8), Timestamp('2027-04-25 00:00:00'): array([148, 118, 150], dtype=uint8), Timestamp('2027-04-26 00:00:00'): array([104,  15, 138], dtype=uint8), Timestamp('2027-04-27 00:00:00'): array([146,  49, 199], dtype=uint8), Timestamp('2027-04-28 00:00:00'): array([ 71, 217, 163], dtype=uint8), Timestamp('2027-04-29 00:00:00'): array([113,  60, 216], dtype=uint8), Timestamp('2027-04-30 00:00:00'): array([113, 145, 129], dtype=uint8)}\n",
      "-----------------\n",
      "\n",
      "\n",
      "-----------------\n",
      "canvas_dictionary_may_2027: {Timestamp('2027-05-01 00:00:00'): array([133, 200, 226], dtype=uint8), Timestamp('2027-05-02 00:00:00'): array([125, 153,  67], dtype=uint8), Timestamp('2027-05-03 00:00:00'): array([ 94, 143,  11], dtype=uint8), Timestamp('2027-05-04 00:00:00'): array([108,   0,  20], dtype=uint8), Timestamp('2027-05-05 00:00:00'): array([93, 70, 16], dtype=uint8), Timestamp('2027-05-06 00:00:00'): array([132,  19,  17], dtype=uint8), Timestamp('2027-05-07 00:00:00'): array([ 70, 114, 185], dtype=uint8), Timestamp('2027-05-08 00:00:00'): array([124, 125,  92], dtype=uint8), Timestamp('2027-05-09 00:00:00'): array([119, 224,  74], dtype=uint8), Timestamp('2027-05-10 00:00:00'): array([122, 254, 116], dtype=uint8), Timestamp('2027-05-11 00:00:00'): array([ 57,  97, 111], dtype=uint8), Timestamp('2027-05-12 00:00:00'): array([200, 221,  50], dtype=uint8), Timestamp('2027-05-13 00:00:00'): array([109,   0, 174], dtype=uint8), Timestamp('2027-05-14 00:00:00'): array([112, 136, 116], dtype=uint8), Timestamp('2027-05-15 00:00:00'): array([118, 174,  23], dtype=uint8), Timestamp('2027-05-16 00:00:00'): array([96, 94, 86], dtype=uint8), Timestamp('2027-05-17 00:00:00'): array([144, 251,  97], dtype=uint8), Timestamp('2027-05-18 00:00:00'): array([103,  56, 244], dtype=uint8), Timestamp('2027-05-19 00:00:00'): array([132,  14, 220], dtype=uint8), Timestamp('2027-05-20 00:00:00'): array([119,  35, 103], dtype=uint8), Timestamp('2027-05-21 00:00:00'): array([ 94,  22, 101], dtype=uint8), Timestamp('2027-05-22 00:00:00'): array([ 98,  10, 221], dtype=uint8), Timestamp('2027-05-23 00:00:00'): array([121,  35, 236], dtype=uint8), Timestamp('2027-05-24 00:00:00'): array([ 92, 224,  10], dtype=uint8), Timestamp('2027-05-25 00:00:00'): array([117,  66,  36], dtype=uint8), Timestamp('2027-05-26 00:00:00'): array([ 62, 207, 182], dtype=uint8), Timestamp('2027-05-27 00:00:00'): array([140,  75, 162], dtype=uint8), Timestamp('2027-05-28 00:00:00'): array([82, 25, 24], dtype=uint8), Timestamp('2027-05-29 00:00:00'): array([147,  68, 187], dtype=uint8), Timestamp('2027-05-30 00:00:00'): array([104,  69, 152], dtype=uint8), Timestamp('2027-05-31 00:00:00'): array([144,  59, 161], dtype=uint8)}\n",
      "-----------------\n",
      "\n",
      "\n",
      "-----------------\n",
      "canvas_dictionary_june_2027: {Timestamp('2027-06-01 00:00:00'): array([106,  94,  49], dtype=uint8), Timestamp('2027-06-02 00:00:00'): array([109, 131, 228], dtype=uint8), Timestamp('2027-06-03 00:00:00'): array([134,  23, 255], dtype=uint8), Timestamp('2027-06-04 00:00:00'): array([78, 17, 67], dtype=uint8), Timestamp('2027-06-05 00:00:00'): array([124, 166,  42], dtype=uint8), Timestamp('2027-06-06 00:00:00'): array([ 92, 128, 212], dtype=uint8), Timestamp('2027-06-07 00:00:00'): array([ 87, 193, 157], dtype=uint8), Timestamp('2027-06-08 00:00:00'): array([110, 254,  74], dtype=uint8), Timestamp('2027-06-09 00:00:00'): array([ 89, 160, 241], dtype=uint8), Timestamp('2027-06-10 00:00:00'): array([ 83, 117, 231], dtype=uint8), Timestamp('2027-06-11 00:00:00'): array([86, 91, 51], dtype=uint8), Timestamp('2027-06-12 00:00:00'): array([125, 224, 149], dtype=uint8), Timestamp('2027-06-13 00:00:00'): array([89, 80, 18], dtype=uint8), Timestamp('2027-06-14 00:00:00'): array([114, 170,  46], dtype=uint8), Timestamp('2027-06-15 00:00:00'): array([100,  89, 204], dtype=uint8), Timestamp('2027-06-16 00:00:00'): array([113,  29, 223], dtype=uint8), Timestamp('2027-06-17 00:00:00'): array([127, 185, 150], dtype=uint8), Timestamp('2027-06-18 00:00:00'): array([105, 188, 138], dtype=uint8), Timestamp('2027-06-19 00:00:00'): array([110, 239, 231], dtype=uint8), Timestamp('2027-06-20 00:00:00'): array([140, 131, 251], dtype=uint8), Timestamp('2027-06-21 00:00:00'): array([134, 250,  34], dtype=uint8), Timestamp('2027-06-22 00:00:00'): array([ 42, 101, 255], dtype=uint8), Timestamp('2027-06-23 00:00:00'): array([ 87, 126,  93], dtype=uint8), Timestamp('2027-06-24 00:00:00'): array([111,  28,  57], dtype=uint8), Timestamp('2027-06-25 00:00:00'): array([ 99, 106, 123], dtype=uint8), Timestamp('2027-06-26 00:00:00'): array([115,  89, 244], dtype=uint8), Timestamp('2027-06-27 00:00:00'): array([137, 206, 159], dtype=uint8), Timestamp('2027-06-28 00:00:00'): array([147, 203, 192], dtype=uint8), Timestamp('2027-06-29 00:00:00'): array([110, 155, 173], dtype=uint8), Timestamp('2027-06-30 00:00:00'): array([137, 118, 158], dtype=uint8)}\n",
      "-----------------\n",
      "\n",
      "\n",
      "-----------------\n",
      "canvas_dictionary_july_2027: {Timestamp('2027-07-01 00:00:00'): array([ 67,  98, 242], dtype=uint8), Timestamp('2027-07-02 00:00:00'): array([135,  14, 241], dtype=uint8), Timestamp('2027-07-03 00:00:00'): array([ 65,  39, 192], dtype=uint8), Timestamp('2027-07-04 00:00:00'): array([ 93, 200, 254], dtype=uint8), Timestamp('2027-07-05 00:00:00'): array([126, 111, 161], dtype=uint8), Timestamp('2027-07-06 00:00:00'): array([116, 125,  14], dtype=uint8), Timestamp('2027-07-07 00:00:00'): array([113,  63, 174], dtype=uint8), Timestamp('2027-07-08 00:00:00'): array([ 92, 142, 229], dtype=uint8), Timestamp('2027-07-09 00:00:00'): array([ 69,  91, 188], dtype=uint8), Timestamp('2027-07-10 00:00:00'): array([117, 250,  83], dtype=uint8), Timestamp('2027-07-11 00:00:00'): array([132, 231, 227], dtype=uint8), Timestamp('2027-07-12 00:00:00'): array([109, 168, 111], dtype=uint8), Timestamp('2027-07-13 00:00:00'): array([100, 103, 188], dtype=uint8), Timestamp('2027-07-14 00:00:00'): array([ 90, 219,  95], dtype=uint8), Timestamp('2027-07-15 00:00:00'): array([ 89, 255, 120], dtype=uint8), Timestamp('2027-07-16 00:00:00'): array([100,  50,  13], dtype=uint8), Timestamp('2027-07-17 00:00:00'): array([ 83,  54, 140], dtype=uint8), Timestamp('2027-07-18 00:00:00'): array([98, 44, 20], dtype=uint8), Timestamp('2027-07-19 00:00:00'): array([ 82, 186, 232], dtype=uint8), Timestamp('2027-07-20 00:00:00'): array([135, 134,  38], dtype=uint8), Timestamp('2027-07-21 00:00:00'): array([145, 167, 190], dtype=uint8), Timestamp('2027-07-22 00:00:00'): array([114,  75,   8], dtype=uint8), Timestamp('2027-07-23 00:00:00'): array([ 24, 240,   1], dtype=uint8), Timestamp('2027-07-24 00:00:00'): array([57, 35, 60], dtype=uint8), Timestamp('2027-07-25 00:00:00'): array([183, 122,  94], dtype=uint8), Timestamp('2027-07-26 00:00:00'): array([119, 208, 118], dtype=uint8), Timestamp('2027-07-27 00:00:00'): array([77, 71, 73], dtype=uint8), Timestamp('2027-07-28 00:00:00'): array([169, 186, 232], dtype=uint8), Timestamp('2027-07-29 00:00:00'): array([ 85,  45, 229], dtype=uint8), Timestamp('2027-07-30 00:00:00'): array([102,  66, 140], dtype=uint8), Timestamp('2027-07-31 00:00:00'): array([105, 104,  38], dtype=uint8)}\n",
      "-----------------\n",
      "\n",
      "\n",
      "-----------------\n",
      "canvas_dictionary_august_2027: {Timestamp('2027-08-01 00:00:00'): array([112, 115,  93], dtype=uint8), Timestamp('2027-08-02 00:00:00'): array([128,  63, 156], dtype=uint8), Timestamp('2027-08-03 00:00:00'): array([133,  23, 163], dtype=uint8), Timestamp('2027-08-04 00:00:00'): array([138, 102,  29], dtype=uint8), Timestamp('2027-08-05 00:00:00'): array([ 87,  42, 220], dtype=uint8), Timestamp('2027-08-06 00:00:00'): array([116, 246, 225], dtype=uint8), Timestamp('2027-08-07 00:00:00'): array([139, 236, 186], dtype=uint8), Timestamp('2027-08-08 00:00:00'): array([131,  96, 128], dtype=uint8), Timestamp('2027-08-09 00:00:00'): array([166,  28, 224], dtype=uint8), Timestamp('2027-08-10 00:00:00'): array([ 77, 246, 180], dtype=uint8), Timestamp('2027-08-11 00:00:00'): array([ 92, 194,  90], dtype=uint8), Timestamp('2027-08-12 00:00:00'): array([128, 236,  25], dtype=uint8), Timestamp('2027-08-13 00:00:00'): array([ 90, 244, 179], dtype=uint8), Timestamp('2027-08-14 00:00:00'): array([ 94, 207,  95], dtype=uint8), Timestamp('2027-08-15 00:00:00'): array([ 94, 203, 145], dtype=uint8), Timestamp('2027-08-16 00:00:00'): array([99, 34, 54], dtype=uint8), Timestamp('2027-08-17 00:00:00'): array([106, 253, 143], dtype=uint8), Timestamp('2027-08-18 00:00:00'): array([117, 188,  89], dtype=uint8), Timestamp('2027-08-19 00:00:00'): array([ 97, 173,   2], dtype=uint8), Timestamp('2027-08-20 00:00:00'): array([ 85, 139,  25], dtype=uint8), Timestamp('2027-08-21 00:00:00'): array([154, 119,  17], dtype=uint8), Timestamp('2027-08-22 00:00:00'): array([123,  24,  66], dtype=uint8), Timestamp('2027-08-23 00:00:00'): array([171,  77, 202], dtype=uint8), Timestamp('2027-08-24 00:00:00'): array([127, 158, 238], dtype=uint8), Timestamp('2027-08-25 00:00:00'): array([ 75,  35, 252], dtype=uint8), Timestamp('2027-08-26 00:00:00'): array([101,  24, 212], dtype=uint8), Timestamp('2027-08-27 00:00:00'): array([144,   3, 126], dtype=uint8), Timestamp('2027-08-28 00:00:00'): array([124, 178, 217], dtype=uint8), Timestamp('2027-08-29 00:00:00'): array([ 83, 236, 201], dtype=uint8), Timestamp('2027-08-30 00:00:00'): array([115,  45,  10], dtype=uint8), Timestamp('2027-08-31 00:00:00'): array([ 82, 152, 234], dtype=uint8)}\n",
      "-----------------\n",
      "\n",
      "\n",
      "-----------------\n",
      "canvas_dictionary_september_2027: {Timestamp('2027-09-01 00:00:00'): array([119, 112, 184], dtype=uint8), Timestamp('2027-09-02 00:00:00'): array([127,  92,  45], dtype=uint8), Timestamp('2027-09-03 00:00:00'): array([ 97, 186, 203], dtype=uint8), Timestamp('2027-09-04 00:00:00'): array([126,  40,  57], dtype=uint8), Timestamp('2027-09-05 00:00:00'): array([109, 237, 198], dtype=uint8), Timestamp('2027-09-06 00:00:00'): array([106,  78, 143], dtype=uint8), Timestamp('2027-09-07 00:00:00'): array([126,  78, 242], dtype=uint8), Timestamp('2027-09-08 00:00:00'): array([102,  85,   6], dtype=uint8), Timestamp('2027-09-09 00:00:00'): array([133, 197, 140], dtype=uint8), Timestamp('2027-09-10 00:00:00'): array([ 81, 197,  45], dtype=uint8), Timestamp('2027-09-11 00:00:00'): array([195,  94, 113], dtype=uint8), Timestamp('2027-09-12 00:00:00'): array([255, 255, 255], dtype=uint8), Timestamp('2027-09-13 00:00:00'): array([208,  12, 143], dtype=uint8), Timestamp('2027-09-14 00:00:00'): array([153, 136, 218], dtype=uint8), Timestamp('2027-09-15 00:00:00'): array([106,  61, 196], dtype=uint8), Timestamp('2027-09-16 00:00:00'): array([124,  93,  29], dtype=uint8), Timestamp('2027-09-17 00:00:00'): array([125,  53, 203], dtype=uint8), Timestamp('2027-09-18 00:00:00'): array([125,  20,  69], dtype=uint8), Timestamp('2027-09-19 00:00:00'): array([ 99, 202, 159], dtype=uint8), Timestamp('2027-09-20 00:00:00'): array([126,  31, 105], dtype=uint8), Timestamp('2027-09-21 00:00:00'): array([119,  49, 174], dtype=uint8), Timestamp('2027-09-22 00:00:00'): array([104,  80, 229], dtype=uint8), Timestamp('2027-09-23 00:00:00'): array([ 71, 225,  43], dtype=uint8), Timestamp('2027-09-24 00:00:00'): array([152,  15, 155], dtype=uint8), Timestamp('2027-09-25 00:00:00'): array([ 62, 131,  60], dtype=uint8), Timestamp('2027-09-26 00:00:00'): array([107,  77,  18], dtype=uint8), Timestamp('2027-09-27 00:00:00'): array([ 85, 188, 175], dtype=uint8), Timestamp('2027-09-28 00:00:00'): array([124, 107,  85], dtype=uint8), Timestamp('2027-09-29 00:00:00'): array([ 97, 240, 230], dtype=uint8), Timestamp('2027-09-30 00:00:00'): array([ 76, 130, 242], dtype=uint8)}\n",
      "-----------------\n",
      "\n",
      "\n",
      "-----------------\n",
      "canvas_dictionary_october_2027: {Timestamp('2027-10-01 00:00:00'): array([ 42, 225, 153], dtype=uint8), Timestamp('2027-10-02 00:00:00'): array([ 89, 193, 155], dtype=uint8), Timestamp('2027-10-03 00:00:00'): array([132, 124, 155], dtype=uint8), Timestamp('2027-10-04 00:00:00'): array([ 64, 135, 156], dtype=uint8), Timestamp('2027-10-05 00:00:00'): array([119, 109, 135], dtype=uint8), Timestamp('2027-10-06 00:00:00'): array([149,  10,  58], dtype=uint8), Timestamp('2027-10-07 00:00:00'): array([133, 143, 188], dtype=uint8), Timestamp('2027-10-08 00:00:00'): array([132, 191, 111], dtype=uint8), Timestamp('2027-10-09 00:00:00'): array([ 80,  48, 175], dtype=uint8), Timestamp('2027-10-10 00:00:00'): array([111,  39, 252], dtype=uint8), Timestamp('2027-10-11 00:00:00'): array([ 69, 252, 107], dtype=uint8), Timestamp('2027-10-12 00:00:00'): array([144,  11, 159], dtype=uint8), Timestamp('2027-10-13 00:00:00'): array([167, 200, 202], dtype=uint8), Timestamp('2027-10-14 00:00:00'): array([ 45, 173, 143], dtype=uint8), Timestamp('2027-10-15 00:00:00'): array([133,  42,  50], dtype=uint8), Timestamp('2027-10-16 00:00:00'): array([106, 165, 129], dtype=uint8), Timestamp('2027-10-17 00:00:00'): array([142, 133, 174], dtype=uint8), Timestamp('2027-10-18 00:00:00'): array([118,  56, 250], dtype=uint8), Timestamp('2027-10-19 00:00:00'): array([117, 225, 170], dtype=uint8), Timestamp('2027-10-20 00:00:00'): array([133, 197,  11], dtype=uint8), Timestamp('2027-10-21 00:00:00'): array([110, 221,  70], dtype=uint8), Timestamp('2027-10-22 00:00:00'): array([124,  78, 208], dtype=uint8), Timestamp('2027-10-23 00:00:00'): array([ 68, 180,  24], dtype=uint8), Timestamp('2027-10-24 00:00:00'): array([104,  69,  35], dtype=uint8), Timestamp('2027-10-25 00:00:00'): array([123, 237, 220], dtype=uint8), Timestamp('2027-10-26 00:00:00'): array([ 94, 130, 173], dtype=uint8), Timestamp('2027-10-27 00:00:00'): array([ 95,  38, 208], dtype=uint8), Timestamp('2027-10-28 00:00:00'): array([176,  56, 134], dtype=uint8), Timestamp('2027-10-29 00:00:00'): array([ 96, 234, 111], dtype=uint8), Timestamp('2027-10-30 00:00:00'): array([165, 177, 211], dtype=uint8), Timestamp('2027-10-31 00:00:00'): array([120,  58, 158], dtype=uint8)}\n",
      "-----------------\n",
      "\n",
      "\n",
      "-----------------\n",
      "canvas_dictionary_november_2027: {Timestamp('2027-11-01 00:00:00'): array([101, 198, 117], dtype=uint8), Timestamp('2027-11-02 00:00:00'): array([108, 107, 253], dtype=uint8), Timestamp('2027-11-03 00:00:00'): array([100, 108,  14], dtype=uint8), Timestamp('2027-11-04 00:00:00'): array([ 99,  10, 109], dtype=uint8), Timestamp('2027-11-05 00:00:00'): array([112, 226,  74], dtype=uint8), Timestamp('2027-11-06 00:00:00'): array([108, 176,  54], dtype=uint8), Timestamp('2027-11-07 00:00:00'): array([115,  36, 155], dtype=uint8), Timestamp('2027-11-08 00:00:00'): array([122,  45, 215], dtype=uint8), Timestamp('2027-11-09 00:00:00'): array([ 89,  67, 163], dtype=uint8), Timestamp('2027-11-10 00:00:00'): array([ 83, 176, 118], dtype=uint8), Timestamp('2027-11-11 00:00:00'): array([113,  65,   8], dtype=uint8), Timestamp('2027-11-12 00:00:00'): array([109,  34,  20], dtype=uint8), Timestamp('2027-11-13 00:00:00'): array([120, 215, 187], dtype=uint8), Timestamp('2027-11-14 00:00:00'): array([ 98, 108, 108], dtype=uint8), Timestamp('2027-11-15 00:00:00'): array([ 86,  90, 181], dtype=uint8), Timestamp('2027-11-16 00:00:00'): array([101, 194,   4], dtype=uint8), Timestamp('2027-11-17 00:00:00'): array([139, 222,  15], dtype=uint8), Timestamp('2027-11-18 00:00:00'): array([110, 100, 102], dtype=uint8), Timestamp('2027-11-19 00:00:00'): array([ 96,  76, 158], dtype=uint8), Timestamp('2027-11-20 00:00:00'): array([69, 66, 77], dtype=uint8), Timestamp('2027-11-21 00:00:00'): array([155,  37, 202], dtype=uint8), Timestamp('2027-11-22 00:00:00'): array([ 36,  15, 172], dtype=uint8), Timestamp('2027-11-23 00:00:00'): array([  5, 157,  91], dtype=uint8), Timestamp('2027-11-24 00:00:00'): array([106,  82,  93], dtype=uint8), Timestamp('2027-11-25 00:00:00'): array([ 74, 144,  61], dtype=uint8), Timestamp('2027-11-26 00:00:00'): array([ 86, 160, 204], dtype=uint8), Timestamp('2027-11-27 00:00:00'): array([ 90, 221,   0], dtype=uint8), Timestamp('2027-11-28 00:00:00'): array([ 83,  97, 220], dtype=uint8), Timestamp('2027-11-29 00:00:00'): array([ 97, 182,  54], dtype=uint8), Timestamp('2027-11-30 00:00:00'): array([110, 178,  93], dtype=uint8)}\n",
      "-----------------\n",
      "\n",
      "\n",
      "-----------------\n",
      "canvas_dictionary_december_2027: {Timestamp('2027-12-01 00:00:00'): array([118,  75, 104], dtype=uint8), Timestamp('2027-12-02 00:00:00'): array([121,  11, 249], dtype=uint8), Timestamp('2027-12-03 00:00:00'): array([115, 242, 207], dtype=uint8), Timestamp('2027-12-04 00:00:00'): array([103, 131, 186], dtype=uint8), Timestamp('2027-12-05 00:00:00'): array([89, 60, 55], dtype=uint8), Timestamp('2027-12-06 00:00:00'): array([141, 122,  62], dtype=uint8), Timestamp('2027-12-07 00:00:00'): array([122, 159, 160], dtype=uint8), Timestamp('2027-12-08 00:00:00'): array([ 81, 227, 151], dtype=uint8), Timestamp('2027-12-09 00:00:00'): array([109,  27,  29], dtype=uint8), Timestamp('2027-12-10 00:00:00'): array([102, 235,  17], dtype=uint8), Timestamp('2027-12-11 00:00:00'): array([105,  66, 155], dtype=uint8), Timestamp('2027-12-12 00:00:00'): array([96, 76, 94], dtype=uint8), Timestamp('2027-12-13 00:00:00'): array([163, 206, 127], dtype=uint8), Timestamp('2027-12-14 00:00:00'): array([200, 249, 137], dtype=uint8), Timestamp('2027-12-15 00:00:00'): array([128, 169, 174], dtype=uint8), Timestamp('2027-12-16 00:00:00'): array([100, 177,   3], dtype=uint8), Timestamp('2027-12-17 00:00:00'): array([ 72,  57, 190], dtype=uint8), Timestamp('2027-12-18 00:00:00'): array([ 89, 242,  70], dtype=uint8), Timestamp('2027-12-19 00:00:00'): array([ 74, 211, 109], dtype=uint8), Timestamp('2027-12-20 00:00:00'): array([167, 158, 130], dtype=uint8), Timestamp('2027-12-21 00:00:00'): array([ 83, 138,  56], dtype=uint8), Timestamp('2027-12-22 00:00:00'): array([ 28,  45, 219], dtype=uint8), Timestamp('2027-12-23 00:00:00'): array([111,  58, 251], dtype=uint8), Timestamp('2027-12-24 00:00:00'): array([110, 135, 175], dtype=uint8), Timestamp('2027-12-25 00:00:00'): array([104,  23,  14], dtype=uint8), Timestamp('2027-12-26 00:00:00'): array([ 98, 184,  18], dtype=uint8), Timestamp('2027-12-27 00:00:00'): array([106, 200,  54], dtype=uint8), Timestamp('2027-12-28 00:00:00'): array([132, 185,  14], dtype=uint8), Timestamp('2027-12-29 00:00:00'): array([105,  66,  36], dtype=uint8), Timestamp('2027-12-30 00:00:00'): array([135, 180, 207], dtype=uint8)}\n",
      "-----------------\n",
      "\n"
     ]
    }
   ],
   "source": [
    "import datetime\n",
    "\n",
    "# Create dictionaries for each month\n",
    "canvas_dictionaries_by_month = {}\n",
    "start_year = list(canvas_dictionary.keys())[0].year\n",
    "end_year = list(canvas_dictionary.keys())[-1].year\n",
    "for year in range(start_year, end_year + 1):\n",
    "    for month in range(1, 13):\n",
    "        # Filter canvas_dictionary by month and year\n",
    "        filtered_dictionary = {key: value for key, value in canvas_dictionary.items() if key.month == month and key.year == year}\n",
    "        # Add filtered dictionary to canvas_dictionaries_by_month\n",
    "        month_name = datetime.date(1900, month, 1).strftime('%B')\n",
    "        canvas_dictionaries_by_month[f'canvas_dictionary_{month_name.lower()}_{year}'] = filtered_dictionary\n",
    "\n",
    "# Print the canvas dictionaries for each month and year\n",
    "for month, dictionary in canvas_dictionaries_by_month.items():\n",
    "    print(\"\\n-----------------\")\n",
    "    print(f'{month}: {dictionary}')\n",
    "    print(\"-----------------\\n\")\n"
   ]
  },
  {
   "cell_type": "code",
   "execution_count": 13,
   "metadata": {},
   "outputs": [
    {
     "name": "stdout",
     "output_type": "stream",
     "text": [
      "-----canvas_dictionary_january_2023-----\n"
     ]
    },
    {
     "data": {
      "image/png": "[encoded data removed]",
      "text/plain": [
       "<Figure size 640x480 with 1 Axes>"
      ]
     },
     "metadata": {},
     "output_type": "display_data"
    },
    {
     "name": "stdout",
     "output_type": "stream",
     "text": [
      "-----canvas_dictionary_february_2023-----\n"
     ]
    },
    {
     "data": {
      "image/png": "[encoded data removed]",
      "text/plain": [
       "<Figure size 640x480 with 1 Axes>"
      ]
     },
     "metadata": {},
     "output_type": "display_data"
    },
    {
     "name": "stdout",
     "output_type": "stream",
     "text": [
      "-----canvas_dictionary_march_2023-----\n"
     ]
    },
    {
     "data": {
      "image/png": "[encoded data removed]",
      "text/plain": [
       "<Figure size 640x480 with 1 Axes>"
      ]
     },
     "metadata": {},
     "output_type": "display_data"
    },
    {
     "name": "stdout",
     "output_type": "stream",
     "text": [
      "-----canvas_dictionary_april_2023-----\n"
     ]
    },
    {
     "data": {
      "image/png": "[encoded data removed]",
      "text/plain": [
       "<Figure size 640x480 with 1 Axes>"
      ]
     },
     "metadata": {},
     "output_type": "display_data"
    },
    {
     "name": "stdout",
     "output_type": "stream",
     "text": [
      "-----canvas_dictionary_may_2023-----\n"
     ]
    },
    {
     "data": {
      "image/png": "[encoded data removed]",
      "text/plain": [
       "<Figure size 640x480 with 1 Axes>"
      ]
     },
     "metadata": {},
     "output_type": "display_data"
    },
    {
     "name": "stdout",
     "output_type": "stream",
     "text": [
      "-----canvas_dictionary_june_2023-----\n"
     ]
    },
    {
     "data": {
      "image/png": "[encoded data removed]",
      "text/plain": [
       "<Figure size 640x480 with 1 Axes>"
      ]
     },
     "metadata": {},
     "output_type": "display_data"
    },
    {
     "name": "stdout",
     "output_type": "stream",
     "text": [
      "-----canvas_dictionary_july_2023-----\n"
     ]
    },
    {
     "data": {
      "image/png": "[encoded data removed]",
      "text/plain": [
       "<Figure size 640x480 with 1 Axes>"
      ]
     },
     "metadata": {},
     "output_type": "display_data"
    },
    {
     "name": "stdout",
     "output_type": "stream",
     "text": [
      "-----canvas_dictionary_august_2023-----\n"
     ]
    },
    {
     "data": {
      "image/png": "[encoded data removed]",
      "text/plain": [
       "<Figure size 640x480 with 1 Axes>"
      ]
     },
     "metadata": {},
     "output_type": "display_data"
    },
    {
     "name": "stdout",
     "output_type": "stream",
     "text": [
      "-----canvas_dictionary_september_2023-----\n"
     ]
    },
    {
     "data": {
      "image/png": "[encoded data removed]",
      "text/plain": [
       "<Figure size 640x480 with 1 Axes>"
      ]
     },
     "metadata": {},
     "output_type": "display_data"
    },
    {
     "name": "stdout",
     "output_type": "stream",
     "text": [
      "-----canvas_dictionary_october_2023-----\n"
     ]
    },
    {
     "data": {
      "image/png": "[encoded data removed]",
      "text/plain": [
       "<Figure size 640x480 with 1 Axes>"
      ]
     },
     "metadata": {},
     "output_type": "display_data"
    },
    {
     "name": "stdout",
     "output_type": "stream",
     "text": [
      "-----canvas_dictionary_november_2023-----\n"
     ]
    },
    {
     "data": {
      "image/png": "[encoded data removed]",
      "text/plain": [
       "<Figure size 640x480 with 1 Axes>"
      ]
     },
     "metadata": {},
     "output_type": "display_data"
    },
    {
     "name": "stdout",
     "output_type": "stream",
     "text": [
      "-----canvas_dictionary_december_2023-----\n"
     ]
    },
    {
     "data": {
      "image/png": "[encoded data removed]",
      "text/plain": [
       "<Figure size 640x480 with 1 Axes>"
      ]
     },
     "metadata": {},
     "output_type": "display_data"
    },
    {
     "name": "stdout",
     "output_type": "stream",
     "text": [
      "-----canvas_dictionary_january_2024-----\n"
     ]
    },
    {
     "data": {
      "image/png": "[encoded data removed]",
      "text/plain": [
       "<Figure size 640x480 with 1 Axes>"
      ]
     },
     "metadata": {},
     "output_type": "display_data"
    },
    {
     "name": "stdout",
     "output_type": "stream",
     "text": [
      "-----canvas_dictionary_february_2024-----\n"
     ]
    },
    {
     "data": {
      "image/png": "[encoded data removed]",
      "text/plain": [
       "<Figure size 640x480 with 1 Axes>"
      ]
     },
     "metadata": {},
     "output_type": "display_data"
    },
    {
     "name": "stdout",
     "output_type": "stream",
     "text": [
      "-----canvas_dictionary_march_2024-----\n"
     ]
    },
    {
     "data": {
      "image/png": "[encoded data removed]",
      "text/plain": [
       "<Figure size 640x480 with 1 Axes>"
      ]
     },
     "metadata": {},
     "output_type": "display_data"
    },
    {
     "name": "stdout",
     "output_type": "stream",
     "text": [
      "-----canvas_dictionary_april_2024-----\n"
     ]
    },
    {
     "data": {
      "image/png": "[encoded data removed]",
      "text/plain": [
       "<Figure size 640x480 with 1 Axes>"
      ]
     },
     "metadata": {},
     "output_type": "display_data"
    },
    {
     "name": "stdout",
     "output_type": "stream",
     "text": [
      "-----canvas_dictionary_may_2024-----\n"
     ]
    },
    {
     "data": {
      "image/png": "[encoded data removed]",
      "text/plain": [
       "<Figure size 640x480 with 1 Axes>"
      ]
     },
     "metadata": {},
     "output_type": "display_data"
    },
    {
     "name": "stdout",
     "output_type": "stream",
     "text": [
      "-----canvas_dictionary_june_2024-----\n"
     ]
    },
    {
     "data": {
      "image/png": "[encoded data removed]",
      "text/plain": [
       "<Figure size 640x480 with 1 Axes>"
      ]
     },
     "metadata": {},
     "output_type": "display_data"
    },
    {
     "name": "stdout",
     "output_type": "stream",
     "text": [
      "-----canvas_dictionary_july_2024-----\n"
     ]
    },
    {
     "data": {
      "image/png": "[encoded data removed]",
      "text/plain": [
       "<Figure size 640x480 with 1 Axes>"
      ]
     },
     "metadata": {},
     "output_type": "display_data"
    },
    {
     "name": "stdout",
     "output_type": "stream",
     "text": [
      "-----canvas_dictionary_august_2024-----\n"
     ]
    },
    {
     "data": {
      "image/png": "[encoded data removed]",
      "text/plain": [
       "<Figure size 640x480 with 1 Axes>"
      ]
     },
     "metadata": {},
     "output_type": "display_data"
    },
    {
     "name": "stdout",
     "output_type": "stream",
     "text": [
      "-----canvas_dictionary_september_2024-----\n"
     ]
    },
    {
     "data": {
      "image/png": "[encoded data removed]",
      "text/plain": [
       "<Figure size 640x480 with 1 Axes>"
      ]
     },
     "metadata": {},
     "output_type": "display_data"
    },
    {
     "name": "stdout",
     "output_type": "stream",
     "text": [
      "-----canvas_dictionary_october_2024-----\n"
     ]
    },
    {
     "data": {
      "image/png": "[encoded data removed]",
      "text/plain": [
       "<Figure size 640x480 with 1 Axes>"
      ]
     },
     "metadata": {},
     "output_type": "display_data"
    },
    {
     "name": "stdout",
     "output_type": "stream",
     "text": [
      "-----canvas_dictionary_november_2024-----\n"
     ]
    },
    {
     "data": {
      "image/png": "[encoded data removed]",
      "text/plain": [
       "<Figure size 640x480 with 1 Axes>"
      ]
     },
     "metadata": {},
     "output_type": "display_data"
    },
    {
     "name": "stdout",
     "output_type": "stream",
     "text": [
      "-----canvas_dictionary_december_2024-----\n"
     ]
    },
    {
     "data": {
      "image/png": "[encoded data removed]",
      "text/plain": [
       "<Figure size 640x480 with 1 Axes>"
      ]
     },
     "metadata": {},
     "output_type": "display_data"
    },
    {
     "name": "stdout",
     "output_type": "stream",
     "text": [
      "-----canvas_dictionary_january_2025-----\n"
     ]
    },
    {
     "data": {
      "image/png": "[encoded data removed]",
      "text/plain": [
       "<Figure size 640x480 with 1 Axes>"
      ]
     },
     "metadata": {},
     "output_type": "display_data"
    },
    {
     "name": "stdout",
     "output_type": "stream",
     "text": [
      "-----canvas_dictionary_february_2025-----\n"
     ]
    },
    {
     "data": {
      "image/png": "[encoded data removed]",
      "text/plain": [
       "<Figure size 640x480 with 1 Axes>"
      ]
     },
     "metadata": {},
     "output_type": "display_data"
    },
    {
     "name": "stdout",
     "output_type": "stream",
     "text": [
      "-----canvas_dictionary_march_2025-----\n"
     ]
    },
    {
     "data": {
      "image/png": "[encoded data removed]",
      "text/plain": [
       "<Figure size 640x480 with 1 Axes>"
      ]
     },
     "metadata": {},
     "output_type": "display_data"
    },
    {
     "name": "stdout",
     "output_type": "stream",
     "text": [
      "-----canvas_dictionary_april_2025-----\n"
     ]
    },
    {
     "data": {
      "image/png": "[encoded data removed]",
      "text/plain": [
       "<Figure size 640x480 with 1 Axes>"
      ]
     },
     "metadata": {},
     "output_type": "display_data"
    },
    {
     "name": "stdout",
     "output_type": "stream",
     "text": [
      "-----canvas_dictionary_may_2025-----\n"
     ]
    },
    {
     "data": {
      "image/png": "[encoded data removed]",
      "text/plain": [
       "<Figure size 640x480 with 1 Axes>"
      ]
     },
     "metadata": {},
     "output_type": "display_data"
    },
    {
     "name": "stdout",
     "output_type": "stream",
     "text": [
      "-----canvas_dictionary_june_2025-----\n"
     ]
    },
    {
     "data": {
      "image/png": "[encoded data removed]",
      "text/plain": [
       "<Figure size 640x480 with 1 Axes>"
      ]
     },
     "metadata": {},
     "output_type": "display_data"
    },
    {
     "name": "stdout",
     "output_type": "stream",
     "text": [
      "-----canvas_dictionary_july_2025-----\n"
     ]
    },
    {
     "data": {
      "image/png": "[encoded data removed]",
      "text/plain": [
       "<Figure size 640x480 with 1 Axes>"
      ]
     },
     "metadata": {},
     "output_type": "display_data"
    },
    {
     "name": "stdout",
     "output_type": "stream",
     "text": [
      "-----canvas_dictionary_august_2025-----\n"
     ]
    },
    {
     "data": {
      "image/png": "[encoded data removed]",
      "text/plain": [
       "<Figure size 640x480 with 1 Axes>"
      ]
     },
     "metadata": {},
     "output_type": "display_data"
    },
    {
     "name": "stdout",
     "output_type": "stream",
     "text": [
      "-----canvas_dictionary_september_2025-----\n"
     ]
    },
    {
     "data": {
      "image/png": "[encoded data removed]",
      "text/plain": [
       "<Figure size 640x480 with 1 Axes>"
      ]
     },
     "metadata": {},
     "output_type": "display_data"
    },
    {
     "name": "stdout",
     "output_type": "stream",
     "text": [
      "-----canvas_dictionary_october_2025-----\n"
     ]
    },
    {
     "data": {
      "image/png": "[encoded data removed]",
      "text/plain": [
       "<Figure size 640x480 with 1 Axes>"
      ]
     },
     "metadata": {},
     "output_type": "display_data"
    },
    {
     "name": "stdout",
     "output_type": "stream",
     "text": [
      "-----canvas_dictionary_november_2025-----\n"
     ]
    },
    {
     "data": {
      "image/png": "[encoded data removed]",
      "text/plain": [
       "<Figure size 640x480 with 1 Axes>"
      ]
     },
     "metadata": {},
     "output_type": "display_data"
    },
    {
     "name": "stdout",
     "output_type": "stream",
     "text": [
      "-----canvas_dictionary_december_2025-----\n"
     ]
    },
    {
     "data": {
      "image/png": "[encoded data removed]",
      "text/plain": [
       "<Figure size 640x480 with 1 Axes>"
      ]
     },
     "metadata": {},
     "output_type": "display_data"
    },
    {
     "name": "stdout",
     "output_type": "stream",
     "text": [
      "-----canvas_dictionary_january_2026-----\n"
     ]
    },
    {
     "data": {
      "image/png": "[encoded data removed]",
      "text/plain": [
       "<Figure size 640x480 with 1 Axes>"
      ]
     },
     "metadata": {},
     "output_type": "display_data"
    },
    {
     "name": "stdout",
     "output_type": "stream",
     "text": [
      "-----canvas_dictionary_february_2026-----\n"
     ]
    },
    {
     "data": {
      "image/png": "[encoded data removed]",
      "text/plain": [
       "<Figure size 640x480 with 1 Axes>"
      ]
     },
     "metadata": {},
     "output_type": "display_data"
    },
    {
     "name": "stdout",
     "output_type": "stream",
     "text": [
      "-----canvas_dictionary_march_2026-----\n"
     ]
    },
    {
     "data": {
      "image/png": "[encoded data removed]",
      "text/plain": [
       "<Figure size 640x480 with 1 Axes>"
      ]
     },
     "metadata": {},
     "output_type": "display_data"
    },
    {
     "name": "stdout",
     "output_type": "stream",
     "text": [
      "-----canvas_dictionary_april_2026-----\n"
     ]
    },
    {
     "data": {
      "image/png": "[encoded data removed]",
      "text/plain": [
       "<Figure size 640x480 with 1 Axes>"
      ]
     },
     "metadata": {},
     "output_type": "display_data"
    },
    {
     "name": "stdout",
     "output_type": "stream",
     "text": [
      "-----canvas_dictionary_may_2026-----\n"
     ]
    },
    {
     "data": {
      "image/png": "[encoded data removed]",
      "text/plain": [
       "<Figure size 640x480 with 1 Axes>"
      ]
     },
     "metadata": {},
     "output_type": "display_data"
    },
    {
     "name": "stdout",
     "output_type": "stream",
     "text": [
      "-----canvas_dictionary_june_2026-----\n"
     ]
    },
    {
     "data": {
      "image/png": "[encoded data removed]",
      "text/plain": [
       "<Figure size 640x480 with 1 Axes>"
      ]
     },
     "metadata": {},
     "output_type": "display_data"
    },
    {
     "name": "stdout",
     "output_type": "stream",
     "text": [
      "-----canvas_dictionary_july_2026-----\n"
     ]
    },
    {
     "data": {
      "image/png": "[encoded data removed]",
      "text/plain": [
       "<Figure size 640x480 with 1 Axes>"
      ]
     },
     "metadata": {},
     "output_type": "display_data"
    },
    {
     "name": "stdout",
     "output_type": "stream",
     "text": [
      "-----canvas_dictionary_august_2026-----\n"
     ]
    },
    {
     "data": {
      "image/png": "[encoded data removed]",
      "text/plain": [
       "<Figure size 640x480 with 1 Axes>"
      ]
     },
     "metadata": {},
     "output_type": "display_data"
    },
    {
     "name": "stdout",
     "output_type": "stream",
     "text": [
      "-----canvas_dictionary_september_2026-----\n"
     ]
    },
    {
     "data": {
      "image/png": "[encoded data removed]",
      "text/plain": [
       "<Figure size 640x480 with 1 Axes>"
      ]
     },
     "metadata": {},
     "output_type": "display_data"
    },
    {
     "name": "stdout",
     "output_type": "stream",
     "text": [
      "-----canvas_dictionary_october_2026-----\n"
     ]
    },
    {
     "data": {
      "image/png": "[encoded data removed]",
      "text/plain": [
       "<Figure size 640x480 with 1 Axes>"
      ]
     },
     "metadata": {},
     "output_type": "display_data"
    },
    {
     "name": "stdout",
     "output_type": "stream",
     "text": [
      "-----canvas_dictionary_november_2026-----\n"
     ]
    },
    {
     "data": {
      "image/png": "[encoded data removed]",
      "text/plain": [
       "<Figure size 640x480 with 1 Axes>"
      ]
     },
     "metadata": {},
     "output_type": "display_data"
    },
    {
     "name": "stdout",
     "output_type": "stream",
     "text": [
      "-----canvas_dictionary_december_2026-----\n"
     ]
    },
    {
     "data": {
      "image/png": "[encoded data removed]",
      "text/plain": [
       "<Figure size 640x480 with 1 Axes>"
      ]
     },
     "metadata": {},
     "output_type": "display_data"
    },
    {
     "name": "stdout",
     "output_type": "stream",
     "text": [
      "-----canvas_dictionary_january_2027-----\n"
     ]
    },
    {
     "data": {
      "image/png": "[encoded data removed]",
      "text/plain": [
       "<Figure size 640x480 with 1 Axes>"
      ]
     },
     "metadata": {},
     "output_type": "display_data"
    },
    {
     "name": "stdout",
     "output_type": "stream",
     "text": [
      "-----canvas_dictionary_february_2027-----\n"
     ]
    },
    {
     "data": {
      "image/png": "[encoded data removed]",
      "text/plain": [
       "<Figure size 640x480 with 1 Axes>"
      ]
     },
     "metadata": {},
     "output_type": "display_data"
    },
    {
     "name": "stdout",
     "output_type": "stream",
     "text": [
      "-----canvas_dictionary_march_2027-----\n"
     ]
    },
    {
     "data": {
      "image/png": "[encoded data removed]",
      "text/plain": [
       "<Figure size 640x480 with 1 Axes>"
      ]
     },
     "metadata": {},
     "output_type": "display_data"
    },
    {
     "name": "stdout",
     "output_type": "stream",
     "text": [
      "-----canvas_dictionary_april_2027-----\n"
     ]
    },
    {
     "data": {
      "image/png": "[encoded data removed]",
      "text/plain": [
       "<Figure size 640x480 with 1 Axes>"
      ]
     },
     "metadata": {},
     "output_type": "display_data"
    },
    {
     "name": "stdout",
     "output_type": "stream",
     "text": [
      "-----canvas_dictionary_may_2027-----\n"
     ]
    },
    {
     "data": {
      "image/png": "[encoded data removed]",
      "text/plain": [
       "<Figure size 640x480 with 1 Axes>"
      ]
     },
     "metadata": {},
     "output_type": "display_data"
    },
    {
     "name": "stdout",
     "output_type": "stream",
     "text": [
      "-----canvas_dictionary_june_2027-----\n"
     ]
    },
    {
     "data": {
      "image/png": "[encoded data removed]",
      "text/plain": [
       "<Figure size 640x480 with 1 Axes>"
      ]
     },
     "metadata": {},
     "output_type": "display_data"
    },
    {
     "name": "stdout",
     "output_type": "stream",
     "text": [
      "-----canvas_dictionary_july_2027-----\n"
     ]
    },
    {
     "data": {
      "image/png": "[encoded data removed]",
      "text/plain": [
       "<Figure size 640x480 with 1 Axes>"
      ]
     },
     "metadata": {},
     "output_type": "display_data"
    },
    {
     "name": "stdout",
     "output_type": "stream",
     "text": [
      "-----canvas_dictionary_august_2027-----\n"
     ]
    },
    {
     "data": {
      "image/png": "[encoded data removed]",
      "text/plain": [
       "<Figure size 640x480 with 1 Axes>"
      ]
     },
     "metadata": {},
     "output_type": "display_data"
    },
    {
     "name": "stdout",
     "output_type": "stream",
     "text": [
      "-----canvas_dictionary_september_2027-----\n"
     ]
    },
    {
     "data": {
      "image/png": "[encoded data removed]",
      "text/plain": [
       "<Figure size 640x480 with 1 Axes>"
      ]
     },
     "metadata": {},
     "output_type": "display_data"
    },
    {
     "name": "stdout",
     "output_type": "stream",
     "text": [
      "-----canvas_dictionary_october_2027-----\n"
     ]
    },
    {
     "data": {
      "image/png": "[encoded data removed]",
      "text/plain": [
       "<Figure size 640x480 with 1 Axes>"
      ]
     },
     "metadata": {},
     "output_type": "display_data"
    },
    {
     "name": "stdout",
     "output_type": "stream",
     "text": [
      "-----canvas_dictionary_november_2027-----\n"
     ]
    },
    {
     "data": {
      "image/png": "[encoded data removed]",
      "text/plain": [
       "<Figure size 640x480 with 1 Axes>"
      ]
     },
     "metadata": {},
     "output_type": "display_data"
    },
    {
     "name": "stdout",
     "output_type": "stream",
     "text": [
      "-----canvas_dictionary_december_2027-----\n"
     ]
    },
    {
     "data": {
      "image/png": "[encoded data removed]",
      "text/plain": [
       "<Figure size 640x480 with 1 Axes>"
      ]
     },
     "metadata": {},
     "output_type": "display_data"
    }
   ],
   "source": [
    "import os\n",
    "# Specify the directory to store the images\n",
    "directory = 'cnn_monthly_images/'\n",
    "\n",
    "# Create the directory if it doesn't exist\n",
    "if not os.path.exists(directory):\n",
    "    os.makedirs(directory)\n",
    "elif os.path.exists(directory):\n",
    "    # Get a list of all files in the directory\n",
    "    file_list = os.listdir(directory)\n",
    "    if len(file_list) > 0:\n",
    "        # Delete each file in the directory\n",
    "        for file_name in file_list:\n",
    "            file_path = os.path.join(directory, file_name)\n",
    "            if file_path.endswith('.png'):\n",
    "                os.remove(file_path)\n",
    "\n",
    "\n",
    "\n",
    "for month, dictionary in canvas_dictionaries_by_month.items():\n",
    "    canvas_dictionary_month = {key: value for key, value in dictionary.items()}\n",
    "    print(f\"-----{month}-----\")\n",
    "    plt.imshow(canvas_dictionary_month.values())\n",
    "    plt.axis('off')\n",
    "    plt.savefig(f'{directory}{month}.png')\n",
    "    plt.show()"
   ]
  },
  {
   "cell_type": "code",
   "execution_count": 14,
   "metadata": {},
   "outputs": [],
   "source": [
    "import os\n",
    "import numpy as np\n",
    "import torch\n",
    "from torch.utils.data import Dataset, DataLoader\n",
    "from torchvision import transforms\n",
    "from PIL import Image\n",
    "import torch.nn as nn\n",
    "import torch.optim as optim"
   ]
  },
  {
   "cell_type": "code",
   "execution_count": 15,
   "metadata": {},
   "outputs": [],
   "source": [
    "# Set the directory path of your images\n",
    "image_directory = 'cnn_monthly_images/'\n",
    "\n",
    "# Define a custom dataset class\n",
    "\n",
    "class ImageDataset(Dataset):\n",
    "    def __init__(self, image_files, transform=None):\n",
    "        self.image_files = image_files\n",
    "        self.transform = transform\n",
    "\n",
    "    def __len__(self):\n",
    "        return len(self.image_files)\n",
    "\n",
    "    def __getitem__(self, idx):\n",
    "        image = Image.open(self.image_files[idx]).convert('RGB')\n",
    "        if self.transform:\n",
    "            image = self.transform(image)\n",
    "        return image\n",
    "\n",
    "\n",
    "# Define the transformation to apply to the images\n",
    "transform = transforms.Compose([\n",
    "    transforms.Resize((256, 256)),\n",
    "    transforms.ToTensor(),\n",
    "    transforms.Normalize(mean=[0.485, 0.456, 0.406], std=[0.229, 0.224, 0.225])\n",
    "])"
   ]
  },
  {
   "cell_type": "code",
   "execution_count": 16,
   "metadata": {},
   "outputs": [
    {
     "name": "stdout",
     "output_type": "stream",
     "text": [
      "Total number of images for training: 54\n",
      "Total number of images for testing: 6\n"
     ]
    }
   ],
   "source": [
    "# Get a list of all image file names in the directory\n",
    "image_files = [os.path.join(image_directory, file) for file in os.listdir(\n",
    "    image_directory) if file.endswith('.png')]\n",
    "\n",
    "train_image_files = image_files[:int(len(image_files) * 0.9)]\n",
    "test_image_files = image_files[int(len(image_files) * 0.9):]\n",
    "\n",
    "print(f\"Total number of images for training: {len(train_image_files)}\")\n",
    "print(f\"Total number of images for testing: {len(test_image_files)}\")\n",
    "\n",
    "data = {}\n",
    "\n",
    "data['train'] = ImageDataset(train_image_files, transform=transform)\n",
    "data['valid'] = ImageDataset(test_image_files, transform=transform)\n",
    "\n",
    "loaders = {}\n",
    "\n",
    "loaders['train'] = DataLoader(data['train'], batch_size=4, shuffle=True)\n",
    "loaders['valid'] = DataLoader(data['valid'], batch_size=4, shuffle=True)"
   ]
  },
  {
   "cell_type": "code",
   "execution_count": 17,
   "metadata": {},
   "outputs": [
    {
     "name": "stdout",
     "output_type": "stream",
     "text": [
      "(4, 3, 256, 256)\n"
     ]
    }
   ],
   "source": [
    "dataiter = next(iter(loaders['train']))\n",
    "images = dataiter.numpy()\n",
    "print(images.shape)\n",
    "\n",
    "def show_images():\n",
    "    import matplotlib.pyplot as plt\n",
    "\n",
    "    # Iterate over the images in loader['train']\n",
    "    for images in loaders['train']:\n",
    "        # Iterate over each image in the batch\n",
    "        for image in images:\n",
    "            # Plot the image\n",
    "            plt.imshow(image.permute(1, 2, 0))\n",
    "            plt.axis('off')\n",
    "            plt.show()\n",
    "\n"
   ]
  },
  {
   "cell_type": "code",
   "execution_count": 18,
   "metadata": {},
   "outputs": [
    {
     "name": "stdout",
     "output_type": "stream",
     "text": [
      "Autoencoder(\n",
      "  (encoder): Sequential(\n",
      "    (0): Conv2d(3, 16, kernel_size=(3, 3), stride=(2, 2), padding=(1, 1))\n",
      "    (1): ReLU()\n",
      "    (2): Conv2d(16, 32, kernel_size=(3, 3), stride=(2, 2), padding=(1, 1))\n",
      "    (3): ReLU()\n",
      "    (4): Conv2d(32, 64, kernel_size=(3, 3), stride=(2, 2), padding=(1, 1))\n",
      "    (5): ReLU()\n",
      "    (6): Conv2d(64, 128, kernel_size=(3, 3), stride=(2, 2), padding=(1, 1))\n",
      "    (7): ReLU()\n",
      "    (8): Conv2d(128, 256, kernel_size=(3, 3), stride=(2, 2), padding=(1, 1))\n",
      "    (9): ReLU()\n",
      "  )\n",
      "  (decoder): Sequential(\n",
      "    (0): ConvTranspose2d(256, 128, kernel_size=(3, 3), stride=(2, 2), padding=(1, 1), output_padding=(1, 1))\n",
      "    (1): ReLU()\n",
      "    (2): ConvTranspose2d(128, 64, kernel_size=(3, 3), stride=(2, 2), padding=(1, 1), output_padding=(1, 1))\n",
      "    (3): ReLU()\n",
      "    (4): ConvTranspose2d(64, 32, kernel_size=(3, 3), stride=(2, 2), padding=(1, 1), output_padding=(1, 1))\n",
      "    (5): ReLU()\n",
      "    (6): ConvTranspose2d(32, 16, kernel_size=(3, 3), stride=(2, 2), padding=(1, 1), output_padding=(1, 1))\n",
      "    (7): ReLU()\n",
      "    (8): ConvTranspose2d(16, 3, kernel_size=(3, 3), stride=(2, 2), padding=(1, 1), output_padding=(1, 1))\n",
      "    (9): Sigmoid()\n",
      "  )\n",
      ")\n"
     ]
    }
   ],
   "source": [
    "# Define the autoencoder model\n",
    "class Autoencoder(nn.Module):\n",
    "    def __init__(self):\n",
    "        super(Autoencoder, self).__init__()\n",
    "        # Encoder\n",
    "        self.encoder = nn.Sequential(\n",
    "            nn.Conv2d(3, 16, kernel_size=3, stride=2, padding=1),\n",
    "            nn.ReLU(),\n",
    "            nn.Conv2d(16, 32, kernel_size=3, stride=2, padding=1),\n",
    "            nn.ReLU(),\n",
    "            nn.Conv2d(32, 64, kernel_size=3, stride=2, padding=1),\n",
    "            nn.ReLU(),\n",
    "            nn.Conv2d(64, 128, kernel_size=3, stride=2, padding=1),\n",
    "            nn.ReLU(),\n",
    "            nn.Conv2d(128, 256, kernel_size=3, stride=2, padding=1),\n",
    "            nn.ReLU(),\n",
    "        )\n",
    "\n",
    "        # Decoder\n",
    "        self.decoder = nn.Sequential(\n",
    "            nn.ConvTranspose2d(256, 128, kernel_size=3,\n",
    "                               stride=2, padding=1, output_padding=1),\n",
    "            nn.ReLU(),\n",
    "            nn.ConvTranspose2d(128, 64, kernel_size=3,\n",
    "                               stride=2, padding=1, output_padding=1),\n",
    "            nn.ReLU(),\n",
    "            nn.ConvTranspose2d(64, 32, kernel_size=3, stride=2,\n",
    "                               padding=1, output_padding=1),\n",
    "            nn.ReLU(),\n",
    "            nn.ConvTranspose2d(32, 16, kernel_size=3, stride=2,\n",
    "                               padding=1, output_padding=1),\n",
    "            nn.ReLU(),\n",
    "            nn.ConvTranspose2d(16, 3, kernel_size=3, stride=2,\n",
    "                               padding=1, output_padding=1),\n",
    "            nn.Sigmoid(),\n",
    "        )\n",
    "\n",
    "    def forward(self, x):\n",
    "        x = self.encoder(x)\n",
    "        x = self.decoder(x)\n",
    "        return x\n",
    "\n",
    "\n",
    "# Create the autoencoder model\n",
    "model = Autoencoder()\n",
    "\n",
    "use_cuda = torch.cuda.is_available()\n",
    "if use_cuda:\n",
    "    model_transfer = model.cuda()\n",
    "print(model)"
   ]
  },
  {
   "cell_type": "code",
   "execution_count": 19,
   "metadata": {},
   "outputs": [],
   "source": [
    "def train(n_epochs, loaders, model, optimizer, criterion, use_cuda, save_path):\n",
    "    valid_loss_min = np.Inf\n",
    "    train_loss_list = []\n",
    "    valid_loss_list = []\n",
    "\n",
    "    for epoch in range(1, n_epochs+1):\n",
    "        train_loss = 0.0\n",
    "        valid_loss = 0.0\n",
    "\n",
    "        model.train()\n",
    "        for batch_idx, data in enumerate(loaders['train']):\n",
    "            if use_cuda:\n",
    "                data = data.cuda()\n",
    "\n",
    "            optimizer.zero_grad()\n",
    "            output = model.forward(data)\n",
    "            loss = criterion(output, data)\n",
    "            loss.backward()\n",
    "            optimizer.step()\n",
    "\n",
    "            train_loss = train_loss + ((1 / (batch_idx + 1)) * (loss.data - train_loss))\n",
    "\n",
    "        model.eval()\n",
    "        with torch.no_grad():\n",
    "            for batch_idx, data in enumerate(loaders['valid']):\n",
    "                if use_cuda:\n",
    "                    data = data.cuda()\n",
    "\n",
    "                output = model.forward(data)\n",
    "                loss = criterion(output, data)\n",
    "\n",
    "                valid_loss = valid_loss + ((1 / (batch_idx + 1)) * (loss.data - valid_loss))\n",
    "\n",
    "        print('Epoch: {} \\tTraining Loss: {:.6f} \\tValidation Loss: {:.6f}'.format(\n",
    "            epoch,\n",
    "            train_loss,\n",
    "            valid_loss\n",
    "        ))\n",
    "\n",
    "        train_loss_list.append(train_loss.item())\n",
    "        valid_loss_list.append(valid_loss.item())\n",
    "\n",
    "        if valid_loss < valid_loss_min:\n",
    "            print('Validation loss decreased ({:.6f} --> {:.6f}).  Saving model ...'.format(\n",
    "                valid_loss_min,\n",
    "                valid_loss))\n",
    "            torch.save(model.state_dict(), save_path)\n",
    "            valid_loss_min = valid_loss\n",
    "\n",
    "    return model, train_loss_list, valid_loss_list\n",
    "\n",
    "\n",
    "# Define the loss function and optimizer\n",
    "criterion = nn.MSELoss()\n",
    "optimizer = optim.Adam(model.parameters(), lr=0.001)"
   ]
  },
  {
   "cell_type": "code",
   "execution_count": 20,
   "metadata": {},
   "outputs": [
    {
     "name": "stdout",
     "output_type": "stream",
     "text": [
      "Epoch: 1 \tTraining Loss: 3.520055 \tValidation Loss: 2.852115\n",
      "Validation loss decreased (inf --> 2.852115).  Saving model ...\n",
      "Epoch: 2 \tTraining Loss: 2.524959 \tValidation Loss: 2.349565\n",
      "Validation loss decreased (2.852115 --> 2.349565).  Saving model ...\n",
      "Epoch: 3 \tTraining Loss: 2.293309 \tValidation Loss: 2.245907\n",
      "Validation loss decreased (2.349565 --> 2.245907).  Saving model ...\n",
      "Epoch: 4 \tTraining Loss: 2.241670 \tValidation Loss: 2.230405\n",
      "Validation loss decreased (2.245907 --> 2.230405).  Saving model ...\n",
      "Epoch: 5 \tTraining Loss: 2.177709 \tValidation Loss: 2.159669\n",
      "Validation loss decreased (2.230405 --> 2.159669).  Saving model ...\n",
      "Epoch: 6 \tTraining Loss: 2.136883 \tValidation Loss: 2.093341\n",
      "Validation loss decreased (2.159669 --> 2.093341).  Saving model ...\n",
      "Epoch: 7 \tTraining Loss: 2.093299 \tValidation Loss: 2.093319\n",
      "Validation loss decreased (2.093341 --> 2.093319).  Saving model ...\n",
      "Epoch: 8 \tTraining Loss: 2.093179 \tValidation Loss: 2.092834\n",
      "Validation loss decreased (2.093319 --> 2.092834).  Saving model ...\n",
      "Epoch: 9 \tTraining Loss: 2.093161 \tValidation Loss: 2.093195\n",
      "Epoch: 10 \tTraining Loss: 2.093089 \tValidation Loss: 2.092945\n",
      "Epoch: 11 \tTraining Loss: 2.093087 \tValidation Loss: 2.092763\n",
      "Validation loss decreased (2.092834 --> 2.092763).  Saving model ...\n",
      "Epoch: 12 \tTraining Loss: 2.093154 \tValidation Loss: 2.093712\n",
      "Epoch: 13 \tTraining Loss: 2.093225 \tValidation Loss: 2.092763\n",
      "Epoch: 14 \tTraining Loss: 2.093144 \tValidation Loss: 2.092731\n",
      "Validation loss decreased (2.092763 --> 2.092731).  Saving model ...\n",
      "Epoch: 15 \tTraining Loss: 2.093251 \tValidation Loss: 2.093297\n",
      "Epoch: 16 \tTraining Loss: 2.093189 \tValidation Loss: 2.093600\n",
      "Epoch: 17 \tTraining Loss: 2.093205 \tValidation Loss: 2.093297\n",
      "Epoch: 18 \tTraining Loss: 2.093234 \tValidation Loss: 2.093498\n",
      "Epoch: 19 \tTraining Loss: 2.093168 \tValidation Loss: 2.092652\n",
      "Validation loss decreased (2.092731 --> 2.092652).  Saving model ...\n",
      "Epoch: 20 \tTraining Loss: 2.093237 \tValidation Loss: 2.092834\n",
      "Epoch: 21 \tTraining Loss: 2.093192 \tValidation Loss: 2.093297\n",
      "Epoch: 22 \tTraining Loss: 2.093214 \tValidation Loss: 2.093297\n",
      "Epoch: 23 \tTraining Loss: 2.093152 \tValidation Loss: 2.092945\n",
      "Epoch: 24 \tTraining Loss: 2.093103 \tValidation Loss: 2.093377\n",
      "Epoch: 25 \tTraining Loss: 2.093303 \tValidation Loss: 2.093712\n",
      "Epoch: 26 \tTraining Loss: 2.093170 \tValidation Loss: 2.093498\n",
      "Epoch: 27 \tTraining Loss: 2.093213 \tValidation Loss: 2.093409\n",
      "Epoch: 28 \tTraining Loss: 2.093241 \tValidation Loss: 2.093297\n",
      "Epoch: 29 \tTraining Loss: 2.093198 \tValidation Loss: 2.092763\n",
      "Epoch: 30 \tTraining Loss: 2.093231 \tValidation Loss: 2.092763\n",
      "Epoch: 31 \tTraining Loss: 2.093216 \tValidation Loss: 2.092731\n",
      "Epoch: 32 \tTraining Loss: 2.093124 \tValidation Loss: 2.093498\n",
      "Epoch: 33 \tTraining Loss: 2.093213 \tValidation Loss: 2.093409\n",
      "Epoch: 34 \tTraining Loss: 2.093285 \tValidation Loss: 2.094143\n",
      "Epoch: 35 \tTraining Loss: 2.093182 \tValidation Loss: 2.093409\n",
      "Epoch: 36 \tTraining Loss: 2.093196 \tValidation Loss: 2.094143\n",
      "Epoch: 37 \tTraining Loss: 2.093241 \tValidation Loss: 2.092652\n",
      "Epoch: 38 \tTraining Loss: 2.093159 \tValidation Loss: 2.093409\n",
      "Epoch: 39 \tTraining Loss: 2.093156 \tValidation Loss: 2.092945\n",
      "Epoch: 40 \tTraining Loss: 2.093228 \tValidation Loss: 2.092834\n",
      "Epoch: 41 \tTraining Loss: 2.093165 \tValidation Loss: 2.092866\n",
      "Epoch: 42 \tTraining Loss: 2.093134 \tValidation Loss: 2.093297\n",
      "Epoch: 43 \tTraining Loss: 2.093042 \tValidation Loss: 2.093377\n",
      "Epoch: 44 \tTraining Loss: 2.093258 \tValidation Loss: 2.093195\n",
      "Epoch: 45 \tTraining Loss: 2.093222 \tValidation Loss: 2.092834\n",
      "Epoch: 46 \tTraining Loss: 2.093263 \tValidation Loss: 2.092945\n",
      "Epoch: 47 \tTraining Loss: 2.093234 \tValidation Loss: 2.093195\n",
      "Epoch: 48 \tTraining Loss: 2.093204 \tValidation Loss: 2.093600\n",
      "Epoch: 49 \tTraining Loss: 2.093163 \tValidation Loss: 2.093600\n",
      "Epoch: 50 \tTraining Loss: 2.093124 \tValidation Loss: 2.093377\n",
      "Epoch: 51 \tTraining Loss: 2.093192 \tValidation Loss: 2.093498\n",
      "Epoch: 52 \tTraining Loss: 2.093087 \tValidation Loss: 2.093409\n",
      "Epoch: 53 \tTraining Loss: 2.093213 \tValidation Loss: 2.092834\n",
      "Epoch: 54 \tTraining Loss: 2.093105 \tValidation Loss: 2.093377\n",
      "Epoch: 55 \tTraining Loss: 2.093251 \tValidation Loss: 2.092652\n",
      "Epoch: 56 \tTraining Loss: 2.093177 \tValidation Loss: 2.093679\n",
      "Epoch: 57 \tTraining Loss: 2.093147 \tValidation Loss: 2.094143\n",
      "Epoch: 58 \tTraining Loss: 2.093211 \tValidation Loss: 2.093297\n",
      "Epoch: 59 \tTraining Loss: 2.093140 \tValidation Loss: 2.093679\n",
      "Epoch: 60 \tTraining Loss: 2.093265 \tValidation Loss: 2.092945\n",
      "Epoch: 61 \tTraining Loss: 2.093233 \tValidation Loss: 2.092652\n",
      "Epoch: 62 \tTraining Loss: 2.093221 \tValidation Loss: 2.093409\n",
      "Epoch: 63 \tTraining Loss: 2.093111 \tValidation Loss: 2.092652\n",
      "Epoch: 64 \tTraining Loss: 2.093116 \tValidation Loss: 2.093377\n",
      "Epoch: 65 \tTraining Loss: 2.093127 \tValidation Loss: 2.092731\n",
      "Epoch: 66 \tTraining Loss: 2.093179 \tValidation Loss: 2.092945\n",
      "Epoch: 67 \tTraining Loss: 2.093234 \tValidation Loss: 2.092763\n",
      "Epoch: 68 \tTraining Loss: 2.093139 \tValidation Loss: 2.093297\n",
      "Epoch: 69 \tTraining Loss: 2.093158 \tValidation Loss: 2.093712\n",
      "Epoch: 70 \tTraining Loss: 2.093111 \tValidation Loss: 2.093195\n",
      "Epoch: 71 \tTraining Loss: 2.093181 \tValidation Loss: 2.093712\n",
      "Epoch: 72 \tTraining Loss: 2.093232 \tValidation Loss: 2.092652\n",
      "Epoch: 73 \tTraining Loss: 2.093278 \tValidation Loss: 2.092763\n",
      "Epoch: 74 \tTraining Loss: 2.093240 \tValidation Loss: 2.093377\n",
      "Epoch: 75 \tTraining Loss: 2.093088 \tValidation Loss: 2.092945\n",
      "Epoch: 76 \tTraining Loss: 2.093131 \tValidation Loss: 2.093497\n",
      "Epoch: 77 \tTraining Loss: 2.093266 \tValidation Loss: 2.092834\n",
      "Epoch: 78 \tTraining Loss: 2.093118 \tValidation Loss: 2.093195\n",
      "Epoch: 79 \tTraining Loss: 2.093241 \tValidation Loss: 2.093377\n",
      "Epoch: 80 \tTraining Loss: 2.093204 \tValidation Loss: 2.093297\n",
      "Epoch: 81 \tTraining Loss: 2.093215 \tValidation Loss: 2.093679\n",
      "Epoch: 82 \tTraining Loss: 2.093153 \tValidation Loss: 2.093679\n",
      "Epoch: 83 \tTraining Loss: 2.093223 \tValidation Loss: 2.093377\n",
      "Epoch: 84 \tTraining Loss: 2.093105 \tValidation Loss: 2.093409\n",
      "Epoch: 85 \tTraining Loss: 2.093297 \tValidation Loss: 2.092866\n",
      "Epoch: 86 \tTraining Loss: 2.093133 \tValidation Loss: 2.092652\n",
      "Epoch: 87 \tTraining Loss: 2.093149 \tValidation Loss: 2.092834\n",
      "Epoch: 88 \tTraining Loss: 2.093287 \tValidation Loss: 2.092652\n",
      "Epoch: 89 \tTraining Loss: 2.093221 \tValidation Loss: 2.092731\n",
      "Epoch: 90 \tTraining Loss: 2.093241 \tValidation Loss: 2.092945\n",
      "Epoch: 91 \tTraining Loss: 2.093282 \tValidation Loss: 2.092834\n",
      "Epoch: 92 \tTraining Loss: 2.093178 \tValidation Loss: 2.093712\n",
      "Epoch: 93 \tTraining Loss: 2.093147 \tValidation Loss: 2.093297\n",
      "Epoch: 94 \tTraining Loss: 2.093234 \tValidation Loss: 2.093498\n",
      "Epoch: 95 \tTraining Loss: 2.093310 \tValidation Loss: 2.093377\n",
      "Epoch: 96 \tTraining Loss: 2.093130 \tValidation Loss: 2.092731\n",
      "Epoch: 97 \tTraining Loss: 2.093170 \tValidation Loss: 2.092866\n",
      "Epoch: 98 \tTraining Loss: 2.093061 \tValidation Loss: 2.093679\n",
      "Epoch: 99 \tTraining Loss: 2.093176 \tValidation Loss: 2.093195\n",
      "Epoch: 100 \tTraining Loss: 2.093158 \tValidation Loss: 2.093600\n",
      "Epoch: 101 \tTraining Loss: 2.093221 \tValidation Loss: 2.094143\n",
      "Epoch: 102 \tTraining Loss: 2.093325 \tValidation Loss: 2.093600\n",
      "Epoch: 103 \tTraining Loss: 2.093116 \tValidation Loss: 2.093679\n",
      "Epoch: 104 \tTraining Loss: 2.093243 \tValidation Loss: 2.093600\n",
      "Epoch: 105 \tTraining Loss: 2.093187 \tValidation Loss: 2.094143\n",
      "Epoch: 106 \tTraining Loss: 2.093163 \tValidation Loss: 2.094143\n",
      "Epoch: 107 \tTraining Loss: 2.093179 \tValidation Loss: 2.093712\n",
      "Epoch: 108 \tTraining Loss: 2.093188 \tValidation Loss: 2.093712\n",
      "Epoch: 109 \tTraining Loss: 2.093156 \tValidation Loss: 2.093712\n",
      "Epoch: 110 \tTraining Loss: 2.093168 \tValidation Loss: 2.093679\n",
      "Epoch: 111 \tTraining Loss: 2.093190 \tValidation Loss: 2.093498\n",
      "Epoch: 112 \tTraining Loss: 2.093194 \tValidation Loss: 2.092866\n",
      "Epoch: 113 \tTraining Loss: 2.093226 \tValidation Loss: 2.093679\n",
      "Epoch: 114 \tTraining Loss: 2.093133 \tValidation Loss: 2.093712\n",
      "Epoch: 115 \tTraining Loss: 2.093148 \tValidation Loss: 2.093409\n",
      "Epoch: 116 \tTraining Loss: 2.093126 \tValidation Loss: 2.093297\n",
      "Epoch: 117 \tTraining Loss: 2.093172 \tValidation Loss: 2.092763\n",
      "Epoch: 118 \tTraining Loss: 2.093215 \tValidation Loss: 2.092945\n",
      "Epoch: 119 \tTraining Loss: 2.093140 \tValidation Loss: 2.093498\n",
      "Epoch: 120 \tTraining Loss: 2.093176 \tValidation Loss: 2.093377\n",
      "Epoch: 121 \tTraining Loss: 2.093176 \tValidation Loss: 2.093297\n",
      "Epoch: 122 \tTraining Loss: 2.093163 \tValidation Loss: 2.093377\n",
      "Epoch: 123 \tTraining Loss: 2.093289 \tValidation Loss: 2.093409\n",
      "Epoch: 124 \tTraining Loss: 2.093226 \tValidation Loss: 2.093498\n",
      "Epoch: 125 \tTraining Loss: 2.093279 \tValidation Loss: 2.093600\n",
      "Epoch: 126 \tTraining Loss: 2.093188 \tValidation Loss: 2.093376\n",
      "Epoch: 127 \tTraining Loss: 2.093128 \tValidation Loss: 2.093679\n",
      "Epoch: 128 \tTraining Loss: 2.093309 \tValidation Loss: 2.092652\n",
      "Epoch: 129 \tTraining Loss: 2.093165 \tValidation Loss: 2.093600\n",
      "Epoch: 130 \tTraining Loss: 2.093235 \tValidation Loss: 2.093476\n",
      "Epoch: 131 \tTraining Loss: 2.093066 \tValidation Loss: 2.093387\n",
      "Epoch: 132 \tTraining Loss: 2.093229 \tValidation Loss: 2.093173\n",
      "Epoch: 133 \tTraining Loss: 2.093117 \tValidation Loss: 2.092741\n",
      "Epoch: 134 \tTraining Loss: 2.093190 \tValidation Loss: 2.093690\n",
      "Epoch: 135 \tTraining Loss: 2.093144 \tValidation Loss: 2.093690\n",
      "Epoch: 136 \tTraining Loss: 2.093176 \tValidation Loss: 2.092812\n",
      "Epoch: 137 \tTraining Loss: 2.093100 \tValidation Loss: 2.092630\n",
      "Validation loss decreased (2.092652 --> 2.092630).  Saving model ...\n",
      "Epoch: 138 \tTraining Loss: 2.093263 \tValidation Loss: 2.093657\n",
      "Epoch: 139 \tTraining Loss: 2.093146 \tValidation Loss: 2.093578\n",
      "Epoch: 140 \tTraining Loss: 2.093168 \tValidation Loss: 2.093690\n",
      "Epoch: 141 \tTraining Loss: 2.093170 \tValidation Loss: 2.093387\n",
      "Epoch: 142 \tTraining Loss: 2.093132 \tValidation Loss: 2.094121\n",
      "Epoch: 143 \tTraining Loss: 2.093116 \tValidation Loss: 2.092742\n",
      "Epoch: 144 \tTraining Loss: 2.093305 \tValidation Loss: 2.094121\n",
      "Epoch: 145 \tTraining Loss: 2.093134 \tValidation Loss: 2.093476\n",
      "Epoch: 146 \tTraining Loss: 2.093273 \tValidation Loss: 2.092630\n",
      "Epoch: 147 \tTraining Loss: 2.093162 \tValidation Loss: 2.093578\n",
      "Epoch: 148 \tTraining Loss: 2.093109 \tValidation Loss: 2.093275\n",
      "Epoch: 149 \tTraining Loss: 2.093218 \tValidation Loss: 2.092923\n",
      "Epoch: 150 \tTraining Loss: 2.093103 \tValidation Loss: 2.092923\n",
      "Epoch: 151 \tTraining Loss: 2.093118 \tValidation Loss: 2.092741\n",
      "Epoch: 152 \tTraining Loss: 2.093215 \tValidation Loss: 2.093476\n",
      "Epoch: 153 \tTraining Loss: 2.093106 \tValidation Loss: 2.092812\n",
      "Epoch: 154 \tTraining Loss: 2.093209 \tValidation Loss: 2.094121\n",
      "Epoch: 155 \tTraining Loss: 2.093169 \tValidation Loss: 2.092844\n",
      "Epoch: 156 \tTraining Loss: 2.093230 \tValidation Loss: 2.093476\n",
      "Epoch: 157 \tTraining Loss: 2.093174 \tValidation Loss: 2.093690\n",
      "Epoch: 158 \tTraining Loss: 2.093230 \tValidation Loss: 2.093173\n",
      "Epoch: 159 \tTraining Loss: 2.093057 \tValidation Loss: 2.092742\n",
      "Epoch: 160 \tTraining Loss: 2.093217 \tValidation Loss: 2.092741\n",
      "Epoch: 161 \tTraining Loss: 2.093172 \tValidation Loss: 2.094121\n",
      "Epoch: 162 \tTraining Loss: 2.093255 \tValidation Loss: 2.093657\n",
      "Epoch: 163 \tTraining Loss: 2.093164 \tValidation Loss: 2.093690\n",
      "Epoch: 164 \tTraining Loss: 2.093134 \tValidation Loss: 2.092742\n",
      "Epoch: 165 \tTraining Loss: 2.093257 \tValidation Loss: 2.093657\n",
      "Epoch: 166 \tTraining Loss: 2.093174 \tValidation Loss: 2.092923\n",
      "Epoch: 167 \tTraining Loss: 2.093124 \tValidation Loss: 2.092923\n",
      "Epoch: 168 \tTraining Loss: 2.093227 \tValidation Loss: 2.092630\n",
      "Epoch: 169 \tTraining Loss: 2.093099 \tValidation Loss: 2.093657\n",
      "Epoch: 170 \tTraining Loss: 2.093181 \tValidation Loss: 2.093657\n",
      "Epoch: 171 \tTraining Loss: 2.093230 \tValidation Loss: 2.092844\n",
      "Epoch: 172 \tTraining Loss: 2.093182 \tValidation Loss: 2.093690\n",
      "Epoch: 173 \tTraining Loss: 2.093094 \tValidation Loss: 2.092844\n",
      "Epoch: 174 \tTraining Loss: 2.093183 \tValidation Loss: 2.093657\n",
      "Epoch: 175 \tTraining Loss: 2.093280 \tValidation Loss: 2.092741\n",
      "Epoch: 176 \tTraining Loss: 2.093165 \tValidation Loss: 2.094121\n",
      "Epoch: 177 \tTraining Loss: 2.093192 \tValidation Loss: 2.092812\n",
      "Epoch: 178 \tTraining Loss: 2.093203 \tValidation Loss: 2.093355\n",
      "Epoch: 179 \tTraining Loss: 2.093072 \tValidation Loss: 2.094121\n",
      "Epoch: 180 \tTraining Loss: 2.093200 \tValidation Loss: 2.093387\n",
      "Epoch: 181 \tTraining Loss: 2.093120 \tValidation Loss: 2.092844\n",
      "Epoch: 182 \tTraining Loss: 2.093028 \tValidation Loss: 2.093476\n",
      "Epoch: 183 \tTraining Loss: 2.093181 \tValidation Loss: 2.092742\n",
      "Epoch: 184 \tTraining Loss: 2.093265 \tValidation Loss: 2.093387\n",
      "Epoch: 185 \tTraining Loss: 2.093150 \tValidation Loss: 2.093275\n",
      "Epoch: 186 \tTraining Loss: 2.093041 \tValidation Loss: 2.092148\n",
      "Validation loss decreased (2.092630 --> 2.092148).  Saving model ...\n",
      "Epoch: 187 \tTraining Loss: 2.092530 \tValidation Loss: 2.092711\n",
      "Epoch: 188 \tTraining Loss: 2.092513 \tValidation Loss: 2.092147\n",
      "Validation loss decreased (2.092148 --> 2.092147).  Saving model ...\n",
      "Epoch: 189 \tTraining Loss: 2.092514 \tValidation Loss: 2.092882\n",
      "Epoch: 190 \tTraining Loss: 2.092495 \tValidation Loss: 2.091933\n",
      "Validation loss decreased (2.092147 --> 2.091933).  Saving model ...\n",
      "Epoch: 191 \tTraining Loss: 2.092465 \tValidation Loss: 2.092476\n",
      "Epoch: 192 \tTraining Loss: 2.092428 \tValidation Loss: 2.092147\n",
      "Epoch: 193 \tTraining Loss: 2.092459 \tValidation Loss: 2.092115\n",
      "Epoch: 194 \tTraining Loss: 2.092510 \tValidation Loss: 2.092658\n",
      "Epoch: 195 \tTraining Loss: 2.092481 \tValidation Loss: 2.092476\n",
      "Epoch: 196 \tTraining Loss: 2.092439 \tValidation Loss: 2.092013\n",
      "Epoch: 197 \tTraining Loss: 2.092394 \tValidation Loss: 2.092882\n",
      "Epoch: 198 \tTraining Loss: 2.092408 \tValidation Loss: 2.092658\n",
      "Epoch: 199 \tTraining Loss: 2.092410 \tValidation Loss: 2.092779\n",
      "Epoch: 200 \tTraining Loss: 2.092438 \tValidation Loss: 2.093425\n",
      "Epoch: 201 \tTraining Loss: 2.092462 \tValidation Loss: 2.092690\n",
      "Epoch: 202 \tTraining Loss: 2.092506 \tValidation Loss: 2.091933\n",
      "Epoch: 203 \tTraining Loss: 2.092469 \tValidation Loss: 2.092961\n",
      "Epoch: 204 \tTraining Loss: 2.092448 \tValidation Loss: 2.092476\n",
      "Epoch: 205 \tTraining Loss: 2.092506 \tValidation Loss: 2.092961\n",
      "Epoch: 206 \tTraining Loss: 2.092472 \tValidation Loss: 2.092690\n",
      "Epoch: 207 \tTraining Loss: 2.092479 \tValidation Loss: 2.091933\n",
      "Epoch: 208 \tTraining Loss: 2.092537 \tValidation Loss: 2.092013\n",
      "Epoch: 209 \tTraining Loss: 2.092598 \tValidation Loss: 2.092115\n",
      "Epoch: 210 \tTraining Loss: 2.092567 \tValidation Loss: 2.093425\n",
      "Epoch: 211 \tTraining Loss: 2.092492 \tValidation Loss: 2.092115\n",
      "Epoch: 212 \tTraining Loss: 2.092496 \tValidation Loss: 2.092779\n",
      "Epoch: 213 \tTraining Loss: 2.092481 \tValidation Loss: 2.092690\n",
      "Epoch: 214 \tTraining Loss: 2.092503 \tValidation Loss: 2.092961\n",
      "Epoch: 215 \tTraining Loss: 2.092537 \tValidation Loss: 2.092013\n",
      "Epoch: 216 \tTraining Loss: 2.092538 \tValidation Loss: 2.092115\n",
      "Epoch: 217 \tTraining Loss: 2.092409 \tValidation Loss: 2.092881\n",
      "Epoch: 218 \tTraining Loss: 2.092553 \tValidation Loss: 2.092579\n",
      "Epoch: 219 \tTraining Loss: 2.092431 \tValidation Loss: 2.092115\n",
      "Epoch: 220 \tTraining Loss: 2.092489 \tValidation Loss: 2.092013\n",
      "Epoch: 221 \tTraining Loss: 2.092486 \tValidation Loss: 2.092045\n",
      "Epoch: 222 \tTraining Loss: 2.092447 \tValidation Loss: 2.092882\n",
      "Epoch: 223 \tTraining Loss: 2.092499 \tValidation Loss: 2.092147\n",
      "Epoch: 224 \tTraining Loss: 2.092548 \tValidation Loss: 2.092961\n",
      "Epoch: 225 \tTraining Loss: 2.092446 \tValidation Loss: 2.092579\n",
      "Epoch: 226 \tTraining Loss: 2.092432 \tValidation Loss: 2.092227\n",
      "Epoch: 227 \tTraining Loss: 2.092479 \tValidation Loss: 2.092993\n",
      "Epoch: 228 \tTraining Loss: 2.092497 \tValidation Loss: 2.093425\n",
      "Epoch: 229 \tTraining Loss: 2.092444 \tValidation Loss: 2.092045\n",
      "Epoch: 230 \tTraining Loss: 2.092453 \tValidation Loss: 2.092115\n",
      "Epoch: 231 \tTraining Loss: 2.092485 \tValidation Loss: 2.092476\n",
      "Epoch: 232 \tTraining Loss: 2.092535 \tValidation Loss: 2.092045\n",
      "Epoch: 233 \tTraining Loss: 2.092425 \tValidation Loss: 2.092961\n",
      "Epoch: 234 \tTraining Loss: 2.092431 \tValidation Loss: 2.093425\n",
      "Epoch: 235 \tTraining Loss: 2.092528 \tValidation Loss: 2.092579\n",
      "Epoch: 236 \tTraining Loss: 2.092464 \tValidation Loss: 2.092993\n",
      "Epoch: 237 \tTraining Loss: 2.092606 \tValidation Loss: 2.092779\n",
      "Epoch: 238 \tTraining Loss: 2.092376 \tValidation Loss: 2.092013\n",
      "Epoch: 239 \tTraining Loss: 2.092479 \tValidation Loss: 2.092045\n",
      "Epoch: 240 \tTraining Loss: 2.092411 \tValidation Loss: 2.092993\n"
     ]
    }
   ],
   "source": [
    "# train the model\n",
    "n_epochs = 240\n",
    "model_name = 'conv_Autoencoder_anomaly_adam_lr0001.pt'\n",
    "save_path = fr'modelOutput\\{model_name}'\n",
    "model_transfer, train_loss, valid_loss = train(\n",
    "    n_epochs, loaders, model, optimizer, criterion, use_cuda, save_path)"
   ]
  },
  {
   "cell_type": "code",
   "execution_count": 21,
   "metadata": {},
   "outputs": [
    {
     "data": {
      "text/plain": [
       "Autoencoder(\n",
       "  (encoder): Sequential(\n",
       "    (0): Conv2d(3, 16, kernel_size=(3, 3), stride=(2, 2), padding=(1, 1))\n",
       "    (1): ReLU()\n",
       "    (2): Conv2d(16, 32, kernel_size=(3, 3), stride=(2, 2), padding=(1, 1))\n",
       "    (3): ReLU()\n",
       "    (4): Conv2d(32, 64, kernel_size=(3, 3), stride=(2, 2), padding=(1, 1))\n",
       "    (5): ReLU()\n",
       "    (6): Conv2d(64, 128, kernel_size=(3, 3), stride=(2, 2), padding=(1, 1))\n",
       "    (7): ReLU()\n",
       "    (8): Conv2d(128, 256, kernel_size=(3, 3), stride=(2, 2), padding=(1, 1))\n",
       "    (9): ReLU()\n",
       "  )\n",
       "  (decoder): Sequential(\n",
       "    (0): ConvTranspose2d(256, 128, kernel_size=(3, 3), stride=(2, 2), padding=(1, 1), output_padding=(1, 1))\n",
       "    (1): ReLU()\n",
       "    (2): ConvTranspose2d(128, 64, kernel_size=(3, 3), stride=(2, 2), padding=(1, 1), output_padding=(1, 1))\n",
       "    (3): ReLU()\n",
       "    (4): ConvTranspose2d(64, 32, kernel_size=(3, 3), stride=(2, 2), padding=(1, 1), output_padding=(1, 1))\n",
       "    (5): ReLU()\n",
       "    (6): ConvTranspose2d(32, 16, kernel_size=(3, 3), stride=(2, 2), padding=(1, 1), output_padding=(1, 1))\n",
       "    (7): ReLU()\n",
       "    (8): ConvTranspose2d(16, 3, kernel_size=(3, 3), stride=(2, 2), padding=(1, 1), output_padding=(1, 1))\n",
       "    (9): Sigmoid()\n",
       "  )\n",
       ")"
      ]
     },
     "execution_count": 21,
     "metadata": {},
     "output_type": "execute_result"
    }
   ],
   "source": [
    "# load the model that got the best validation accuracy\n",
    "model_transfer.load_state_dict(torch.load(\n",
    "    save_path))\n",
    "model.eval()"
   ]
  },
  {
   "cell_type": "code",
   "execution_count": 22,
   "metadata": {},
   "outputs": [
    {
     "data": {
      "image/png": "[encoded data removed]",
      "text/plain": [
       "<Figure size 640x480 with 1 Axes>"
      ]
     },
     "metadata": {},
     "output_type": "display_data"
    }
   ],
   "source": [
    "def plot_loss(train_loss, valid_loss, save_path):\n",
    "    n = np.arange(0, n_epochs)\n",
    "    plt.plot(n, train_loss, label='Training loss')\n",
    "    plt.plot(n, valid_loss, label='Validation loss')\n",
    "    plt.title('Training and Validation Loss: {}'.format(model_name))\n",
    "    plt.ylabel('Loss')\n",
    "    plt.xlabel('Epoch Number')\n",
    "    plt.legend(frameon=False)\n",
    "    plt.savefig(save_path)\n",
    "    plt.show()\n",
    "\n",
    "plot_loss(train_loss, valid_loss, fr'modelOutput\\{model_name}_loss.png')"
   ]
  },
  {
   "cell_type": "code",
   "execution_count": 23,
   "metadata": {},
   "outputs": [],
   "source": [
    "import json\n",
    "\n",
    "loss_data = {}\n",
    "loss_data['train'] = train_loss\n",
    "loss_data['valid'] = valid_loss\n",
    "\n",
    "if not os.path.isfile(f'modelOutput/{model_name}_loss_data.json'):\n",
    "    with open(f'modelOutput/{model_name}_loss_data.json', 'w') as f:\n",
    "        json.dump(loss_data, f)"
   ]
  },
  {
   "cell_type": "code",
   "execution_count": 24,
   "metadata": {},
   "outputs": [
    {
     "data": {
      "image/png": "[encoded data removed]",
      "text/plain": [
       "<Figure size 640x480 with 1 Axes>"
      ]
     },
     "metadata": {},
     "output_type": "display_data"
    }
   ],
   "source": [
    "import os\n",
    "import random\n",
    "from PIL import Image\n",
    "\n",
    "image_directory = \"cnn_monthly_images/\"\n",
    "image_files = os.listdir(image_directory)\n",
    "random_image_file = random.choice(image_files)\n",
    "image_path = os.path.join(image_directory, random_image_file)\n",
    "image = Image.open(image_path).convert('RGB')\n",
    "\n",
    "plt.imshow(image)\n",
    "plt.show()"
   ]
  },
  {
   "cell_type": "code",
   "execution_count": null,
   "metadata": {},
   "outputs": [],
   "source": []
  }
 ],
 "metadata": {
  "kernelspec": {
   "display_name": "Python 3",
   "language": "python",
   "name": "python3"
  },
  "language_info": {
   "codemirror_mode": {
    "name": "ipython",
    "version": 3
   },
   "file_extension": ".py",
   "mimetype": "text/x-python",
   "name": "python",
   "nbconvert_exporter": "python",
   "pygments_lexer": "ipython3",
   "version": "3.11.8"
  }
 },
 "nbformat": 4,
 "nbformat_minor": 2
}
