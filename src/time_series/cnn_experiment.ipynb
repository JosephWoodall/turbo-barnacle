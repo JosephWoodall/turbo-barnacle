{
 "cells": [
  {
   "cell_type": "markdown",
   "metadata": {},
   "source": [
    "# CNN Experiments in time series"
   ]
  },
  {
   "cell_type": "code",
   "execution_count": 128,
   "metadata": {},
   "outputs": [],
   "source": [
    "import numpy\n",
    "import pandas\n",
    "import matplotlib.pyplot as plt"
   ]
  },
  {
   "cell_type": "code",
   "execution_count": 115,
   "metadata": {},
   "outputs": [],
   "source": [
    "class GARCHTimeSeriesDataGenerator:\n",
    "    \"\"\"\n",
    "    A class for generating time series data using the GARCH process.\n",
    "\n",
    "    Parameters:\n",
    "    - start_date (str): The start date of the time series.\n",
    "    - mu (float): The mean of the GARCH process. Default is 0.\n",
    "    - omega (float): The constant term in the GARCH process. Default is 0.1.\n",
    "    - alpha (list): The list of alpha coefficients in the GARCH process. Default is [0.5].\n",
    "    - beta (list): The list of beta coefficients in the GARCH process. Default is [0.5].\n",
    "    \"\"\"\n",
    "\n",
    "    def __init__(self, start_date, mu=0, omega=0.1, alpha=[0.5], beta=[0.5]):\n",
    "        self.start_date = pandas.to_datetime(start_date)\n",
    "        self.mu = mu\n",
    "        self.omega = omega\n",
    "        self.alpha = alpha\n",
    "        self.beta = beta\n",
    "\n",
    "    def simulate(self, n) -> pandas.Series:\n",
    "        \"\"\"\n",
    "        Simulates a GARCH process and returns a pandas Series of simulated returns.\n",
    "\n",
    "            Parameters:\n",
    "            - n (int): The number of periods to simulate.\n",
    "\n",
    "            Returns:\n",
    "            - simulated_series (pandas.Series): A pandas Series of simulated returns.\n",
    "        \"\"\"\n",
    "        # Initialize arrays\n",
    "        errors = numpy.random.normal(size=n)\n",
    "        sigmas = numpy.zeros_like(errors)\n",
    "        returns = numpy.zeros_like(errors)\n",
    "\n",
    "        # Simulate GARCH process\n",
    "        for t in range(1, n):\n",
    "            sigmas[t] = numpy.sqrt(\n",
    "                self.omega + self.alpha[0] * errors[t-1]**2 + self.beta[0] * sigmas[t-1]**2)\n",
    "            returns[t] = self.mu + sigmas[t] * errors[t]\n",
    "\n",
    "        # Create date range\n",
    "        dates = pandas.date_range(self.start_date, periods=n)\n",
    "\n",
    "        # Create pandas Series\n",
    "        simulated_series = pandas.Series(returns, index=dates)\n",
    "\n",
    "        return simulated_series\n",
    "\n"
   ]
  },
  {
   "cell_type": "markdown",
   "metadata": {},
   "source": [
    "### First Experiment\n",
    "\n",
    "This first experiment uses a CNN for anomaly detection, by mapping a value to a canvas of pixels"
   ]
  },
  {
   "cell_type": "code",
   "execution_count": 171,
   "metadata": {},
   "outputs": [],
   "source": [
    "# Create a GARCH time series data generator\n",
    "generator = GARCHTimeSeriesDataGenerator(start_date=\"2023-01-01\")\n",
    "\n",
    "# Simulate 365 days of data (assuming daily data)\n",
    "data = generator.simulate(365)\n",
    "\n",
    "# Normalize data to a range of 0 to 16777215\n",
    "normalized_data = (data - data.min()) / (data.max() - data.min()) * 16777215"
   ]
  },
  {
   "cell_type": "code",
   "execution_count": 172,
   "metadata": {},
   "outputs": [],
   "source": [
    "# Create a canvas with 365 pixels\n",
    "canvas = numpy.zeros((normalized_data.size, 3), dtype=numpy.uint8)\n",
    "dates = []\n",
    "\n",
    "# Iterate through each pixel and set the color based on normalized data\n",
    "for i in range(normalized_data.size):\n",
    "  # Extract the normalized value for the current day\n",
    "  value = normalized_data.iloc[i]\n",
    "  date = normalized_data.index[i]\n",
    "  # Convert the value to RGB components\n",
    "  red = (int(value) & 0x00FF0000) >> 16\n",
    "  green = (int(value) & 0x0000FF00) >> 8\n",
    "  blue = int(value) & 0x000000FF\n",
    "\n",
    "  # Set the pixel's RGB values\n",
    "  canvas[i] = [red, green, blue]\n",
    "  dates.append(date)\n",
    "  \n",
    "canvas_dictionary = {dates[i]: canvas[i] for i in range(len(dates))}"
   ]
  },
  {
   "cell_type": "code",
   "execution_count": 173,
   "metadata": {},
   "outputs": [
    {
     "data": {
      "text/plain": [
       "(-0.5, 2.5, 364.5, -0.5)"
      ]
     },
     "execution_count": 173,
     "metadata": {},
     "output_type": "execute_result"
    },
    {
     "data": {
      "image/png": "[encoded data removed]",
      "text/plain": [
       "<Figure size 640x480 with 1 Axes>"
      ]
     },
     "metadata": {},
     "output_type": "display_data"
    }
   ],
   "source": [
    "plt.imshow(canvas_dictionary.values())\n",
    "plt.axis('off')"
   ]
  },
  {
   "cell_type": "code",
   "execution_count": 182,
   "metadata": {},
   "outputs": [
    {
     "name": "stdout",
     "output_type": "stream",
     "text": [
      "-----------------\n",
      "{'canvas_dictionary_january': {Timestamp('2023-01-01 00:00:00'): array([120, 114, 219], dtype=uint8), Timestamp('2023-01-02 00:00:00'): array([122, 113, 211], dtype=uint8), Timestamp('2023-01-03 00:00:00'): array([123,  82,  91], dtype=uint8), Timestamp('2023-01-04 00:00:00'): array([104, 202, 160], dtype=uint8), Timestamp('2023-01-05 00:00:00'): array([127, 156,  35], dtype=uint8), Timestamp('2023-01-06 00:00:00'): array([ 95, 246, 132], dtype=uint8), Timestamp('2023-01-07 00:00:00'): array([168,  42, 139], dtype=uint8), Timestamp('2023-01-08 00:00:00'): array([197, 166,  15], dtype=uint8), Timestamp('2023-01-09 00:00:00'): array([ 87,  26, 137], dtype=uint8), Timestamp('2023-01-10 00:00:00'): array([141, 205, 177], dtype=uint8), Timestamp('2023-01-11 00:00:00'): array([ 92,   2, 150], dtype=uint8), Timestamp('2023-01-12 00:00:00'): array([ 53, 115, 120], dtype=uint8), Timestamp('2023-01-13 00:00:00'): array([164,   7, 238], dtype=uint8), Timestamp('2023-01-14 00:00:00'): array([141, 249,   6], dtype=uint8), Timestamp('2023-01-15 00:00:00'): array([155,  77,  93], dtype=uint8), Timestamp('2023-01-16 00:00:00'): array([145,  30,  28], dtype=uint8), Timestamp('2023-01-17 00:00:00'): array([ 82, 206,  52], dtype=uint8), Timestamp('2023-01-18 00:00:00'): array([126,  14, 129], dtype=uint8), Timestamp('2023-01-19 00:00:00'): array([111,  32, 103], dtype=uint8), Timestamp('2023-01-20 00:00:00'): array([109,  97,  99], dtype=uint8), Timestamp('2023-01-21 00:00:00'): array([ 87,  10, 245], dtype=uint8), Timestamp('2023-01-22 00:00:00'): array([53, 56, 51], dtype=uint8), Timestamp('2023-01-23 00:00:00'): array([142, 236, 170], dtype=uint8), Timestamp('2023-01-24 00:00:00'): array([151,  96, 235], dtype=uint8), Timestamp('2023-01-25 00:00:00'): array([189,  14,  13], dtype=uint8), Timestamp('2023-01-26 00:00:00'): array([125,  79, 154], dtype=uint8), Timestamp('2023-01-27 00:00:00'): array([134, 143,  69], dtype=uint8), Timestamp('2023-01-28 00:00:00'): array([126,   3, 181], dtype=uint8), Timestamp('2023-01-29 00:00:00'): array([152, 145,  10], dtype=uint8), Timestamp('2023-01-30 00:00:00'): array([176, 189, 245], dtype=uint8), Timestamp('2023-01-31 00:00:00'): array([173, 125, 189], dtype=uint8)}, 'canvas_dictionary_february': {Timestamp('2023-02-01 00:00:00'): array([148, 114, 107], dtype=uint8), Timestamp('2023-02-02 00:00:00'): array([191,  62, 107], dtype=uint8), Timestamp('2023-02-03 00:00:00'): array([ 11, 244,  10], dtype=uint8), Timestamp('2023-02-04 00:00:00'): array([182, 177,   6], dtype=uint8), Timestamp('2023-02-05 00:00:00'): array([199, 167, 235], dtype=uint8), Timestamp('2023-02-06 00:00:00'): array([181,   4, 221], dtype=uint8), Timestamp('2023-02-07 00:00:00'): array([ 58,  78, 112], dtype=uint8), Timestamp('2023-02-08 00:00:00'): array([ 84, 235, 223], dtype=uint8), Timestamp('2023-02-09 00:00:00'): array([103, 105, 232], dtype=uint8), Timestamp('2023-02-10 00:00:00'): array([102,  70, 177], dtype=uint8), Timestamp('2023-02-11 00:00:00'): array([112,  70,  75], dtype=uint8), Timestamp('2023-02-12 00:00:00'): array([132,  37,  72], dtype=uint8), Timestamp('2023-02-13 00:00:00'): array([114, 212, 148], dtype=uint8), Timestamp('2023-02-14 00:00:00'): array([118, 213, 195], dtype=uint8), Timestamp('2023-02-15 00:00:00'): array([124, 110, 156], dtype=uint8), Timestamp('2023-02-16 00:00:00'): array([110, 245, 217], dtype=uint8), Timestamp('2023-02-17 00:00:00'): array([157, 144, 221], dtype=uint8), Timestamp('2023-02-18 00:00:00'): array([185,  17, 251], dtype=uint8), Timestamp('2023-02-19 00:00:00'): array([157, 186,  48], dtype=uint8), Timestamp('2023-02-20 00:00:00'): array([105, 104, 119], dtype=uint8), Timestamp('2023-02-21 00:00:00'): array([123, 255,  70], dtype=uint8), Timestamp('2023-02-22 00:00:00'): array([118,  43,  38], dtype=uint8), Timestamp('2023-02-23 00:00:00'): array([ 97, 230,  47], dtype=uint8), Timestamp('2023-02-24 00:00:00'): array([106,  55,  21], dtype=uint8), Timestamp('2023-02-25 00:00:00'): array([ 89, 160, 191], dtype=uint8), Timestamp('2023-02-26 00:00:00'): array([123,  92,  49], dtype=uint8), Timestamp('2023-02-27 00:00:00'): array([ 93,  60, 180], dtype=uint8), Timestamp('2023-02-28 00:00:00'): array([148, 128,  77], dtype=uint8)}, 'canvas_dictionary_march': {Timestamp('2023-03-01 00:00:00'): array([ 98,  16, 137], dtype=uint8), Timestamp('2023-03-02 00:00:00'): array([169, 118, 236], dtype=uint8), Timestamp('2023-03-03 00:00:00'): array([136, 112, 224], dtype=uint8), Timestamp('2023-03-04 00:00:00'): array([41, 31, 92], dtype=uint8), Timestamp('2023-03-05 00:00:00'): array([ 83, 168,  59], dtype=uint8), Timestamp('2023-03-06 00:00:00'): array([173,  28,  80], dtype=uint8), Timestamp('2023-03-07 00:00:00'): array([204,  75,   3], dtype=uint8), Timestamp('2023-03-08 00:00:00'): array([ 66, 155, 115], dtype=uint8), Timestamp('2023-03-09 00:00:00'): array([128,  29, 206], dtype=uint8), Timestamp('2023-03-10 00:00:00'): array([157, 112, 147], dtype=uint8), Timestamp('2023-03-11 00:00:00'): array([168, 131, 171], dtype=uint8), Timestamp('2023-03-12 00:00:00'): array([ 50, 176, 254], dtype=uint8), Timestamp('2023-03-13 00:00:00'): array([196, 226, 100], dtype=uint8), Timestamp('2023-03-14 00:00:00'): array([195, 126, 159], dtype=uint8), Timestamp('2023-03-15 00:00:00'): array([0, 0, 0], dtype=uint8), Timestamp('2023-03-16 00:00:00'): array([184, 254, 245], dtype=uint8), Timestamp('2023-03-17 00:00:00'): array([146,  39, 246], dtype=uint8), Timestamp('2023-03-18 00:00:00'): array([183, 236,  75], dtype=uint8), Timestamp('2023-03-19 00:00:00'): array([ 25, 225,  25], dtype=uint8), Timestamp('2023-03-20 00:00:00'): array([ 51,  98, 174], dtype=uint8), Timestamp('2023-03-21 00:00:00'): array([ 69, 230, 180], dtype=uint8), Timestamp('2023-03-22 00:00:00'): array([ 68,  31, 177], dtype=uint8), Timestamp('2023-03-23 00:00:00'): array([134, 239,  80], dtype=uint8), Timestamp('2023-03-24 00:00:00'): array([160, 180,  80], dtype=uint8), Timestamp('2023-03-25 00:00:00'): array([ 84, 175,   6], dtype=uint8), Timestamp('2023-03-26 00:00:00'): array([184, 225, 100], dtype=uint8), Timestamp('2023-03-27 00:00:00'): array([ 75, 198, 185], dtype=uint8), Timestamp('2023-03-28 00:00:00'): array([120, 121, 193], dtype=uint8), Timestamp('2023-03-29 00:00:00'): array([166, 106, 219], dtype=uint8), Timestamp('2023-03-30 00:00:00'): array([ 54, 220,  24], dtype=uint8), Timestamp('2023-03-31 00:00:00'): array([121, 231, 188], dtype=uint8)}, 'canvas_dictionary_april': {Timestamp('2023-04-01 00:00:00'): array([132, 207,  32], dtype=uint8), Timestamp('2023-04-02 00:00:00'): array([138,  87,  26], dtype=uint8), Timestamp('2023-04-03 00:00:00'): array([130,  19, 249], dtype=uint8), Timestamp('2023-04-04 00:00:00'): array([133, 193, 255], dtype=uint8), Timestamp('2023-04-05 00:00:00'): array([150, 251, 186], dtype=uint8), Timestamp('2023-04-06 00:00:00'): array([138, 103,  48], dtype=uint8), Timestamp('2023-04-07 00:00:00'): array([ 91, 161,  72], dtype=uint8), Timestamp('2023-04-08 00:00:00'): array([108, 104, 204], dtype=uint8), Timestamp('2023-04-09 00:00:00'): array([ 84, 190, 145], dtype=uint8), Timestamp('2023-04-10 00:00:00'): array([ 56, 143,   5], dtype=uint8), Timestamp('2023-04-11 00:00:00'): array([193, 193, 229], dtype=uint8), Timestamp('2023-04-12 00:00:00'): array([102, 243, 241], dtype=uint8), Timestamp('2023-04-13 00:00:00'): array([133,  22, 239], dtype=uint8), Timestamp('2023-04-14 00:00:00'): array([ 92, 188, 243], dtype=uint8), Timestamp('2023-04-15 00:00:00'): array([120, 206,  89], dtype=uint8), Timestamp('2023-04-16 00:00:00'): array([111, 252,  11], dtype=uint8), Timestamp('2023-04-17 00:00:00'): array([157, 153, 121], dtype=uint8), Timestamp('2023-04-18 00:00:00'): array([204, 240, 148], dtype=uint8), Timestamp('2023-04-19 00:00:00'): array([131, 222,  94], dtype=uint8), Timestamp('2023-04-20 00:00:00'): array([102, 107, 160], dtype=uint8), Timestamp('2023-04-21 00:00:00'): array([130,  18, 211], dtype=uint8), Timestamp('2023-04-22 00:00:00'): array([ 76, 242,  75], dtype=uint8), Timestamp('2023-04-23 00:00:00'): array([165,  52, 177], dtype=uint8), Timestamp('2023-04-24 00:00:00'): array([145, 235, 203], dtype=uint8), Timestamp('2023-04-25 00:00:00'): array([174, 211, 254], dtype=uint8), Timestamp('2023-04-26 00:00:00'): array([115,  45,   0], dtype=uint8), Timestamp('2023-04-27 00:00:00'): array([162, 163, 176], dtype=uint8), Timestamp('2023-04-28 00:00:00'): array([158,  39, 163], dtype=uint8), Timestamp('2023-04-29 00:00:00'): array([117, 237,  86], dtype=uint8), Timestamp('2023-04-30 00:00:00'): array([117, 109,  52], dtype=uint8)}, 'canvas_dictionary_may': {Timestamp('2023-05-01 00:00:00'): array([135,  48, 220], dtype=uint8), Timestamp('2023-05-02 00:00:00'): array([159,  15, 210], dtype=uint8), Timestamp('2023-05-03 00:00:00'): array([  5, 230,  47], dtype=uint8), Timestamp('2023-05-04 00:00:00'): array([255, 255, 255], dtype=uint8), Timestamp('2023-05-05 00:00:00'): array([152, 183, 127], dtype=uint8), Timestamp('2023-05-06 00:00:00'): array([156, 152, 155], dtype=uint8), Timestamp('2023-05-07 00:00:00'): array([169, 107, 154], dtype=uint8), Timestamp('2023-05-08 00:00:00'): array([56, 43, 30], dtype=uint8), Timestamp('2023-05-09 00:00:00'): array([ 86,  38, 239], dtype=uint8), Timestamp('2023-05-10 00:00:00'): array([165,  60, 216], dtype=uint8), Timestamp('2023-05-11 00:00:00'): array([ 85, 128, 182], dtype=uint8), Timestamp('2023-05-12 00:00:00'): array([ 86, 101,  12], dtype=uint8), Timestamp('2023-05-13 00:00:00'): array([78, 36, 21], dtype=uint8), Timestamp('2023-05-14 00:00:00'): array([101, 180,  19], dtype=uint8), Timestamp('2023-05-15 00:00:00'): array([ 97, 162,  93], dtype=uint8), Timestamp('2023-05-16 00:00:00'): array([153, 170,  98], dtype=uint8), Timestamp('2023-05-17 00:00:00'): array([148, 106, 186], dtype=uint8), Timestamp('2023-05-18 00:00:00'): array([150,  98, 120], dtype=uint8), Timestamp('2023-05-19 00:00:00'): array([118, 113, 157], dtype=uint8), Timestamp('2023-05-20 00:00:00'): array([133, 172, 127], dtype=uint8), Timestamp('2023-05-21 00:00:00'): array([122, 116, 213], dtype=uint8), Timestamp('2023-05-22 00:00:00'): array([164,  31, 131], dtype=uint8), Timestamp('2023-05-23 00:00:00'): array([135,  95,  73], dtype=uint8), Timestamp('2023-05-24 00:00:00'): array([ 79, 127, 247], dtype=uint8), Timestamp('2023-05-25 00:00:00'): array([ 95, 179, 241], dtype=uint8), Timestamp('2023-05-26 00:00:00'): array([137,   8, 238], dtype=uint8), Timestamp('2023-05-27 00:00:00'): array([138,  41,  75], dtype=uint8), Timestamp('2023-05-28 00:00:00'): array([137, 159,  97], dtype=uint8), Timestamp('2023-05-29 00:00:00'): array([102, 150, 227], dtype=uint8), Timestamp('2023-05-30 00:00:00'): array([179, 182, 227], dtype=uint8), Timestamp('2023-05-31 00:00:00'): array([108, 222, 166], dtype=uint8)}, 'canvas_dictionary_june': {Timestamp('2023-06-01 00:00:00'): array([127, 194,  35], dtype=uint8), Timestamp('2023-06-02 00:00:00'): array([86, 88, 40], dtype=uint8), Timestamp('2023-06-03 00:00:00'): array([107,  40,  12], dtype=uint8), Timestamp('2023-06-04 00:00:00'): array([ 83, 108, 204], dtype=uint8), Timestamp('2023-06-05 00:00:00'): array([123,  88, 113], dtype=uint8), Timestamp('2023-06-06 00:00:00'): array([ 91, 237, 240], dtype=uint8), Timestamp('2023-06-07 00:00:00'): array([ 41,  66, 194], dtype=uint8), Timestamp('2023-06-08 00:00:00'): array([142, 140, 103], dtype=uint8), Timestamp('2023-06-09 00:00:00'): array([147,  67, 222], dtype=uint8), Timestamp('2023-06-10 00:00:00'): array([139, 232, 223], dtype=uint8), Timestamp('2023-06-11 00:00:00'): array([143, 106,  35], dtype=uint8), Timestamp('2023-06-12 00:00:00'): array([101,  59, 113], dtype=uint8), Timestamp('2023-06-13 00:00:00'): array([149, 114, 216], dtype=uint8), Timestamp('2023-06-14 00:00:00'): array([ 91, 139, 158], dtype=uint8), Timestamp('2023-06-15 00:00:00'): array([120, 137,  39], dtype=uint8), Timestamp('2023-06-16 00:00:00'): array([148, 165, 180], dtype=uint8), Timestamp('2023-06-17 00:00:00'): array([104, 162, 125], dtype=uint8), Timestamp('2023-06-18 00:00:00'): array([ 96,  57, 118], dtype=uint8), Timestamp('2023-06-19 00:00:00'): array([112, 206, 129], dtype=uint8), Timestamp('2023-06-20 00:00:00'): array([ 90, 195, 225], dtype=uint8), Timestamp('2023-06-21 00:00:00'): array([ 93, 183,  57], dtype=uint8), Timestamp('2023-06-22 00:00:00'): array([151, 203, 163], dtype=uint8), Timestamp('2023-06-23 00:00:00'): array([167, 234, 107], dtype=uint8), Timestamp('2023-06-24 00:00:00'): array([157, 171, 137], dtype=uint8), Timestamp('2023-06-25 00:00:00'): array([ 41, 212,  11], dtype=uint8), Timestamp('2023-06-26 00:00:00'): array([ 77, 175,  12], dtype=uint8), Timestamp('2023-06-27 00:00:00'): array([137, 245, 201], dtype=uint8), Timestamp('2023-06-28 00:00:00'): array([110,  72,  22], dtype=uint8), Timestamp('2023-06-29 00:00:00'): array([106, 183, 217], dtype=uint8), Timestamp('2023-06-30 00:00:00'): array([ 86,  31, 202], dtype=uint8)}, 'canvas_dictionary_july': {Timestamp('2023-07-01 00:00:00'): array([172, 179, 140], dtype=uint8), Timestamp('2023-07-02 00:00:00'): array([131, 217, 232], dtype=uint8), Timestamp('2023-07-03 00:00:00'): array([ 65, 108,  36], dtype=uint8), Timestamp('2023-07-04 00:00:00'): array([178, 122, 149], dtype=uint8), Timestamp('2023-07-05 00:00:00'): array([106, 119, 249], dtype=uint8), Timestamp('2023-07-06 00:00:00'): array([ 85, 137, 232], dtype=uint8), Timestamp('2023-07-07 00:00:00'): array([ 91, 171, 133], dtype=uint8), Timestamp('2023-07-08 00:00:00'): array([49, 73, 97], dtype=uint8), Timestamp('2023-07-09 00:00:00'): array([  2, 240, 196], dtype=uint8), Timestamp('2023-07-10 00:00:00'): array([218, 206, 157], dtype=uint8), Timestamp('2023-07-11 00:00:00'): array([ 85, 136, 205], dtype=uint8), Timestamp('2023-07-12 00:00:00'): array([ 85, 192, 209], dtype=uint8), Timestamp('2023-07-13 00:00:00'): array([ 44, 164,  62], dtype=uint8), Timestamp('2023-07-14 00:00:00'): array([151, 179, 222], dtype=uint8), Timestamp('2023-07-15 00:00:00'): array([217, 144, 150], dtype=uint8), Timestamp('2023-07-16 00:00:00'): array([136, 157,  65], dtype=uint8), Timestamp('2023-07-17 00:00:00'): array([ 84,  63, 215], dtype=uint8), Timestamp('2023-07-18 00:00:00'): array([139,  77, 135], dtype=uint8), Timestamp('2023-07-19 00:00:00'): array([151, 169, 100], dtype=uint8), Timestamp('2023-07-20 00:00:00'): array([133,  63, 222], dtype=uint8), Timestamp('2023-07-21 00:00:00'): array([117,   4,  76], dtype=uint8), Timestamp('2023-07-22 00:00:00'): array([116, 217, 171], dtype=uint8), Timestamp('2023-07-23 00:00:00'): array([118, 130, 107], dtype=uint8), Timestamp('2023-07-24 00:00:00'): array([ 77, 125, 106], dtype=uint8), Timestamp('2023-07-25 00:00:00'): array([ 39,  87, 207], dtype=uint8), Timestamp('2023-07-26 00:00:00'): array([ 98, 254,  50], dtype=uint8), Timestamp('2023-07-27 00:00:00'): array([190, 172, 186], dtype=uint8), Timestamp('2023-07-28 00:00:00'): array([126, 231, 196], dtype=uint8), Timestamp('2023-07-29 00:00:00'): array([152, 108,  21], dtype=uint8), Timestamp('2023-07-30 00:00:00'): array([120, 242, 167], dtype=uint8), Timestamp('2023-07-31 00:00:00'): array([ 52, 191, 108], dtype=uint8)}, 'canvas_dictionary_august': {Timestamp('2023-08-01 00:00:00'): array([128, 190, 217], dtype=uint8), Timestamp('2023-08-02 00:00:00'): array([169, 167,  12], dtype=uint8), Timestamp('2023-08-03 00:00:00'): array([ 78, 213,  31], dtype=uint8), Timestamp('2023-08-04 00:00:00'): array([183, 192, 218], dtype=uint8), Timestamp('2023-08-05 00:00:00'): array([ 61, 176,  92], dtype=uint8), Timestamp('2023-08-06 00:00:00'): array([ 99, 172, 116], dtype=uint8), Timestamp('2023-08-07 00:00:00'): array([172, 246, 115], dtype=uint8), Timestamp('2023-08-08 00:00:00'): array([ 37, 166,  22], dtype=uint8), Timestamp('2023-08-09 00:00:00'): array([ 52,  92, 195], dtype=uint8), Timestamp('2023-08-10 00:00:00'): array([226, 170,  26], dtype=uint8), Timestamp('2023-08-11 00:00:00'): array([122,   4,   1], dtype=uint8), Timestamp('2023-08-12 00:00:00'): array([223, 190, 129], dtype=uint8), Timestamp('2023-08-13 00:00:00'): array([197,  60, 254], dtype=uint8), Timestamp('2023-08-14 00:00:00'): array([143, 227, 179], dtype=uint8), Timestamp('2023-08-15 00:00:00'): array([ 80, 206, 207], dtype=uint8), Timestamp('2023-08-16 00:00:00'): array([136,  37,   8], dtype=uint8), Timestamp('2023-08-17 00:00:00'): array([179, 105, 225], dtype=uint8), Timestamp('2023-08-18 00:00:00'): array([ 64, 130,  94], dtype=uint8), Timestamp('2023-08-19 00:00:00'): array([118, 146, 122], dtype=uint8), Timestamp('2023-08-20 00:00:00'): array([117, 248,  85], dtype=uint8), Timestamp('2023-08-21 00:00:00'): array([104, 202,  39], dtype=uint8), Timestamp('2023-08-22 00:00:00'): array([149,  80, 123], dtype=uint8), Timestamp('2023-08-23 00:00:00'): array([ 98,  98, 221], dtype=uint8), Timestamp('2023-08-24 00:00:00'): array([117,  71, 122], dtype=uint8), Timestamp('2023-08-25 00:00:00'): array([ 70,  20, 148], dtype=uint8), Timestamp('2023-08-26 00:00:00'): array([157,  33,  18], dtype=uint8), Timestamp('2023-08-27 00:00:00'): array([152,  39,  96], dtype=uint8), Timestamp('2023-08-28 00:00:00'): array([163, 110,  74], dtype=uint8), Timestamp('2023-08-29 00:00:00'): array([158, 113,  92], dtype=uint8), Timestamp('2023-08-30 00:00:00'): array([135, 202, 152], dtype=uint8), Timestamp('2023-08-31 00:00:00'): array([137, 156, 211], dtype=uint8)}, 'canvas_dictionary_september': {Timestamp('2023-09-01 00:00:00'): array([134,   3,   6], dtype=uint8), Timestamp('2023-09-02 00:00:00'): array([138, 132, 192], dtype=uint8), Timestamp('2023-09-03 00:00:00'): array([129,   8, 112], dtype=uint8), Timestamp('2023-09-04 00:00:00'): array([123,  57,  43], dtype=uint8), Timestamp('2023-09-05 00:00:00'): array([126, 114,   5], dtype=uint8), Timestamp('2023-09-06 00:00:00'): array([149, 142, 186], dtype=uint8), Timestamp('2023-09-07 00:00:00'): array([145, 217, 230], dtype=uint8), Timestamp('2023-09-08 00:00:00'): array([ 76,  42, 120], dtype=uint8), Timestamp('2023-09-09 00:00:00'): array([ 60, 171, 198], dtype=uint8), Timestamp('2023-09-10 00:00:00'): array([104,  67,  77], dtype=uint8), Timestamp('2023-09-11 00:00:00'): array([113,  86,   2], dtype=uint8), Timestamp('2023-09-12 00:00:00'): array([140, 174, 178], dtype=uint8), Timestamp('2023-09-13 00:00:00'): array([127, 210,  94], dtype=uint8), Timestamp('2023-09-14 00:00:00'): array([88,  7, 84], dtype=uint8), Timestamp('2023-09-15 00:00:00'): array([145, 134, 199], dtype=uint8), Timestamp('2023-09-16 00:00:00'): array([140, 190, 130], dtype=uint8), Timestamp('2023-09-17 00:00:00'): array([122, 101,  54], dtype=uint8), Timestamp('2023-09-18 00:00:00'): array([ 71, 210, 209], dtype=uint8), Timestamp('2023-09-19 00:00:00'): array([ 84,  97, 183], dtype=uint8), Timestamp('2023-09-20 00:00:00'): array([ 78, 154,   3], dtype=uint8), Timestamp('2023-09-21 00:00:00'): array([ 67, 228, 222], dtype=uint8), Timestamp('2023-09-22 00:00:00'): array([ 47,  57, 146], dtype=uint8), Timestamp('2023-09-23 00:00:00'): array([125, 186, 130], dtype=uint8), Timestamp('2023-09-24 00:00:00'): array([ 54,  78, 207], dtype=uint8), Timestamp('2023-09-25 00:00:00'): array([164, 173,  84], dtype=uint8), Timestamp('2023-09-26 00:00:00'): array([ 87, 236, 250], dtype=uint8), Timestamp('2023-09-27 00:00:00'): array([ 84,  93, 148], dtype=uint8), Timestamp('2023-09-28 00:00:00'): array([ 78, 241,  94], dtype=uint8), Timestamp('2023-09-29 00:00:00'): array([136,  23,  88], dtype=uint8), Timestamp('2023-09-30 00:00:00'): array([ 53,  54, 144], dtype=uint8)}, 'canvas_dictionary_october': {Timestamp('2023-10-01 00:00:00'): array([ 91,   7, 172], dtype=uint8), Timestamp('2023-10-02 00:00:00'): array([132, 168, 229], dtype=uint8), Timestamp('2023-10-03 00:00:00'): array([215,  94, 132], dtype=uint8), Timestamp('2023-10-04 00:00:00'): array([191, 109,   0], dtype=uint8), Timestamp('2023-10-05 00:00:00'): array([153, 228,  29], dtype=uint8), Timestamp('2023-10-06 00:00:00'): array([ 77, 168,  38], dtype=uint8), Timestamp('2023-10-07 00:00:00'): array([149,  44, 155], dtype=uint8), Timestamp('2023-10-08 00:00:00'): array([115,  13,  87], dtype=uint8), Timestamp('2023-10-09 00:00:00'): array([109, 109, 122], dtype=uint8), Timestamp('2023-10-10 00:00:00'): array([ 97, 247, 254], dtype=uint8), Timestamp('2023-10-11 00:00:00'): array([192, 110, 222], dtype=uint8), Timestamp('2023-10-12 00:00:00'): array([202, 252, 138], dtype=uint8), Timestamp('2023-10-13 00:00:00'): array([112,  37, 249], dtype=uint8), Timestamp('2023-10-14 00:00:00'): array([122, 196, 158], dtype=uint8), Timestamp('2023-10-15 00:00:00'): array([60, 82, 48], dtype=uint8), Timestamp('2023-10-16 00:00:00'): array([122, 130, 117], dtype=uint8), Timestamp('2023-10-17 00:00:00'): array([ 98, 122, 133], dtype=uint8), Timestamp('2023-10-18 00:00:00'): array([ 98, 137, 250], dtype=uint8), Timestamp('2023-10-19 00:00:00'): array([ 99, 169, 138], dtype=uint8), Timestamp('2023-10-20 00:00:00'): array([103, 121, 154], dtype=uint8), Timestamp('2023-10-21 00:00:00'): array([159,   0, 235], dtype=uint8), Timestamp('2023-10-22 00:00:00'): array([128, 252,  35], dtype=uint8), Timestamp('2023-10-23 00:00:00'): array([ 93,  61, 148], dtype=uint8), Timestamp('2023-10-24 00:00:00'): array([122, 167,  76], dtype=uint8), Timestamp('2023-10-25 00:00:00'): array([ 66,  32, 212], dtype=uint8), Timestamp('2023-10-26 00:00:00'): array([184, 166, 225], dtype=uint8), Timestamp('2023-10-27 00:00:00'): array([112, 187, 152], dtype=uint8), Timestamp('2023-10-28 00:00:00'): array([141, 247, 146], dtype=uint8), Timestamp('2023-10-29 00:00:00'): array([170,  27, 158], dtype=uint8), Timestamp('2023-10-30 00:00:00'): array([ 76, 173,  96], dtype=uint8), Timestamp('2023-10-31 00:00:00'): array([127,  54, 249], dtype=uint8)}, 'canvas_dictionary_november': {Timestamp('2023-11-01 00:00:00'): array([101, 204,  51], dtype=uint8), Timestamp('2023-11-02 00:00:00'): array([ 89, 126,  93], dtype=uint8), Timestamp('2023-11-03 00:00:00'): array([ 42, 215,  50], dtype=uint8), Timestamp('2023-11-04 00:00:00'): array([ 91,  73, 229], dtype=uint8), Timestamp('2023-11-05 00:00:00'): array([ 98,  95, 165], dtype=uint8), Timestamp('2023-11-06 00:00:00'): array([127, 239,  28], dtype=uint8), Timestamp('2023-11-07 00:00:00'): array([130, 107,  24], dtype=uint8), Timestamp('2023-11-08 00:00:00'): array([ 85,  21, 170], dtype=uint8), Timestamp('2023-11-09 00:00:00'): array([121, 128, 174], dtype=uint8), Timestamp('2023-11-10 00:00:00'): array([ 86, 220, 164], dtype=uint8), Timestamp('2023-11-11 00:00:00'): array([131, 191, 130], dtype=uint8), Timestamp('2023-11-12 00:00:00'): array([172,  30, 200], dtype=uint8), Timestamp('2023-11-13 00:00:00'): array([67, 77, 47], dtype=uint8), Timestamp('2023-11-14 00:00:00'): array([121, 206,  69], dtype=uint8), Timestamp('2023-11-15 00:00:00'): array([96, 12, 53], dtype=uint8), Timestamp('2023-11-16 00:00:00'): array([120, 155, 113], dtype=uint8), Timestamp('2023-11-17 00:00:00'): array([175, 112,  83], dtype=uint8), Timestamp('2023-11-18 00:00:00'): array([ 79, 240, 174], dtype=uint8), Timestamp('2023-11-19 00:00:00'): array([159, 177, 138], dtype=uint8), Timestamp('2023-11-20 00:00:00'): array([160, 157, 207], dtype=uint8), Timestamp('2023-11-21 00:00:00'): array([131, 109, 104], dtype=uint8), Timestamp('2023-11-22 00:00:00'): array([146,  89, 198], dtype=uint8), Timestamp('2023-11-23 00:00:00'): array([ 83,  27, 103], dtype=uint8), Timestamp('2023-11-24 00:00:00'): array([151, 181, 222], dtype=uint8), Timestamp('2023-11-25 00:00:00'): array([ 84, 144,  82], dtype=uint8), Timestamp('2023-11-26 00:00:00'): array([109, 176, 244], dtype=uint8), Timestamp('2023-11-27 00:00:00'): array([124, 174,  88], dtype=uint8), Timestamp('2023-11-28 00:00:00'): array([138,  73, 234], dtype=uint8), Timestamp('2023-11-29 00:00:00'): array([ 81, 246,  35], dtype=uint8), Timestamp('2023-11-30 00:00:00'): array([161, 184,  58], dtype=uint8)}, 'canvas_dictionary_december': {Timestamp('2023-12-01 00:00:00'): array([210, 174, 254], dtype=uint8), Timestamp('2023-12-02 00:00:00'): array([ 72, 141,  46], dtype=uint8), Timestamp('2023-12-03 00:00:00'): array([ 89, 120,  60], dtype=uint8), Timestamp('2023-12-04 00:00:00'): array([121,  91, 153], dtype=uint8), Timestamp('2023-12-05 00:00:00'): array([149, 140, 240], dtype=uint8), Timestamp('2023-12-06 00:00:00'): array([ 77, 140, 122], dtype=uint8), Timestamp('2023-12-07 00:00:00'): array([107, 152, 215], dtype=uint8), Timestamp('2023-12-08 00:00:00'): array([ 59, 123, 184], dtype=uint8), Timestamp('2023-12-09 00:00:00'): array([179, 124, 141], dtype=uint8), Timestamp('2023-12-10 00:00:00'): array([ 70, 225, 125], dtype=uint8), Timestamp('2023-12-11 00:00:00'): array([168,  71, 212], dtype=uint8), Timestamp('2023-12-12 00:00:00'): array([ 40, 238, 194], dtype=uint8), Timestamp('2023-12-13 00:00:00'): array([219,  49, 211], dtype=uint8), Timestamp('2023-12-14 00:00:00'): array([145,  65,  13], dtype=uint8), Timestamp('2023-12-15 00:00:00'): array([ 77, 137, 146], dtype=uint8), Timestamp('2023-12-16 00:00:00'): array([140, 214,  13], dtype=uint8), Timestamp('2023-12-17 00:00:00'): array([ 92, 246, 185], dtype=uint8), Timestamp('2023-12-18 00:00:00'): array([148, 119, 177], dtype=uint8), Timestamp('2023-12-19 00:00:00'): array([ 57,  36, 229], dtype=uint8), Timestamp('2023-12-20 00:00:00'): array([168,  93,  98], dtype=uint8), Timestamp('2023-12-21 00:00:00'): array([179, 107, 198], dtype=uint8), Timestamp('2023-12-22 00:00:00'): array([ 80, 228,  90], dtype=uint8), Timestamp('2023-12-23 00:00:00'): array([ 88, 114,  31], dtype=uint8), Timestamp('2023-12-24 00:00:00'): array([ 95, 205, 125], dtype=uint8), Timestamp('2023-12-25 00:00:00'): array([110, 224, 110], dtype=uint8), Timestamp('2023-12-26 00:00:00'): array([ 96, 230,  80], dtype=uint8), Timestamp('2023-12-27 00:00:00'): array([124, 183,  63], dtype=uint8), Timestamp('2023-12-28 00:00:00'): array([145,  87, 114], dtype=uint8), Timestamp('2023-12-29 00:00:00'): array([115,   1, 235], dtype=uint8), Timestamp('2023-12-30 00:00:00'): array([160,  99, 191], dtype=uint8), Timestamp('2023-12-31 00:00:00'): array([148, 119,  86], dtype=uint8)}}\n",
      "-----------------\n",
      "\n",
      "-----------------\n",
      "canvas_dictionary_january: {Timestamp('2023-01-01 00:00:00'): array([120, 114, 219], dtype=uint8), Timestamp('2023-01-02 00:00:00'): array([122, 113, 211], dtype=uint8), Timestamp('2023-01-03 00:00:00'): array([123,  82,  91], dtype=uint8), Timestamp('2023-01-04 00:00:00'): array([104, 202, 160], dtype=uint8), Timestamp('2023-01-05 00:00:00'): array([127, 156,  35], dtype=uint8), Timestamp('2023-01-06 00:00:00'): array([ 95, 246, 132], dtype=uint8), Timestamp('2023-01-07 00:00:00'): array([168,  42, 139], dtype=uint8), Timestamp('2023-01-08 00:00:00'): array([197, 166,  15], dtype=uint8), Timestamp('2023-01-09 00:00:00'): array([ 87,  26, 137], dtype=uint8), Timestamp('2023-01-10 00:00:00'): array([141, 205, 177], dtype=uint8), Timestamp('2023-01-11 00:00:00'): array([ 92,   2, 150], dtype=uint8), Timestamp('2023-01-12 00:00:00'): array([ 53, 115, 120], dtype=uint8), Timestamp('2023-01-13 00:00:00'): array([164,   7, 238], dtype=uint8), Timestamp('2023-01-14 00:00:00'): array([141, 249,   6], dtype=uint8), Timestamp('2023-01-15 00:00:00'): array([155,  77,  93], dtype=uint8), Timestamp('2023-01-16 00:00:00'): array([145,  30,  28], dtype=uint8), Timestamp('2023-01-17 00:00:00'): array([ 82, 206,  52], dtype=uint8), Timestamp('2023-01-18 00:00:00'): array([126,  14, 129], dtype=uint8), Timestamp('2023-01-19 00:00:00'): array([111,  32, 103], dtype=uint8), Timestamp('2023-01-20 00:00:00'): array([109,  97,  99], dtype=uint8), Timestamp('2023-01-21 00:00:00'): array([ 87,  10, 245], dtype=uint8), Timestamp('2023-01-22 00:00:00'): array([53, 56, 51], dtype=uint8), Timestamp('2023-01-23 00:00:00'): array([142, 236, 170], dtype=uint8), Timestamp('2023-01-24 00:00:00'): array([151,  96, 235], dtype=uint8), Timestamp('2023-01-25 00:00:00'): array([189,  14,  13], dtype=uint8), Timestamp('2023-01-26 00:00:00'): array([125,  79, 154], dtype=uint8), Timestamp('2023-01-27 00:00:00'): array([134, 143,  69], dtype=uint8), Timestamp('2023-01-28 00:00:00'): array([126,   3, 181], dtype=uint8), Timestamp('2023-01-29 00:00:00'): array([152, 145,  10], dtype=uint8), Timestamp('2023-01-30 00:00:00'): array([176, 189, 245], dtype=uint8), Timestamp('2023-01-31 00:00:00'): array([173, 125, 189], dtype=uint8)}\n",
      "-----------------\n",
      "\n",
      "\n",
      "-----------------\n",
      "canvas_dictionary_february: {Timestamp('2023-02-01 00:00:00'): array([148, 114, 107], dtype=uint8), Timestamp('2023-02-02 00:00:00'): array([191,  62, 107], dtype=uint8), Timestamp('2023-02-03 00:00:00'): array([ 11, 244,  10], dtype=uint8), Timestamp('2023-02-04 00:00:00'): array([182, 177,   6], dtype=uint8), Timestamp('2023-02-05 00:00:00'): array([199, 167, 235], dtype=uint8), Timestamp('2023-02-06 00:00:00'): array([181,   4, 221], dtype=uint8), Timestamp('2023-02-07 00:00:00'): array([ 58,  78, 112], dtype=uint8), Timestamp('2023-02-08 00:00:00'): array([ 84, 235, 223], dtype=uint8), Timestamp('2023-02-09 00:00:00'): array([103, 105, 232], dtype=uint8), Timestamp('2023-02-10 00:00:00'): array([102,  70, 177], dtype=uint8), Timestamp('2023-02-11 00:00:00'): array([112,  70,  75], dtype=uint8), Timestamp('2023-02-12 00:00:00'): array([132,  37,  72], dtype=uint8), Timestamp('2023-02-13 00:00:00'): array([114, 212, 148], dtype=uint8), Timestamp('2023-02-14 00:00:00'): array([118, 213, 195], dtype=uint8), Timestamp('2023-02-15 00:00:00'): array([124, 110, 156], dtype=uint8), Timestamp('2023-02-16 00:00:00'): array([110, 245, 217], dtype=uint8), Timestamp('2023-02-17 00:00:00'): array([157, 144, 221], dtype=uint8), Timestamp('2023-02-18 00:00:00'): array([185,  17, 251], dtype=uint8), Timestamp('2023-02-19 00:00:00'): array([157, 186,  48], dtype=uint8), Timestamp('2023-02-20 00:00:00'): array([105, 104, 119], dtype=uint8), Timestamp('2023-02-21 00:00:00'): array([123, 255,  70], dtype=uint8), Timestamp('2023-02-22 00:00:00'): array([118,  43,  38], dtype=uint8), Timestamp('2023-02-23 00:00:00'): array([ 97, 230,  47], dtype=uint8), Timestamp('2023-02-24 00:00:00'): array([106,  55,  21], dtype=uint8), Timestamp('2023-02-25 00:00:00'): array([ 89, 160, 191], dtype=uint8), Timestamp('2023-02-26 00:00:00'): array([123,  92,  49], dtype=uint8), Timestamp('2023-02-27 00:00:00'): array([ 93,  60, 180], dtype=uint8), Timestamp('2023-02-28 00:00:00'): array([148, 128,  77], dtype=uint8)}\n",
      "-----------------\n",
      "\n",
      "\n",
      "-----------------\n",
      "canvas_dictionary_march: {Timestamp('2023-03-01 00:00:00'): array([ 98,  16, 137], dtype=uint8), Timestamp('2023-03-02 00:00:00'): array([169, 118, 236], dtype=uint8), Timestamp('2023-03-03 00:00:00'): array([136, 112, 224], dtype=uint8), Timestamp('2023-03-04 00:00:00'): array([41, 31, 92], dtype=uint8), Timestamp('2023-03-05 00:00:00'): array([ 83, 168,  59], dtype=uint8), Timestamp('2023-03-06 00:00:00'): array([173,  28,  80], dtype=uint8), Timestamp('2023-03-07 00:00:00'): array([204,  75,   3], dtype=uint8), Timestamp('2023-03-08 00:00:00'): array([ 66, 155, 115], dtype=uint8), Timestamp('2023-03-09 00:00:00'): array([128,  29, 206], dtype=uint8), Timestamp('2023-03-10 00:00:00'): array([157, 112, 147], dtype=uint8), Timestamp('2023-03-11 00:00:00'): array([168, 131, 171], dtype=uint8), Timestamp('2023-03-12 00:00:00'): array([ 50, 176, 254], dtype=uint8), Timestamp('2023-03-13 00:00:00'): array([196, 226, 100], dtype=uint8), Timestamp('2023-03-14 00:00:00'): array([195, 126, 159], dtype=uint8), Timestamp('2023-03-15 00:00:00'): array([0, 0, 0], dtype=uint8), Timestamp('2023-03-16 00:00:00'): array([184, 254, 245], dtype=uint8), Timestamp('2023-03-17 00:00:00'): array([146,  39, 246], dtype=uint8), Timestamp('2023-03-18 00:00:00'): array([183, 236,  75], dtype=uint8), Timestamp('2023-03-19 00:00:00'): array([ 25, 225,  25], dtype=uint8), Timestamp('2023-03-20 00:00:00'): array([ 51,  98, 174], dtype=uint8), Timestamp('2023-03-21 00:00:00'): array([ 69, 230, 180], dtype=uint8), Timestamp('2023-03-22 00:00:00'): array([ 68,  31, 177], dtype=uint8), Timestamp('2023-03-23 00:00:00'): array([134, 239,  80], dtype=uint8), Timestamp('2023-03-24 00:00:00'): array([160, 180,  80], dtype=uint8), Timestamp('2023-03-25 00:00:00'): array([ 84, 175,   6], dtype=uint8), Timestamp('2023-03-26 00:00:00'): array([184, 225, 100], dtype=uint8), Timestamp('2023-03-27 00:00:00'): array([ 75, 198, 185], dtype=uint8), Timestamp('2023-03-28 00:00:00'): array([120, 121, 193], dtype=uint8), Timestamp('2023-03-29 00:00:00'): array([166, 106, 219], dtype=uint8), Timestamp('2023-03-30 00:00:00'): array([ 54, 220,  24], dtype=uint8), Timestamp('2023-03-31 00:00:00'): array([121, 231, 188], dtype=uint8)}\n",
      "-----------------\n",
      "\n",
      "\n",
      "-----------------\n",
      "canvas_dictionary_april: {Timestamp('2023-04-01 00:00:00'): array([132, 207,  32], dtype=uint8), Timestamp('2023-04-02 00:00:00'): array([138,  87,  26], dtype=uint8), Timestamp('2023-04-03 00:00:00'): array([130,  19, 249], dtype=uint8), Timestamp('2023-04-04 00:00:00'): array([133, 193, 255], dtype=uint8), Timestamp('2023-04-05 00:00:00'): array([150, 251, 186], dtype=uint8), Timestamp('2023-04-06 00:00:00'): array([138, 103,  48], dtype=uint8), Timestamp('2023-04-07 00:00:00'): array([ 91, 161,  72], dtype=uint8), Timestamp('2023-04-08 00:00:00'): array([108, 104, 204], dtype=uint8), Timestamp('2023-04-09 00:00:00'): array([ 84, 190, 145], dtype=uint8), Timestamp('2023-04-10 00:00:00'): array([ 56, 143,   5], dtype=uint8), Timestamp('2023-04-11 00:00:00'): array([193, 193, 229], dtype=uint8), Timestamp('2023-04-12 00:00:00'): array([102, 243, 241], dtype=uint8), Timestamp('2023-04-13 00:00:00'): array([133,  22, 239], dtype=uint8), Timestamp('2023-04-14 00:00:00'): array([ 92, 188, 243], dtype=uint8), Timestamp('2023-04-15 00:00:00'): array([120, 206,  89], dtype=uint8), Timestamp('2023-04-16 00:00:00'): array([111, 252,  11], dtype=uint8), Timestamp('2023-04-17 00:00:00'): array([157, 153, 121], dtype=uint8), Timestamp('2023-04-18 00:00:00'): array([204, 240, 148], dtype=uint8), Timestamp('2023-04-19 00:00:00'): array([131, 222,  94], dtype=uint8), Timestamp('2023-04-20 00:00:00'): array([102, 107, 160], dtype=uint8), Timestamp('2023-04-21 00:00:00'): array([130,  18, 211], dtype=uint8), Timestamp('2023-04-22 00:00:00'): array([ 76, 242,  75], dtype=uint8), Timestamp('2023-04-23 00:00:00'): array([165,  52, 177], dtype=uint8), Timestamp('2023-04-24 00:00:00'): array([145, 235, 203], dtype=uint8), Timestamp('2023-04-25 00:00:00'): array([174, 211, 254], dtype=uint8), Timestamp('2023-04-26 00:00:00'): array([115,  45,   0], dtype=uint8), Timestamp('2023-04-27 00:00:00'): array([162, 163, 176], dtype=uint8), Timestamp('2023-04-28 00:00:00'): array([158,  39, 163], dtype=uint8), Timestamp('2023-04-29 00:00:00'): array([117, 237,  86], dtype=uint8), Timestamp('2023-04-30 00:00:00'): array([117, 109,  52], dtype=uint8)}\n",
      "-----------------\n",
      "\n",
      "\n",
      "-----------------\n",
      "canvas_dictionary_may: {Timestamp('2023-05-01 00:00:00'): array([135,  48, 220], dtype=uint8), Timestamp('2023-05-02 00:00:00'): array([159,  15, 210], dtype=uint8), Timestamp('2023-05-03 00:00:00'): array([  5, 230,  47], dtype=uint8), Timestamp('2023-05-04 00:00:00'): array([255, 255, 255], dtype=uint8), Timestamp('2023-05-05 00:00:00'): array([152, 183, 127], dtype=uint8), Timestamp('2023-05-06 00:00:00'): array([156, 152, 155], dtype=uint8), Timestamp('2023-05-07 00:00:00'): array([169, 107, 154], dtype=uint8), Timestamp('2023-05-08 00:00:00'): array([56, 43, 30], dtype=uint8), Timestamp('2023-05-09 00:00:00'): array([ 86,  38, 239], dtype=uint8), Timestamp('2023-05-10 00:00:00'): array([165,  60, 216], dtype=uint8), Timestamp('2023-05-11 00:00:00'): array([ 85, 128, 182], dtype=uint8), Timestamp('2023-05-12 00:00:00'): array([ 86, 101,  12], dtype=uint8), Timestamp('2023-05-13 00:00:00'): array([78, 36, 21], dtype=uint8), Timestamp('2023-05-14 00:00:00'): array([101, 180,  19], dtype=uint8), Timestamp('2023-05-15 00:00:00'): array([ 97, 162,  93], dtype=uint8), Timestamp('2023-05-16 00:00:00'): array([153, 170,  98], dtype=uint8), Timestamp('2023-05-17 00:00:00'): array([148, 106, 186], dtype=uint8), Timestamp('2023-05-18 00:00:00'): array([150,  98, 120], dtype=uint8), Timestamp('2023-05-19 00:00:00'): array([118, 113, 157], dtype=uint8), Timestamp('2023-05-20 00:00:00'): array([133, 172, 127], dtype=uint8), Timestamp('2023-05-21 00:00:00'): array([122, 116, 213], dtype=uint8), Timestamp('2023-05-22 00:00:00'): array([164,  31, 131], dtype=uint8), Timestamp('2023-05-23 00:00:00'): array([135,  95,  73], dtype=uint8), Timestamp('2023-05-24 00:00:00'): array([ 79, 127, 247], dtype=uint8), Timestamp('2023-05-25 00:00:00'): array([ 95, 179, 241], dtype=uint8), Timestamp('2023-05-26 00:00:00'): array([137,   8, 238], dtype=uint8), Timestamp('2023-05-27 00:00:00'): array([138,  41,  75], dtype=uint8), Timestamp('2023-05-28 00:00:00'): array([137, 159,  97], dtype=uint8), Timestamp('2023-05-29 00:00:00'): array([102, 150, 227], dtype=uint8), Timestamp('2023-05-30 00:00:00'): array([179, 182, 227], dtype=uint8), Timestamp('2023-05-31 00:00:00'): array([108, 222, 166], dtype=uint8)}\n",
      "-----------------\n",
      "\n",
      "\n",
      "-----------------\n",
      "canvas_dictionary_june: {Timestamp('2023-06-01 00:00:00'): array([127, 194,  35], dtype=uint8), Timestamp('2023-06-02 00:00:00'): array([86, 88, 40], dtype=uint8), Timestamp('2023-06-03 00:00:00'): array([107,  40,  12], dtype=uint8), Timestamp('2023-06-04 00:00:00'): array([ 83, 108, 204], dtype=uint8), Timestamp('2023-06-05 00:00:00'): array([123,  88, 113], dtype=uint8), Timestamp('2023-06-06 00:00:00'): array([ 91, 237, 240], dtype=uint8), Timestamp('2023-06-07 00:00:00'): array([ 41,  66, 194], dtype=uint8), Timestamp('2023-06-08 00:00:00'): array([142, 140, 103], dtype=uint8), Timestamp('2023-06-09 00:00:00'): array([147,  67, 222], dtype=uint8), Timestamp('2023-06-10 00:00:00'): array([139, 232, 223], dtype=uint8), Timestamp('2023-06-11 00:00:00'): array([143, 106,  35], dtype=uint8), Timestamp('2023-06-12 00:00:00'): array([101,  59, 113], dtype=uint8), Timestamp('2023-06-13 00:00:00'): array([149, 114, 216], dtype=uint8), Timestamp('2023-06-14 00:00:00'): array([ 91, 139, 158], dtype=uint8), Timestamp('2023-06-15 00:00:00'): array([120, 137,  39], dtype=uint8), Timestamp('2023-06-16 00:00:00'): array([148, 165, 180], dtype=uint8), Timestamp('2023-06-17 00:00:00'): array([104, 162, 125], dtype=uint8), Timestamp('2023-06-18 00:00:00'): array([ 96,  57, 118], dtype=uint8), Timestamp('2023-06-19 00:00:00'): array([112, 206, 129], dtype=uint8), Timestamp('2023-06-20 00:00:00'): array([ 90, 195, 225], dtype=uint8), Timestamp('2023-06-21 00:00:00'): array([ 93, 183,  57], dtype=uint8), Timestamp('2023-06-22 00:00:00'): array([151, 203, 163], dtype=uint8), Timestamp('2023-06-23 00:00:00'): array([167, 234, 107], dtype=uint8), Timestamp('2023-06-24 00:00:00'): array([157, 171, 137], dtype=uint8), Timestamp('2023-06-25 00:00:00'): array([ 41, 212,  11], dtype=uint8), Timestamp('2023-06-26 00:00:00'): array([ 77, 175,  12], dtype=uint8), Timestamp('2023-06-27 00:00:00'): array([137, 245, 201], dtype=uint8), Timestamp('2023-06-28 00:00:00'): array([110,  72,  22], dtype=uint8), Timestamp('2023-06-29 00:00:00'): array([106, 183, 217], dtype=uint8), Timestamp('2023-06-30 00:00:00'): array([ 86,  31, 202], dtype=uint8)}\n",
      "-----------------\n",
      "\n",
      "\n",
      "-----------------\n",
      "canvas_dictionary_july: {Timestamp('2023-07-01 00:00:00'): array([172, 179, 140], dtype=uint8), Timestamp('2023-07-02 00:00:00'): array([131, 217, 232], dtype=uint8), Timestamp('2023-07-03 00:00:00'): array([ 65, 108,  36], dtype=uint8), Timestamp('2023-07-04 00:00:00'): array([178, 122, 149], dtype=uint8), Timestamp('2023-07-05 00:00:00'): array([106, 119, 249], dtype=uint8), Timestamp('2023-07-06 00:00:00'): array([ 85, 137, 232], dtype=uint8), Timestamp('2023-07-07 00:00:00'): array([ 91, 171, 133], dtype=uint8), Timestamp('2023-07-08 00:00:00'): array([49, 73, 97], dtype=uint8), Timestamp('2023-07-09 00:00:00'): array([  2, 240, 196], dtype=uint8), Timestamp('2023-07-10 00:00:00'): array([218, 206, 157], dtype=uint8), Timestamp('2023-07-11 00:00:00'): array([ 85, 136, 205], dtype=uint8), Timestamp('2023-07-12 00:00:00'): array([ 85, 192, 209], dtype=uint8), Timestamp('2023-07-13 00:00:00'): array([ 44, 164,  62], dtype=uint8), Timestamp('2023-07-14 00:00:00'): array([151, 179, 222], dtype=uint8), Timestamp('2023-07-15 00:00:00'): array([217, 144, 150], dtype=uint8), Timestamp('2023-07-16 00:00:00'): array([136, 157,  65], dtype=uint8), Timestamp('2023-07-17 00:00:00'): array([ 84,  63, 215], dtype=uint8), Timestamp('2023-07-18 00:00:00'): array([139,  77, 135], dtype=uint8), Timestamp('2023-07-19 00:00:00'): array([151, 169, 100], dtype=uint8), Timestamp('2023-07-20 00:00:00'): array([133,  63, 222], dtype=uint8), Timestamp('2023-07-21 00:00:00'): array([117,   4,  76], dtype=uint8), Timestamp('2023-07-22 00:00:00'): array([116, 217, 171], dtype=uint8), Timestamp('2023-07-23 00:00:00'): array([118, 130, 107], dtype=uint8), Timestamp('2023-07-24 00:00:00'): array([ 77, 125, 106], dtype=uint8), Timestamp('2023-07-25 00:00:00'): array([ 39,  87, 207], dtype=uint8), Timestamp('2023-07-26 00:00:00'): array([ 98, 254,  50], dtype=uint8), Timestamp('2023-07-27 00:00:00'): array([190, 172, 186], dtype=uint8), Timestamp('2023-07-28 00:00:00'): array([126, 231, 196], dtype=uint8), Timestamp('2023-07-29 00:00:00'): array([152, 108,  21], dtype=uint8), Timestamp('2023-07-30 00:00:00'): array([120, 242, 167], dtype=uint8), Timestamp('2023-07-31 00:00:00'): array([ 52, 191, 108], dtype=uint8)}\n",
      "-----------------\n",
      "\n",
      "\n",
      "-----------------\n",
      "canvas_dictionary_august: {Timestamp('2023-08-01 00:00:00'): array([128, 190, 217], dtype=uint8), Timestamp('2023-08-02 00:00:00'): array([169, 167,  12], dtype=uint8), Timestamp('2023-08-03 00:00:00'): array([ 78, 213,  31], dtype=uint8), Timestamp('2023-08-04 00:00:00'): array([183, 192, 218], dtype=uint8), Timestamp('2023-08-05 00:00:00'): array([ 61, 176,  92], dtype=uint8), Timestamp('2023-08-06 00:00:00'): array([ 99, 172, 116], dtype=uint8), Timestamp('2023-08-07 00:00:00'): array([172, 246, 115], dtype=uint8), Timestamp('2023-08-08 00:00:00'): array([ 37, 166,  22], dtype=uint8), Timestamp('2023-08-09 00:00:00'): array([ 52,  92, 195], dtype=uint8), Timestamp('2023-08-10 00:00:00'): array([226, 170,  26], dtype=uint8), Timestamp('2023-08-11 00:00:00'): array([122,   4,   1], dtype=uint8), Timestamp('2023-08-12 00:00:00'): array([223, 190, 129], dtype=uint8), Timestamp('2023-08-13 00:00:00'): array([197,  60, 254], dtype=uint8), Timestamp('2023-08-14 00:00:00'): array([143, 227, 179], dtype=uint8), Timestamp('2023-08-15 00:00:00'): array([ 80, 206, 207], dtype=uint8), Timestamp('2023-08-16 00:00:00'): array([136,  37,   8], dtype=uint8), Timestamp('2023-08-17 00:00:00'): array([179, 105, 225], dtype=uint8), Timestamp('2023-08-18 00:00:00'): array([ 64, 130,  94], dtype=uint8), Timestamp('2023-08-19 00:00:00'): array([118, 146, 122], dtype=uint8), Timestamp('2023-08-20 00:00:00'): array([117, 248,  85], dtype=uint8), Timestamp('2023-08-21 00:00:00'): array([104, 202,  39], dtype=uint8), Timestamp('2023-08-22 00:00:00'): array([149,  80, 123], dtype=uint8), Timestamp('2023-08-23 00:00:00'): array([ 98,  98, 221], dtype=uint8), Timestamp('2023-08-24 00:00:00'): array([117,  71, 122], dtype=uint8), Timestamp('2023-08-25 00:00:00'): array([ 70,  20, 148], dtype=uint8), Timestamp('2023-08-26 00:00:00'): array([157,  33,  18], dtype=uint8), Timestamp('2023-08-27 00:00:00'): array([152,  39,  96], dtype=uint8), Timestamp('2023-08-28 00:00:00'): array([163, 110,  74], dtype=uint8), Timestamp('2023-08-29 00:00:00'): array([158, 113,  92], dtype=uint8), Timestamp('2023-08-30 00:00:00'): array([135, 202, 152], dtype=uint8), Timestamp('2023-08-31 00:00:00'): array([137, 156, 211], dtype=uint8)}\n",
      "-----------------\n",
      "\n",
      "\n",
      "-----------------\n",
      "canvas_dictionary_september: {Timestamp('2023-09-01 00:00:00'): array([134,   3,   6], dtype=uint8), Timestamp('2023-09-02 00:00:00'): array([138, 132, 192], dtype=uint8), Timestamp('2023-09-03 00:00:00'): array([129,   8, 112], dtype=uint8), Timestamp('2023-09-04 00:00:00'): array([123,  57,  43], dtype=uint8), Timestamp('2023-09-05 00:00:00'): array([126, 114,   5], dtype=uint8), Timestamp('2023-09-06 00:00:00'): array([149, 142, 186], dtype=uint8), Timestamp('2023-09-07 00:00:00'): array([145, 217, 230], dtype=uint8), Timestamp('2023-09-08 00:00:00'): array([ 76,  42, 120], dtype=uint8), Timestamp('2023-09-09 00:00:00'): array([ 60, 171, 198], dtype=uint8), Timestamp('2023-09-10 00:00:00'): array([104,  67,  77], dtype=uint8), Timestamp('2023-09-11 00:00:00'): array([113,  86,   2], dtype=uint8), Timestamp('2023-09-12 00:00:00'): array([140, 174, 178], dtype=uint8), Timestamp('2023-09-13 00:00:00'): array([127, 210,  94], dtype=uint8), Timestamp('2023-09-14 00:00:00'): array([88,  7, 84], dtype=uint8), Timestamp('2023-09-15 00:00:00'): array([145, 134, 199], dtype=uint8), Timestamp('2023-09-16 00:00:00'): array([140, 190, 130], dtype=uint8), Timestamp('2023-09-17 00:00:00'): array([122, 101,  54], dtype=uint8), Timestamp('2023-09-18 00:00:00'): array([ 71, 210, 209], dtype=uint8), Timestamp('2023-09-19 00:00:00'): array([ 84,  97, 183], dtype=uint8), Timestamp('2023-09-20 00:00:00'): array([ 78, 154,   3], dtype=uint8), Timestamp('2023-09-21 00:00:00'): array([ 67, 228, 222], dtype=uint8), Timestamp('2023-09-22 00:00:00'): array([ 47,  57, 146], dtype=uint8), Timestamp('2023-09-23 00:00:00'): array([125, 186, 130], dtype=uint8), Timestamp('2023-09-24 00:00:00'): array([ 54,  78, 207], dtype=uint8), Timestamp('2023-09-25 00:00:00'): array([164, 173,  84], dtype=uint8), Timestamp('2023-09-26 00:00:00'): array([ 87, 236, 250], dtype=uint8), Timestamp('2023-09-27 00:00:00'): array([ 84,  93, 148], dtype=uint8), Timestamp('2023-09-28 00:00:00'): array([ 78, 241,  94], dtype=uint8), Timestamp('2023-09-29 00:00:00'): array([136,  23,  88], dtype=uint8), Timestamp('2023-09-30 00:00:00'): array([ 53,  54, 144], dtype=uint8)}\n",
      "-----------------\n",
      "\n",
      "\n",
      "-----------------\n",
      "canvas_dictionary_october: {Timestamp('2023-10-01 00:00:00'): array([ 91,   7, 172], dtype=uint8), Timestamp('2023-10-02 00:00:00'): array([132, 168, 229], dtype=uint8), Timestamp('2023-10-03 00:00:00'): array([215,  94, 132], dtype=uint8), Timestamp('2023-10-04 00:00:00'): array([191, 109,   0], dtype=uint8), Timestamp('2023-10-05 00:00:00'): array([153, 228,  29], dtype=uint8), Timestamp('2023-10-06 00:00:00'): array([ 77, 168,  38], dtype=uint8), Timestamp('2023-10-07 00:00:00'): array([149,  44, 155], dtype=uint8), Timestamp('2023-10-08 00:00:00'): array([115,  13,  87], dtype=uint8), Timestamp('2023-10-09 00:00:00'): array([109, 109, 122], dtype=uint8), Timestamp('2023-10-10 00:00:00'): array([ 97, 247, 254], dtype=uint8), Timestamp('2023-10-11 00:00:00'): array([192, 110, 222], dtype=uint8), Timestamp('2023-10-12 00:00:00'): array([202, 252, 138], dtype=uint8), Timestamp('2023-10-13 00:00:00'): array([112,  37, 249], dtype=uint8), Timestamp('2023-10-14 00:00:00'): array([122, 196, 158], dtype=uint8), Timestamp('2023-10-15 00:00:00'): array([60, 82, 48], dtype=uint8), Timestamp('2023-10-16 00:00:00'): array([122, 130, 117], dtype=uint8), Timestamp('2023-10-17 00:00:00'): array([ 98, 122, 133], dtype=uint8), Timestamp('2023-10-18 00:00:00'): array([ 98, 137, 250], dtype=uint8), Timestamp('2023-10-19 00:00:00'): array([ 99, 169, 138], dtype=uint8), Timestamp('2023-10-20 00:00:00'): array([103, 121, 154], dtype=uint8), Timestamp('2023-10-21 00:00:00'): array([159,   0, 235], dtype=uint8), Timestamp('2023-10-22 00:00:00'): array([128, 252,  35], dtype=uint8), Timestamp('2023-10-23 00:00:00'): array([ 93,  61, 148], dtype=uint8), Timestamp('2023-10-24 00:00:00'): array([122, 167,  76], dtype=uint8), Timestamp('2023-10-25 00:00:00'): array([ 66,  32, 212], dtype=uint8), Timestamp('2023-10-26 00:00:00'): array([184, 166, 225], dtype=uint8), Timestamp('2023-10-27 00:00:00'): array([112, 187, 152], dtype=uint8), Timestamp('2023-10-28 00:00:00'): array([141, 247, 146], dtype=uint8), Timestamp('2023-10-29 00:00:00'): array([170,  27, 158], dtype=uint8), Timestamp('2023-10-30 00:00:00'): array([ 76, 173,  96], dtype=uint8), Timestamp('2023-10-31 00:00:00'): array([127,  54, 249], dtype=uint8)}\n",
      "-----------------\n",
      "\n",
      "\n",
      "-----------------\n",
      "canvas_dictionary_november: {Timestamp('2023-11-01 00:00:00'): array([101, 204,  51], dtype=uint8), Timestamp('2023-11-02 00:00:00'): array([ 89, 126,  93], dtype=uint8), Timestamp('2023-11-03 00:00:00'): array([ 42, 215,  50], dtype=uint8), Timestamp('2023-11-04 00:00:00'): array([ 91,  73, 229], dtype=uint8), Timestamp('2023-11-05 00:00:00'): array([ 98,  95, 165], dtype=uint8), Timestamp('2023-11-06 00:00:00'): array([127, 239,  28], dtype=uint8), Timestamp('2023-11-07 00:00:00'): array([130, 107,  24], dtype=uint8), Timestamp('2023-11-08 00:00:00'): array([ 85,  21, 170], dtype=uint8), Timestamp('2023-11-09 00:00:00'): array([121, 128, 174], dtype=uint8), Timestamp('2023-11-10 00:00:00'): array([ 86, 220, 164], dtype=uint8), Timestamp('2023-11-11 00:00:00'): array([131, 191, 130], dtype=uint8), Timestamp('2023-11-12 00:00:00'): array([172,  30, 200], dtype=uint8), Timestamp('2023-11-13 00:00:00'): array([67, 77, 47], dtype=uint8), Timestamp('2023-11-14 00:00:00'): array([121, 206,  69], dtype=uint8), Timestamp('2023-11-15 00:00:00'): array([96, 12, 53], dtype=uint8), Timestamp('2023-11-16 00:00:00'): array([120, 155, 113], dtype=uint8), Timestamp('2023-11-17 00:00:00'): array([175, 112,  83], dtype=uint8), Timestamp('2023-11-18 00:00:00'): array([ 79, 240, 174], dtype=uint8), Timestamp('2023-11-19 00:00:00'): array([159, 177, 138], dtype=uint8), Timestamp('2023-11-20 00:00:00'): array([160, 157, 207], dtype=uint8), Timestamp('2023-11-21 00:00:00'): array([131, 109, 104], dtype=uint8), Timestamp('2023-11-22 00:00:00'): array([146,  89, 198], dtype=uint8), Timestamp('2023-11-23 00:00:00'): array([ 83,  27, 103], dtype=uint8), Timestamp('2023-11-24 00:00:00'): array([151, 181, 222], dtype=uint8), Timestamp('2023-11-25 00:00:00'): array([ 84, 144,  82], dtype=uint8), Timestamp('2023-11-26 00:00:00'): array([109, 176, 244], dtype=uint8), Timestamp('2023-11-27 00:00:00'): array([124, 174,  88], dtype=uint8), Timestamp('2023-11-28 00:00:00'): array([138,  73, 234], dtype=uint8), Timestamp('2023-11-29 00:00:00'): array([ 81, 246,  35], dtype=uint8), Timestamp('2023-11-30 00:00:00'): array([161, 184,  58], dtype=uint8)}\n",
      "-----------------\n",
      "\n",
      "\n",
      "-----------------\n",
      "canvas_dictionary_december: {Timestamp('2023-12-01 00:00:00'): array([210, 174, 254], dtype=uint8), Timestamp('2023-12-02 00:00:00'): array([ 72, 141,  46], dtype=uint8), Timestamp('2023-12-03 00:00:00'): array([ 89, 120,  60], dtype=uint8), Timestamp('2023-12-04 00:00:00'): array([121,  91, 153], dtype=uint8), Timestamp('2023-12-05 00:00:00'): array([149, 140, 240], dtype=uint8), Timestamp('2023-12-06 00:00:00'): array([ 77, 140, 122], dtype=uint8), Timestamp('2023-12-07 00:00:00'): array([107, 152, 215], dtype=uint8), Timestamp('2023-12-08 00:00:00'): array([ 59, 123, 184], dtype=uint8), Timestamp('2023-12-09 00:00:00'): array([179, 124, 141], dtype=uint8), Timestamp('2023-12-10 00:00:00'): array([ 70, 225, 125], dtype=uint8), Timestamp('2023-12-11 00:00:00'): array([168,  71, 212], dtype=uint8), Timestamp('2023-12-12 00:00:00'): array([ 40, 238, 194], dtype=uint8), Timestamp('2023-12-13 00:00:00'): array([219,  49, 211], dtype=uint8), Timestamp('2023-12-14 00:00:00'): array([145,  65,  13], dtype=uint8), Timestamp('2023-12-15 00:00:00'): array([ 77, 137, 146], dtype=uint8), Timestamp('2023-12-16 00:00:00'): array([140, 214,  13], dtype=uint8), Timestamp('2023-12-17 00:00:00'): array([ 92, 246, 185], dtype=uint8), Timestamp('2023-12-18 00:00:00'): array([148, 119, 177], dtype=uint8), Timestamp('2023-12-19 00:00:00'): array([ 57,  36, 229], dtype=uint8), Timestamp('2023-12-20 00:00:00'): array([168,  93,  98], dtype=uint8), Timestamp('2023-12-21 00:00:00'): array([179, 107, 198], dtype=uint8), Timestamp('2023-12-22 00:00:00'): array([ 80, 228,  90], dtype=uint8), Timestamp('2023-12-23 00:00:00'): array([ 88, 114,  31], dtype=uint8), Timestamp('2023-12-24 00:00:00'): array([ 95, 205, 125], dtype=uint8), Timestamp('2023-12-25 00:00:00'): array([110, 224, 110], dtype=uint8), Timestamp('2023-12-26 00:00:00'): array([ 96, 230,  80], dtype=uint8), Timestamp('2023-12-27 00:00:00'): array([124, 183,  63], dtype=uint8), Timestamp('2023-12-28 00:00:00'): array([145,  87, 114], dtype=uint8), Timestamp('2023-12-29 00:00:00'): array([115,   1, 235], dtype=uint8), Timestamp('2023-12-30 00:00:00'): array([160,  99, 191], dtype=uint8), Timestamp('2023-12-31 00:00:00'): array([148, 119,  86], dtype=uint8)}\n",
      "-----------------\n",
      "\n"
     ]
    }
   ],
   "source": [
    "import datetime\n",
    "\n",
    "# Create dictionaries for each month\n",
    "canvas_dictionaries_by_month = {}\n",
    "for month in range(1, 13):\n",
    "    # Filter canvas_dictionary by month\n",
    "    filtered_dictionary = {key: value for key, value in canvas_dictionary.items() if key.month == month}\n",
    "    # Add filtered dictionary to canvas_dictionaries_by_month\n",
    "    month_name = datetime.date(1900, month, 1).strftime('%B')\n",
    "    canvas_dictionaries_by_month[f'canvas_dictionary_{month_name.lower()}'] = filtered_dictionary\n",
    "print(\"-----------------\")\n",
    "print(canvas_dictionaries_by_month)\n",
    "print(\"-----------------\")\n",
    "# Print the canvas dictionaries for each month\n",
    "for month, dictionary in canvas_dictionaries_by_month.items():\n",
    "    print(\"\\n-----------------\")\n",
    "    print(f'{month}: {dictionary}')\n",
    "    print(\"-----------------\\n\")\n"
   ]
  },
  {
   "cell_type": "code",
   "execution_count": 183,
   "metadata": {},
   "outputs": [
    {
     "name": "stdout",
     "output_type": "stream",
     "text": [
      "-----canvas_dictionary_january-----\n"
     ]
    },
    {
     "data": {
      "image/png": "[encoded data removed]",
      "text/plain": [
       "<Figure size 640x480 with 1 Axes>"
      ]
     },
     "metadata": {},
     "output_type": "display_data"
    },
    {
     "name": "stdout",
     "output_type": "stream",
     "text": [
      "-----canvas_dictionary_february-----\n"
     ]
    },
    {
     "data": {
      "image/png": "[encoded data removed]",
      "text/plain": [
       "<Figure size 640x480 with 1 Axes>"
      ]
     },
     "metadata": {},
     "output_type": "display_data"
    },
    {
     "name": "stdout",
     "output_type": "stream",
     "text": [
      "-----canvas_dictionary_march-----\n"
     ]
    },
    {
     "data": {
      "image/png": "[encoded data removed]",
      "text/plain": [
       "<Figure size 640x480 with 1 Axes>"
      ]
     },
     "metadata": {},
     "output_type": "display_data"
    },
    {
     "name": "stdout",
     "output_type": "stream",
     "text": [
      "-----canvas_dictionary_april-----\n"
     ]
    },
    {
     "data": {
      "image/png": "[encoded data removed]",
      "text/plain": [
       "<Figure size 640x480 with 1 Axes>"
      ]
     },
     "metadata": {},
     "output_type": "display_data"
    },
    {
     "name": "stdout",
     "output_type": "stream",
     "text": [
      "-----canvas_dictionary_may-----\n"
     ]
    },
    {
     "data": {
      "image/png": "[encoded data removed]",
      "text/plain": [
       "<Figure size 640x480 with 1 Axes>"
      ]
     },
     "metadata": {},
     "output_type": "display_data"
    },
    {
     "name": "stdout",
     "output_type": "stream",
     "text": [
      "-----canvas_dictionary_june-----\n"
     ]
    },
    {
     "data": {
      "image/png": "[encoded data removed]",
      "text/plain": [
       "<Figure size 640x480 with 1 Axes>"
      ]
     },
     "metadata": {},
     "output_type": "display_data"
    },
    {
     "name": "stdout",
     "output_type": "stream",
     "text": [
      "-----canvas_dictionary_july-----\n"
     ]
    },
    {
     "data": {
      "image/png": "[encoded data removed]",
      "text/plain": [
       "<Figure size 640x480 with 1 Axes>"
      ]
     },
     "metadata": {},
     "output_type": "display_data"
    },
    {
     "name": "stdout",
     "output_type": "stream",
     "text": [
      "-----canvas_dictionary_august-----\n"
     ]
    },
    {
     "data": {
      "image/png": "[encoded data removed]",
      "text/plain": [
       "<Figure size 640x480 with 1 Axes>"
      ]
     },
     "metadata": {},
     "output_type": "display_data"
    },
    {
     "name": "stdout",
     "output_type": "stream",
     "text": [
      "-----canvas_dictionary_september-----\n"
     ]
    },
    {
     "data": {
      "image/png": "[encoded data removed]",
      "text/plain": [
       "<Figure size 640x480 with 1 Axes>"
      ]
     },
     "metadata": {},
     "output_type": "display_data"
    },
    {
     "name": "stdout",
     "output_type": "stream",
     "text": [
      "-----canvas_dictionary_october-----\n"
     ]
    },
    {
     "data": {
      "image/png": "[encoded data removed]",
      "text/plain": [
       "<Figure size 640x480 with 1 Axes>"
      ]
     },
     "metadata": {},
     "output_type": "display_data"
    },
    {
     "name": "stdout",
     "output_type": "stream",
     "text": [
      "-----canvas_dictionary_november-----\n"
     ]
    },
    {
     "data": {
      "image/png": "[encoded data removed]",
      "text/plain": [
       "<Figure size 640x480 with 1 Axes>"
      ]
     },
     "metadata": {},
     "output_type": "display_data"
    },
    {
     "name": "stdout",
     "output_type": "stream",
     "text": [
      "-----canvas_dictionary_december-----\n"
     ]
    },
    {
     "data": {
      "image/png": "[encoded data removed]",
      "text/plain": [
       "<Figure size 640x480 with 1 Axes>"
      ]
     },
     "metadata": {},
     "output_type": "display_data"
    }
   ],
   "source": [
    "for month, dictionary in canvas_dictionaries_by_month.items():\n",
    "    canvas_dictionary_month = {key: value for key, value in dictionary.items()}\n",
    "    print(f\"-----{month}-----\")\n",
    "    plt.imshow(canvas_dictionary_month.values())\n",
    "    plt.axis('off')\n",
    "    plt.show()\n"
   ]
  }
 ],
 "metadata": {
  "kernelspec": {
   "display_name": "Python 3",
   "language": "python",
   "name": "python3"
  },
  "language_info": {
   "codemirror_mode": {
    "name": "ipython",
    "version": 3
   },
   "file_extension": ".py",
   "mimetype": "text/x-python",
   "name": "python",
   "nbconvert_exporter": "python",
   "pygments_lexer": "ipython3",
   "version": "3.11.8"
  }
 },
 "nbformat": 4,
 "nbformat_minor": 2
}
