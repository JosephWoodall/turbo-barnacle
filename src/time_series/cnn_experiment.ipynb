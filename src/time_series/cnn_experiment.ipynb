{
 "cells": [
  {
   "cell_type": "markdown",
   "metadata": {},
   "source": [
    "# CNN Experiments in time series"
   ]
  },
  {
   "cell_type": "code",
   "execution_count": 128,
   "metadata": {},
   "outputs": [],
   "source": [
    "import numpy\n",
    "import pandas\n",
    "import matplotlib.pyplot as plt"
   ]
  },
  {
   "cell_type": "code",
   "execution_count": 191,
   "metadata": {},
   "outputs": [],
   "source": [
    "class GARCHTimeSeriesDataGenerator:\n",
    "    \"\"\"\n",
    "    A class for generating time series data using the GARCH process.\n",
    "\n",
    "    Parameters:\n",
    "    - start_date (str): The start date of the time series.\n",
    "    - years (int): The number of years to simulate. Default is 1.\n",
    "    - mu (float): The mean of the GARCH process. Default is 0.\n",
    "    - omega (float): The constant term in the GARCH process. Default is 0.1.\n",
    "    - alpha (list): The list of alpha coefficients in the GARCH process. Default is [0.5].\n",
    "    - beta (list): The list of beta coefficients in the GARCH process. Default is [0.5].\n",
    "    \"\"\"\n",
    "\n",
    "    def __init__(self, start_date, years=1, mu=0, omega=0.1, alpha=[0.5], beta=[0.5]):\n",
    "        self.start_date = pandas.to_datetime(start_date)\n",
    "        self.years = years\n",
    "        self.mu = mu\n",
    "        self.omega = omega\n",
    "        self.alpha = alpha\n",
    "        self.beta = beta\n",
    "\n",
    "    def simulate(self, n) -> pandas.Series:\n",
    "        \"\"\"\n",
    "        Simulates a GARCH process and returns a pandas Series of simulated returns.\n",
    "\n",
    "            Parameters:\n",
    "            - n (int): The number of periods to simulate.\n",
    "\n",
    "            Returns:\n",
    "            - simulated_series (pandas.Series): A pandas Series of simulated returns.\n",
    "        \"\"\"\n",
    "        # Calculate the total number of periods\n",
    "        total_periods = n * self.years\n",
    "\n",
    "        # Initialize arrays\n",
    "        errors = numpy.random.normal(size=total_periods)\n",
    "        sigmas = numpy.zeros_like(errors)\n",
    "        returns = numpy.zeros_like(errors)\n",
    "\n",
    "        # Simulate GARCH process\n",
    "        for t in range(1, total_periods):\n",
    "            sigmas[t] = numpy.sqrt(\n",
    "                self.omega + self.alpha[0] * errors[t-1]**2 + self.beta[0] * sigmas[t-1]**2)\n",
    "            returns[t] = self.mu + sigmas[t] * errors[t]\n",
    "\n",
    "        # Create date range\n",
    "        dates = pandas.date_range(self.start_date, periods=total_periods)\n",
    "\n",
    "        # Create pandas Series\n",
    "        simulated_series = pandas.Series(returns, index=dates)\n",
    "\n",
    "        return simulated_series\n"
   ]
  },
  {
   "cell_type": "markdown",
   "metadata": {},
   "source": [
    "### First Experiment\n",
    "\n",
    "This first experiment uses a CNN for unsupervised anomaly detection, by mapping a value to a canvas of pixels.\n",
    "\n"
   ]
  },
  {
   "cell_type": "code",
   "execution_count": 192,
   "metadata": {},
   "outputs": [],
   "source": [
    "# Create a GARCH time series data generator\n",
    "generator = GARCHTimeSeriesDataGenerator(start_date=\"2023-01-01\")\n",
    "\n",
    "# Simulate 365 days of data (assuming daily data)\n",
    "data = generator.simulate(730)\n",
    "\n",
    "# Normalize data to a range of 0 to 16777215\n",
    "normalized_data = (data - data.min()) / (data.max() - data.min()) * 16777215"
   ]
  },
  {
   "cell_type": "code",
   "execution_count": 193,
   "metadata": {},
   "outputs": [],
   "source": [
    "# Create a canvas with 365 pixels\n",
    "canvas = numpy.zeros((normalized_data.size, 3), dtype=numpy.uint8)\n",
    "dates = []\n",
    "\n",
    "# Iterate through each pixel and set the color based on normalized data\n",
    "for i in range(normalized_data.size):\n",
    "  # Extract the normalized value for the current day\n",
    "  value = normalized_data.iloc[i]\n",
    "  date = normalized_data.index[i]\n",
    "  # Convert the value to RGB components\n",
    "  red = (int(value) & 0x00FF0000) >> 16\n",
    "  green = (int(value) & 0x0000FF00) >> 8\n",
    "  blue = int(value) & 0x000000FF\n",
    "\n",
    "  # Set the pixel's RGB values\n",
    "  canvas[i] = [red, green, blue]\n",
    "  dates.append(date)\n",
    "\n",
    "canvas_dictionary = {dates[i]: canvas[i] for i in range(len(dates))}"
   ]
  },
  {
   "cell_type": "code",
   "execution_count": 194,
   "metadata": {},
   "outputs": [
    {
     "data": {
      "text/plain": [
       "(-0.5, 2.5, 729.5, -0.5)"
      ]
     },
     "execution_count": 194,
     "metadata": {},
     "output_type": "execute_result"
    },
    {
     "data": {
      "image/png": "[encoded data removed]",
      "text/plain": [
       "<Figure size 640x480 with 1 Axes>"
      ]
     },
     "metadata": {},
     "output_type": "display_data"
    }
   ],
   "source": [
    "plt.imshow(canvas_dictionary.values())\n",
    "plt.axis('off')"
   ]
  },
  {
   "cell_type": "code",
   "execution_count": 197,
   "metadata": {},
   "outputs": [
    {
     "name": "stdout",
     "output_type": "stream",
     "text": [
      "\n",
      "-----------------\n",
      "canvas_dictionary_january_2023: {Timestamp('2023-01-01 00:00:00'): array([135,  43, 187], dtype=uint8), Timestamp('2023-01-02 00:00:00'): array([135,  12, 209], dtype=uint8), Timestamp('2023-01-03 00:00:00'): array([139, 161, 119], dtype=uint8), Timestamp('2023-01-04 00:00:00'): array([167, 226, 178], dtype=uint8), Timestamp('2023-01-05 00:00:00'): array([151, 250,  79], dtype=uint8), Timestamp('2023-01-06 00:00:00'): array([149,  84,  37], dtype=uint8), Timestamp('2023-01-07 00:00:00'): array([102, 235,  78], dtype=uint8), Timestamp('2023-01-08 00:00:00'): array([131,  84,   2], dtype=uint8), Timestamp('2023-01-09 00:00:00'): array([ 82, 107, 239], dtype=uint8), Timestamp('2023-01-10 00:00:00'): array([186,  41, 117], dtype=uint8), Timestamp('2023-01-11 00:00:00'): array([181,  29, 114], dtype=uint8), Timestamp('2023-01-12 00:00:00'): array([134, 221, 182], dtype=uint8), Timestamp('2023-01-13 00:00:00'): array([123,  12,  97], dtype=uint8), Timestamp('2023-01-14 00:00:00'): array([123,  55, 152], dtype=uint8), Timestamp('2023-01-15 00:00:00'): array([123,  57, 147], dtype=uint8), Timestamp('2023-01-16 00:00:00'): array([140, 126,  65], dtype=uint8), Timestamp('2023-01-17 00:00:00'): array([127,  13,  35], dtype=uint8), Timestamp('2023-01-18 00:00:00'): array([137,   4, 164], dtype=uint8), Timestamp('2023-01-19 00:00:00'): array([118,  84,   6], dtype=uint8), Timestamp('2023-01-20 00:00:00'): array([124, 210, 198], dtype=uint8), Timestamp('2023-01-21 00:00:00'): array([152, 247, 104], dtype=uint8), Timestamp('2023-01-22 00:00:00'): array([118,  35, 100], dtype=uint8), Timestamp('2023-01-23 00:00:00'): array([142,   2, 146], dtype=uint8), Timestamp('2023-01-24 00:00:00'): array([134,  92, 230], dtype=uint8), Timestamp('2023-01-25 00:00:00'): array([114, 174, 189], dtype=uint8), Timestamp('2023-01-26 00:00:00'): array([127,  72,  67], dtype=uint8), Timestamp('2023-01-27 00:00:00'): array([148, 148,  41], dtype=uint8), Timestamp('2023-01-28 00:00:00'): array([ 99, 253, 187], dtype=uint8), Timestamp('2023-01-29 00:00:00'): array([103,  96,  16], dtype=uint8), Timestamp('2023-01-30 00:00:00'): array([129,  15, 108], dtype=uint8), Timestamp('2023-01-31 00:00:00'): array([ 99, 251,   0], dtype=uint8)}\n",
      "-----------------\n",
      "\n",
      "\n",
      "-----------------\n",
      "canvas_dictionary_february_2023: {Timestamp('2023-02-01 00:00:00'): array([142,  10, 135], dtype=uint8), Timestamp('2023-02-02 00:00:00'): array([ 97, 251, 246], dtype=uint8), Timestamp('2023-02-03 00:00:00'): array([173,  13, 251], dtype=uint8), Timestamp('2023-02-04 00:00:00'): array([150,  46,  56], dtype=uint8), Timestamp('2023-02-05 00:00:00'): array([129, 231, 157], dtype=uint8), Timestamp('2023-02-06 00:00:00'): array([133, 185, 249], dtype=uint8), Timestamp('2023-02-07 00:00:00'): array([118, 141, 104], dtype=uint8), Timestamp('2023-02-08 00:00:00'): array([133, 121,  80], dtype=uint8), Timestamp('2023-02-09 00:00:00'): array([135,  65, 175], dtype=uint8), Timestamp('2023-02-10 00:00:00'): array([142, 188, 199], dtype=uint8), Timestamp('2023-02-11 00:00:00'): array([123,  31,  79], dtype=uint8), Timestamp('2023-02-12 00:00:00'): array([170, 141,  88], dtype=uint8), Timestamp('2023-02-13 00:00:00'): array([123, 134,  19], dtype=uint8), Timestamp('2023-02-14 00:00:00'): array([140,  48, 224], dtype=uint8), Timestamp('2023-02-15 00:00:00'): array([152, 237, 154], dtype=uint8), Timestamp('2023-02-16 00:00:00'): array([132,  20, 100], dtype=uint8), Timestamp('2023-02-17 00:00:00'): array([130,  16, 218], dtype=uint8), Timestamp('2023-02-18 00:00:00'): array([135,  31,   5], dtype=uint8), Timestamp('2023-02-19 00:00:00'): array([140, 215, 196], dtype=uint8), Timestamp('2023-02-20 00:00:00'): array([137,   4, 100], dtype=uint8), Timestamp('2023-02-21 00:00:00'): array([141, 171,  75], dtype=uint8), Timestamp('2023-02-22 00:00:00'): array([151, 135, 159], dtype=uint8), Timestamp('2023-02-23 00:00:00'): array([110,  96, 254], dtype=uint8), Timestamp('2023-02-24 00:00:00'): array([104, 245,  57], dtype=uint8), Timestamp('2023-02-25 00:00:00'): array([126, 153, 123], dtype=uint8), Timestamp('2023-02-26 00:00:00'): array([167, 157,  89], dtype=uint8), Timestamp('2023-02-27 00:00:00'): array([89, 60, 54], dtype=uint8), Timestamp('2023-02-28 00:00:00'): array([141, 213, 167], dtype=uint8)}\n",
      "-----------------\n",
      "\n",
      "\n",
      "-----------------\n",
      "canvas_dictionary_march_2023: {Timestamp('2023-03-01 00:00:00'): array([180, 117,  68], dtype=uint8), Timestamp('2023-03-02 00:00:00'): array([119, 116,  67], dtype=uint8), Timestamp('2023-03-03 00:00:00'): array([127, 164,   6], dtype=uint8), Timestamp('2023-03-04 00:00:00'): array([130, 255, 186], dtype=uint8), Timestamp('2023-03-05 00:00:00'): array([148,  47, 127], dtype=uint8), Timestamp('2023-03-06 00:00:00'): array([142,  12,  53], dtype=uint8), Timestamp('2023-03-07 00:00:00'): array([115, 148,  15], dtype=uint8), Timestamp('2023-03-08 00:00:00'): array([181, 220, 141], dtype=uint8), Timestamp('2023-03-09 00:00:00'): array([121, 205, 252], dtype=uint8), Timestamp('2023-03-10 00:00:00'): array([176, 182, 182], dtype=uint8), Timestamp('2023-03-11 00:00:00'): array([164, 165, 151], dtype=uint8), Timestamp('2023-03-12 00:00:00'): array([158, 133, 210], dtype=uint8), Timestamp('2023-03-13 00:00:00'): array([115,  52, 249], dtype=uint8), Timestamp('2023-03-14 00:00:00'): array([161,   2,  72], dtype=uint8), Timestamp('2023-03-15 00:00:00'): array([102, 211,  97], dtype=uint8), Timestamp('2023-03-16 00:00:00'): array([151, 223, 188], dtype=uint8), Timestamp('2023-03-17 00:00:00'): array([116,  67, 219], dtype=uint8), Timestamp('2023-03-18 00:00:00'): array([115, 213, 131], dtype=uint8), Timestamp('2023-03-19 00:00:00'): array([126,  95, 193], dtype=uint8), Timestamp('2023-03-20 00:00:00'): array([140,   3, 222], dtype=uint8), Timestamp('2023-03-21 00:00:00'): array([159, 187, 161], dtype=uint8), Timestamp('2023-03-22 00:00:00'): array([111, 100,  21], dtype=uint8), Timestamp('2023-03-23 00:00:00'): array([144,  79,  17], dtype=uint8), Timestamp('2023-03-24 00:00:00'): array([129, 195, 104], dtype=uint8), Timestamp('2023-03-25 00:00:00'): array([146,  65, 204], dtype=uint8), Timestamp('2023-03-26 00:00:00'): array([132, 140, 125], dtype=uint8), Timestamp('2023-03-27 00:00:00'): array([145, 124, 170], dtype=uint8), Timestamp('2023-03-28 00:00:00'): array([125,  42, 129], dtype=uint8), Timestamp('2023-03-29 00:00:00'): array([137, 114,  62], dtype=uint8), Timestamp('2023-03-30 00:00:00'): array([144, 216, 172], dtype=uint8), Timestamp('2023-03-31 00:00:00'): array([137,  48, 144], dtype=uint8)}\n",
      "-----------------\n",
      "\n",
      "\n",
      "-----------------\n",
      "canvas_dictionary_april_2023: {Timestamp('2023-04-01 00:00:00'): array([130, 166,  57], dtype=uint8), Timestamp('2023-04-02 00:00:00'): array([136, 142, 150], dtype=uint8), Timestamp('2023-04-03 00:00:00'): array([116, 106,  91], dtype=uint8), Timestamp('2023-04-04 00:00:00'): array([175,  19, 111], dtype=uint8), Timestamp('2023-04-05 00:00:00'): array([141, 213, 193], dtype=uint8), Timestamp('2023-04-06 00:00:00'): array([143,  25,   1], dtype=uint8), Timestamp('2023-04-07 00:00:00'): array([142, 183,  43], dtype=uint8), Timestamp('2023-04-08 00:00:00'): array([129,  48, 205], dtype=uint8), Timestamp('2023-04-09 00:00:00'): array([151, 250, 114], dtype=uint8), Timestamp('2023-04-10 00:00:00'): array([137,  59,  51], dtype=uint8), Timestamp('2023-04-11 00:00:00'): array([120, 100,  47], dtype=uint8), Timestamp('2023-04-12 00:00:00'): array([153,  89,  85], dtype=uint8), Timestamp('2023-04-13 00:00:00'): array([157,  85, 239], dtype=uint8), Timestamp('2023-04-14 00:00:00'): array([129, 116,  79], dtype=uint8), Timestamp('2023-04-15 00:00:00'): array([115, 223, 187], dtype=uint8), Timestamp('2023-04-16 00:00:00'): array([113, 255,  78], dtype=uint8), Timestamp('2023-04-17 00:00:00'): array([156, 243, 208], dtype=uint8), Timestamp('2023-04-18 00:00:00'): array([136, 145,  19], dtype=uint8), Timestamp('2023-04-19 00:00:00'): array([144, 215,  89], dtype=uint8), Timestamp('2023-04-20 00:00:00'): array([133, 198, 246], dtype=uint8), Timestamp('2023-04-21 00:00:00'): array([155,  35, 157], dtype=uint8), Timestamp('2023-04-22 00:00:00'): array([113, 171,  65], dtype=uint8), Timestamp('2023-04-23 00:00:00'): array([125, 161, 157], dtype=uint8), Timestamp('2023-04-24 00:00:00'): array([134,  25, 102], dtype=uint8), Timestamp('2023-04-25 00:00:00'): array([140, 174,  23], dtype=uint8), Timestamp('2023-04-26 00:00:00'): array([147, 105, 107], dtype=uint8), Timestamp('2023-04-27 00:00:00'): array([116, 129,  56], dtype=uint8), Timestamp('2023-04-28 00:00:00'): array([139,  94, 254], dtype=uint8), Timestamp('2023-04-29 00:00:00'): array([142, 232, 127], dtype=uint8), Timestamp('2023-04-30 00:00:00'): array([141, 149, 239], dtype=uint8)}\n",
      "-----------------\n",
      "\n",
      "\n",
      "-----------------\n",
      "canvas_dictionary_may_2023: {Timestamp('2023-05-01 00:00:00'): array([138, 172, 250], dtype=uint8), Timestamp('2023-05-02 00:00:00'): array([130, 237, 241], dtype=uint8), Timestamp('2023-05-03 00:00:00'): array([143, 201, 104], dtype=uint8), Timestamp('2023-05-04 00:00:00'): array([139, 156, 181], dtype=uint8), Timestamp('2023-05-05 00:00:00'): array([154, 130,   7], dtype=uint8), Timestamp('2023-05-06 00:00:00'): array([121,  86, 233], dtype=uint8), Timestamp('2023-05-07 00:00:00'): array([95, 69, 86], dtype=uint8), Timestamp('2023-05-08 00:00:00'): array([91, 71,  3], dtype=uint8), Timestamp('2023-05-09 00:00:00'): array([ 99,  80, 109], dtype=uint8), Timestamp('2023-05-10 00:00:00'): array([151, 139, 244], dtype=uint8), Timestamp('2023-05-11 00:00:00'): array([117,  37,  45], dtype=uint8), Timestamp('2023-05-12 00:00:00'): array([121,  66, 208], dtype=uint8), Timestamp('2023-05-13 00:00:00'): array([120,  58,  78], dtype=uint8), Timestamp('2023-05-14 00:00:00'): array([156, 122,  84], dtype=uint8), Timestamp('2023-05-15 00:00:00'): array([139, 249, 113], dtype=uint8), Timestamp('2023-05-16 00:00:00'): array([136, 239,  49], dtype=uint8), Timestamp('2023-05-17 00:00:00'): array([120,  27,  95], dtype=uint8), Timestamp('2023-05-18 00:00:00'): array([143,   7, 113], dtype=uint8), Timestamp('2023-05-19 00:00:00'): array([164,  57, 254], dtype=uint8), Timestamp('2023-05-20 00:00:00'): array([151, 120,  51], dtype=uint8), Timestamp('2023-05-21 00:00:00'): array([113, 111,  32], dtype=uint8), Timestamp('2023-05-22 00:00:00'): array([109, 132,  80], dtype=uint8), Timestamp('2023-05-23 00:00:00'): array([129, 181,  46], dtype=uint8), Timestamp('2023-05-24 00:00:00'): array([128,   9, 215], dtype=uint8), Timestamp('2023-05-25 00:00:00'): array([120,  14, 175], dtype=uint8), Timestamp('2023-05-26 00:00:00'): array([119, 130,  95], dtype=uint8), Timestamp('2023-05-27 00:00:00'): array([139, 126, 209], dtype=uint8), Timestamp('2023-05-28 00:00:00'): array([129, 112,  66], dtype=uint8), Timestamp('2023-05-29 00:00:00'): array([127,  56,  32], dtype=uint8), Timestamp('2023-05-30 00:00:00'): array([134, 167, 209], dtype=uint8), Timestamp('2023-05-31 00:00:00'): array([127,  13, 135], dtype=uint8)}\n",
      "-----------------\n",
      "\n",
      "\n",
      "-----------------\n",
      "canvas_dictionary_june_2023: {Timestamp('2023-06-01 00:00:00'): array([128, 208,  99], dtype=uint8), Timestamp('2023-06-02 00:00:00'): array([131, 216,  41], dtype=uint8), Timestamp('2023-06-03 00:00:00'): array([138, 122, 245], dtype=uint8), Timestamp('2023-06-04 00:00:00'): array([127, 113, 250], dtype=uint8), Timestamp('2023-06-05 00:00:00'): array([131, 181,  69], dtype=uint8), Timestamp('2023-06-06 00:00:00'): array([152, 108, 127], dtype=uint8), Timestamp('2023-06-07 00:00:00'): array([142,   7, 142], dtype=uint8), Timestamp('2023-06-08 00:00:00'): array([127,  97, 147], dtype=uint8), Timestamp('2023-06-09 00:00:00'): array([118, 243, 138], dtype=uint8), Timestamp('2023-06-10 00:00:00'): array([125, 202, 246], dtype=uint8), Timestamp('2023-06-11 00:00:00'): array([118, 232, 235], dtype=uint8), Timestamp('2023-06-12 00:00:00'): array([149,  92, 140], dtype=uint8), Timestamp('2023-06-13 00:00:00'): array([146,  58, 208], dtype=uint8), Timestamp('2023-06-14 00:00:00'): array([135,  81, 138], dtype=uint8), Timestamp('2023-06-15 00:00:00'): array([142, 227, 149], dtype=uint8), Timestamp('2023-06-16 00:00:00'): array([130, 125, 184], dtype=uint8), Timestamp('2023-06-17 00:00:00'): array([140, 158, 184], dtype=uint8), Timestamp('2023-06-18 00:00:00'): array([139, 185,  64], dtype=uint8), Timestamp('2023-06-19 00:00:00'): array([140,  12,  82], dtype=uint8), Timestamp('2023-06-20 00:00:00'): array([133, 187,   9], dtype=uint8), Timestamp('2023-06-21 00:00:00'): array([147,   3,  98], dtype=uint8), Timestamp('2023-06-22 00:00:00'): array([149, 198, 126], dtype=uint8), Timestamp('2023-06-23 00:00:00'): array([ 98, 103, 182], dtype=uint8), Timestamp('2023-06-24 00:00:00'): array([133, 246, 225], dtype=uint8), Timestamp('2023-06-25 00:00:00'): array([149, 156, 245], dtype=uint8), Timestamp('2023-06-26 00:00:00'): array([125, 175,  92], dtype=uint8), Timestamp('2023-06-27 00:00:00'): array([120,  71, 111], dtype=uint8), Timestamp('2023-06-28 00:00:00'): array([160, 231, 211], dtype=uint8), Timestamp('2023-06-29 00:00:00'): array([123, 225, 220], dtype=uint8), Timestamp('2023-06-30 00:00:00'): array([155, 211, 246], dtype=uint8)}\n",
      "-----------------\n",
      "\n",
      "\n",
      "-----------------\n",
      "canvas_dictionary_july_2023: {Timestamp('2023-07-01 00:00:00'): array([102, 253,   3], dtype=uint8), Timestamp('2023-07-02 00:00:00'): array([171,  93,  76], dtype=uint8), Timestamp('2023-07-03 00:00:00'): array([112, 211, 249], dtype=uint8), Timestamp('2023-07-04 00:00:00'): array([148,  90, 132], dtype=uint8), Timestamp('2023-07-05 00:00:00'): array([134, 112,  90], dtype=uint8), Timestamp('2023-07-06 00:00:00'): array([118,  12, 125], dtype=uint8), Timestamp('2023-07-07 00:00:00'): array([156,  61, 101], dtype=uint8), Timestamp('2023-07-08 00:00:00'): array([137,  99, 251], dtype=uint8), Timestamp('2023-07-09 00:00:00'): array([122, 213, 137], dtype=uint8), Timestamp('2023-07-10 00:00:00'): array([123,  23, 115], dtype=uint8), Timestamp('2023-07-11 00:00:00'): array([141,   6,  17], dtype=uint8), Timestamp('2023-07-12 00:00:00'): array([139, 171, 118], dtype=uint8), Timestamp('2023-07-13 00:00:00'): array([135,  97, 137], dtype=uint8), Timestamp('2023-07-14 00:00:00'): array([151, 226, 221], dtype=uint8), Timestamp('2023-07-15 00:00:00'): array([152, 133,  51], dtype=uint8), Timestamp('2023-07-16 00:00:00'): array([122, 236, 145], dtype=uint8), Timestamp('2023-07-17 00:00:00'): array([111, 241,  76], dtype=uint8), Timestamp('2023-07-18 00:00:00'): array([125, 221,  63], dtype=uint8), Timestamp('2023-07-19 00:00:00'): array([107, 246, 252], dtype=uint8), Timestamp('2023-07-20 00:00:00'): array([139, 183, 149], dtype=uint8), Timestamp('2023-07-21 00:00:00'): array([145,  24,   2], dtype=uint8), Timestamp('2023-07-22 00:00:00'): array([132,  45, 141], dtype=uint8), Timestamp('2023-07-23 00:00:00'): array([132, 185,  40], dtype=uint8), Timestamp('2023-07-24 00:00:00'): array([143, 226, 130], dtype=uint8), Timestamp('2023-07-25 00:00:00'): array([135,  60, 251], dtype=uint8), Timestamp('2023-07-26 00:00:00'): array([161,  88, 154], dtype=uint8), Timestamp('2023-07-27 00:00:00'): array([139, 217, 191], dtype=uint8), Timestamp('2023-07-28 00:00:00'): array([172, 176, 227], dtype=uint8), Timestamp('2023-07-29 00:00:00'): array([107,   1, 242], dtype=uint8), Timestamp('2023-07-30 00:00:00'): array([111, 255,  39], dtype=uint8), Timestamp('2023-07-31 00:00:00'): array([138,  92, 200], dtype=uint8)}\n",
      "-----------------\n",
      "\n",
      "\n",
      "-----------------\n",
      "canvas_dictionary_august_2023: {Timestamp('2023-08-01 00:00:00'): array([127, 153,   4], dtype=uint8), Timestamp('2023-08-02 00:00:00'): array([125,   9, 172], dtype=uint8), Timestamp('2023-08-03 00:00:00'): array([134, 212, 162], dtype=uint8), Timestamp('2023-08-04 00:00:00'): array([152, 164, 237], dtype=uint8), Timestamp('2023-08-05 00:00:00'): array([150, 232,   8], dtype=uint8), Timestamp('2023-08-06 00:00:00'): array([140, 186, 162], dtype=uint8), Timestamp('2023-08-07 00:00:00'): array([149, 127,  97], dtype=uint8), Timestamp('2023-08-08 00:00:00'): array([137, 184, 120], dtype=uint8), Timestamp('2023-08-09 00:00:00'): array([131, 199, 154], dtype=uint8), Timestamp('2023-08-10 00:00:00'): array([139, 127, 244], dtype=uint8), Timestamp('2023-08-11 00:00:00'): array([130, 234,  29], dtype=uint8), Timestamp('2023-08-12 00:00:00'): array([129,  44,  88], dtype=uint8), Timestamp('2023-08-13 00:00:00'): array([124,  72, 195], dtype=uint8), Timestamp('2023-08-14 00:00:00'): array([140, 207, 160], dtype=uint8), Timestamp('2023-08-15 00:00:00'): array([132, 120,  64], dtype=uint8), Timestamp('2023-08-16 00:00:00'): array([119,  96,  61], dtype=uint8), Timestamp('2023-08-17 00:00:00'): array([109,  29,  95], dtype=uint8), Timestamp('2023-08-18 00:00:00'): array([166, 136, 213], dtype=uint8), Timestamp('2023-08-19 00:00:00'): array([100, 225, 111], dtype=uint8), Timestamp('2023-08-20 00:00:00'): array([176, 248, 252], dtype=uint8), Timestamp('2023-08-21 00:00:00'): array([130,  34, 226], dtype=uint8), Timestamp('2023-08-22 00:00:00'): array([124, 173,  56], dtype=uint8), Timestamp('2023-08-23 00:00:00'): array([148, 210,  35], dtype=uint8), Timestamp('2023-08-24 00:00:00'): array([131, 218, 217], dtype=uint8), Timestamp('2023-08-25 00:00:00'): array([154, 162,  14], dtype=uint8), Timestamp('2023-08-26 00:00:00'): array([151,   9,   9], dtype=uint8), Timestamp('2023-08-27 00:00:00'): array([167, 163,  48], dtype=uint8), Timestamp('2023-08-28 00:00:00'): array([135, 127,  12], dtype=uint8), Timestamp('2023-08-29 00:00:00'): array([133, 242, 198], dtype=uint8), Timestamp('2023-08-30 00:00:00'): array([148,  37,  77], dtype=uint8), Timestamp('2023-08-31 00:00:00'): array([147,  29, 235], dtype=uint8)}\n",
      "-----------------\n",
      "\n",
      "\n",
      "-----------------\n",
      "canvas_dictionary_september_2023: {Timestamp('2023-09-01 00:00:00'): array([125, 112, 150], dtype=uint8), Timestamp('2023-09-02 00:00:00'): array([149, 198,   9], dtype=uint8), Timestamp('2023-09-03 00:00:00'): array([138,   9, 141], dtype=uint8), Timestamp('2023-09-04 00:00:00'): array([129, 177, 243], dtype=uint8), Timestamp('2023-09-05 00:00:00'): array([130, 114, 254], dtype=uint8), Timestamp('2023-09-06 00:00:00'): array([128, 249,  17], dtype=uint8), Timestamp('2023-09-07 00:00:00'): array([132, 101,   0], dtype=uint8), Timestamp('2023-09-08 00:00:00'): array([131, 153, 111], dtype=uint8), Timestamp('2023-09-09 00:00:00'): array([130, 197, 140], dtype=uint8), Timestamp('2023-09-10 00:00:00'): array([148, 123, 160], dtype=uint8), Timestamp('2023-09-11 00:00:00'): array([131,  18, 223], dtype=uint8), Timestamp('2023-09-12 00:00:00'): array([137, 130,  91], dtype=uint8), Timestamp('2023-09-13 00:00:00'): array([141,  63,  61], dtype=uint8), Timestamp('2023-09-14 00:00:00'): array([114, 212, 255], dtype=uint8), Timestamp('2023-09-15 00:00:00'): array([170, 253,  14], dtype=uint8), Timestamp('2023-09-16 00:00:00'): array([104,  79, 138], dtype=uint8), Timestamp('2023-09-17 00:00:00'): array([112, 166,  28], dtype=uint8), Timestamp('2023-09-18 00:00:00'): array([144, 130,  60], dtype=uint8), Timestamp('2023-09-19 00:00:00'): array([131,  71,  92], dtype=uint8), Timestamp('2023-09-20 00:00:00'): array([151, 219,  42], dtype=uint8), Timestamp('2023-09-21 00:00:00'): array([142, 140,  55], dtype=uint8), Timestamp('2023-09-22 00:00:00'): array([111, 172, 109], dtype=uint8), Timestamp('2023-09-23 00:00:00'): array([135, 131, 235], dtype=uint8), Timestamp('2023-09-24 00:00:00'): array([128,  59, 218], dtype=uint8), Timestamp('2023-09-25 00:00:00'): array([121,  41,  91], dtype=uint8), Timestamp('2023-09-26 00:00:00'): array([131, 140,  23], dtype=uint8), Timestamp('2023-09-27 00:00:00'): array([147, 116,  90], dtype=uint8), Timestamp('2023-09-28 00:00:00'): array([158, 205,  31], dtype=uint8), Timestamp('2023-09-29 00:00:00'): array([202, 145, 106], dtype=uint8), Timestamp('2023-09-30 00:00:00'): array([131, 145,  75], dtype=uint8)}\n",
      "-----------------\n",
      "\n",
      "\n",
      "-----------------\n",
      "canvas_dictionary_october_2023: {Timestamp('2023-10-01 00:00:00'): array([129,  34,   3], dtype=uint8), Timestamp('2023-10-02 00:00:00'): array([137, 165, 199], dtype=uint8), Timestamp('2023-10-03 00:00:00'): array([136, 196, 131], dtype=uint8), Timestamp('2023-10-04 00:00:00'): array([143, 106, 175], dtype=uint8), Timestamp('2023-10-05 00:00:00'): array([130, 205,  88], dtype=uint8), Timestamp('2023-10-06 00:00:00'): array([116,  33, 248], dtype=uint8), Timestamp('2023-10-07 00:00:00'): array([147, 173, 211], dtype=uint8), Timestamp('2023-10-08 00:00:00'): array([105, 189, 212], dtype=uint8), Timestamp('2023-10-09 00:00:00'): array([136, 230,  39], dtype=uint8), Timestamp('2023-10-10 00:00:00'): array([148, 211, 248], dtype=uint8), Timestamp('2023-10-11 00:00:00'): array([141, 246, 235], dtype=uint8), Timestamp('2023-10-12 00:00:00'): array([139, 141, 104], dtype=uint8), Timestamp('2023-10-13 00:00:00'): array([127,   4, 237], dtype=uint8), Timestamp('2023-10-14 00:00:00'): array([150,  96,   3], dtype=uint8), Timestamp('2023-10-15 00:00:00'): array([ 91, 153, 131], dtype=uint8), Timestamp('2023-10-16 00:00:00'): array([133, 198,  17], dtype=uint8), Timestamp('2023-10-17 00:00:00'): array([ 73, 238,  50], dtype=uint8), Timestamp('2023-10-18 00:00:00'): array([140, 142, 209], dtype=uint8), Timestamp('2023-10-19 00:00:00'): array([141,  63, 175], dtype=uint8), Timestamp('2023-10-20 00:00:00'): array([104, 249, 189], dtype=uint8), Timestamp('2023-10-21 00:00:00'): array([ 91, 144, 152], dtype=uint8), Timestamp('2023-10-22 00:00:00'): array([129,  94,  25], dtype=uint8), Timestamp('2023-10-23 00:00:00'): array([144, 105, 185], dtype=uint8), Timestamp('2023-10-24 00:00:00'): array([163, 125, 169], dtype=uint8), Timestamp('2023-10-25 00:00:00'): array([104,  71, 234], dtype=uint8), Timestamp('2023-10-26 00:00:00'): array([115,  95, 111], dtype=uint8), Timestamp('2023-10-27 00:00:00'): array([161, 198, 148], dtype=uint8), Timestamp('2023-10-28 00:00:00'): array([157, 223,  82], dtype=uint8), Timestamp('2023-10-29 00:00:00'): array([140, 218,  96], dtype=uint8), Timestamp('2023-10-30 00:00:00'): array([125,  87, 116], dtype=uint8), Timestamp('2023-10-31 00:00:00'): array([151, 143,  18], dtype=uint8)}\n",
      "-----------------\n",
      "\n",
      "\n",
      "-----------------\n",
      "canvas_dictionary_november_2023: {Timestamp('2023-11-01 00:00:00'): array([145, 114, 179], dtype=uint8), Timestamp('2023-11-02 00:00:00'): array([128,   3,   1], dtype=uint8), Timestamp('2023-11-03 00:00:00'): array([126, 197, 109], dtype=uint8), Timestamp('2023-11-04 00:00:00'): array([129, 110,  33], dtype=uint8), Timestamp('2023-11-05 00:00:00'): array([142,  31, 236], dtype=uint8), Timestamp('2023-11-06 00:00:00'): array([145, 249, 181], dtype=uint8), Timestamp('2023-11-07 00:00:00'): array([126, 164,  95], dtype=uint8), Timestamp('2023-11-08 00:00:00'): array([117, 186,  16], dtype=uint8), Timestamp('2023-11-09 00:00:00'): array([131, 153,  76], dtype=uint8), Timestamp('2023-11-10 00:00:00'): array([159, 135, 254], dtype=uint8), Timestamp('2023-11-11 00:00:00'): array([114, 161,  94], dtype=uint8), Timestamp('2023-11-12 00:00:00'): array([130, 169,  12], dtype=uint8), Timestamp('2023-11-13 00:00:00'): array([126, 189,  69], dtype=uint8), Timestamp('2023-11-14 00:00:00'): array([115, 242,  87], dtype=uint8), Timestamp('2023-11-15 00:00:00'): array([174,  81, 150], dtype=uint8), Timestamp('2023-11-16 00:00:00'): array([ 62, 235,  44], dtype=uint8), Timestamp('2023-11-17 00:00:00'): array([169,  14, 238], dtype=uint8), Timestamp('2023-11-18 00:00:00'): array([157, 255, 225], dtype=uint8), Timestamp('2023-11-19 00:00:00'): array([136,  66, 246], dtype=uint8), Timestamp('2023-11-20 00:00:00'): array([131, 132,  13], dtype=uint8), Timestamp('2023-11-21 00:00:00'): array([139, 176,   9], dtype=uint8), Timestamp('2023-11-22 00:00:00'): array([117,  31, 180], dtype=uint8), Timestamp('2023-11-23 00:00:00'): array([184,  34,  85], dtype=uint8), Timestamp('2023-11-24 00:00:00'): array([132, 230, 165], dtype=uint8), Timestamp('2023-11-25 00:00:00'): array([135,  20, 199], dtype=uint8), Timestamp('2023-11-26 00:00:00'): array([137,  97,  40], dtype=uint8), Timestamp('2023-11-27 00:00:00'): array([119,  18,  93], dtype=uint8), Timestamp('2023-11-28 00:00:00'): array([129, 199,  91], dtype=uint8), Timestamp('2023-11-29 00:00:00'): array([146, 144, 129], dtype=uint8), Timestamp('2023-11-30 00:00:00'): array([119,   8, 211], dtype=uint8)}\n",
      "-----------------\n",
      "\n",
      "\n",
      "-----------------\n",
      "canvas_dictionary_december_2023: {Timestamp('2023-12-01 00:00:00'): array([124,  47,  94], dtype=uint8), Timestamp('2023-12-02 00:00:00'): array([159, 143,  93], dtype=uint8), Timestamp('2023-12-03 00:00:00'): array([140, 124,  78], dtype=uint8), Timestamp('2023-12-04 00:00:00'): array([119,  42, 211], dtype=uint8), Timestamp('2023-12-05 00:00:00'): array([133, 206,  24], dtype=uint8), Timestamp('2023-12-06 00:00:00'): array([124,  31, 221], dtype=uint8), Timestamp('2023-12-07 00:00:00'): array([115,  23, 193], dtype=uint8), Timestamp('2023-12-08 00:00:00'): array([145, 223, 154], dtype=uint8), Timestamp('2023-12-09 00:00:00'): array([126,  21,  69], dtype=uint8), Timestamp('2023-12-10 00:00:00'): array([124, 210,  10], dtype=uint8), Timestamp('2023-12-11 00:00:00'): array([177, 120, 221], dtype=uint8), Timestamp('2023-12-12 00:00:00'): array([82, 29, 44], dtype=uint8), Timestamp('2023-12-13 00:00:00'): array([131,  73, 101], dtype=uint8), Timestamp('2023-12-14 00:00:00'): array([102, 137, 155], dtype=uint8), Timestamp('2023-12-15 00:00:00'): array([162,  63, 214], dtype=uint8), Timestamp('2023-12-16 00:00:00'): array([152, 115,  25], dtype=uint8), Timestamp('2023-12-17 00:00:00'): array([165, 195, 203], dtype=uint8), Timestamp('2023-12-18 00:00:00'): array([120, 206, 233], dtype=uint8), Timestamp('2023-12-19 00:00:00'): array([115, 152, 152], dtype=uint8), Timestamp('2023-12-20 00:00:00'): array([130,  10, 130], dtype=uint8), Timestamp('2023-12-21 00:00:00'): array([139, 193, 125], dtype=uint8), Timestamp('2023-12-22 00:00:00'): array([125,   9, 124], dtype=uint8), Timestamp('2023-12-23 00:00:00'): array([145, 235, 128], dtype=uint8), Timestamp('2023-12-24 00:00:00'): array([146,  61, 128], dtype=uint8), Timestamp('2023-12-25 00:00:00'): array([164, 221,  96], dtype=uint8), Timestamp('2023-12-26 00:00:00'): array([162, 161,  69], dtype=uint8), Timestamp('2023-12-27 00:00:00'): array([140,  35, 111], dtype=uint8), Timestamp('2023-12-28 00:00:00'): array([123, 138, 199], dtype=uint8), Timestamp('2023-12-29 00:00:00'): array([100, 194, 144], dtype=uint8), Timestamp('2023-12-30 00:00:00'): array([189, 202,   9], dtype=uint8), Timestamp('2023-12-31 00:00:00'): array([0, 0, 0], dtype=uint8)}\n",
      "-----------------\n",
      "\n",
      "\n",
      "-----------------\n",
      "canvas_dictionary_january_2024: {Timestamp('2024-01-01 00:00:00'): array([90, 42, 99], dtype=uint8), Timestamp('2024-01-02 00:00:00'): array([255, 255, 255], dtype=uint8), Timestamp('2024-01-03 00:00:00'): array([141,  91, 145], dtype=uint8), Timestamp('2024-01-04 00:00:00'): array([209, 139, 100], dtype=uint8), Timestamp('2024-01-05 00:00:00'): array([136, 200, 227], dtype=uint8), Timestamp('2024-01-06 00:00:00'): array([140,  25,  13], dtype=uint8), Timestamp('2024-01-07 00:00:00'): array([134,  51, 206], dtype=uint8), Timestamp('2024-01-08 00:00:00'): array([109, 243,  77], dtype=uint8), Timestamp('2024-01-09 00:00:00'): array([112,  20,  62], dtype=uint8), Timestamp('2024-01-10 00:00:00'): array([157, 191,  57], dtype=uint8), Timestamp('2024-01-11 00:00:00'): array([128, 175, 115], dtype=uint8), Timestamp('2024-01-12 00:00:00'): array([149, 128, 218], dtype=uint8), Timestamp('2024-01-13 00:00:00'): array([153,  93, 107], dtype=uint8), Timestamp('2024-01-14 00:00:00'): array([161,  71, 169], dtype=uint8), Timestamp('2024-01-15 00:00:00'): array([102, 108, 207], dtype=uint8), Timestamp('2024-01-16 00:00:00'): array([147,  57,   7], dtype=uint8), Timestamp('2024-01-17 00:00:00'): array([116,  68, 124], dtype=uint8), Timestamp('2024-01-18 00:00:00'): array([101,  31, 173], dtype=uint8), Timestamp('2024-01-19 00:00:00'): array([192, 140,  18], dtype=uint8), Timestamp('2024-01-20 00:00:00'): array([136,  91, 222], dtype=uint8), Timestamp('2024-01-21 00:00:00'): array([149,  45, 121], dtype=uint8), Timestamp('2024-01-22 00:00:00'): array([121, 117, 243], dtype=uint8), Timestamp('2024-01-23 00:00:00'): array([154, 235,  84], dtype=uint8), Timestamp('2024-01-24 00:00:00'): array([145, 155,  72], dtype=uint8), Timestamp('2024-01-25 00:00:00'): array([104, 237, 108], dtype=uint8), Timestamp('2024-01-26 00:00:00'): array([125, 148, 176], dtype=uint8), Timestamp('2024-01-27 00:00:00'): array([125, 244,  10], dtype=uint8), Timestamp('2024-01-28 00:00:00'): array([153,  82,  79], dtype=uint8), Timestamp('2024-01-29 00:00:00'): array([131,  78, 239], dtype=uint8), Timestamp('2024-01-30 00:00:00'): array([162,  63, 147], dtype=uint8), Timestamp('2024-01-31 00:00:00'): array([146,  55, 101], dtype=uint8)}\n",
      "-----------------\n",
      "\n",
      "\n",
      "-----------------\n",
      "canvas_dictionary_february_2024: {Timestamp('2024-02-01 00:00:00'): array([124,  86, 247], dtype=uint8), Timestamp('2024-02-02 00:00:00'): array([187, 225,  85], dtype=uint8), Timestamp('2024-02-03 00:00:00'): array([157,  26, 183], dtype=uint8), Timestamp('2024-02-04 00:00:00'): array([141,  14, 233], dtype=uint8), Timestamp('2024-02-05 00:00:00'): array([139, 158, 160], dtype=uint8), Timestamp('2024-02-06 00:00:00'): array([100, 245, 137], dtype=uint8), Timestamp('2024-02-07 00:00:00'): array([114, 169, 178], dtype=uint8), Timestamp('2024-02-08 00:00:00'): array([132, 231,  90], dtype=uint8), Timestamp('2024-02-09 00:00:00'): array([132,  25,  13], dtype=uint8), Timestamp('2024-02-10 00:00:00'): array([100,  39, 140], dtype=uint8), Timestamp('2024-02-11 00:00:00'): array([126,  63, 161], dtype=uint8), Timestamp('2024-02-12 00:00:00'): array([122,  14, 245], dtype=uint8), Timestamp('2024-02-13 00:00:00'): array([148, 239, 176], dtype=uint8), Timestamp('2024-02-14 00:00:00'): array([115, 193, 132], dtype=uint8), Timestamp('2024-02-15 00:00:00'): array([135, 169, 232], dtype=uint8), Timestamp('2024-02-16 00:00:00'): array([150,  13, 178], dtype=uint8), Timestamp('2024-02-17 00:00:00'): array([169, 254, 177], dtype=uint8), Timestamp('2024-02-18 00:00:00'): array([125,  13,  29], dtype=uint8), Timestamp('2024-02-19 00:00:00'): array([168, 208,  90], dtype=uint8), Timestamp('2024-02-20 00:00:00'): array([154,  14, 221], dtype=uint8), Timestamp('2024-02-21 00:00:00'): array([160,   9,  64], dtype=uint8), Timestamp('2024-02-22 00:00:00'): array([ 92, 230,  46], dtype=uint8), Timestamp('2024-02-23 00:00:00'): array([123, 200,  36], dtype=uint8), Timestamp('2024-02-24 00:00:00'): array([167,  20, 190], dtype=uint8), Timestamp('2024-02-25 00:00:00'): array([144, 216, 231], dtype=uint8), Timestamp('2024-02-26 00:00:00'): array([130, 226, 128], dtype=uint8), Timestamp('2024-02-27 00:00:00'): array([125, 124, 185], dtype=uint8), Timestamp('2024-02-28 00:00:00'): array([117,  48, 122], dtype=uint8), Timestamp('2024-02-29 00:00:00'): array([109,   2, 142], dtype=uint8)}\n",
      "-----------------\n",
      "\n",
      "\n",
      "-----------------\n",
      "canvas_dictionary_march_2024: {Timestamp('2024-03-01 00:00:00'): array([126, 110, 210], dtype=uint8), Timestamp('2024-03-02 00:00:00'): array([155, 132, 167], dtype=uint8), Timestamp('2024-03-03 00:00:00'): array([176, 101,   1], dtype=uint8), Timestamp('2024-03-04 00:00:00'): array([152,  19, 121], dtype=uint8), Timestamp('2024-03-05 00:00:00'): array([130,  84,  16], dtype=uint8), Timestamp('2024-03-06 00:00:00'): array([129, 106, 197], dtype=uint8), Timestamp('2024-03-07 00:00:00'): array([131, 219, 149], dtype=uint8), Timestamp('2024-03-08 00:00:00'): array([133, 159, 152], dtype=uint8), Timestamp('2024-03-09 00:00:00'): array([132,   7,  20], dtype=uint8), Timestamp('2024-03-10 00:00:00'): array([150, 121, 143], dtype=uint8), Timestamp('2024-03-11 00:00:00'): array([114, 229, 154], dtype=uint8), Timestamp('2024-03-12 00:00:00'): array([109, 138,  11], dtype=uint8), Timestamp('2024-03-13 00:00:00'): array([134, 126,  43], dtype=uint8), Timestamp('2024-03-14 00:00:00'): array([157,  67,  60], dtype=uint8), Timestamp('2024-03-15 00:00:00'): array([152, 187, 172], dtype=uint8), Timestamp('2024-03-16 00:00:00'): array([128,  17,  52], dtype=uint8), Timestamp('2024-03-17 00:00:00'): array([137, 136, 153], dtype=uint8), Timestamp('2024-03-18 00:00:00'): array([148,  85, 112], dtype=uint8), Timestamp('2024-03-19 00:00:00'): array([139, 203, 223], dtype=uint8), Timestamp('2024-03-20 00:00:00'): array([139, 109, 150], dtype=uint8), Timestamp('2024-03-21 00:00:00'): array([142,   7,  37], dtype=uint8), Timestamp('2024-03-22 00:00:00'): array([172,   2,  94], dtype=uint8), Timestamp('2024-03-23 00:00:00'): array([195, 192,  31], dtype=uint8), Timestamp('2024-03-24 00:00:00'): array([147, 229, 174], dtype=uint8), Timestamp('2024-03-25 00:00:00'): array([116, 199,  22], dtype=uint8), Timestamp('2024-03-26 00:00:00'): array([142, 122, 141], dtype=uint8), Timestamp('2024-03-27 00:00:00'): array([160,  59, 119], dtype=uint8), Timestamp('2024-03-28 00:00:00'): array([144, 245, 135], dtype=uint8), Timestamp('2024-03-29 00:00:00'): array([149, 155, 181], dtype=uint8), Timestamp('2024-03-30 00:00:00'): array([137, 222, 221], dtype=uint8), Timestamp('2024-03-31 00:00:00'): array([102,  62,  40], dtype=uint8)}\n",
      "-----------------\n",
      "\n",
      "\n",
      "-----------------\n",
      "canvas_dictionary_april_2024: {Timestamp('2024-04-01 00:00:00'): array([113,  98, 223], dtype=uint8), Timestamp('2024-04-02 00:00:00'): array([124,  37, 124], dtype=uint8), Timestamp('2024-04-03 00:00:00'): array([184,  50, 118], dtype=uint8), Timestamp('2024-04-04 00:00:00'): array([135,  91, 210], dtype=uint8), Timestamp('2024-04-05 00:00:00'): array([176, 171, 137], dtype=uint8), Timestamp('2024-04-06 00:00:00'): array([136,  40, 217], dtype=uint8), Timestamp('2024-04-07 00:00:00'): array([144, 161,  67], dtype=uint8), Timestamp('2024-04-08 00:00:00'): array([132, 106,  24], dtype=uint8), Timestamp('2024-04-09 00:00:00'): array([138, 107,  78], dtype=uint8), Timestamp('2024-04-10 00:00:00'): array([122,  23,  69], dtype=uint8), Timestamp('2024-04-11 00:00:00'): array([134, 232, 171], dtype=uint8), Timestamp('2024-04-12 00:00:00'): array([133, 137, 109], dtype=uint8), Timestamp('2024-04-13 00:00:00'): array([145, 182, 199], dtype=uint8), Timestamp('2024-04-14 00:00:00'): array([141, 130,   1], dtype=uint8), Timestamp('2024-04-15 00:00:00'): array([129, 124, 169], dtype=uint8), Timestamp('2024-04-16 00:00:00'): array([130, 250,   6], dtype=uint8), Timestamp('2024-04-17 00:00:00'): array([125,  19,  76], dtype=uint8), Timestamp('2024-04-18 00:00:00'): array([135, 159, 251], dtype=uint8), Timestamp('2024-04-19 00:00:00'): array([137,  22, 240], dtype=uint8), Timestamp('2024-04-20 00:00:00'): array([121, 174, 134], dtype=uint8), Timestamp('2024-04-21 00:00:00'): array([107,  78,  79], dtype=uint8), Timestamp('2024-04-22 00:00:00'): array([139,  13, 137], dtype=uint8), Timestamp('2024-04-23 00:00:00'): array([112,  67,  51], dtype=uint8), Timestamp('2024-04-24 00:00:00'): array([124, 165, 246], dtype=uint8), Timestamp('2024-04-25 00:00:00'): array([138, 199, 244], dtype=uint8), Timestamp('2024-04-26 00:00:00'): array([157,  52, 168], dtype=uint8), Timestamp('2024-04-27 00:00:00'): array([156, 116, 194], dtype=uint8), Timestamp('2024-04-28 00:00:00'): array([117,  11,  57], dtype=uint8), Timestamp('2024-04-29 00:00:00'): array([132, 120, 171], dtype=uint8), Timestamp('2024-04-30 00:00:00'): array([115, 161, 247], dtype=uint8)}\n",
      "-----------------\n",
      "\n",
      "\n",
      "-----------------\n",
      "canvas_dictionary_may_2024: {Timestamp('2024-05-01 00:00:00'): array([140, 104,   6], dtype=uint8), Timestamp('2024-05-02 00:00:00'): array([136, 193, 213], dtype=uint8), Timestamp('2024-05-03 00:00:00'): array([143, 139, 107], dtype=uint8), Timestamp('2024-05-04 00:00:00'): array([114,  51, 124], dtype=uint8), Timestamp('2024-05-05 00:00:00'): array([105, 135, 236], dtype=uint8), Timestamp('2024-05-06 00:00:00'): array([146, 238,  31], dtype=uint8), Timestamp('2024-05-07 00:00:00'): array([137,  57, 183], dtype=uint8), Timestamp('2024-05-08 00:00:00'): array([109, 154, 254], dtype=uint8), Timestamp('2024-05-09 00:00:00'): array([174,  77, 226], dtype=uint8), Timestamp('2024-05-10 00:00:00'): array([113, 201,  92], dtype=uint8), Timestamp('2024-05-11 00:00:00'): array([ 95, 168, 225], dtype=uint8), Timestamp('2024-05-12 00:00:00'): array([90, 62, 98], dtype=uint8), Timestamp('2024-05-13 00:00:00'): array([171, 153, 116], dtype=uint8), Timestamp('2024-05-14 00:00:00'): array([163, 156, 113], dtype=uint8), Timestamp('2024-05-15 00:00:00'): array([173,   0,  15], dtype=uint8), Timestamp('2024-05-16 00:00:00'): array([178, 132, 195], dtype=uint8), Timestamp('2024-05-17 00:00:00'): array([199, 155,  13], dtype=uint8), Timestamp('2024-05-18 00:00:00'): array([ 69,  19, 149], dtype=uint8), Timestamp('2024-05-19 00:00:00'): array([ 75, 114, 137], dtype=uint8), Timestamp('2024-05-20 00:00:00'): array([162,  15,  86], dtype=uint8), Timestamp('2024-05-21 00:00:00'): array([149,  55,  98], dtype=uint8), Timestamp('2024-05-22 00:00:00'): array([110,  67, 254], dtype=uint8), Timestamp('2024-05-23 00:00:00'): array([146, 221,  33], dtype=uint8), Timestamp('2024-05-24 00:00:00'): array([145,  90, 205], dtype=uint8), Timestamp('2024-05-25 00:00:00'): array([135,  15,   7], dtype=uint8), Timestamp('2024-05-26 00:00:00'): array([132, 219,   6], dtype=uint8), Timestamp('2024-05-27 00:00:00'): array([135, 179,  97], dtype=uint8), Timestamp('2024-05-28 00:00:00'): array([120, 114, 126], dtype=uint8), Timestamp('2024-05-29 00:00:00'): array([110, 120,  46], dtype=uint8), Timestamp('2024-05-30 00:00:00'): array([142,  66,  34], dtype=uint8), Timestamp('2024-05-31 00:00:00'): array([140, 220,  55], dtype=uint8)}\n",
      "-----------------\n",
      "\n",
      "\n",
      "-----------------\n",
      "canvas_dictionary_june_2024: {Timestamp('2024-06-01 00:00:00'): array([118, 137, 179], dtype=uint8), Timestamp('2024-06-02 00:00:00'): array([101, 196,  12], dtype=uint8), Timestamp('2024-06-03 00:00:00'): array([137,  23, 133], dtype=uint8), Timestamp('2024-06-04 00:00:00'): array([151, 166, 175], dtype=uint8), Timestamp('2024-06-05 00:00:00'): array([108, 182,   6], dtype=uint8), Timestamp('2024-06-06 00:00:00'): array([167,  28,   3], dtype=uint8), Timestamp('2024-06-07 00:00:00'): array([135,  86,  25], dtype=uint8), Timestamp('2024-06-08 00:00:00'): array([124,  37,  36], dtype=uint8), Timestamp('2024-06-09 00:00:00'): array([113, 112,  38], dtype=uint8), Timestamp('2024-06-10 00:00:00'): array([136, 103, 201], dtype=uint8), Timestamp('2024-06-11 00:00:00'): array([163,  30,  78], dtype=uint8), Timestamp('2024-06-12 00:00:00'): array([133, 240, 148], dtype=uint8), Timestamp('2024-06-13 00:00:00'): array([144, 214,  84], dtype=uint8), Timestamp('2024-06-14 00:00:00'): array([160, 197,  52], dtype=uint8), Timestamp('2024-06-15 00:00:00'): array([132, 193,  98], dtype=uint8), Timestamp('2024-06-16 00:00:00'): array([160,  15,  27], dtype=uint8), Timestamp('2024-06-17 00:00:00'): array([158, 173,  19], dtype=uint8), Timestamp('2024-06-18 00:00:00'): array([133, 250, 222], dtype=uint8), Timestamp('2024-06-19 00:00:00'): array([150, 209,   3], dtype=uint8), Timestamp('2024-06-20 00:00:00'): array([154, 140, 150], dtype=uint8), Timestamp('2024-06-21 00:00:00'): array([136, 213, 253], dtype=uint8), Timestamp('2024-06-22 00:00:00'): array([117, 121,  75], dtype=uint8), Timestamp('2024-06-23 00:00:00'): array([124,  40,   0], dtype=uint8), Timestamp('2024-06-24 00:00:00'): array([147, 212,  74], dtype=uint8), Timestamp('2024-06-25 00:00:00'): array([128, 169, 138], dtype=uint8), Timestamp('2024-06-26 00:00:00'): array([120, 158, 218], dtype=uint8), Timestamp('2024-06-27 00:00:00'): array([128, 145,   2], dtype=uint8), Timestamp('2024-06-28 00:00:00'): array([110,  77, 230], dtype=uint8), Timestamp('2024-06-29 00:00:00'): array([131,  22, 247], dtype=uint8), Timestamp('2024-06-30 00:00:00'): array([184, 222, 176], dtype=uint8)}\n",
      "-----------------\n",
      "\n",
      "\n",
      "-----------------\n",
      "canvas_dictionary_july_2024: {Timestamp('2024-07-01 00:00:00'): array([124, 159,  46], dtype=uint8), Timestamp('2024-07-02 00:00:00'): array([139,   7,  18], dtype=uint8), Timestamp('2024-07-03 00:00:00'): array([146, 179,  53], dtype=uint8), Timestamp('2024-07-04 00:00:00'): array([148,  80, 144], dtype=uint8), Timestamp('2024-07-05 00:00:00'): array([164, 248, 198], dtype=uint8), Timestamp('2024-07-06 00:00:00'): array([152, 233,  51], dtype=uint8), Timestamp('2024-07-07 00:00:00'): array([159, 251, 204], dtype=uint8), Timestamp('2024-07-08 00:00:00'): array([145,  71,  99], dtype=uint8), Timestamp('2024-07-09 00:00:00'): array([141,  29, 201], dtype=uint8), Timestamp('2024-07-10 00:00:00'): array([152, 238, 160], dtype=uint8), Timestamp('2024-07-11 00:00:00'): array([144, 240,  51], dtype=uint8), Timestamp('2024-07-12 00:00:00'): array([153, 187,  36], dtype=uint8), Timestamp('2024-07-13 00:00:00'): array([132, 126, 221], dtype=uint8), Timestamp('2024-07-14 00:00:00'): array([131, 230,  79], dtype=uint8), Timestamp('2024-07-15 00:00:00'): array([134, 174, 101], dtype=uint8), Timestamp('2024-07-16 00:00:00'): array([128,  74,  91], dtype=uint8), Timestamp('2024-07-17 00:00:00'): array([135,  89,  46], dtype=uint8), Timestamp('2024-07-18 00:00:00'): array([140, 101,   1], dtype=uint8), Timestamp('2024-07-19 00:00:00'): array([125,  40,  45], dtype=uint8), Timestamp('2024-07-20 00:00:00'): array([139,  33,  36], dtype=uint8), Timestamp('2024-07-21 00:00:00'): array([132,  85,   2], dtype=uint8), Timestamp('2024-07-22 00:00:00'): array([147, 209, 166], dtype=uint8), Timestamp('2024-07-23 00:00:00'): array([127, 147,  85], dtype=uint8), Timestamp('2024-07-24 00:00:00'): array([174, 233,  67], dtype=uint8), Timestamp('2024-07-25 00:00:00'): array([227,  15, 220], dtype=uint8), Timestamp('2024-07-26 00:00:00'): array([109, 252, 198], dtype=uint8), Timestamp('2024-07-27 00:00:00'): array([141,  89, 196], dtype=uint8), Timestamp('2024-07-28 00:00:00'): array([132, 117,  25], dtype=uint8), Timestamp('2024-07-29 00:00:00'): array([ 89, 250, 197], dtype=uint8), Timestamp('2024-07-30 00:00:00'): array([ 58,  57, 248], dtype=uint8), Timestamp('2024-07-31 00:00:00'): array([ 65,  75, 231], dtype=uint8)}\n",
      "-----------------\n",
      "\n",
      "\n",
      "-----------------\n",
      "canvas_dictionary_august_2024: {Timestamp('2024-08-01 00:00:00'): array([163, 148,   7], dtype=uint8), Timestamp('2024-08-02 00:00:00'): array([115, 176,  98], dtype=uint8), Timestamp('2024-08-03 00:00:00'): array([119,  51,  58], dtype=uint8), Timestamp('2024-08-04 00:00:00'): array([110,  14, 246], dtype=uint8), Timestamp('2024-08-05 00:00:00'): array([ 82, 234, 155], dtype=uint8), Timestamp('2024-08-06 00:00:00'): array([ 98,  86, 186], dtype=uint8), Timestamp('2024-08-07 00:00:00'): array([148, 213,  87], dtype=uint8), Timestamp('2024-08-08 00:00:00'): array([144, 251, 112], dtype=uint8), Timestamp('2024-08-09 00:00:00'): array([125, 246, 246], dtype=uint8), Timestamp('2024-08-10 00:00:00'): array([162, 189, 251], dtype=uint8), Timestamp('2024-08-11 00:00:00'): array([152, 164, 119], dtype=uint8), Timestamp('2024-08-12 00:00:00'): array([150, 216, 151], dtype=uint8), Timestamp('2024-08-13 00:00:00'): array([138,   0, 252], dtype=uint8), Timestamp('2024-08-14 00:00:00'): array([136, 169, 154], dtype=uint8), Timestamp('2024-08-15 00:00:00'): array([129,   4, 164], dtype=uint8), Timestamp('2024-08-16 00:00:00'): array([130, 131,  78], dtype=uint8), Timestamp('2024-08-17 00:00:00'): array([127,  36,  60], dtype=uint8), Timestamp('2024-08-18 00:00:00'): array([154, 221,  90], dtype=uint8), Timestamp('2024-08-19 00:00:00'): array([ 94, 255,  43], dtype=uint8), Timestamp('2024-08-20 00:00:00'): array([165, 239, 225], dtype=uint8), Timestamp('2024-08-21 00:00:00'): array([155,  13, 236], dtype=uint8), Timestamp('2024-08-22 00:00:00'): array([141, 179,  82], dtype=uint8), Timestamp('2024-08-23 00:00:00'): array([141, 156, 203], dtype=uint8), Timestamp('2024-08-24 00:00:00'): array([147, 119, 221], dtype=uint8), Timestamp('2024-08-25 00:00:00'): array([119, 142,  84], dtype=uint8), Timestamp('2024-08-26 00:00:00'): array([130,  83, 132], dtype=uint8), Timestamp('2024-08-27 00:00:00'): array([136,  38, 171], dtype=uint8), Timestamp('2024-08-28 00:00:00'): array([136,  60, 187], dtype=uint8), Timestamp('2024-08-29 00:00:00'): array([131, 162, 169], dtype=uint8), Timestamp('2024-08-30 00:00:00'): array([135, 247, 163], dtype=uint8), Timestamp('2024-08-31 00:00:00'): array([116,  93,  42], dtype=uint8)}\n",
      "-----------------\n",
      "\n",
      "\n",
      "-----------------\n",
      "canvas_dictionary_september_2024: {Timestamp('2024-09-01 00:00:00'): array([105, 133, 109], dtype=uint8), Timestamp('2024-09-02 00:00:00'): array([120,  86, 249], dtype=uint8), Timestamp('2024-09-03 00:00:00'): array([ 85, 166, 138], dtype=uint8), Timestamp('2024-09-04 00:00:00'): array([ 92, 154, 134], dtype=uint8), Timestamp('2024-09-05 00:00:00'): array([148,  20, 209], dtype=uint8), Timestamp('2024-09-06 00:00:00'): array([145, 217, 128], dtype=uint8), Timestamp('2024-09-07 00:00:00'): array([145,  27, 119], dtype=uint8), Timestamp('2024-09-08 00:00:00'): array([135, 128,   3], dtype=uint8), Timestamp('2024-09-09 00:00:00'): array([128, 139,   4], dtype=uint8), Timestamp('2024-09-10 00:00:00'): array([138, 243, 126], dtype=uint8), Timestamp('2024-09-11 00:00:00'): array([141,  43, 230], dtype=uint8), Timestamp('2024-09-12 00:00:00'): array([133, 180, 110], dtype=uint8), Timestamp('2024-09-13 00:00:00'): array([114, 143, 113], dtype=uint8), Timestamp('2024-09-14 00:00:00'): array([ 88, 159, 142], dtype=uint8), Timestamp('2024-09-15 00:00:00'): array([105,  58, 168], dtype=uint8), Timestamp('2024-09-16 00:00:00'): array([125, 160,  91], dtype=uint8), Timestamp('2024-09-17 00:00:00'): array([126, 245,  29], dtype=uint8), Timestamp('2024-09-18 00:00:00'): array([152,  37, 181], dtype=uint8), Timestamp('2024-09-19 00:00:00'): array([128, 127, 216], dtype=uint8), Timestamp('2024-09-20 00:00:00'): array([141,  93,  97], dtype=uint8), Timestamp('2024-09-21 00:00:00'): array([122,  89, 224], dtype=uint8), Timestamp('2024-09-22 00:00:00'): array([117,  71,  83], dtype=uint8), Timestamp('2024-09-23 00:00:00'): array([137, 242,  15], dtype=uint8), Timestamp('2024-09-24 00:00:00'): array([133, 116, 179], dtype=uint8), Timestamp('2024-09-25 00:00:00'): array([137, 168,  99], dtype=uint8), Timestamp('2024-09-26 00:00:00'): array([139,   7, 176], dtype=uint8), Timestamp('2024-09-27 00:00:00'): array([138, 168, 160], dtype=uint8), Timestamp('2024-09-28 00:00:00'): array([134, 189, 131], dtype=uint8), Timestamp('2024-09-29 00:00:00'): array([122,  39, 122], dtype=uint8), Timestamp('2024-09-30 00:00:00'): array([165, 185, 238], dtype=uint8)}\n",
      "-----------------\n",
      "\n",
      "\n",
      "-----------------\n",
      "canvas_dictionary_october_2024: {Timestamp('2024-10-01 00:00:00'): array([162,  36,  12], dtype=uint8), Timestamp('2024-10-02 00:00:00'): array([105,  16, 181], dtype=uint8), Timestamp('2024-10-03 00:00:00'): array([ 82,  14, 169], dtype=uint8), Timestamp('2024-10-04 00:00:00'): array([130, 231, 232], dtype=uint8), Timestamp('2024-10-05 00:00:00'): array([134, 216, 203], dtype=uint8), Timestamp('2024-10-06 00:00:00'): array([123, 215, 171], dtype=uint8), Timestamp('2024-10-07 00:00:00'): array([151, 137,  79], dtype=uint8), Timestamp('2024-10-08 00:00:00'): array([154,  51, 125], dtype=uint8), Timestamp('2024-10-09 00:00:00'): array([ 95, 176, 243], dtype=uint8), Timestamp('2024-10-10 00:00:00'): array([156,  69,  81], dtype=uint8), Timestamp('2024-10-11 00:00:00'): array([73, 12,  3], dtype=uint8), Timestamp('2024-10-12 00:00:00'): array([109,  99, 234], dtype=uint8), Timestamp('2024-10-13 00:00:00'): array([106,  29,  40], dtype=uint8), Timestamp('2024-10-14 00:00:00'): array([133, 119,  34], dtype=uint8), Timestamp('2024-10-15 00:00:00'): array([135, 215, 192], dtype=uint8), Timestamp('2024-10-16 00:00:00'): array([142,  21,  67], dtype=uint8), Timestamp('2024-10-17 00:00:00'): array([109, 246,   0], dtype=uint8), Timestamp('2024-10-18 00:00:00'): array([137,  33, 131], dtype=uint8), Timestamp('2024-10-19 00:00:00'): array([138,  25, 239], dtype=uint8), Timestamp('2024-10-20 00:00:00'): array([142,   1,   7], dtype=uint8), Timestamp('2024-10-21 00:00:00'): array([145, 170, 200], dtype=uint8), Timestamp('2024-10-22 00:00:00'): array([100,   5,  53], dtype=uint8), Timestamp('2024-10-23 00:00:00'): array([125,   9,  76], dtype=uint8), Timestamp('2024-10-24 00:00:00'): array([ 95, 227, 142], dtype=uint8), Timestamp('2024-10-25 00:00:00'): array([145, 223, 131], dtype=uint8), Timestamp('2024-10-26 00:00:00'): array([128, 101,  19], dtype=uint8), Timestamp('2024-10-27 00:00:00'): array([133,   9, 190], dtype=uint8), Timestamp('2024-10-28 00:00:00'): array([127,   9,  82], dtype=uint8), Timestamp('2024-10-29 00:00:00'): array([148,  71, 233], dtype=uint8), Timestamp('2024-10-30 00:00:00'): array([113, 135, 111], dtype=uint8), Timestamp('2024-10-31 00:00:00'): array([120, 196, 241], dtype=uint8)}\n",
      "-----------------\n",
      "\n",
      "\n",
      "-----------------\n",
      "canvas_dictionary_november_2024: {Timestamp('2024-11-01 00:00:00'): array([137, 153, 151], dtype=uint8), Timestamp('2024-11-02 00:00:00'): array([158,  20, 238], dtype=uint8), Timestamp('2024-11-03 00:00:00'): array([160, 201,  94], dtype=uint8), Timestamp('2024-11-04 00:00:00'): array([126, 224, 157], dtype=uint8), Timestamp('2024-11-05 00:00:00'): array([150,  38, 188], dtype=uint8), Timestamp('2024-11-06 00:00:00'): array([156,  45,  63], dtype=uint8), Timestamp('2024-11-07 00:00:00'): array([131, 217, 106], dtype=uint8), Timestamp('2024-11-08 00:00:00'): array([148,   0, 131], dtype=uint8), Timestamp('2024-11-09 00:00:00'): array([110,   1, 220], dtype=uint8), Timestamp('2024-11-10 00:00:00'): array([ 79, 181, 178], dtype=uint8), Timestamp('2024-11-11 00:00:00'): array([216, 120, 121], dtype=uint8), Timestamp('2024-11-12 00:00:00'): array([152, 141, 101], dtype=uint8), Timestamp('2024-11-13 00:00:00'): array([122, 148, 105], dtype=uint8), Timestamp('2024-11-14 00:00:00'): array([101, 166, 204], dtype=uint8), Timestamp('2024-11-15 00:00:00'): array([142,  10, 239], dtype=uint8), Timestamp('2024-11-16 00:00:00'): array([112, 152, 124], dtype=uint8), Timestamp('2024-11-17 00:00:00'): array([117,  35, 138], dtype=uint8), Timestamp('2024-11-18 00:00:00'): array([154, 121,  44], dtype=uint8), Timestamp('2024-11-19 00:00:00'): array([126,   3, 169], dtype=uint8), Timestamp('2024-11-20 00:00:00'): array([162,  50,  77], dtype=uint8), Timestamp('2024-11-21 00:00:00'): array([104, 237, 247], dtype=uint8), Timestamp('2024-11-22 00:00:00'): array([132, 150,   2], dtype=uint8), Timestamp('2024-11-23 00:00:00'): array([143,  13,  17], dtype=uint8), Timestamp('2024-11-24 00:00:00'): array([175,  86, 247], dtype=uint8), Timestamp('2024-11-25 00:00:00'): array([124,  38, 108], dtype=uint8), Timestamp('2024-11-26 00:00:00'): array([123,  63, 102], dtype=uint8), Timestamp('2024-11-27 00:00:00'): array([157, 121, 244], dtype=uint8), Timestamp('2024-11-28 00:00:00'): array([156, 248,  99], dtype=uint8), Timestamp('2024-11-29 00:00:00'): array([147, 245, 242], dtype=uint8), Timestamp('2024-11-30 00:00:00'): array([151, 165, 125], dtype=uint8)}\n",
      "-----------------\n",
      "\n",
      "\n",
      "-----------------\n",
      "canvas_dictionary_december_2024: {Timestamp('2024-12-01 00:00:00'): array([153,  76,  69], dtype=uint8), Timestamp('2024-12-02 00:00:00'): array([106, 114, 241], dtype=uint8), Timestamp('2024-12-03 00:00:00'): array([141, 114, 134], dtype=uint8), Timestamp('2024-12-04 00:00:00'): array([146,  69,  72], dtype=uint8), Timestamp('2024-12-05 00:00:00'): array([142,  22, 234], dtype=uint8), Timestamp('2024-12-06 00:00:00'): array([123, 149, 179], dtype=uint8), Timestamp('2024-12-07 00:00:00'): array([149, 125, 136], dtype=uint8), Timestamp('2024-12-08 00:00:00'): array([159,  78, 242], dtype=uint8), Timestamp('2024-12-09 00:00:00'): array([131,  92,  42], dtype=uint8), Timestamp('2024-12-10 00:00:00'): array([136, 189, 238], dtype=uint8), Timestamp('2024-12-11 00:00:00'): array([148, 130, 153], dtype=uint8), Timestamp('2024-12-12 00:00:00'): array([136, 223, 118], dtype=uint8), Timestamp('2024-12-13 00:00:00'): array([120,  46, 133], dtype=uint8), Timestamp('2024-12-14 00:00:00'): array([143,  16, 141], dtype=uint8), Timestamp('2024-12-15 00:00:00'): array([139,  91,  91], dtype=uint8), Timestamp('2024-12-16 00:00:00'): array([148, 170,  46], dtype=uint8), Timestamp('2024-12-17 00:00:00'): array([138,  45,  92], dtype=uint8), Timestamp('2024-12-18 00:00:00'): array([139,  39,  97], dtype=uint8), Timestamp('2024-12-19 00:00:00'): array([129,   4, 244], dtype=uint8), Timestamp('2024-12-20 00:00:00'): array([128, 199, 243], dtype=uint8), Timestamp('2024-12-21 00:00:00'): array([151,  44, 195], dtype=uint8), Timestamp('2024-12-22 00:00:00'): array([156,  33, 162], dtype=uint8), Timestamp('2024-12-23 00:00:00'): array([161, 200, 135], dtype=uint8), Timestamp('2024-12-24 00:00:00'): array([ 99,  48, 220], dtype=uint8), Timestamp('2024-12-25 00:00:00'): array([156,  73,  22], dtype=uint8), Timestamp('2024-12-26 00:00:00'): array([106,  61, 180], dtype=uint8), Timestamp('2024-12-27 00:00:00'): array([182,  46, 167], dtype=uint8), Timestamp('2024-12-28 00:00:00'): array([130, 214, 237], dtype=uint8), Timestamp('2024-12-29 00:00:00'): array([165, 210,  98], dtype=uint8), Timestamp('2024-12-30 00:00:00'): array([147,  12,  51], dtype=uint8)}\n",
      "-----------------\n",
      "\n"
     ]
    }
   ],
   "source": [
    "import datetime\n",
    "\n",
    "# Create dictionaries for each month\n",
    "canvas_dictionaries_by_month = {}\n",
    "start_year = list(canvas_dictionary.keys())[0].year\n",
    "end_year = list(canvas_dictionary.keys())[-1].year\n",
    "for year in range(start_year, end_year + 1):\n",
    "    for month in range(1, 13):\n",
    "        # Filter canvas_dictionary by month and year\n",
    "        filtered_dictionary = {key: value for key, value in canvas_dictionary.items() if key.month == month and key.year == year}\n",
    "        # Add filtered dictionary to canvas_dictionaries_by_month\n",
    "        month_name = datetime.date(1900, month, 1).strftime('%B')\n",
    "        canvas_dictionaries_by_month[f'canvas_dictionary_{month_name.lower()}_{year}'] = filtered_dictionary\n",
    "\n",
    "# Print the canvas dictionaries for each month and year\n",
    "for month, dictionary in canvas_dictionaries_by_month.items():\n",
    "    print(\"\\n-----------------\")\n",
    "    print(f'{month}: {dictionary}')\n",
    "    print(\"-----------------\\n\")\n"
   ]
  },
  {
   "cell_type": "code",
   "execution_count": 203,
   "metadata": {},
   "outputs": [
    {
     "name": "stdout",
     "output_type": "stream",
     "text": [
      "-----canvas_dictionary_january_2023-----\n"
     ]
    },
    {
     "data": {
      "image/png": "[encoded data removed]",
      "text/plain": [
       "<Figure size 640x480 with 1 Axes>"
      ]
     },
     "metadata": {},
     "output_type": "display_data"
    },
    {
     "name": "stdout",
     "output_type": "stream",
     "text": [
      "-----canvas_dictionary_february_2023-----\n"
     ]
    },
    {
     "data": {
      "image/png": "[encoded data removed]",
      "text/plain": [
       "<Figure size 640x480 with 1 Axes>"
      ]
     },
     "metadata": {},
     "output_type": "display_data"
    },
    {
     "name": "stdout",
     "output_type": "stream",
     "text": [
      "-----canvas_dictionary_march_2023-----\n"
     ]
    },
    {
     "data": {
      "image/png": "[encoded data removed]",
      "text/plain": [
       "<Figure size 640x480 with 1 Axes>"
      ]
     },
     "metadata": {},
     "output_type": "display_data"
    },
    {
     "name": "stdout",
     "output_type": "stream",
     "text": [
      "-----canvas_dictionary_april_2023-----\n"
     ]
    },
    {
     "data": {
      "image/png": "[encoded data removed]",
      "text/plain": [
       "<Figure size 640x480 with 1 Axes>"
      ]
     },
     "metadata": {},
     "output_type": "display_data"
    },
    {
     "name": "stdout",
     "output_type": "stream",
     "text": [
      "-----canvas_dictionary_may_2023-----\n"
     ]
    },
    {
     "data": {
      "image/png": "[encoded data removed]",
      "text/plain": [
       "<Figure size 640x480 with 1 Axes>"
      ]
     },
     "metadata": {},
     "output_type": "display_data"
    },
    {
     "name": "stdout",
     "output_type": "stream",
     "text": [
      "-----canvas_dictionary_june_2023-----\n"
     ]
    },
    {
     "data": {
      "image/png": "[encoded data removed]",
      "text/plain": [
       "<Figure size 640x480 with 1 Axes>"
      ]
     },
     "metadata": {},
     "output_type": "display_data"
    },
    {
     "name": "stdout",
     "output_type": "stream",
     "text": [
      "-----canvas_dictionary_july_2023-----\n"
     ]
    },
    {
     "data": {
      "image/png": "[encoded data removed]",
      "text/plain": [
       "<Figure size 640x480 with 1 Axes>"
      ]
     },
     "metadata": {},
     "output_type": "display_data"
    },
    {
     "name": "stdout",
     "output_type": "stream",
     "text": [
      "-----canvas_dictionary_august_2023-----\n"
     ]
    },
    {
     "data": {
      "image/png": "[encoded data removed]",
      "text/plain": [
       "<Figure size 640x480 with 1 Axes>"
      ]
     },
     "metadata": {},
     "output_type": "display_data"
    },
    {
     "name": "stdout",
     "output_type": "stream",
     "text": [
      "-----canvas_dictionary_september_2023-----\n"
     ]
    },
    {
     "data": {
      "image/png": "[encoded data removed]",
      "text/plain": [
       "<Figure size 640x480 with 1 Axes>"
      ]
     },
     "metadata": {},
     "output_type": "display_data"
    },
    {
     "name": "stdout",
     "output_type": "stream",
     "text": [
      "-----canvas_dictionary_october_2023-----\n"
     ]
    },
    {
     "data": {
      "image/png": "[encoded data removed]",
      "text/plain": [
       "<Figure size 640x480 with 1 Axes>"
      ]
     },
     "metadata": {},
     "output_type": "display_data"
    },
    {
     "name": "stdout",
     "output_type": "stream",
     "text": [
      "-----canvas_dictionary_november_2023-----\n"
     ]
    },
    {
     "data": {
      "image/png": "[encoded data removed]",
      "text/plain": [
       "<Figure size 640x480 with 1 Axes>"
      ]
     },
     "metadata": {},
     "output_type": "display_data"
    },
    {
     "name": "stdout",
     "output_type": "stream",
     "text": [
      "-----canvas_dictionary_december_2023-----\n"
     ]
    },
    {
     "data": {
      "image/png": "[encoded data removed]",
      "text/plain": [
       "<Figure size 640x480 with 1 Axes>"
      ]
     },
     "metadata": {},
     "output_type": "display_data"
    },
    {
     "name": "stdout",
     "output_type": "stream",
     "text": [
      "-----canvas_dictionary_january_2024-----\n"
     ]
    },
    {
     "data": {
      "image/png": "[encoded data removed]",
      "text/plain": [
       "<Figure size 640x480 with 1 Axes>"
      ]
     },
     "metadata": {},
     "output_type": "display_data"
    },
    {
     "name": "stdout",
     "output_type": "stream",
     "text": [
      "-----canvas_dictionary_february_2024-----\n"
     ]
    },
    {
     "data": {
      "image/png": "[encoded data removed]",
      "text/plain": [
       "<Figure size 640x480 with 1 Axes>"
      ]
     },
     "metadata": {},
     "output_type": "display_data"
    },
    {
     "name": "stdout",
     "output_type": "stream",
     "text": [
      "-----canvas_dictionary_march_2024-----\n"
     ]
    },
    {
     "data": {
      "image/png": "[encoded data removed]",
      "text/plain": [
       "<Figure size 640x480 with 1 Axes>"
      ]
     },
     "metadata": {},
     "output_type": "display_data"
    },
    {
     "name": "stdout",
     "output_type": "stream",
     "text": [
      "-----canvas_dictionary_april_2024-----\n"
     ]
    },
    {
     "data": {
      "image/png": "[encoded data removed]",
      "text/plain": [
       "<Figure size 640x480 with 1 Axes>"
      ]
     },
     "metadata": {},
     "output_type": "display_data"
    },
    {
     "name": "stdout",
     "output_type": "stream",
     "text": [
      "-----canvas_dictionary_may_2024-----\n"
     ]
    },
    {
     "data": {
      "image/png": "[encoded data removed]",
      "text/plain": [
       "<Figure size 640x480 with 1 Axes>"
      ]
     },
     "metadata": {},
     "output_type": "display_data"
    },
    {
     "name": "stdout",
     "output_type": "stream",
     "text": [
      "-----canvas_dictionary_june_2024-----\n"
     ]
    },
    {
     "data": {
      "image/png": "[encoded data removed]",
      "text/plain": [
       "<Figure size 640x480 with 1 Axes>"
      ]
     },
     "metadata": {},
     "output_type": "display_data"
    },
    {
     "name": "stdout",
     "output_type": "stream",
     "text": [
      "-----canvas_dictionary_july_2024-----\n"
     ]
    },
    {
     "data": {
      "image/png": "[encoded data removed]",
      "text/plain": [
       "<Figure size 640x480 with 1 Axes>"
      ]
     },
     "metadata": {},
     "output_type": "display_data"
    },
    {
     "name": "stdout",
     "output_type": "stream",
     "text": [
      "-----canvas_dictionary_august_2024-----\n"
     ]
    },
    {
     "data": {
      "image/png": "[encoded data removed]",
      "text/plain": [
       "<Figure size 640x480 with 1 Axes>"
      ]
     },
     "metadata": {},
     "output_type": "display_data"
    },
    {
     "name": "stdout",
     "output_type": "stream",
     "text": [
      "-----canvas_dictionary_september_2024-----\n"
     ]
    },
    {
     "data": {
      "image/png": "[encoded data removed]",
      "text/plain": [
       "<Figure size 640x480 with 1 Axes>"
      ]
     },
     "metadata": {},
     "output_type": "display_data"
    },
    {
     "name": "stdout",
     "output_type": "stream",
     "text": [
      "-----canvas_dictionary_october_2024-----\n"
     ]
    },
    {
     "data": {
      "image/png": "[encoded data removed]",
      "text/plain": [
       "<Figure size 640x480 with 1 Axes>"
      ]
     },
     "metadata": {},
     "output_type": "display_data"
    },
    {
     "name": "stdout",
     "output_type": "stream",
     "text": [
      "-----canvas_dictionary_november_2024-----\n"
     ]
    },
    {
     "data": {
      "image/png": "[encoded data removed]",
      "text/plain": [
       "<Figure size 640x480 with 1 Axes>"
      ]
     },
     "metadata": {},
     "output_type": "display_data"
    },
    {
     "name": "stdout",
     "output_type": "stream",
     "text": [
      "-----canvas_dictionary_december_2024-----\n"
     ]
    },
    {
     "data": {
      "image/png": "[encoded data removed]",
      "text/plain": [
       "<Figure size 640x480 with 1 Axes>"
      ]
     },
     "metadata": {},
     "output_type": "display_data"
    }
   ],
   "source": [
    "import os\n",
    "# Specify the directory to store the images\n",
    "directory = 'cnn_monthly_images/'\n",
    "\n",
    "# Create the directory if it doesn't exist\n",
    "if not os.path.exists(directory):\n",
    "    os.makedirs(directory)\n",
    "elif os.path.exists(directory):\n",
    "    # Get a list of all files in the directory\n",
    "    file_list = os.listdir(directory)\n",
    "    if len(file_list) > 0:\n",
    "        # Delete each file in the directory\n",
    "        for file_name in file_list:\n",
    "            file_path = os.path.join(directory, file_name)\n",
    "            if file_path.endswith('.png'):\n",
    "                os.remove(file_path)\n",
    "\n",
    "\n",
    "\n",
    "for month, dictionary in canvas_dictionaries_by_month.items():\n",
    "    canvas_dictionary_month = {key: value for key, value in dictionary.items()}\n",
    "    print(f\"-----{month}-----\")\n",
    "    plt.imshow(canvas_dictionary_month.values())\n",
    "    plt.axis('off')\n",
    "    plt.savefig(f'{directory}{month}.png')\n",
    "    plt.show()"
   ]
  },
  {
   "cell_type": "code",
   "execution_count": 207,
   "metadata": {},
   "outputs": [],
   "source": [
    "import os\n",
    "import numpy as np\n",
    "import torch\n",
    "from torch.utils.data import Dataset, DataLoader\n",
    "from torchvision import transforms\n",
    "from PIL import Image\n",
    "import torch.nn as nn\n",
    "import torch.optim as optim"
   ]
  },
  {
   "cell_type": "code",
   "execution_count": 208,
   "metadata": {},
   "outputs": [
    {
     "ename": "RuntimeError",
     "evalue": "The size of tensor a (4) must match the size of tensor b (3) at non-singleton dimension 0",
     "output_type": "error",
     "traceback": [
      "\u001b[1;31m---------------------------------------------------------------------------\u001b[0m",
      "\u001b[1;31mRuntimeError\u001b[0m                              Traceback (most recent call last)",
      "Cell \u001b[1;32mIn[208], line 65\u001b[0m\n\u001b[0;32m     63\u001b[0m num_epochs \u001b[38;5;241m=\u001b[39m \u001b[38;5;241m10\u001b[39m\n\u001b[0;32m     64\u001b[0m \u001b[38;5;28;01mfor\u001b[39;00m epoch \u001b[38;5;129;01min\u001b[39;00m \u001b[38;5;28mrange\u001b[39m(num_epochs):\n\u001b[1;32m---> 65\u001b[0m \u001b[43m    \u001b[49m\u001b[38;5;28;43;01mfor\u001b[39;49;00m\u001b[43m \u001b[49m\u001b[43mimages\u001b[49m\u001b[43m \u001b[49m\u001b[38;5;129;43;01min\u001b[39;49;00m\u001b[43m \u001b[49m\u001b[43mdataloader\u001b[49m\u001b[43m:\u001b[49m\n\u001b[0;32m     66\u001b[0m \u001b[43m        \u001b[49m\u001b[43moptimizer\u001b[49m\u001b[38;5;241;43m.\u001b[39;49m\u001b[43mzero_grad\u001b[49m\u001b[43m(\u001b[49m\u001b[43m)\u001b[49m\n\u001b[0;32m     67\u001b[0m \u001b[43m        \u001b[49m\u001b[43mreconstructions\u001b[49m\u001b[43m \u001b[49m\u001b[38;5;241;43m=\u001b[39;49m\u001b[43m \u001b[49m\u001b[43mautoencoder\u001b[49m\u001b[43m(\u001b[49m\u001b[43mimages\u001b[49m\u001b[43m)\u001b[49m\n",
      "File \u001b[1;32m~\\AppData\\Local\\Packages\\PythonSoftwareFoundation.Python.3.11_qbz5n2kfra8p0\\LocalCache\\local-packages\\Python311\\site-packages\\torch\\utils\\data\\dataloader.py:631\u001b[0m, in \u001b[0;36m_BaseDataLoaderIter.__next__\u001b[1;34m(self)\u001b[0m\n\u001b[0;32m    628\u001b[0m \u001b[38;5;28;01mif\u001b[39;00m \u001b[38;5;28mself\u001b[39m\u001b[38;5;241m.\u001b[39m_sampler_iter \u001b[38;5;129;01mis\u001b[39;00m \u001b[38;5;28;01mNone\u001b[39;00m:\n\u001b[0;32m    629\u001b[0m     \u001b[38;5;66;03m# TODO(https://github.com/pytorch/pytorch/issues/76750)\u001b[39;00m\n\u001b[0;32m    630\u001b[0m     \u001b[38;5;28mself\u001b[39m\u001b[38;5;241m.\u001b[39m_reset()  \u001b[38;5;66;03m# type: ignore[call-arg]\u001b[39;00m\n\u001b[1;32m--> 631\u001b[0m data \u001b[38;5;241m=\u001b[39m \u001b[38;5;28;43mself\u001b[39;49m\u001b[38;5;241;43m.\u001b[39;49m\u001b[43m_next_data\u001b[49m\u001b[43m(\u001b[49m\u001b[43m)\u001b[49m\n\u001b[0;32m    632\u001b[0m \u001b[38;5;28mself\u001b[39m\u001b[38;5;241m.\u001b[39m_num_yielded \u001b[38;5;241m+\u001b[39m\u001b[38;5;241m=\u001b[39m \u001b[38;5;241m1\u001b[39m\n\u001b[0;32m    633\u001b[0m \u001b[38;5;28;01mif\u001b[39;00m \u001b[38;5;28mself\u001b[39m\u001b[38;5;241m.\u001b[39m_dataset_kind \u001b[38;5;241m==\u001b[39m _DatasetKind\u001b[38;5;241m.\u001b[39mIterable \u001b[38;5;129;01mand\u001b[39;00m \\\n\u001b[0;32m    634\u001b[0m         \u001b[38;5;28mself\u001b[39m\u001b[38;5;241m.\u001b[39m_IterableDataset_len_called \u001b[38;5;129;01mis\u001b[39;00m \u001b[38;5;129;01mnot\u001b[39;00m \u001b[38;5;28;01mNone\u001b[39;00m \u001b[38;5;129;01mand\u001b[39;00m \\\n\u001b[0;32m    635\u001b[0m         \u001b[38;5;28mself\u001b[39m\u001b[38;5;241m.\u001b[39m_num_yielded \u001b[38;5;241m>\u001b[39m \u001b[38;5;28mself\u001b[39m\u001b[38;5;241m.\u001b[39m_IterableDataset_len_called:\n",
      "File \u001b[1;32m~\\AppData\\Local\\Packages\\PythonSoftwareFoundation.Python.3.11_qbz5n2kfra8p0\\LocalCache\\local-packages\\Python311\\site-packages\\torch\\utils\\data\\dataloader.py:675\u001b[0m, in \u001b[0;36m_SingleProcessDataLoaderIter._next_data\u001b[1;34m(self)\u001b[0m\n\u001b[0;32m    673\u001b[0m \u001b[38;5;28;01mdef\u001b[39;00m \u001b[38;5;21m_next_data\u001b[39m(\u001b[38;5;28mself\u001b[39m):\n\u001b[0;32m    674\u001b[0m     index \u001b[38;5;241m=\u001b[39m \u001b[38;5;28mself\u001b[39m\u001b[38;5;241m.\u001b[39m_next_index()  \u001b[38;5;66;03m# may raise StopIteration\u001b[39;00m\n\u001b[1;32m--> 675\u001b[0m     data \u001b[38;5;241m=\u001b[39m \u001b[38;5;28;43mself\u001b[39;49m\u001b[38;5;241;43m.\u001b[39;49m\u001b[43m_dataset_fetcher\u001b[49m\u001b[38;5;241;43m.\u001b[39;49m\u001b[43mfetch\u001b[49m\u001b[43m(\u001b[49m\u001b[43mindex\u001b[49m\u001b[43m)\u001b[49m  \u001b[38;5;66;03m# may raise StopIteration\u001b[39;00m\n\u001b[0;32m    676\u001b[0m     \u001b[38;5;28;01mif\u001b[39;00m \u001b[38;5;28mself\u001b[39m\u001b[38;5;241m.\u001b[39m_pin_memory:\n\u001b[0;32m    677\u001b[0m         data \u001b[38;5;241m=\u001b[39m _utils\u001b[38;5;241m.\u001b[39mpin_memory\u001b[38;5;241m.\u001b[39mpin_memory(data, \u001b[38;5;28mself\u001b[39m\u001b[38;5;241m.\u001b[39m_pin_memory_device)\n",
      "File \u001b[1;32m~\\AppData\\Local\\Packages\\PythonSoftwareFoundation.Python.3.11_qbz5n2kfra8p0\\LocalCache\\local-packages\\Python311\\site-packages\\torch\\utils\\data\\_utils\\fetch.py:51\u001b[0m, in \u001b[0;36m_MapDatasetFetcher.fetch\u001b[1;34m(self, possibly_batched_index)\u001b[0m\n\u001b[0;32m     49\u001b[0m         data \u001b[38;5;241m=\u001b[39m \u001b[38;5;28mself\u001b[39m\u001b[38;5;241m.\u001b[39mdataset\u001b[38;5;241m.\u001b[39m__getitems__(possibly_batched_index)\n\u001b[0;32m     50\u001b[0m     \u001b[38;5;28;01melse\u001b[39;00m:\n\u001b[1;32m---> 51\u001b[0m         data \u001b[38;5;241m=\u001b[39m \u001b[43m[\u001b[49m\u001b[38;5;28;43mself\u001b[39;49m\u001b[38;5;241;43m.\u001b[39;49m\u001b[43mdataset\u001b[49m\u001b[43m[\u001b[49m\u001b[43midx\u001b[49m\u001b[43m]\u001b[49m\u001b[43m \u001b[49m\u001b[38;5;28;43;01mfor\u001b[39;49;00m\u001b[43m \u001b[49m\u001b[43midx\u001b[49m\u001b[43m \u001b[49m\u001b[38;5;129;43;01min\u001b[39;49;00m\u001b[43m \u001b[49m\u001b[43mpossibly_batched_index\u001b[49m\u001b[43m]\u001b[49m\n\u001b[0;32m     52\u001b[0m \u001b[38;5;28;01melse\u001b[39;00m:\n\u001b[0;32m     53\u001b[0m     data \u001b[38;5;241m=\u001b[39m \u001b[38;5;28mself\u001b[39m\u001b[38;5;241m.\u001b[39mdataset[possibly_batched_index]\n",
      "File \u001b[1;32m~\\AppData\\Local\\Packages\\PythonSoftwareFoundation.Python.3.11_qbz5n2kfra8p0\\LocalCache\\local-packages\\Python311\\site-packages\\torch\\utils\\data\\_utils\\fetch.py:51\u001b[0m, in \u001b[0;36m<listcomp>\u001b[1;34m(.0)\u001b[0m\n\u001b[0;32m     49\u001b[0m         data \u001b[38;5;241m=\u001b[39m \u001b[38;5;28mself\u001b[39m\u001b[38;5;241m.\u001b[39mdataset\u001b[38;5;241m.\u001b[39m__getitems__(possibly_batched_index)\n\u001b[0;32m     50\u001b[0m     \u001b[38;5;28;01melse\u001b[39;00m:\n\u001b[1;32m---> 51\u001b[0m         data \u001b[38;5;241m=\u001b[39m [\u001b[38;5;28;43mself\u001b[39;49m\u001b[38;5;241;43m.\u001b[39;49m\u001b[43mdataset\u001b[49m\u001b[43m[\u001b[49m\u001b[43midx\u001b[49m\u001b[43m]\u001b[49m \u001b[38;5;28;01mfor\u001b[39;00m idx \u001b[38;5;129;01min\u001b[39;00m possibly_batched_index]\n\u001b[0;32m     52\u001b[0m \u001b[38;5;28;01melse\u001b[39;00m:\n\u001b[0;32m     53\u001b[0m     data \u001b[38;5;241m=\u001b[39m \u001b[38;5;28mself\u001b[39m\u001b[38;5;241m.\u001b[39mdataset[possibly_batched_index]\n",
      "Cell \u001b[1;32mIn[208], line 16\u001b[0m, in \u001b[0;36mImageDataset.__getitem__\u001b[1;34m(self, idx)\u001b[0m\n\u001b[0;32m     14\u001b[0m image \u001b[38;5;241m=\u001b[39m Image\u001b[38;5;241m.\u001b[39mopen(\u001b[38;5;28mself\u001b[39m\u001b[38;5;241m.\u001b[39mimage_files[idx])\n\u001b[0;32m     15\u001b[0m \u001b[38;5;28;01mif\u001b[39;00m \u001b[38;5;28mself\u001b[39m\u001b[38;5;241m.\u001b[39mtransform:\n\u001b[1;32m---> 16\u001b[0m     image \u001b[38;5;241m=\u001b[39m \u001b[38;5;28;43mself\u001b[39;49m\u001b[38;5;241;43m.\u001b[39;49m\u001b[43mtransform\u001b[49m\u001b[43m(\u001b[49m\u001b[43mimage\u001b[49m\u001b[43m)\u001b[49m\n\u001b[0;32m     17\u001b[0m \u001b[38;5;28;01mreturn\u001b[39;00m image\n",
      "File \u001b[1;32m~\\AppData\\Local\\Packages\\PythonSoftwareFoundation.Python.3.11_qbz5n2kfra8p0\\LocalCache\\local-packages\\Python311\\site-packages\\torchvision\\transforms\\transforms.py:95\u001b[0m, in \u001b[0;36mCompose.__call__\u001b[1;34m(self, img)\u001b[0m\n\u001b[0;32m     93\u001b[0m \u001b[38;5;28;01mdef\u001b[39;00m \u001b[38;5;21m__call__\u001b[39m(\u001b[38;5;28mself\u001b[39m, img):\n\u001b[0;32m     94\u001b[0m     \u001b[38;5;28;01mfor\u001b[39;00m t \u001b[38;5;129;01min\u001b[39;00m \u001b[38;5;28mself\u001b[39m\u001b[38;5;241m.\u001b[39mtransforms:\n\u001b[1;32m---> 95\u001b[0m         img \u001b[38;5;241m=\u001b[39m \u001b[43mt\u001b[49m\u001b[43m(\u001b[49m\u001b[43mimg\u001b[49m\u001b[43m)\u001b[49m\n\u001b[0;32m     96\u001b[0m     \u001b[38;5;28;01mreturn\u001b[39;00m img\n",
      "File \u001b[1;32m~\\AppData\\Local\\Packages\\PythonSoftwareFoundation.Python.3.11_qbz5n2kfra8p0\\LocalCache\\local-packages\\Python311\\site-packages\\torch\\nn\\modules\\module.py:1511\u001b[0m, in \u001b[0;36mModule._wrapped_call_impl\u001b[1;34m(self, *args, **kwargs)\u001b[0m\n\u001b[0;32m   1509\u001b[0m     \u001b[38;5;28;01mreturn\u001b[39;00m \u001b[38;5;28mself\u001b[39m\u001b[38;5;241m.\u001b[39m_compiled_call_impl(\u001b[38;5;241m*\u001b[39margs, \u001b[38;5;241m*\u001b[39m\u001b[38;5;241m*\u001b[39mkwargs)  \u001b[38;5;66;03m# type: ignore[misc]\u001b[39;00m\n\u001b[0;32m   1510\u001b[0m \u001b[38;5;28;01melse\u001b[39;00m:\n\u001b[1;32m-> 1511\u001b[0m     \u001b[38;5;28;01mreturn\u001b[39;00m \u001b[38;5;28;43mself\u001b[39;49m\u001b[38;5;241;43m.\u001b[39;49m\u001b[43m_call_impl\u001b[49m\u001b[43m(\u001b[49m\u001b[38;5;241;43m*\u001b[39;49m\u001b[43margs\u001b[49m\u001b[43m,\u001b[49m\u001b[43m \u001b[49m\u001b[38;5;241;43m*\u001b[39;49m\u001b[38;5;241;43m*\u001b[39;49m\u001b[43mkwargs\u001b[49m\u001b[43m)\u001b[49m\n",
      "File \u001b[1;32m~\\AppData\\Local\\Packages\\PythonSoftwareFoundation.Python.3.11_qbz5n2kfra8p0\\LocalCache\\local-packages\\Python311\\site-packages\\torch\\nn\\modules\\module.py:1520\u001b[0m, in \u001b[0;36mModule._call_impl\u001b[1;34m(self, *args, **kwargs)\u001b[0m\n\u001b[0;32m   1515\u001b[0m \u001b[38;5;66;03m# If we don't have any hooks, we want to skip the rest of the logic in\u001b[39;00m\n\u001b[0;32m   1516\u001b[0m \u001b[38;5;66;03m# this function, and just call forward.\u001b[39;00m\n\u001b[0;32m   1517\u001b[0m \u001b[38;5;28;01mif\u001b[39;00m \u001b[38;5;129;01mnot\u001b[39;00m (\u001b[38;5;28mself\u001b[39m\u001b[38;5;241m.\u001b[39m_backward_hooks \u001b[38;5;129;01mor\u001b[39;00m \u001b[38;5;28mself\u001b[39m\u001b[38;5;241m.\u001b[39m_backward_pre_hooks \u001b[38;5;129;01mor\u001b[39;00m \u001b[38;5;28mself\u001b[39m\u001b[38;5;241m.\u001b[39m_forward_hooks \u001b[38;5;129;01mor\u001b[39;00m \u001b[38;5;28mself\u001b[39m\u001b[38;5;241m.\u001b[39m_forward_pre_hooks\n\u001b[0;32m   1518\u001b[0m         \u001b[38;5;129;01mor\u001b[39;00m _global_backward_pre_hooks \u001b[38;5;129;01mor\u001b[39;00m _global_backward_hooks\n\u001b[0;32m   1519\u001b[0m         \u001b[38;5;129;01mor\u001b[39;00m _global_forward_hooks \u001b[38;5;129;01mor\u001b[39;00m _global_forward_pre_hooks):\n\u001b[1;32m-> 1520\u001b[0m     \u001b[38;5;28;01mreturn\u001b[39;00m \u001b[43mforward_call\u001b[49m\u001b[43m(\u001b[49m\u001b[38;5;241;43m*\u001b[39;49m\u001b[43margs\u001b[49m\u001b[43m,\u001b[49m\u001b[43m \u001b[49m\u001b[38;5;241;43m*\u001b[39;49m\u001b[38;5;241;43m*\u001b[39;49m\u001b[43mkwargs\u001b[49m\u001b[43m)\u001b[49m\n\u001b[0;32m   1522\u001b[0m \u001b[38;5;28;01mtry\u001b[39;00m:\n\u001b[0;32m   1523\u001b[0m     result \u001b[38;5;241m=\u001b[39m \u001b[38;5;28;01mNone\u001b[39;00m\n",
      "File \u001b[1;32m~\\AppData\\Local\\Packages\\PythonSoftwareFoundation.Python.3.11_qbz5n2kfra8p0\\LocalCache\\local-packages\\Python311\\site-packages\\torchvision\\transforms\\transforms.py:277\u001b[0m, in \u001b[0;36mNormalize.forward\u001b[1;34m(self, tensor)\u001b[0m\n\u001b[0;32m    269\u001b[0m \u001b[38;5;28;01mdef\u001b[39;00m \u001b[38;5;21mforward\u001b[39m(\u001b[38;5;28mself\u001b[39m, tensor: Tensor) \u001b[38;5;241m-\u001b[39m\u001b[38;5;241m>\u001b[39m Tensor:\n\u001b[0;32m    270\u001b[0m \u001b[38;5;250m    \u001b[39m\u001b[38;5;124;03m\"\"\"\u001b[39;00m\n\u001b[0;32m    271\u001b[0m \u001b[38;5;124;03m    Args:\u001b[39;00m\n\u001b[0;32m    272\u001b[0m \u001b[38;5;124;03m        tensor (Tensor): Tensor image to be normalized.\u001b[39;00m\n\u001b[1;32m   (...)\u001b[0m\n\u001b[0;32m    275\u001b[0m \u001b[38;5;124;03m        Tensor: Normalized Tensor image.\u001b[39;00m\n\u001b[0;32m    276\u001b[0m \u001b[38;5;124;03m    \"\"\"\u001b[39;00m\n\u001b[1;32m--> 277\u001b[0m     \u001b[38;5;28;01mreturn\u001b[39;00m \u001b[43mF\u001b[49m\u001b[38;5;241;43m.\u001b[39;49m\u001b[43mnormalize\u001b[49m\u001b[43m(\u001b[49m\u001b[43mtensor\u001b[49m\u001b[43m,\u001b[49m\u001b[43m \u001b[49m\u001b[38;5;28;43mself\u001b[39;49m\u001b[38;5;241;43m.\u001b[39;49m\u001b[43mmean\u001b[49m\u001b[43m,\u001b[49m\u001b[43m \u001b[49m\u001b[38;5;28;43mself\u001b[39;49m\u001b[38;5;241;43m.\u001b[39;49m\u001b[43mstd\u001b[49m\u001b[43m,\u001b[49m\u001b[43m \u001b[49m\u001b[38;5;28;43mself\u001b[39;49m\u001b[38;5;241;43m.\u001b[39;49m\u001b[43minplace\u001b[49m\u001b[43m)\u001b[49m\n",
      "File \u001b[1;32m~\\AppData\\Local\\Packages\\PythonSoftwareFoundation.Python.3.11_qbz5n2kfra8p0\\LocalCache\\local-packages\\Python311\\site-packages\\torchvision\\transforms\\functional.py:349\u001b[0m, in \u001b[0;36mnormalize\u001b[1;34m(tensor, mean, std, inplace)\u001b[0m\n\u001b[0;32m    346\u001b[0m \u001b[38;5;28;01mif\u001b[39;00m \u001b[38;5;129;01mnot\u001b[39;00m \u001b[38;5;28misinstance\u001b[39m(tensor, torch\u001b[38;5;241m.\u001b[39mTensor):\n\u001b[0;32m    347\u001b[0m     \u001b[38;5;28;01mraise\u001b[39;00m \u001b[38;5;167;01mTypeError\u001b[39;00m(\u001b[38;5;124mf\u001b[39m\u001b[38;5;124m\"\u001b[39m\u001b[38;5;124mimg should be Tensor Image. Got \u001b[39m\u001b[38;5;132;01m{\u001b[39;00m\u001b[38;5;28mtype\u001b[39m(tensor)\u001b[38;5;132;01m}\u001b[39;00m\u001b[38;5;124m\"\u001b[39m)\n\u001b[1;32m--> 349\u001b[0m \u001b[38;5;28;01mreturn\u001b[39;00m \u001b[43mF_t\u001b[49m\u001b[38;5;241;43m.\u001b[39;49m\u001b[43mnormalize\u001b[49m\u001b[43m(\u001b[49m\u001b[43mtensor\u001b[49m\u001b[43m,\u001b[49m\u001b[43m \u001b[49m\u001b[43mmean\u001b[49m\u001b[38;5;241;43m=\u001b[39;49m\u001b[43mmean\u001b[49m\u001b[43m,\u001b[49m\u001b[43m \u001b[49m\u001b[43mstd\u001b[49m\u001b[38;5;241;43m=\u001b[39;49m\u001b[43mstd\u001b[49m\u001b[43m,\u001b[49m\u001b[43m \u001b[49m\u001b[43minplace\u001b[49m\u001b[38;5;241;43m=\u001b[39;49m\u001b[43minplace\u001b[49m\u001b[43m)\u001b[49m\n",
      "File \u001b[1;32m~\\AppData\\Local\\Packages\\PythonSoftwareFoundation.Python.3.11_qbz5n2kfra8p0\\LocalCache\\local-packages\\Python311\\site-packages\\torchvision\\transforms\\_functional_tensor.py:926\u001b[0m, in \u001b[0;36mnormalize\u001b[1;34m(tensor, mean, std, inplace)\u001b[0m\n\u001b[0;32m    924\u001b[0m \u001b[38;5;28;01mif\u001b[39;00m std\u001b[38;5;241m.\u001b[39mndim \u001b[38;5;241m==\u001b[39m \u001b[38;5;241m1\u001b[39m:\n\u001b[0;32m    925\u001b[0m     std \u001b[38;5;241m=\u001b[39m std\u001b[38;5;241m.\u001b[39mview(\u001b[38;5;241m-\u001b[39m\u001b[38;5;241m1\u001b[39m, \u001b[38;5;241m1\u001b[39m, \u001b[38;5;241m1\u001b[39m)\n\u001b[1;32m--> 926\u001b[0m \u001b[38;5;28;01mreturn\u001b[39;00m \u001b[43mtensor\u001b[49m\u001b[38;5;241;43m.\u001b[39;49m\u001b[43msub_\u001b[49m\u001b[43m(\u001b[49m\u001b[43mmean\u001b[49m\u001b[43m)\u001b[49m\u001b[38;5;241m.\u001b[39mdiv_(std)\n",
      "\u001b[1;31mRuntimeError\u001b[0m: The size of tensor a (4) must match the size of tensor b (3) at non-singleton dimension 0"
     ]
    }
   ],
   "source": [
    "\n",
    "# Set the directory path of your images\n",
    "image_directory = 'cnn_monthly_images/'\n",
    "\n",
    "# Define a custom dataset class\n",
    "class ImageDataset(Dataset):\n",
    "    def __init__(self, image_files, transform=None):\n",
    "        self.image_files = image_files\n",
    "        self.transform = transform\n",
    "\n",
    "    def __len__(self):\n",
    "        return len(self.image_files)\n",
    "\n",
    "    def __getitem__(self, idx):\n",
    "        image = Image.open(self.image_files[idx])\n",
    "        if self.transform:\n",
    "            image = self.transform(image)\n",
    "        return image\n",
    "\n",
    "# Define the transformation to apply to the images\n",
    "transform = transforms.Compose([\n",
    "    transforms.Resize((256, 256)),\n",
    "    transforms.ToTensor(),\n",
    "    transforms.Normalize(mean=[0.485, 0.456, 0.406], std=[0.229, 0.224, 0.225])\n",
    "])\n",
    "\n",
    "# Get a list of all image file names in the directory\n",
    "image_files = [os.path.join(image_directory, file) for file in os.listdir(image_directory) if file.endswith('.png')]\n",
    "\n",
    "# Create the image dataset\n",
    "dataset = ImageDataset(image_files, transform=transform)\n",
    "\n",
    "# Create the data loader\n",
    "dataloader = DataLoader(dataset, batch_size=32, shuffle=True)\n",
    "\n",
    "# Define the autoencoder model\n",
    "class Autoencoder(nn.Module):\n",
    "    def __init__(self):\n",
    "        super(Autoencoder, self).__init__()\n",
    "        self.encoder = nn.Sequential(\n",
    "            nn.Conv2d(3, 16, kernel_size=3, stride=1, padding=1),\n",
    "            nn.ReLU(),\n",
    "            nn.MaxPool2d(kernel_size=2, stride=2)\n",
    "        )\n",
    "        self.decoder = nn.Sequential(\n",
    "            nn.Conv2d(16, 3, kernel_size=3, stride=1, padding=1),\n",
    "            nn.Sigmoid(),\n",
    "            nn.Upsample(scale_factor=2, mode='nearest')\n",
    "        )\n",
    "\n",
    "    def forward(self, x):\n",
    "        x = self.encoder(x)\n",
    "        x = self.decoder(x)\n",
    "        return x\n",
    "\n",
    "# Create the autoencoder model\n",
    "autoencoder = Autoencoder()\n",
    "\n",
    "# Define the loss function and optimizer\n",
    "criterion = nn.MSELoss()\n",
    "optimizer = optim.Adam(autoencoder.parameters(), lr=0.001)\n",
    "\n",
    "# Train the autoencoder\n",
    "num_epochs = 10\n",
    "for epoch in range(num_epochs):\n",
    "    for images in dataloader:\n",
    "        optimizer.zero_grad()\n",
    "        reconstructions = autoencoder(images)\n",
    "        loss = criterion(reconstructions, images)\n",
    "        loss.backward()\n",
    "        optimizer.step()\n",
    "\n",
    "# Use the trained autoencoder to reconstruct the images\n",
    "reconstructed_images = []\n",
    "for images in dataloader:\n",
    "    reconstructions = autoencoder(images)\n",
    "    reconstructed_images.append(reconstructions.detach().numpy())\n",
    "reconstructed_images = np.concatenate(reconstructed_images)\n",
    "\n",
    "# Calculate the reconstruction error for each image\n",
    "reconstruction_errors = np.mean(np.square(dataset[:len(reconstructed_images)].numpy() - reconstructed_images), axis=(1, 2, 3))\n",
    "\n",
    "# Perform anomaly detection based on the reconstruction errors\n",
    "threshold = np.percentile(reconstruction_errors, 95)  # Adjust the threshold as needed\n",
    "anomalies = [image_files[i] for i, error in enumerate(reconstruction_errors) if error > threshold]\n",
    "\n",
    "# Print the detected anomalies\n",
    "print(\"Detected anomalies:\")\n",
    "for anomaly in anomalies:\n",
    "    print(anomaly)"
   ]
  },
  {
   "cell_type": "code",
   "execution_count": null,
   "metadata": {},
   "outputs": [],
   "source": []
  }
 ],
 "metadata": {
  "kernelspec": {
   "display_name": "Python 3",
   "language": "python",
   "name": "python3"
  },
  "language_info": {
   "codemirror_mode": {
    "name": "ipython",
    "version": 3
   },
   "file_extension": ".py",
   "mimetype": "text/x-python",
   "name": "python",
   "nbconvert_exporter": "python",
   "pygments_lexer": "ipython3",
   "version": "3.11.8"
  }
 },
 "nbformat": 4,
 "nbformat_minor": 2
}
