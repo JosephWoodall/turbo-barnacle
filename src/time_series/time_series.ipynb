{
 "cells": [
  {
   "cell_type": "code",
   "execution_count": null,
   "metadata": {},
   "outputs": [],
   "source": [
    "import random\n",
    "from datetime import datetime, timedelta\n",
    "import statsmodels.api as sm\n",
    "from statsmodels.tsa.statespace.sarimax import SARIMAX\n",
    "from sklearn.linear_model import LinearRegression\n",
    "from sklearn.ensemble import RandomForestRegressor\n",
    "import matplotlib.pyplot as plt\n",
    "\n",
    "\n",
    "def generate_financial_data(start_date, end_date):\n",
    "    data = []\n",
    "    current_date = start_date\n",
    "\n",
    "    while current_date <= end_date:\n",
    "        revenue = random.randint(1000, 10000)\n",
    "        data.append((current_date, revenue))\n",
    "        current_date += timedelta(days=1)\n",
    "\n",
    "    return data\n",
    "\n",
    "\n",
    "data = generate_financial_data(datetime(2020, 1, 1), datetime(2020, 12, 31))\n",
    "dates = [d[0] for d in data]\n",
    "revenues = [d[1] for d in data]\n",
    "\n",
    "plt.plot(dates, revenues)"
   ]
  }
 ],
 "metadata": {
  "kernelspec": {
   "display_name": "Python 3",
   "language": "python",
   "name": "python3"
  },
  "language_info": {
   "name": "python",
   "version": "3.11.8"
  }
 },
 "nbformat": 4,
 "nbformat_minor": 2
}
